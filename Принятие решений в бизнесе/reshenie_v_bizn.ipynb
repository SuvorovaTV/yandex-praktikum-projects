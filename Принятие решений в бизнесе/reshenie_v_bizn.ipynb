{
 "cells": [
  {
   "cell_type": "markdown",
   "metadata": {},
   "source": [
    "#                                      Проект: Принятие решений в бизнесе"
   ]
  },
  {
   "cell_type": "markdown",
   "metadata": {},
   "source": [
    "#                                   Описание данных:\n",
    "\n",
    "# Данные для первой части\n",
    "\n",
    "Файл /datasets/hypothesis.csv.\n",
    "\n",
    "* Hypothesis — краткое описание гипотезы;\n",
    "\n",
    "* Reach — охват пользователей по 10-балльной шкале;\n",
    "\n",
    "* Impact — влияние на пользователей по 10-балльной шкале;\n",
    "\n",
    "* Confidence — уверенность в гипотезе по 10-балльной шкале;\n",
    "\n",
    "* Efforts — затраты ресурсов на проверку гипотезы по 10-балльной шкале. Чем больше значение Efforts, тем дороже проверка гипотезы.\n",
    "\n",
    "# Данные для второй части\n",
    "\n",
    "Файл /datasets/orders.csv. \n",
    "\n",
    "* transactionId — идентификатор заказа;\n",
    "\n",
    "* visitorId — идентификатор пользователя, совершившего заказ;\n",
    "\n",
    "* date — дата, когда был совершён заказ;\n",
    "\n",
    "* revenue — выручка заказа;\n",
    "\n",
    "* group — группа A/B-теста, в которую попал заказ.\n",
    "\n",
    "* Файл /datasets/visitors.csv. \n",
    "\n",
    "* date — дата;\n",
    "\n",
    "* group — группа A/B-теста;\n",
    "\n",
    "* visitors — количество пользователей в указанную дату в указанной группе A/B-теста"
   ]
  },
  {
   "cell_type": "markdown",
   "metadata": {},
   "source": [
    "# Описание проекта\n",
    "\n",
    " Контекст\n",
    "\n",
    "Вы — аналитик крупного интернет-магазина. Вместе с отделом маркетинга вы подготовили список гипотез для увеличения выручки.\n",
    "Приоритизируйте гипотезы, запустите A/B-тест и проанализируйте результаты. \n",
    "\n",
    "# Часть 1. Приоритизация гипотез.\n",
    "\n",
    "В файле /datasets/hypothesis.csv 9 гипотез по увеличению выручки интернет-магазина с указанными параметрами Reach, Impact, Confidence, Effort.\n",
    "\n",
    "# Задача\n",
    "\n",
    "* Примените фреймворк ICE для приоритизации гипотез. Отсортируйте их по убыванию приоритета.\n",
    "\n",
    "* Примените фреймворк RICE для приоритизации гипотез. Отсортируйте их по убыванию приоритета.\n",
    "\n",
    "* Укажите, как изменилась приоритизация гипотез при применении RICE вместо ICE. Объясните, почему так произошло.\n",
    "\n",
    "# Часть 2. Анализ A/B-теста\n",
    "\n",
    "Вы провели A/B-тест и получили результаты, которые описаны в файлах /datasets/orders.csv и /datasets/visitors.csv.\n",
    "\n",
    "# Задача\n",
    "\n",
    "Проанализируйте A/B-тест:\n",
    "\n",
    "1. Постройте график кумулятивной выручки по группам. Сделайте выводы и предположения.\n",
    "\n",
    "2. Постройте график кумулятивного среднего чека по группам. Сделайте выводы и предположения.\n",
    "\n",
    "3. Постройте график относительного изменения кумулятивного среднего чека группы B к группе A. Сделайте выводы и предположения.\n",
    "\n",
    "4. Постройте график кумулятивного среднего количества заказов на посетителя по группам. Сделайте выводы и предположения.\n",
    "\n",
    "5. Постройте график относительного изменения кумулятивного среднего количества заказов на посетителя группы B к группе A. Сделайте выводы и предположения.\n",
    "\n",
    "6. Постройте точечный график количества заказов по пользователям. Сделайте выводы и предположения.\n",
    "\n",
    "7. Посчитайте 95-й и 99-й перцентили количества заказов на пользователя. Выберите границу для определения аномальных пользователей.\n",
    "\n",
    "8. Постройте точечный график стоимостей заказов. Сделайте выводы и предположения.\n",
    "\n",
    "9. Посчитайте 95-й и 99-й перцентили стоимости заказов. Выберите границу для определения аномальных заказов.\n",
    "\n",
    "10. Посчитайте статистическую значимость различий в среднем количестве заказов на посетителя между группами по «сырым» данным. Сделайте выводы и предположения.\n",
    "\n",
    "11. Посчитайте статистическую значимость различий в среднем чеке заказа между группами по «сырым» данным. Сделайте выводы и предположения.\n",
    "\n",
    "12. Посчитайте статистическую значимость различий в среднем количестве заказов на посетителя между группами по «очищенным» данным. Сделайте выводы и предположения.\n",
    "\n",
    "13. Посчитайте статистическую значимость различий в среднем чеке заказа между группами по «очищенным» данным. Сделайте выводы и предположения.\n",
    "\n",
    "14. Примите решение по результатам теста и объясните его. Варианты решений:\n",
    "\n",
    "* Остановить тест, зафиксировать победу одной из групп.\n",
    "* Остановить тест, зафиксировать отсутствие различий между группами.\n",
    "* Продолжить тест."
   ]
  },
  {
   "cell_type": "code",
   "execution_count": 1,
   "metadata": {},
   "outputs": [],
   "source": [
    "# импортируем библиотеки\n",
    "\n",
    "import pandas as pd\n",
    "import matplotlib.pyplot as plt\n",
    "import seaborn as sns\n",
    "sns.set(rc={'figure.figsize':(10, 8)})\n",
    "import scipy.stats as stats\n",
    "from scipy import stats as st\n",
    "import math\n",
    "import numpy as np\n",
    "\n",
    "import warnings\n",
    "warnings.filterwarnings('ignore')"
   ]
  },
  {
   "cell_type": "code",
   "execution_count": 2,
   "metadata": {},
   "outputs": [],
   "source": [
    "# загрузим файлы с данными и сохраненим в df\n",
    "\n",
    "    \n",
    "try:\n",
    "    hypothesis, orders, visitors = (\n",
    "                pd.read_csv('/Users/Амина/Downloads/hypothesis.csv'),\n",
    "                pd.read_csv('/Users/Амина/Downloads/orders.csv'),\n",
    "                pd.read_csv('/Users/Амина/Downloads/visitors.csv')\n",
    "    )\n",
    "except:\n",
    "    hypothesis, orders, visitors = (\n",
    "                pd.read_csv('/datasets/hypothesis.csv'),\n",
    "                pd.read_csv('/datasets/orders.csv'),\n",
    "                pd.read_csv('/datasets/visitors.csv')\n",
    "    )\n",
    "\n",
    "pd.set_option('display.max_columns', 500)\n",
    "pd.options.display.float_format = '{:,.2f}'.format"
   ]
  },
  {
   "cell_type": "code",
   "execution_count": 3,
   "metadata": {},
   "outputs": [
    {
     "name": "stdout",
     "output_type": "stream",
     "text": [
      "<class 'pandas.core.frame.DataFrame'>\n",
      "RangeIndex: 9 entries, 0 to 8\n",
      "Data columns (total 5 columns):\n",
      " #   Column      Non-Null Count  Dtype \n",
      "---  ------      --------------  ----- \n",
      " 0   Hypothesis  9 non-null      object\n",
      " 1   Reach       9 non-null      int64 \n",
      " 2   Impact      9 non-null      int64 \n",
      " 3   Confidence  9 non-null      int64 \n",
      " 4   Efforts     9 non-null      int64 \n",
      "dtypes: int64(4), object(1)\n",
      "memory usage: 488.0+ bytes\n"
     ]
    },
    {
     "data": {
      "text/plain": [
       "None"
      ]
     },
     "metadata": {},
     "output_type": "display_data"
    },
    {
     "data": {
      "text/html": [
       "<div>\n",
       "<style scoped>\n",
       "    .dataframe tbody tr th:only-of-type {\n",
       "        vertical-align: middle;\n",
       "    }\n",
       "\n",
       "    .dataframe tbody tr th {\n",
       "        vertical-align: top;\n",
       "    }\n",
       "\n",
       "    .dataframe thead th {\n",
       "        text-align: right;\n",
       "    }\n",
       "</style>\n",
       "<table border=\"1\" class=\"dataframe\">\n",
       "  <thead>\n",
       "    <tr style=\"text-align: right;\">\n",
       "      <th></th>\n",
       "      <th>Hypothesis</th>\n",
       "      <th>Reach</th>\n",
       "      <th>Impact</th>\n",
       "      <th>Confidence</th>\n",
       "      <th>Efforts</th>\n",
       "    </tr>\n",
       "  </thead>\n",
       "  <tbody>\n",
       "    <tr>\n",
       "      <th>0</th>\n",
       "      <td>Добавить два новых канала привлечения трафика,...</td>\n",
       "      <td>3</td>\n",
       "      <td>10</td>\n",
       "      <td>8</td>\n",
       "      <td>6</td>\n",
       "    </tr>\n",
       "    <tr>\n",
       "      <th>1</th>\n",
       "      <td>Запустить собственную службу доставки, что сок...</td>\n",
       "      <td>2</td>\n",
       "      <td>5</td>\n",
       "      <td>4</td>\n",
       "      <td>10</td>\n",
       "    </tr>\n",
       "    <tr>\n",
       "      <th>2</th>\n",
       "      <td>Добавить блоки рекомендаций товаров на сайт ин...</td>\n",
       "      <td>8</td>\n",
       "      <td>3</td>\n",
       "      <td>7</td>\n",
       "      <td>3</td>\n",
       "    </tr>\n",
       "    <tr>\n",
       "      <th>3</th>\n",
       "      <td>Изменить структура категорий, что увеличит кон...</td>\n",
       "      <td>8</td>\n",
       "      <td>3</td>\n",
       "      <td>3</td>\n",
       "      <td>8</td>\n",
       "    </tr>\n",
       "    <tr>\n",
       "      <th>4</th>\n",
       "      <td>Изменить цвет фона главной страницы, чтобы уве...</td>\n",
       "      <td>3</td>\n",
       "      <td>1</td>\n",
       "      <td>1</td>\n",
       "      <td>1</td>\n",
       "    </tr>\n",
       "    <tr>\n",
       "      <th>5</th>\n",
       "      <td>Добавить страницу отзывов клиентов о магазине,...</td>\n",
       "      <td>3</td>\n",
       "      <td>2</td>\n",
       "      <td>2</td>\n",
       "      <td>3</td>\n",
       "    </tr>\n",
       "    <tr>\n",
       "      <th>6</th>\n",
       "      <td>Показать на главной странице баннеры с актуаль...</td>\n",
       "      <td>5</td>\n",
       "      <td>3</td>\n",
       "      <td>8</td>\n",
       "      <td>3</td>\n",
       "    </tr>\n",
       "    <tr>\n",
       "      <th>7</th>\n",
       "      <td>Добавить форму подписки на все основные страни...</td>\n",
       "      <td>10</td>\n",
       "      <td>7</td>\n",
       "      <td>8</td>\n",
       "      <td>5</td>\n",
       "    </tr>\n",
       "    <tr>\n",
       "      <th>8</th>\n",
       "      <td>Запустить акцию, дающую скидку на товар в день...</td>\n",
       "      <td>1</td>\n",
       "      <td>9</td>\n",
       "      <td>9</td>\n",
       "      <td>5</td>\n",
       "    </tr>\n",
       "  </tbody>\n",
       "</table>\n",
       "</div>"
      ],
      "text/plain": [
       "                                          Hypothesis  Reach  Impact  \\\n",
       "0  Добавить два новых канала привлечения трафика,...      3      10   \n",
       "1  Запустить собственную службу доставки, что сок...      2       5   \n",
       "2  Добавить блоки рекомендаций товаров на сайт ин...      8       3   \n",
       "3  Изменить структура категорий, что увеличит кон...      8       3   \n",
       "4  Изменить цвет фона главной страницы, чтобы уве...      3       1   \n",
       "5  Добавить страницу отзывов клиентов о магазине,...      3       2   \n",
       "6  Показать на главной странице баннеры с актуаль...      5       3   \n",
       "7  Добавить форму подписки на все основные страни...     10       7   \n",
       "8  Запустить акцию, дающую скидку на товар в день...      1       9   \n",
       "\n",
       "   Confidence  Efforts  \n",
       "0           8        6  \n",
       "1           4       10  \n",
       "2           7        3  \n",
       "3           3        8  \n",
       "4           1        1  \n",
       "5           2        3  \n",
       "6           8        3  \n",
       "7           8        5  \n",
       "8           9        5  "
      ]
     },
     "execution_count": 3,
     "metadata": {},
     "output_type": "execute_result"
    }
   ],
   "source": [
    "# изучим hypothesis\n",
    "\n",
    "display(hypothesis.info())\n",
    "hypothesis.head(10)"
   ]
  },
  {
   "cell_type": "code",
   "execution_count": 4,
   "metadata": {},
   "outputs": [
    {
     "name": "stdout",
     "output_type": "stream",
     "text": [
      "<class 'pandas.core.frame.DataFrame'>\n",
      "RangeIndex: 1197 entries, 0 to 1196\n",
      "Data columns (total 5 columns):\n",
      " #   Column         Non-Null Count  Dtype \n",
      "---  ------         --------------  ----- \n",
      " 0   transactionId  1197 non-null   int64 \n",
      " 1   visitorId      1197 non-null   int64 \n",
      " 2   date           1197 non-null   object\n",
      " 3   revenue        1197 non-null   int64 \n",
      " 4   group          1197 non-null   object\n",
      "dtypes: int64(3), object(2)\n",
      "memory usage: 46.9+ KB\n"
     ]
    },
    {
     "data": {
      "text/plain": [
       "None"
      ]
     },
     "metadata": {},
     "output_type": "display_data"
    },
    {
     "data": {
      "text/html": [
       "<div>\n",
       "<style scoped>\n",
       "    .dataframe tbody tr th:only-of-type {\n",
       "        vertical-align: middle;\n",
       "    }\n",
       "\n",
       "    .dataframe tbody tr th {\n",
       "        vertical-align: top;\n",
       "    }\n",
       "\n",
       "    .dataframe thead th {\n",
       "        text-align: right;\n",
       "    }\n",
       "</style>\n",
       "<table border=\"1\" class=\"dataframe\">\n",
       "  <thead>\n",
       "    <tr style=\"text-align: right;\">\n",
       "      <th></th>\n",
       "      <th>transactionId</th>\n",
       "      <th>visitorId</th>\n",
       "      <th>date</th>\n",
       "      <th>revenue</th>\n",
       "      <th>group</th>\n",
       "    </tr>\n",
       "  </thead>\n",
       "  <tbody>\n",
       "    <tr>\n",
       "      <th>0</th>\n",
       "      <td>3667963787</td>\n",
       "      <td>3312258926</td>\n",
       "      <td>2019-08-15</td>\n",
       "      <td>1650</td>\n",
       "      <td>B</td>\n",
       "    </tr>\n",
       "    <tr>\n",
       "      <th>1</th>\n",
       "      <td>2804400009</td>\n",
       "      <td>3642806036</td>\n",
       "      <td>2019-08-15</td>\n",
       "      <td>730</td>\n",
       "      <td>B</td>\n",
       "    </tr>\n",
       "    <tr>\n",
       "      <th>2</th>\n",
       "      <td>2961555356</td>\n",
       "      <td>4069496402</td>\n",
       "      <td>2019-08-15</td>\n",
       "      <td>400</td>\n",
       "      <td>A</td>\n",
       "    </tr>\n",
       "    <tr>\n",
       "      <th>3</th>\n",
       "      <td>3797467345</td>\n",
       "      <td>1196621759</td>\n",
       "      <td>2019-08-15</td>\n",
       "      <td>9759</td>\n",
       "      <td>B</td>\n",
       "    </tr>\n",
       "    <tr>\n",
       "      <th>4</th>\n",
       "      <td>2282983706</td>\n",
       "      <td>2322279887</td>\n",
       "      <td>2019-08-15</td>\n",
       "      <td>2308</td>\n",
       "      <td>B</td>\n",
       "    </tr>\n",
       "    <tr>\n",
       "      <th>5</th>\n",
       "      <td>182168103</td>\n",
       "      <td>935554773</td>\n",
       "      <td>2019-08-15</td>\n",
       "      <td>2210</td>\n",
       "      <td>B</td>\n",
       "    </tr>\n",
       "    <tr>\n",
       "      <th>6</th>\n",
       "      <td>398296753</td>\n",
       "      <td>2900797465</td>\n",
       "      <td>2019-08-15</td>\n",
       "      <td>1860</td>\n",
       "      <td>B</td>\n",
       "    </tr>\n",
       "    <tr>\n",
       "      <th>7</th>\n",
       "      <td>2626614568</td>\n",
       "      <td>78758296</td>\n",
       "      <td>2019-08-15</td>\n",
       "      <td>1044</td>\n",
       "      <td>A</td>\n",
       "    </tr>\n",
       "    <tr>\n",
       "      <th>8</th>\n",
       "      <td>1576988021</td>\n",
       "      <td>295230930</td>\n",
       "      <td>2019-08-15</td>\n",
       "      <td>13710</td>\n",
       "      <td>A</td>\n",
       "    </tr>\n",
       "    <tr>\n",
       "      <th>9</th>\n",
       "      <td>1506739906</td>\n",
       "      <td>1882260405</td>\n",
       "      <td>2019-08-15</td>\n",
       "      <td>1855</td>\n",
       "      <td>B</td>\n",
       "    </tr>\n",
       "  </tbody>\n",
       "</table>\n",
       "</div>"
      ],
      "text/plain": [
       "   transactionId   visitorId        date  revenue group\n",
       "0     3667963787  3312258926  2019-08-15     1650     B\n",
       "1     2804400009  3642806036  2019-08-15      730     B\n",
       "2     2961555356  4069496402  2019-08-15      400     A\n",
       "3     3797467345  1196621759  2019-08-15     9759     B\n",
       "4     2282983706  2322279887  2019-08-15     2308     B\n",
       "5      182168103   935554773  2019-08-15     2210     B\n",
       "6      398296753  2900797465  2019-08-15     1860     B\n",
       "7     2626614568    78758296  2019-08-15     1044     A\n",
       "8     1576988021   295230930  2019-08-15    13710     A\n",
       "9     1506739906  1882260405  2019-08-15     1855     B"
      ]
     },
     "execution_count": 4,
     "metadata": {},
     "output_type": "execute_result"
    }
   ],
   "source": [
    "# изучим orders\n",
    "\n",
    "display(orders.info())\n",
    "orders.head(10)"
   ]
  },
  {
   "cell_type": "code",
   "execution_count": 5,
   "metadata": {},
   "outputs": [
    {
     "name": "stdout",
     "output_type": "stream",
     "text": [
      "<class 'pandas.core.frame.DataFrame'>\n",
      "RangeIndex: 62 entries, 0 to 61\n",
      "Data columns (total 3 columns):\n",
      " #   Column    Non-Null Count  Dtype \n",
      "---  ------    --------------  ----- \n",
      " 0   date      62 non-null     object\n",
      " 1   group     62 non-null     object\n",
      " 2   visitors  62 non-null     int64 \n",
      "dtypes: int64(1), object(2)\n",
      "memory usage: 1.6+ KB\n"
     ]
    },
    {
     "data": {
      "text/plain": [
       "None"
      ]
     },
     "metadata": {},
     "output_type": "display_data"
    },
    {
     "data": {
      "text/html": [
       "<div>\n",
       "<style scoped>\n",
       "    .dataframe tbody tr th:only-of-type {\n",
       "        vertical-align: middle;\n",
       "    }\n",
       "\n",
       "    .dataframe tbody tr th {\n",
       "        vertical-align: top;\n",
       "    }\n",
       "\n",
       "    .dataframe thead th {\n",
       "        text-align: right;\n",
       "    }\n",
       "</style>\n",
       "<table border=\"1\" class=\"dataframe\">\n",
       "  <thead>\n",
       "    <tr style=\"text-align: right;\">\n",
       "      <th></th>\n",
       "      <th>date</th>\n",
       "      <th>group</th>\n",
       "      <th>visitors</th>\n",
       "    </tr>\n",
       "  </thead>\n",
       "  <tbody>\n",
       "    <tr>\n",
       "      <th>0</th>\n",
       "      <td>2019-08-01</td>\n",
       "      <td>A</td>\n",
       "      <td>719</td>\n",
       "    </tr>\n",
       "    <tr>\n",
       "      <th>1</th>\n",
       "      <td>2019-08-02</td>\n",
       "      <td>A</td>\n",
       "      <td>619</td>\n",
       "    </tr>\n",
       "    <tr>\n",
       "      <th>2</th>\n",
       "      <td>2019-08-03</td>\n",
       "      <td>A</td>\n",
       "      <td>507</td>\n",
       "    </tr>\n",
       "    <tr>\n",
       "      <th>3</th>\n",
       "      <td>2019-08-04</td>\n",
       "      <td>A</td>\n",
       "      <td>717</td>\n",
       "    </tr>\n",
       "    <tr>\n",
       "      <th>4</th>\n",
       "      <td>2019-08-05</td>\n",
       "      <td>A</td>\n",
       "      <td>756</td>\n",
       "    </tr>\n",
       "    <tr>\n",
       "      <th>5</th>\n",
       "      <td>2019-08-06</td>\n",
       "      <td>A</td>\n",
       "      <td>667</td>\n",
       "    </tr>\n",
       "    <tr>\n",
       "      <th>6</th>\n",
       "      <td>2019-08-07</td>\n",
       "      <td>A</td>\n",
       "      <td>644</td>\n",
       "    </tr>\n",
       "    <tr>\n",
       "      <th>7</th>\n",
       "      <td>2019-08-08</td>\n",
       "      <td>A</td>\n",
       "      <td>610</td>\n",
       "    </tr>\n",
       "    <tr>\n",
       "      <th>8</th>\n",
       "      <td>2019-08-09</td>\n",
       "      <td>A</td>\n",
       "      <td>617</td>\n",
       "    </tr>\n",
       "    <tr>\n",
       "      <th>9</th>\n",
       "      <td>2019-08-10</td>\n",
       "      <td>A</td>\n",
       "      <td>406</td>\n",
       "    </tr>\n",
       "  </tbody>\n",
       "</table>\n",
       "</div>"
      ],
      "text/plain": [
       "         date group  visitors\n",
       "0  2019-08-01     A       719\n",
       "1  2019-08-02     A       619\n",
       "2  2019-08-03     A       507\n",
       "3  2019-08-04     A       717\n",
       "4  2019-08-05     A       756\n",
       "5  2019-08-06     A       667\n",
       "6  2019-08-07     A       644\n",
       "7  2019-08-08     A       610\n",
       "8  2019-08-09     A       617\n",
       "9  2019-08-10     A       406"
      ]
     },
     "execution_count": 5,
     "metadata": {},
     "output_type": "execute_result"
    }
   ],
   "source": [
    "# изучим visitors\n",
    "\n",
    "display(visitors.info())\n",
    "visitors.head(10)"
   ]
  },
  {
   "cell_type": "code",
   "execution_count": 6,
   "metadata": {},
   "outputs": [
    {
     "data": {
      "text/plain": [
       "Hypothesis   0.00\n",
       "Reach        0.00\n",
       "Impact       0.00\n",
       "Confidence   0.00\n",
       "Efforts      0.00\n",
       "dtype: float64"
      ]
     },
     "execution_count": 6,
     "metadata": {},
     "output_type": "execute_result"
    }
   ],
   "source": [
    "# посмотрим пропуски\n",
    "\n",
    "round((hypothesis.isna().mean()*100),2)"
   ]
  },
  {
   "cell_type": "code",
   "execution_count": 7,
   "metadata": {},
   "outputs": [
    {
     "data": {
      "text/plain": [
       "transactionId   0.00\n",
       "visitorId       0.00\n",
       "date            0.00\n",
       "revenue         0.00\n",
       "group           0.00\n",
       "dtype: float64"
      ]
     },
     "execution_count": 7,
     "metadata": {},
     "output_type": "execute_result"
    }
   ],
   "source": [
    "round((orders.isna().mean()*100),2)"
   ]
  },
  {
   "cell_type": "code",
   "execution_count": 8,
   "metadata": {},
   "outputs": [
    {
     "data": {
      "text/plain": [
       "date       0.00\n",
       "group      0.00\n",
       "visitors   0.00\n",
       "dtype: float64"
      ]
     },
     "execution_count": 8,
     "metadata": {},
     "output_type": "execute_result"
    }
   ],
   "source": [
    "round((visitors.isna().mean()*100),2)"
   ]
  },
  {
   "cell_type": "code",
   "execution_count": 9,
   "metadata": {},
   "outputs": [
    {
     "data": {
      "text/plain": [
       "0"
      ]
     },
     "execution_count": 9,
     "metadata": {},
     "output_type": "execute_result"
    }
   ],
   "source": [
    "# посмотрим дубликаты\n",
    "\n",
    "hypothesis.duplicated().sum()"
   ]
  },
  {
   "cell_type": "code",
   "execution_count": 10,
   "metadata": {},
   "outputs": [
    {
     "data": {
      "text/plain": [
       "0"
      ]
     },
     "execution_count": 10,
     "metadata": {},
     "output_type": "execute_result"
    }
   ],
   "source": [
    "orders.duplicated().sum()"
   ]
  },
  {
   "cell_type": "code",
   "execution_count": 11,
   "metadata": {},
   "outputs": [
    {
     "data": {
      "text/plain": [
       "0"
      ]
     },
     "execution_count": 11,
     "metadata": {},
     "output_type": "execute_result"
    }
   ],
   "source": [
    "visitors.duplicated().sum()"
   ]
  },
  {
   "cell_type": "code",
   "execution_count": 12,
   "metadata": {},
   "outputs": [
    {
     "data": {
      "text/html": [
       "<div>\n",
       "<style scoped>\n",
       "    .dataframe tbody tr th:only-of-type {\n",
       "        vertical-align: middle;\n",
       "    }\n",
       "\n",
       "    .dataframe tbody tr th {\n",
       "        vertical-align: top;\n",
       "    }\n",
       "\n",
       "    .dataframe thead th {\n",
       "        text-align: right;\n",
       "    }\n",
       "</style>\n",
       "<table border=\"1\" class=\"dataframe\">\n",
       "  <thead>\n",
       "    <tr style=\"text-align: right;\">\n",
       "      <th></th>\n",
       "      <th>Reach</th>\n",
       "      <th>Impact</th>\n",
       "      <th>Confidence</th>\n",
       "      <th>Efforts</th>\n",
       "    </tr>\n",
       "  </thead>\n",
       "  <tbody>\n",
       "    <tr>\n",
       "      <th>count</th>\n",
       "      <td>9.00</td>\n",
       "      <td>9.00</td>\n",
       "      <td>9.00</td>\n",
       "      <td>9.00</td>\n",
       "    </tr>\n",
       "    <tr>\n",
       "      <th>mean</th>\n",
       "      <td>4.78</td>\n",
       "      <td>4.78</td>\n",
       "      <td>5.56</td>\n",
       "      <td>4.89</td>\n",
       "    </tr>\n",
       "    <tr>\n",
       "      <th>std</th>\n",
       "      <td>3.15</td>\n",
       "      <td>3.19</td>\n",
       "      <td>3.05</td>\n",
       "      <td>2.80</td>\n",
       "    </tr>\n",
       "    <tr>\n",
       "      <th>min</th>\n",
       "      <td>1.00</td>\n",
       "      <td>1.00</td>\n",
       "      <td>1.00</td>\n",
       "      <td>1.00</td>\n",
       "    </tr>\n",
       "    <tr>\n",
       "      <th>25%</th>\n",
       "      <td>3.00</td>\n",
       "      <td>3.00</td>\n",
       "      <td>3.00</td>\n",
       "      <td>3.00</td>\n",
       "    </tr>\n",
       "    <tr>\n",
       "      <th>50%</th>\n",
       "      <td>3.00</td>\n",
       "      <td>3.00</td>\n",
       "      <td>7.00</td>\n",
       "      <td>5.00</td>\n",
       "    </tr>\n",
       "    <tr>\n",
       "      <th>75%</th>\n",
       "      <td>8.00</td>\n",
       "      <td>7.00</td>\n",
       "      <td>8.00</td>\n",
       "      <td>6.00</td>\n",
       "    </tr>\n",
       "    <tr>\n",
       "      <th>max</th>\n",
       "      <td>10.00</td>\n",
       "      <td>10.00</td>\n",
       "      <td>9.00</td>\n",
       "      <td>10.00</td>\n",
       "    </tr>\n",
       "  </tbody>\n",
       "</table>\n",
       "</div>"
      ],
      "text/plain": [
       "       Reach  Impact  Confidence  Efforts\n",
       "count   9.00    9.00        9.00     9.00\n",
       "mean    4.78    4.78        5.56     4.89\n",
       "std     3.15    3.19        3.05     2.80\n",
       "min     1.00    1.00        1.00     1.00\n",
       "25%     3.00    3.00        3.00     3.00\n",
       "50%     3.00    3.00        7.00     5.00\n",
       "75%     8.00    7.00        8.00     6.00\n",
       "max    10.00   10.00        9.00    10.00"
      ]
     },
     "metadata": {},
     "output_type": "display_data"
    }
   ],
   "source": [
    "display(hypothesis.describe())"
   ]
  },
  {
   "cell_type": "code",
   "execution_count": 13,
   "metadata": {},
   "outputs": [],
   "source": [
    "# приведем наименования столбцов к единому стилю и преобразуем данные с датой\n",
    "\n",
    "orders.rename(columns={'transactionId':'transactionid', 'visitorId':'visitorid'}, inplace=True)\n",
    "orders['date'] = pd.to_datetime(orders['date'])\n",
    "visitors['date'] = pd.to_datetime(visitors['date'])"
   ]
  },
  {
   "cell_type": "code",
   "execution_count": 14,
   "metadata": {},
   "outputs": [
    {
     "name": "stdout",
     "output_type": "stream",
     "text": [
      "Всего пользователей, сделавших покупку и попавших в обе группы: 58\n",
      "Процент пользователей, попавших в обе группы, от общего числа сделавших покупку:  5.6\n"
     ]
    }
   ],
   "source": [
    "# проверяем количество пользователей, попавших в обе группы\n",
    "\n",
    "unique_customers = len(orders['visitorid'].unique())\n",
    "t = orders.groupby('visitorid', as_index=False)['group'].nunique()\n",
    "t = t[t['group'] > 1]['visitorid'].count()\n",
    "print(f'Всего пользователей, сделавших покупку и попавших в обе группы: {t}')\n",
    "print('Процент пользователей, попавших в обе группы, от общего числа сделавших покупку: ', round((t * 100 / unique_customers),1))"
   ]
  },
  {
   "cell_type": "markdown",
   "metadata": {},
   "source": [
    "58 пользователей из числа купивших попали сразу в обе группы или 5.6% от общего количества покупателей.\n",
    "\n",
    "Возможно, не был проведен А/А тест и закралась техническая ошибка в распределении пользователей по группам.\n",
    "\n",
    "Удалять этих пользователей из анализа не будем, до 10% считается не значильная погрешность."
   ]
  },
  {
   "cell_type": "code",
   "execution_count": 15,
   "metadata": {},
   "outputs": [
    {
     "data": {
      "text/html": [
       "<div>\n",
       "<style scoped>\n",
       "    .dataframe tbody tr th:only-of-type {\n",
       "        vertical-align: middle;\n",
       "    }\n",
       "\n",
       "    .dataframe tbody tr th {\n",
       "        vertical-align: top;\n",
       "    }\n",
       "\n",
       "    .dataframe thead th {\n",
       "        text-align: right;\n",
       "    }\n",
       "</style>\n",
       "<table border=\"1\" class=\"dataframe\">\n",
       "  <thead>\n",
       "    <tr style=\"text-align: right;\">\n",
       "      <th></th>\n",
       "      <th>visitors</th>\n",
       "    </tr>\n",
       "  </thead>\n",
       "  <tbody>\n",
       "    <tr>\n",
       "      <th>count</th>\n",
       "      <td>62.00</td>\n",
       "    </tr>\n",
       "    <tr>\n",
       "      <th>mean</th>\n",
       "      <td>607.29</td>\n",
       "    </tr>\n",
       "    <tr>\n",
       "      <th>std</th>\n",
       "      <td>114.40</td>\n",
       "    </tr>\n",
       "    <tr>\n",
       "      <th>min</th>\n",
       "      <td>361.00</td>\n",
       "    </tr>\n",
       "    <tr>\n",
       "      <th>25%</th>\n",
       "      <td>534.00</td>\n",
       "    </tr>\n",
       "    <tr>\n",
       "      <th>50%</th>\n",
       "      <td>624.50</td>\n",
       "    </tr>\n",
       "    <tr>\n",
       "      <th>75%</th>\n",
       "      <td>710.50</td>\n",
       "    </tr>\n",
       "    <tr>\n",
       "      <th>max</th>\n",
       "      <td>770.00</td>\n",
       "    </tr>\n",
       "  </tbody>\n",
       "</table>\n",
       "</div>"
      ],
      "text/plain": [
       "       visitors\n",
       "count     62.00\n",
       "mean     607.29\n",
       "std      114.40\n",
       "min      361.00\n",
       "25%      534.00\n",
       "50%      624.50\n",
       "75%      710.50\n",
       "max      770.00"
      ]
     },
     "metadata": {},
     "output_type": "display_data"
    }
   ],
   "source": [
    "display(visitors.describe())"
   ]
  },
  {
   "cell_type": "code",
   "execution_count": 16,
   "metadata": {},
   "outputs": [
    {
     "name": "stdout",
     "output_type": "stream",
     "text": [
      "<class 'pandas.core.frame.DataFrame'>\n",
      "RangeIndex: 1197 entries, 0 to 1196\n",
      "Data columns (total 5 columns):\n",
      " #   Column         Non-Null Count  Dtype         \n",
      "---  ------         --------------  -----         \n",
      " 0   transactionid  1197 non-null   int64         \n",
      " 1   visitorid      1197 non-null   int64         \n",
      " 2   date           1197 non-null   datetime64[ns]\n",
      " 3   revenue        1197 non-null   int64         \n",
      " 4   group          1197 non-null   object        \n",
      "dtypes: datetime64[ns](1), int64(3), object(1)\n",
      "memory usage: 46.9+ KB\n",
      "<class 'pandas.core.frame.DataFrame'>\n",
      "RangeIndex: 62 entries, 0 to 61\n",
      "Data columns (total 3 columns):\n",
      " #   Column    Non-Null Count  Dtype         \n",
      "---  ------    --------------  -----         \n",
      " 0   date      62 non-null     datetime64[ns]\n",
      " 1   group     62 non-null     object        \n",
      " 2   visitors  62 non-null     int64         \n",
      "dtypes: datetime64[ns](1), int64(1), object(1)\n",
      "memory usage: 1.6+ KB\n"
     ]
    }
   ],
   "source": [
    "orders.info()\n",
    "\n",
    "visitors.info()"
   ]
  },
  {
   "cell_type": "code",
   "execution_count": 17,
   "metadata": {},
   "outputs": [
    {
     "data": {
      "text/plain": [
       "group\n",
       "A    18736\n",
       "B    18916\n",
       "Name: visitors, dtype: int64"
      ]
     },
     "metadata": {},
     "output_type": "display_data"
    },
    {
     "name": "stdout",
     "output_type": "stream",
     "text": [
      "Разница в количестве между группами %: 0.96\n"
     ]
    }
   ],
   "source": [
    "# проверяем сколько групп в тесте и пользователей в каждой группе\n",
    "\n",
    "t = visitors.groupby('group')['visitors'].sum()\n",
    "display(t)\n",
    "print('Разница в количестве между группами %:',round((((t.to_list()[1] - t.to_list()[0]) / t.to_list()[0]) * 100),2))"
   ]
  },
  {
   "cell_type": "markdown",
   "metadata": {},
   "source": [
    "В группе В на ` 1 % больше пользователей, возможно это незначительная погрешность"
   ]
  },
  {
   "cell_type": "code",
   "execution_count": 18,
   "metadata": {},
   "outputs": [
    {
     "data": {
      "text/html": [
       "<div>\n",
       "<style scoped>\n",
       "    .dataframe tbody tr th:only-of-type {\n",
       "        vertical-align: middle;\n",
       "    }\n",
       "\n",
       "    .dataframe tbody tr th {\n",
       "        vertical-align: top;\n",
       "    }\n",
       "\n",
       "    .dataframe thead th {\n",
       "        text-align: right;\n",
       "    }\n",
       "</style>\n",
       "<table border=\"1\" class=\"dataframe\">\n",
       "  <thead>\n",
       "    <tr style=\"text-align: right;\">\n",
       "      <th></th>\n",
       "      <th>min</th>\n",
       "      <th>max</th>\n",
       "    </tr>\n",
       "    <tr>\n",
       "      <th>group</th>\n",
       "      <th></th>\n",
       "      <th></th>\n",
       "    </tr>\n",
       "  </thead>\n",
       "  <tbody>\n",
       "    <tr>\n",
       "      <th>A</th>\n",
       "      <td>2019-08-01</td>\n",
       "      <td>2019-08-31</td>\n",
       "    </tr>\n",
       "    <tr>\n",
       "      <th>B</th>\n",
       "      <td>2019-08-01</td>\n",
       "      <td>2019-08-31</td>\n",
       "    </tr>\n",
       "  </tbody>\n",
       "</table>\n",
       "</div>"
      ],
      "text/plain": [
       "             min        max\n",
       "group                      \n",
       "A     2019-08-01 2019-08-31\n",
       "B     2019-08-01 2019-08-31"
      ]
     },
     "execution_count": 18,
     "metadata": {},
     "output_type": "execute_result"
    }
   ],
   "source": [
    "# проверим даты начала и окончания теста в каждой группе\n",
    "\n",
    "visitors.groupby('group')['date'].agg(['min', 'max'])"
   ]
  },
  {
   "cell_type": "markdown",
   "metadata": {},
   "source": [
    "Даты проведения теста в обеих группах совпадают"
   ]
  },
  {
   "cell_type": "markdown",
   "metadata": {},
   "source": [
    "Провели предобработку данных для дальнейших исследований."
   ]
  },
  {
   "cell_type": "markdown",
   "metadata": {},
   "source": [
    "## Приоритизация гипотез."
   ]
  },
  {
   "cell_type": "markdown",
   "metadata": {},
   "source": [
    "* ### Примените фреймворк ICE для приоритизации гипотез. Отсортируйте их по убыванию приоритета."
   ]
  },
  {
   "cell_type": "code",
   "execution_count": 19,
   "metadata": {},
   "outputs": [
    {
     "data": {
      "text/html": [
       "<div>\n",
       "<style scoped>\n",
       "    .dataframe tbody tr th:only-of-type {\n",
       "        vertical-align: middle;\n",
       "    }\n",
       "\n",
       "    .dataframe tbody tr th {\n",
       "        vertical-align: top;\n",
       "    }\n",
       "\n",
       "    .dataframe thead th {\n",
       "        text-align: right;\n",
       "    }\n",
       "</style>\n",
       "<table border=\"1\" class=\"dataframe\">\n",
       "  <thead>\n",
       "    <tr style=\"text-align: right;\">\n",
       "      <th></th>\n",
       "      <th>Hypothesis</th>\n",
       "      <th>Reach</th>\n",
       "      <th>Impact</th>\n",
       "      <th>Confidence</th>\n",
       "      <th>Efforts</th>\n",
       "      <th>ICE</th>\n",
       "    </tr>\n",
       "  </thead>\n",
       "  <tbody>\n",
       "    <tr>\n",
       "      <th>8</th>\n",
       "      <td>Запустить акцию, дающую скидку на товар в день рождения</td>\n",
       "      <td>1</td>\n",
       "      <td>9</td>\n",
       "      <td>9</td>\n",
       "      <td>5</td>\n",
       "      <td>16.20</td>\n",
       "    </tr>\n",
       "    <tr>\n",
       "      <th>0</th>\n",
       "      <td>Добавить два новых канала привлечения трафика, что позволит привлекать на 30% больше пользователей</td>\n",
       "      <td>3</td>\n",
       "      <td>10</td>\n",
       "      <td>8</td>\n",
       "      <td>6</td>\n",
       "      <td>13.33</td>\n",
       "    </tr>\n",
       "    <tr>\n",
       "      <th>7</th>\n",
       "      <td>Добавить форму подписки на все основные страницы, чтобы собрать базу клиентов для email-рассылок</td>\n",
       "      <td>10</td>\n",
       "      <td>7</td>\n",
       "      <td>8</td>\n",
       "      <td>5</td>\n",
       "      <td>11.20</td>\n",
       "    </tr>\n",
       "    <tr>\n",
       "      <th>6</th>\n",
       "      <td>Показать на главной странице баннеры с актуальными акциями и распродажами, чтобы увеличить конверсию</td>\n",
       "      <td>5</td>\n",
       "      <td>3</td>\n",
       "      <td>8</td>\n",
       "      <td>3</td>\n",
       "      <td>8.00</td>\n",
       "    </tr>\n",
       "    <tr>\n",
       "      <th>2</th>\n",
       "      <td>Добавить блоки рекомендаций товаров на сайт интернет магазина, чтобы повысить конверсию и средний чек заказа</td>\n",
       "      <td>8</td>\n",
       "      <td>3</td>\n",
       "      <td>7</td>\n",
       "      <td>3</td>\n",
       "      <td>7.00</td>\n",
       "    </tr>\n",
       "  </tbody>\n",
       "</table>\n",
       "</div>"
      ],
      "text/plain": [
       "                                                                                                     Hypothesis  \\\n",
       "8  Запустить акцию, дающую скидку на товар в день рождения                                                        \n",
       "0  Добавить два новых канала привлечения трафика, что позволит привлекать на 30% больше пользователей             \n",
       "7  Добавить форму подписки на все основные страницы, чтобы собрать базу клиентов для email-рассылок               \n",
       "6  Показать на главной странице баннеры с актуальными акциями и распродажами, чтобы увеличить конверсию           \n",
       "2  Добавить блоки рекомендаций товаров на сайт интернет магазина, чтобы повысить конверсию и средний чек заказа   \n",
       "\n",
       "   Reach  Impact  Confidence  Efforts   ICE  \n",
       "8  1      9       9           5       16.20  \n",
       "0  3      10      8           6       13.33  \n",
       "7  10     7       8           5       11.20  \n",
       "6  5      3       8           3       8.00   \n",
       "2  8      3       7           3       7.00   "
      ]
     },
     "execution_count": 19,
     "metadata": {},
     "output_type": "execute_result"
    }
   ],
   "source": [
    "pd.set_option('display.max_colwidth', 0)\n",
    "hypothesis['ICE'] = hypothesis['Impact'] * hypothesis['Confidence'] / hypothesis['Efforts']\n",
    "hypothesis.sort_values('ICE', ascending=False).head()"
   ]
  },
  {
   "cell_type": "code",
   "execution_count": 20,
   "metadata": {},
   "outputs": [
    {
     "data": {
      "image/png": "[encoded data removed]",
      "text/plain": [
       "<Figure size 720x576 with 1 Axes>"
      ]
     },
     "metadata": {},
     "output_type": "display_data"
    }
   ],
   "source": [
    "ax = hypothesis[['Hypothesis', 'ICE']].set_index('Hypothesis').sort_values('ICE', ascending=True).plot(kind='barh',color=\"red\")\n",
    "ax.set_xlabel('Приоритет')\n",
    "ax.set_ylabel('Гипотеза')\n",
    "ax.set_title('ICE')\n",
    "plt.show()"
   ]
  },
  {
   "cell_type": "markdown",
   "metadata": {},
   "source": [
    "* ### Примените фреймворк RICE для приоритизации гипотез. Отсортируйте их по убыванию приоритета."
   ]
  },
  {
   "cell_type": "code",
   "execution_count": 21,
   "metadata": {},
   "outputs": [
    {
     "data": {
      "text/html": [
       "<div>\n",
       "<style scoped>\n",
       "    .dataframe tbody tr th:only-of-type {\n",
       "        vertical-align: middle;\n",
       "    }\n",
       "\n",
       "    .dataframe tbody tr th {\n",
       "        vertical-align: top;\n",
       "    }\n",
       "\n",
       "    .dataframe thead th {\n",
       "        text-align: right;\n",
       "    }\n",
       "</style>\n",
       "<table border=\"1\" class=\"dataframe\">\n",
       "  <thead>\n",
       "    <tr style=\"text-align: right;\">\n",
       "      <th></th>\n",
       "      <th>Hypothesis</th>\n",
       "      <th>Reach</th>\n",
       "      <th>Impact</th>\n",
       "      <th>Confidence</th>\n",
       "      <th>Efforts</th>\n",
       "      <th>ICE</th>\n",
       "      <th>RICE</th>\n",
       "    </tr>\n",
       "  </thead>\n",
       "  <tbody>\n",
       "    <tr>\n",
       "      <th>7</th>\n",
       "      <td>Добавить форму подписки на все основные страницы, чтобы собрать базу клиентов для email-рассылок</td>\n",
       "      <td>10</td>\n",
       "      <td>7</td>\n",
       "      <td>8</td>\n",
       "      <td>5</td>\n",
       "      <td>11.20</td>\n",
       "      <td>112.00</td>\n",
       "    </tr>\n",
       "    <tr>\n",
       "      <th>2</th>\n",
       "      <td>Добавить блоки рекомендаций товаров на сайт интернет магазина, чтобы повысить конверсию и средний чек заказа</td>\n",
       "      <td>8</td>\n",
       "      <td>3</td>\n",
       "      <td>7</td>\n",
       "      <td>3</td>\n",
       "      <td>7.00</td>\n",
       "      <td>56.00</td>\n",
       "    </tr>\n",
       "    <tr>\n",
       "      <th>0</th>\n",
       "      <td>Добавить два новых канала привлечения трафика, что позволит привлекать на 30% больше пользователей</td>\n",
       "      <td>3</td>\n",
       "      <td>10</td>\n",
       "      <td>8</td>\n",
       "      <td>6</td>\n",
       "      <td>13.33</td>\n",
       "      <td>40.00</td>\n",
       "    </tr>\n",
       "    <tr>\n",
       "      <th>6</th>\n",
       "      <td>Показать на главной странице баннеры с актуальными акциями и распродажами, чтобы увеличить конверсию</td>\n",
       "      <td>5</td>\n",
       "      <td>3</td>\n",
       "      <td>8</td>\n",
       "      <td>3</td>\n",
       "      <td>8.00</td>\n",
       "      <td>40.00</td>\n",
       "    </tr>\n",
       "    <tr>\n",
       "      <th>8</th>\n",
       "      <td>Запустить акцию, дающую скидку на товар в день рождения</td>\n",
       "      <td>1</td>\n",
       "      <td>9</td>\n",
       "      <td>9</td>\n",
       "      <td>5</td>\n",
       "      <td>16.20</td>\n",
       "      <td>16.20</td>\n",
       "    </tr>\n",
       "  </tbody>\n",
       "</table>\n",
       "</div>"
      ],
      "text/plain": [
       "                                                                                                     Hypothesis  \\\n",
       "7  Добавить форму подписки на все основные страницы, чтобы собрать базу клиентов для email-рассылок               \n",
       "2  Добавить блоки рекомендаций товаров на сайт интернет магазина, чтобы повысить конверсию и средний чек заказа   \n",
       "0  Добавить два новых канала привлечения трафика, что позволит привлекать на 30% больше пользователей             \n",
       "6  Показать на главной странице баннеры с актуальными акциями и распродажами, чтобы увеличить конверсию           \n",
       "8  Запустить акцию, дающую скидку на товар в день рождения                                                        \n",
       "\n",
       "   Reach  Impact  Confidence  Efforts   ICE   RICE  \n",
       "7  10     7       8           5       11.20 112.00  \n",
       "2  8      3       7           3       7.00  56.00   \n",
       "0  3      10      8           6       13.33 40.00   \n",
       "6  5      3       8           3       8.00  40.00   \n",
       "8  1      9       9           5       16.20 16.20   "
      ]
     },
     "execution_count": 21,
     "metadata": {},
     "output_type": "execute_result"
    }
   ],
   "source": [
    "hypothesis['RICE'] = hypothesis['Reach'] * hypothesis['Impact'] * hypothesis['Confidence'] / hypothesis['Efforts']\n",
    "hypothesis.sort_values('RICE', ascending=False).head()"
   ]
  },
  {
   "cell_type": "code",
   "execution_count": 22,
   "metadata": {},
   "outputs": [
    {
     "data": {
      "image/png": "[encoded data removed]",
      "text/plain": [
       "<Figure size 720x576 with 1 Axes>"
      ]
     },
     "metadata": {},
     "output_type": "display_data"
    }
   ],
   "source": [
    "ax = hypothesis[['Hypothesis', 'RICE']].set_index('Hypothesis').sort_values('RICE', ascending=True).plot(kind='barh',color=\"green\")\n",
    "ax.set_xlabel('Приоритет')\n",
    "ax.set_ylabel('Гипотеза')\n",
    "ax.set_title('RICE')\n",
    "plt.show()"
   ]
  },
  {
   "cell_type": "markdown",
   "metadata": {},
   "source": [
    "По ICE приоритет на стороне 8, 0 и 7 гипотез. По RICE лидеры 7, 2 и 0 гипотеза."
   ]
  },
  {
   "cell_type": "markdown",
   "metadata": {},
   "source": [
    "* ### Укажите, как изменилась приоритизация гипотез при применении RICE вместо ICE. Объясните, почему так произошло."
   ]
  },
  {
   "cell_type": "code",
   "execution_count": 23,
   "metadata": {},
   "outputs": [
    {
     "data": {
      "text/html": [
       "<div>\n",
       "<style scoped>\n",
       "    .dataframe tbody tr th:only-of-type {\n",
       "        vertical-align: middle;\n",
       "    }\n",
       "\n",
       "    .dataframe tbody tr th {\n",
       "        vertical-align: top;\n",
       "    }\n",
       "\n",
       "    .dataframe thead th {\n",
       "        text-align: right;\n",
       "    }\n",
       "</style>\n",
       "<table border=\"1\" class=\"dataframe\">\n",
       "  <thead>\n",
       "    <tr style=\"text-align: right;\">\n",
       "      <th></th>\n",
       "      <th>Hypothesis</th>\n",
       "      <th>Reach</th>\n",
       "      <th>Impact</th>\n",
       "      <th>Confidence</th>\n",
       "      <th>Efforts</th>\n",
       "      <th>ICE</th>\n",
       "      <th>RICE</th>\n",
       "    </tr>\n",
       "  </thead>\n",
       "  <tbody>\n",
       "    <tr>\n",
       "      <th>8</th>\n",
       "      <td>Запустить акцию, дающую скидку на товар в день рождения</td>\n",
       "      <td>1</td>\n",
       "      <td>9</td>\n",
       "      <td>9</td>\n",
       "      <td>5</td>\n",
       "      <td>16.20</td>\n",
       "      <td>16.20</td>\n",
       "    </tr>\n",
       "    <tr>\n",
       "      <th>0</th>\n",
       "      <td>Добавить два новых канала привлечения трафика, что позволит привлекать на 30% больше пользователей</td>\n",
       "      <td>3</td>\n",
       "      <td>10</td>\n",
       "      <td>8</td>\n",
       "      <td>6</td>\n",
       "      <td>13.33</td>\n",
       "      <td>40.00</td>\n",
       "    </tr>\n",
       "    <tr>\n",
       "      <th>7</th>\n",
       "      <td>Добавить форму подписки на все основные страницы, чтобы собрать базу клиентов для email-рассылок</td>\n",
       "      <td>10</td>\n",
       "      <td>7</td>\n",
       "      <td>8</td>\n",
       "      <td>5</td>\n",
       "      <td>11.20</td>\n",
       "      <td>112.00</td>\n",
       "    </tr>\n",
       "    <tr>\n",
       "      <th>6</th>\n",
       "      <td>Показать на главной странице баннеры с актуальными акциями и распродажами, чтобы увеличить конверсию</td>\n",
       "      <td>5</td>\n",
       "      <td>3</td>\n",
       "      <td>8</td>\n",
       "      <td>3</td>\n",
       "      <td>8.00</td>\n",
       "      <td>40.00</td>\n",
       "    </tr>\n",
       "    <tr>\n",
       "      <th>2</th>\n",
       "      <td>Добавить блоки рекомендаций товаров на сайт интернет магазина, чтобы повысить конверсию и средний чек заказа</td>\n",
       "      <td>8</td>\n",
       "      <td>3</td>\n",
       "      <td>7</td>\n",
       "      <td>3</td>\n",
       "      <td>7.00</td>\n",
       "      <td>56.00</td>\n",
       "    </tr>\n",
       "    <tr>\n",
       "      <th>1</th>\n",
       "      <td>Запустить собственную службу доставки, что сократит срок доставки заказов</td>\n",
       "      <td>2</td>\n",
       "      <td>5</td>\n",
       "      <td>4</td>\n",
       "      <td>10</td>\n",
       "      <td>2.00</td>\n",
       "      <td>4.00</td>\n",
       "    </tr>\n",
       "    <tr>\n",
       "      <th>5</th>\n",
       "      <td>Добавить страницу отзывов клиентов о магазине, что позволит увеличить количество заказов</td>\n",
       "      <td>3</td>\n",
       "      <td>2</td>\n",
       "      <td>2</td>\n",
       "      <td>3</td>\n",
       "      <td>1.33</td>\n",
       "      <td>4.00</td>\n",
       "    </tr>\n",
       "    <tr>\n",
       "      <th>3</th>\n",
       "      <td>Изменить структура категорий, что увеличит конверсию, т.к. пользователи быстрее найдут нужный товар</td>\n",
       "      <td>8</td>\n",
       "      <td>3</td>\n",
       "      <td>3</td>\n",
       "      <td>8</td>\n",
       "      <td>1.12</td>\n",
       "      <td>9.00</td>\n",
       "    </tr>\n",
       "    <tr>\n",
       "      <th>4</th>\n",
       "      <td>Изменить цвет фона главной страницы, чтобы увеличить вовлеченность пользователей</td>\n",
       "      <td>3</td>\n",
       "      <td>1</td>\n",
       "      <td>1</td>\n",
       "      <td>1</td>\n",
       "      <td>1.00</td>\n",
       "      <td>3.00</td>\n",
       "    </tr>\n",
       "  </tbody>\n",
       "</table>\n",
       "</div>"
      ],
      "text/plain": [
       "                                                                                                     Hypothesis  \\\n",
       "8  Запустить акцию, дающую скидку на товар в день рождения                                                        \n",
       "0  Добавить два новых канала привлечения трафика, что позволит привлекать на 30% больше пользователей             \n",
       "7  Добавить форму подписки на все основные страницы, чтобы собрать базу клиентов для email-рассылок               \n",
       "6  Показать на главной странице баннеры с актуальными акциями и распродажами, чтобы увеличить конверсию           \n",
       "2  Добавить блоки рекомендаций товаров на сайт интернет магазина, чтобы повысить конверсию и средний чек заказа   \n",
       "1  Запустить собственную службу доставки, что сократит срок доставки заказов                                      \n",
       "5  Добавить страницу отзывов клиентов о магазине, что позволит увеличить количество заказов                       \n",
       "3  Изменить структура категорий, что увеличит конверсию, т.к. пользователи быстрее найдут нужный товар            \n",
       "4  Изменить цвет фона главной страницы, чтобы увеличить вовлеченность пользователей                               \n",
       "\n",
       "   Reach  Impact  Confidence  Efforts   ICE   RICE  \n",
       "8  1      9       9           5       16.20 16.20   \n",
       "0  3      10      8           6       13.33 40.00   \n",
       "7  10     7       8           5       11.20 112.00  \n",
       "6  5      3       8           3       8.00  40.00   \n",
       "2  8      3       7           3       7.00  56.00   \n",
       "1  2      5       4           10      2.00  4.00    \n",
       "5  3      2       2           3       1.33  4.00    \n",
       "3  8      3       3           8       1.12  9.00    \n",
       "4  3      1       1           1       1.00  3.00    "
      ]
     },
     "execution_count": 23,
     "metadata": {},
     "output_type": "execute_result"
    }
   ],
   "source": [
    "hypothesis.sort_values(by='ICE', ascending=False, inplace=True)\n",
    "\n",
    "hypothesis"
   ]
  },
  {
   "cell_type": "code",
   "execution_count": 24,
   "metadata": {},
   "outputs": [
    {
     "data": {
      "text/html": [
       "<div>\n",
       "<style scoped>\n",
       "    .dataframe tbody tr th:only-of-type {\n",
       "        vertical-align: middle;\n",
       "    }\n",
       "\n",
       "    .dataframe tbody tr th {\n",
       "        vertical-align: top;\n",
       "    }\n",
       "\n",
       "    .dataframe thead th {\n",
       "        text-align: right;\n",
       "    }\n",
       "</style>\n",
       "<table border=\"1\" class=\"dataframe\">\n",
       "  <thead>\n",
       "    <tr style=\"text-align: right;\">\n",
       "      <th></th>\n",
       "      <th>Hypothesis</th>\n",
       "      <th>Reach</th>\n",
       "      <th>Impact</th>\n",
       "      <th>Confidence</th>\n",
       "      <th>Efforts</th>\n",
       "      <th>ICE</th>\n",
       "      <th>RICE</th>\n",
       "    </tr>\n",
       "  </thead>\n",
       "  <tbody>\n",
       "    <tr>\n",
       "      <th>7</th>\n",
       "      <td>Добавить форму подписки на все основные страницы, чтобы собрать базу клиентов для email-рассылок</td>\n",
       "      <td>10</td>\n",
       "      <td>7</td>\n",
       "      <td>8</td>\n",
       "      <td>5</td>\n",
       "      <td>11.20</td>\n",
       "      <td>112.00</td>\n",
       "    </tr>\n",
       "    <tr>\n",
       "      <th>2</th>\n",
       "      <td>Добавить блоки рекомендаций товаров на сайт интернет магазина, чтобы повысить конверсию и средний чек заказа</td>\n",
       "      <td>8</td>\n",
       "      <td>3</td>\n",
       "      <td>7</td>\n",
       "      <td>3</td>\n",
       "      <td>7.00</td>\n",
       "      <td>56.00</td>\n",
       "    </tr>\n",
       "    <tr>\n",
       "      <th>0</th>\n",
       "      <td>Добавить два новых канала привлечения трафика, что позволит привлекать на 30% больше пользователей</td>\n",
       "      <td>3</td>\n",
       "      <td>10</td>\n",
       "      <td>8</td>\n",
       "      <td>6</td>\n",
       "      <td>13.33</td>\n",
       "      <td>40.00</td>\n",
       "    </tr>\n",
       "    <tr>\n",
       "      <th>6</th>\n",
       "      <td>Показать на главной странице баннеры с актуальными акциями и распродажами, чтобы увеличить конверсию</td>\n",
       "      <td>5</td>\n",
       "      <td>3</td>\n",
       "      <td>8</td>\n",
       "      <td>3</td>\n",
       "      <td>8.00</td>\n",
       "      <td>40.00</td>\n",
       "    </tr>\n",
       "    <tr>\n",
       "      <th>8</th>\n",
       "      <td>Запустить акцию, дающую скидку на товар в день рождения</td>\n",
       "      <td>1</td>\n",
       "      <td>9</td>\n",
       "      <td>9</td>\n",
       "      <td>5</td>\n",
       "      <td>16.20</td>\n",
       "      <td>16.20</td>\n",
       "    </tr>\n",
       "    <tr>\n",
       "      <th>3</th>\n",
       "      <td>Изменить структура категорий, что увеличит конверсию, т.к. пользователи быстрее найдут нужный товар</td>\n",
       "      <td>8</td>\n",
       "      <td>3</td>\n",
       "      <td>3</td>\n",
       "      <td>8</td>\n",
       "      <td>1.12</td>\n",
       "      <td>9.00</td>\n",
       "    </tr>\n",
       "    <tr>\n",
       "      <th>1</th>\n",
       "      <td>Запустить собственную службу доставки, что сократит срок доставки заказов</td>\n",
       "      <td>2</td>\n",
       "      <td>5</td>\n",
       "      <td>4</td>\n",
       "      <td>10</td>\n",
       "      <td>2.00</td>\n",
       "      <td>4.00</td>\n",
       "    </tr>\n",
       "    <tr>\n",
       "      <th>5</th>\n",
       "      <td>Добавить страницу отзывов клиентов о магазине, что позволит увеличить количество заказов</td>\n",
       "      <td>3</td>\n",
       "      <td>2</td>\n",
       "      <td>2</td>\n",
       "      <td>3</td>\n",
       "      <td>1.33</td>\n",
       "      <td>4.00</td>\n",
       "    </tr>\n",
       "    <tr>\n",
       "      <th>4</th>\n",
       "      <td>Изменить цвет фона главной страницы, чтобы увеличить вовлеченность пользователей</td>\n",
       "      <td>3</td>\n",
       "      <td>1</td>\n",
       "      <td>1</td>\n",
       "      <td>1</td>\n",
       "      <td>1.00</td>\n",
       "      <td>3.00</td>\n",
       "    </tr>\n",
       "  </tbody>\n",
       "</table>\n",
       "</div>"
      ],
      "text/plain": [
       "                                                                                                     Hypothesis  \\\n",
       "7  Добавить форму подписки на все основные страницы, чтобы собрать базу клиентов для email-рассылок               \n",
       "2  Добавить блоки рекомендаций товаров на сайт интернет магазина, чтобы повысить конверсию и средний чек заказа   \n",
       "0  Добавить два новых канала привлечения трафика, что позволит привлекать на 30% больше пользователей             \n",
       "6  Показать на главной странице баннеры с актуальными акциями и распродажами, чтобы увеличить конверсию           \n",
       "8  Запустить акцию, дающую скидку на товар в день рождения                                                        \n",
       "3  Изменить структура категорий, что увеличит конверсию, т.к. пользователи быстрее найдут нужный товар            \n",
       "1  Запустить собственную службу доставки, что сократит срок доставки заказов                                      \n",
       "5  Добавить страницу отзывов клиентов о магазине, что позволит увеличить количество заказов                       \n",
       "4  Изменить цвет фона главной страницы, чтобы увеличить вовлеченность пользователей                               \n",
       "\n",
       "   Reach  Impact  Confidence  Efforts   ICE   RICE  \n",
       "7  10     7       8           5       11.20 112.00  \n",
       "2  8      3       7           3       7.00  56.00   \n",
       "0  3      10      8           6       13.33 40.00   \n",
       "6  5      3       8           3       8.00  40.00   \n",
       "8  1      9       9           5       16.20 16.20   \n",
       "3  8      3       3           8       1.12  9.00    \n",
       "1  2      5       4           10      2.00  4.00    \n",
       "5  3      2       2           3       1.33  4.00    \n",
       "4  3      1       1           1       1.00  3.00    "
      ]
     },
     "execution_count": 24,
     "metadata": {},
     "output_type": "execute_result"
    }
   ],
   "source": [
    "hypothesis.sort_values(by='RICE', ascending=False, inplace=True)\n",
    "hypothesis"
   ]
  },
  {
   "cell_type": "markdown",
   "metadata": {},
   "source": [
    "Так произошло, потому, что формулы разные, одна учитывает охват, а другая — нет."
   ]
  },
  {
   "cell_type": "markdown",
   "metadata": {},
   "source": [
    "##  Анализ A/B-теста"
   ]
  },
  {
   "cell_type": "markdown",
   "metadata": {},
   "source": [
    "###  Постройте график кумулятивной выручки по группам."
   ]
  },
  {
   "cell_type": "markdown",
   "metadata": {},
   "source": [
    "* Подготовим данные для построения графиков"
   ]
  },
  {
   "cell_type": "code",
   "execution_count": 25,
   "metadata": {},
   "outputs": [],
   "source": [
    "orders_grouped = (orders.groupby(['date','group'], as_index=False)\n",
    "                        .agg({'transactionid':'nunique','visitorid':'nunique','revenue':'sum'}))\\\n",
    "                        .rename(columns={'transactionid':'orders','visitorid':'buyers'})\n",
    "orders_grouped['group_copy'] = orders_grouped['group']\n",
    "orders_grouped = orders_grouped.set_index(['date','group'])\n",
    "orders_cumsum = orders_grouped.sort_values(['date','group']).groupby('group_copy').cumsum().reset_index()"
   ]
  },
  {
   "cell_type": "code",
   "execution_count": 26,
   "metadata": {},
   "outputs": [],
   "source": [
    "# посчитаем сумму визитов по дням в каждой группе\n",
    "\n",
    "visitors_cumsum = visitors.groupby(['date','group'], as_index=False).agg({'visitors':'sum'}).sort_values(['date','group'])\n",
    "\n",
    "# скопируем group чтобы провести по ней кумулятивную сумму\n",
    "\n",
    "visitors_cumsum['group_copy'] = visitors_cumsum['group']\n",
    "visitors_cumsum = visitors_cumsum.set_index(['date','group']).groupby('group_copy').cumsum().reset_index()"
   ]
  },
  {
   "cell_type": "code",
   "execution_count": 27,
   "metadata": {},
   "outputs": [
    {
     "data": {
      "text/html": [
       "<div>\n",
       "<style scoped>\n",
       "    .dataframe tbody tr th:only-of-type {\n",
       "        vertical-align: middle;\n",
       "    }\n",
       "\n",
       "    .dataframe tbody tr th {\n",
       "        vertical-align: top;\n",
       "    }\n",
       "\n",
       "    .dataframe thead th {\n",
       "        text-align: right;\n",
       "    }\n",
       "</style>\n",
       "<table border=\"1\" class=\"dataframe\">\n",
       "  <thead>\n",
       "    <tr style=\"text-align: right;\">\n",
       "      <th></th>\n",
       "      <th>date</th>\n",
       "      <th>group</th>\n",
       "      <th>orders</th>\n",
       "      <th>buyers</th>\n",
       "      <th>revenue</th>\n",
       "      <th>visitors</th>\n",
       "      <th>average_check</th>\n",
       "      <th>conversion</th>\n",
       "    </tr>\n",
       "  </thead>\n",
       "  <tbody>\n",
       "    <tr>\n",
       "      <th>0</th>\n",
       "      <td>2019-08-01</td>\n",
       "      <td>A</td>\n",
       "      <td>24</td>\n",
       "      <td>20</td>\n",
       "      <td>148579</td>\n",
       "      <td>719</td>\n",
       "      <td>6,190.79</td>\n",
       "      <td>0.03</td>\n",
       "    </tr>\n",
       "    <tr>\n",
       "      <th>1</th>\n",
       "      <td>2019-08-01</td>\n",
       "      <td>B</td>\n",
       "      <td>21</td>\n",
       "      <td>20</td>\n",
       "      <td>101217</td>\n",
       "      <td>713</td>\n",
       "      <td>4,819.86</td>\n",
       "      <td>0.03</td>\n",
       "    </tr>\n",
       "    <tr>\n",
       "      <th>2</th>\n",
       "      <td>2019-08-02</td>\n",
       "      <td>A</td>\n",
       "      <td>44</td>\n",
       "      <td>39</td>\n",
       "      <td>242401</td>\n",
       "      <td>1338</td>\n",
       "      <td>5,509.11</td>\n",
       "      <td>0.03</td>\n",
       "    </tr>\n",
       "    <tr>\n",
       "      <th>3</th>\n",
       "      <td>2019-08-02</td>\n",
       "      <td>B</td>\n",
       "      <td>45</td>\n",
       "      <td>43</td>\n",
       "      <td>266748</td>\n",
       "      <td>1294</td>\n",
       "      <td>5,927.73</td>\n",
       "      <td>0.03</td>\n",
       "    </tr>\n",
       "    <tr>\n",
       "      <th>4</th>\n",
       "      <td>2019-08-03</td>\n",
       "      <td>A</td>\n",
       "      <td>68</td>\n",
       "      <td>63</td>\n",
       "      <td>354874</td>\n",
       "      <td>1845</td>\n",
       "      <td>5,218.74</td>\n",
       "      <td>0.04</td>\n",
       "    </tr>\n",
       "  </tbody>\n",
       "</table>\n",
       "</div>"
      ],
      "text/plain": [
       "        date group  orders  buyers  revenue  visitors  average_check  \\\n",
       "0 2019-08-01  A     24      20      148579   719      6,190.79         \n",
       "1 2019-08-01  B     21      20      101217   713      4,819.86         \n",
       "2 2019-08-02  A     44      39      242401   1338     5,509.11         \n",
       "3 2019-08-02  B     45      43      266748   1294     5,927.73         \n",
       "4 2019-08-03  A     68      63      354874   1845     5,218.74         \n",
       "\n",
       "   conversion  \n",
       "0 0.03         \n",
       "1 0.03         \n",
       "2 0.03         \n",
       "3 0.03         \n",
       "4 0.04         "
      ]
     },
     "execution_count": 27,
     "metadata": {},
     "output_type": "execute_result"
    }
   ],
   "source": [
    "cummulative = orders_cumsum.join(visitors_cumsum[['visitors']])\n",
    "cummulative['average_check'] = cummulative['revenue'] / cummulative['orders']\n",
    "cummulative['conversion'] = cummulative['orders'] / cummulative['visitors']\n",
    "cummulative.head()"
   ]
  },
  {
   "cell_type": "code",
   "execution_count": 28,
   "metadata": {},
   "outputs": [
    {
     "data": {
      "image/png": "[encoded data removed]",
      "text/plain": [
       "<Figure size 720x576 with 1 Axes>"
      ]
     },
     "metadata": {},
     "output_type": "display_data"
    }
   ],
   "source": [
    "cummulativeA = cummulative[cummulative['group']=='A'][['date', 'revenue']]\n",
    "cummulativeB = cummulative[cummulative['group']=='B'][['date', 'revenue']]\n",
    "plt.plot(cummulativeA.iloc[:,0].to_frame(), cummulativeA.iloc[:,1].to_frame(), label='A' )\n",
    "plt.plot(cummulativeB.iloc[:,0].to_frame(), cummulativeB.iloc[:,1].to_frame(), label='B')\n",
    "plt.title('График кумулятивной выручки по группам')\n",
    "plt.ylabel(\"Выручка\")\n",
    "plt.xticks(rotation=45)\n",
    "plt.legend()\n",
    "plt.show()"
   ]
  },
  {
   "cell_type": "markdown",
   "metadata": {},
   "source": [
    "Выручка растет почти равномерно.\n",
    "\n",
    "В группе В менее линейный рост, что может свидетельствовать о наличии аномально дорогих заказов или роста количества покупок в отдельные даты."
   ]
  },
  {
   "cell_type": "markdown",
   "metadata": {},
   "source": [
    "### Постройте график кумулятивного среднего чека по группам."
   ]
  },
  {
   "cell_type": "code",
   "execution_count": 29,
   "metadata": {},
   "outputs": [
    {
     "data": {
      "image/png": "[encoded data removed]",
      "text/plain": [
       "<Figure size 720x576 with 1 Axes>"
      ]
     },
     "metadata": {},
     "output_type": "display_data"
    }
   ],
   "source": [
    "cummulativeA = cummulative[cummulative['group']=='A'][['date', 'average_check']]\n",
    "cummulativeB = cummulative[cummulative['group']=='B'][['date', 'average_check']]\n",
    "plt.plot(cummulativeA.iloc[:,0].to_frame(), cummulativeA.iloc[:,1].to_frame(), label='A' )\n",
    "plt.plot(cummulativeB.iloc[:,0].to_frame(), cummulativeB.iloc[:,1].to_frame(), label='B')\n",
    "plt.title('График кумулятивного среднего чека по группам')\n",
    "plt.ylabel(\"Средний чек\")\n",
    "plt.xticks(rotation=45)\n",
    "plt.legend()\n",
    "plt.show()"
   ]
  },
  {
   "cell_type": "markdown",
   "metadata": {},
   "source": [
    "Покупки 18 числа в группе В сильно отразились на среднем чеке - средний чек вырос до 10000, после 19 числа начал падать, что также указывает на наличие отдельных выбросов в сумме или количестве заказов.\n",
    "\n",
    "Средний чек группы А относительно стабилен около значения 7000."
   ]
  },
  {
   "cell_type": "markdown",
   "metadata": {},
   "source": [
    "### Постройте график относительного изменения кумулятивного среднего чека группы B к группе A. "
   ]
  },
  {
   "cell_type": "code",
   "execution_count": 30,
   "metadata": {},
   "outputs": [
    {
     "data": {
      "image/png": "[encoded data removed]",
      "text/plain": [
       "<Figure size 720x576 with 1 Axes>"
      ]
     },
     "metadata": {},
     "output_type": "display_data"
    }
   ],
   "source": [
    "temp = (cummulativeA[['date', 'average_check']].merge(cummulativeB[['date', 'average_check']], \n",
    "                                            left_on='date', right_on='date', how='left', suffixes=['_A', '_B']))\n",
    "plt.plot(temp['date'], temp['average_check_B'] / temp['average_check_A']-1)\n",
    "plt.title('График относительного изменения кумулятивного среднего чека группы B к группе A')\n",
    "plt.axhline(y=0, color='red', linestyle='-')\n",
    "plt.xticks(rotation=45)\n",
    "plt.show()"
   ]
  },
  {
   "cell_type": "markdown",
   "metadata": {},
   "source": [
    "График сильно скачет на протяжении всего теста, после резкого скачка 18го числа преимущество группы В показывает нисходящий тренд."
   ]
  },
  {
   "cell_type": "markdown",
   "metadata": {},
   "source": [
    "### Постройте график кумулятивного среднего количества заказов на посетителя по группам."
   ]
  },
  {
   "cell_type": "code",
   "execution_count": 31,
   "metadata": {},
   "outputs": [
    {
     "data": {
      "image/png": "[encoded data removed]",
      "text/plain": [
       "<Figure size 720x576 with 1 Axes>"
      ]
     },
     "metadata": {},
     "output_type": "display_data"
    }
   ],
   "source": [
    "cummulativeA = cummulative[cummulative['group']=='A'][['date', 'conversion']]\n",
    "cummulativeB = cummulative[cummulative['group']=='B'][['date', 'conversion']]\n",
    "plt.plot(cummulativeA.iloc[:,0].to_frame(), cummulativeA.iloc[:,1].to_frame(), label='A' )\n",
    "plt.plot(cummulativeB.iloc[:,0].to_frame(), cummulativeB.iloc[:,1].to_frame(), label='B')\n",
    "plt.title('График кумулятивного среднего количества заказов на посетителя по группам')\n",
    "plt.ylabel(\"Среднее количество заказов\")\n",
    "plt.xticks(rotation=45)\n",
    "plt.legend()\n",
    "plt.show()"
   ]
  },
  {
   "cell_type": "markdown",
   "metadata": {},
   "source": [
    "Графики кумулятивного среднего количества заказов на посетителя по группам относительно стабилизировались, и группа В показывает результат лучше примерно на 0.04%"
   ]
  },
  {
   "cell_type": "markdown",
   "metadata": {},
   "source": [
    "### Постройте график относительного изменения кумулятивного среднего количества заказов на посетителя группы B к группе A. "
   ]
  },
  {
   "cell_type": "code",
   "execution_count": 32,
   "metadata": {},
   "outputs": [
    {
     "data": {
      "image/png": "[encoded data removed]",
      "text/plain": [
       "<Figure size 720x576 with 1 Axes>"
      ]
     },
     "metadata": {},
     "output_type": "display_data"
    }
   ],
   "source": [
    "temp = (cummulativeA[['date', 'conversion']].merge(cummulativeB[['date', 'conversion']], \n",
    "                                            left_on='date', right_on='date', how='left', suffixes=['_A', '_B']))\n",
    "plt.plot(temp['date'], temp['conversion_B'] / temp['conversion_A']-1)\n",
    "plt.title('График относительного изменения кумулятивного среднего количества заказов на посетителя группы B к группе A')\n",
    "plt.axhline(y=0, color='red', linestyle='-')\n",
    "plt.xticks(rotation=45)\n",
    "plt.show()"
   ]
  },
  {
   "cell_type": "markdown",
   "metadata": {},
   "source": [
    "Сначала количества заказов группе В отставала, затем с 8 числа установилась на уровне +10-20% от группы А."
   ]
  },
  {
   "cell_type": "markdown",
   "metadata": {},
   "source": [
    "### Постройте точечный график количества заказов по пользователям. "
   ]
  },
  {
   "cell_type": "code",
   "execution_count": 33,
   "metadata": {},
   "outputs": [
    {
     "data": {
      "text/html": [
       "<div>\n",
       "<style scoped>\n",
       "    .dataframe tbody tr th:only-of-type {\n",
       "        vertical-align: middle;\n",
       "    }\n",
       "\n",
       "    .dataframe tbody tr th {\n",
       "        vertical-align: top;\n",
       "    }\n",
       "\n",
       "    .dataframe thead th {\n",
       "        text-align: right;\n",
       "    }\n",
       "</style>\n",
       "<table border=\"1\" class=\"dataframe\">\n",
       "  <thead>\n",
       "    <tr style=\"text-align: right;\">\n",
       "      <th></th>\n",
       "      <th>visitorid</th>\n",
       "      <th>orders</th>\n",
       "    </tr>\n",
       "  </thead>\n",
       "  <tbody>\n",
       "    <tr>\n",
       "      <th>0</th>\n",
       "      <td>5114589</td>\n",
       "      <td>1</td>\n",
       "    </tr>\n",
       "    <tr>\n",
       "      <th>1</th>\n",
       "      <td>6958315</td>\n",
       "      <td>1</td>\n",
       "    </tr>\n",
       "    <tr>\n",
       "      <th>2</th>\n",
       "      <td>8300375</td>\n",
       "      <td>2</td>\n",
       "    </tr>\n",
       "    <tr>\n",
       "      <th>3</th>\n",
       "      <td>11685486</td>\n",
       "      <td>1</td>\n",
       "    </tr>\n",
       "    <tr>\n",
       "      <th>4</th>\n",
       "      <td>39475350</td>\n",
       "      <td>1</td>\n",
       "    </tr>\n",
       "  </tbody>\n",
       "</table>\n",
       "</div>"
      ],
      "text/plain": [
       "   visitorid  orders\n",
       "0  5114589    1     \n",
       "1  6958315    1     \n",
       "2  8300375    2     \n",
       "3  11685486   1     \n",
       "4  39475350   1     "
      ]
     },
     "execution_count": 33,
     "metadata": {},
     "output_type": "execute_result"
    }
   ],
   "source": [
    "orders_per_user = orders.groupby('visitorid', as_index=False).agg({'transactionid':'nunique'})\\\n",
    "                         .rename(columns={'transactionid':'orders'})\n",
    "orders_per_user.head()"
   ]
  },
  {
   "cell_type": "code",
   "execution_count": 34,
   "metadata": {},
   "outputs": [
    {
     "data": {
      "image/png": "[encoded data removed]",
      "text/plain": [
       "<Figure size 720x576 with 1 Axes>"
      ]
     },
     "metadata": {},
     "output_type": "display_data"
    }
   ],
   "source": [
    "x_values = pd.Series(range(0,len(orders_per_user['orders'])))\n",
    "plt.scatter(x_values, orders_per_user['orders'], color='green')\n",
    "plt.title('Точечный график количества заказов по пользователям')\n",
    "plt.xlabel(\"Пользователи\")\n",
    "plt.ylabel(\"Количество заказов\")\n",
    "plt.xticks(rotation=45)\n",
    "plt.show()"
   ]
  },
  {
   "cell_type": "markdown",
   "metadata": {},
   "source": [
    "Большинство пользователей сделали 1-2 заказа, но также есть и те, кто сделал более 10 заказов."
   ]
  },
  {
   "cell_type": "markdown",
   "metadata": {},
   "source": [
    "### Посчитайте 95-й и 99-й перцентили количества заказов на пользователя. "
   ]
  },
  {
   "cell_type": "code",
   "execution_count": 35,
   "metadata": {},
   "outputs": [
    {
     "data": {
      "text/plain": [
       "array([2., 4.])"
      ]
     },
     "execution_count": 35,
     "metadata": {},
     "output_type": "execute_result"
    }
   ],
   "source": [
    "np.percentile(orders_per_user['orders'], [95, 99])"
   ]
  },
  {
   "cell_type": "code",
   "execution_count": 36,
   "metadata": {},
   "outputs": [
    {
     "data": {
      "text/plain": [
       "11"
      ]
     },
     "execution_count": 36,
     "metadata": {},
     "output_type": "execute_result"
    }
   ],
   "source": [
    "orders_per_user['orders'].max()"
   ]
  },
  {
   "cell_type": "code",
   "execution_count": 37,
   "metadata": {},
   "outputs": [
    {
     "data": {
      "text/plain": [
       "10"
      ]
     },
     "execution_count": 37,
     "metadata": {},
     "output_type": "execute_result"
    }
   ],
   "source": [
    "np.ptp(orders_per_user['orders'], axis=0)"
   ]
  },
  {
   "cell_type": "code",
   "execution_count": 38,
   "metadata": {},
   "outputs": [],
   "source": [
    "outlaws_1p = orders_per_user[orders_per_user['orders'] >= 4]['visitorid'].to_list()"
   ]
  },
  {
   "cell_type": "markdown",
   "metadata": {},
   "source": [
    "Не менее 95% пользователей сделали не более 2-х заказов, не менее 99% сделали не более 4-х. Будем считать аномалиями количество заказов больше 2-х."
   ]
  },
  {
   "cell_type": "markdown",
   "metadata": {},
   "source": [
    "### Постройте точечный график стоимостей заказов."
   ]
  },
  {
   "cell_type": "code",
   "execution_count": 39,
   "metadata": {},
   "outputs": [
    {
     "data": {
      "image/png": "[encoded data removed]",
      "text/plain": [
       "<Figure size 720x576 with 1 Axes>"
      ]
     },
     "metadata": {},
     "output_type": "display_data"
    }
   ],
   "source": [
    "x_values = pd.Series(range(0,len(orders['revenue'])))\n",
    "plt.scatter(x_values, orders['revenue'], color='black')\n",
    "plt.title('Точечный график стоимостей заказов')\n",
    "plt.ylabel(\"Стоимость\")\n",
    "plt.xlabel(\"Количество заказов\")\n",
    "plt.xticks(rotation=45)\n",
    "plt.show()"
   ]
  },
  {
   "cell_type": "markdown",
   "metadata": {},
   "source": [
    "Исходя из графика, видно явно 2 выброса по стоимости заказа(Первый-это 1.2 млн, второй-200000)"
   ]
  },
  {
   "cell_type": "code",
   "execution_count": 40,
   "metadata": {},
   "outputs": [
    {
     "data": {
      "image/png": "[encoded data removed]",
      "text/plain": [
       "<Figure size 720x576 with 1 Axes>"
      ]
     },
     "metadata": {},
     "output_type": "display_data"
    }
   ],
   "source": [
    "orders_r = orders.query('revenue<200000')\n",
    "x_values = pd.Series(range(0,len(orders_r['revenue'])))\n",
    "plt.scatter(x_values, orders_r['revenue'], color='red')\n",
    "plt.title('Точечный график стоимостей заказов')\n",
    "plt.ylabel(\"Стоимость\")\n",
    "plt.xlabel(\"Количество заказов\")\n",
    "plt.xticks(rotation=45)\n",
    "plt.show()\n"
   ]
  },
  {
   "cell_type": "markdown",
   "metadata": {},
   "source": [
    "Исходя из графика, видно, что стоимость по кол-вам заказам в основном до 20000."
   ]
  },
  {
   "cell_type": "markdown",
   "metadata": {},
   "source": [
    "### Посчитайте 95-й и 99-й перцентили стоимости заказов. "
   ]
  },
  {
   "cell_type": "code",
   "execution_count": 41,
   "metadata": {},
   "outputs": [
    {
     "data": {
      "text/plain": [
       "array([28000. , 58233.2])"
      ]
     },
     "execution_count": 41,
     "metadata": {},
     "output_type": "execute_result"
    }
   ],
   "source": [
    "np.percentile(orders['revenue'], [95, 99])"
   ]
  },
  {
   "cell_type": "code",
   "execution_count": 42,
   "metadata": {},
   "outputs": [
    {
     "data": {
      "text/plain": [
       "1294500"
      ]
     },
     "execution_count": 42,
     "metadata": {},
     "output_type": "execute_result"
    }
   ],
   "source": [
    "orders['revenue'].max()"
   ]
  },
  {
   "cell_type": "code",
   "execution_count": 43,
   "metadata": {},
   "outputs": [
    {
     "data": {
      "text/plain": [
       "1294450"
      ]
     },
     "execution_count": 43,
     "metadata": {},
     "output_type": "execute_result"
    }
   ],
   "source": [
    "np.ptp(orders['revenue'], axis=0)"
   ]
  },
  {
   "cell_type": "markdown",
   "metadata": {},
   "source": [
    "Не менее 95% заказов были стоимостью до 28 000, не менее 99% до 58 200, будем считать аномальными заказы, не входящие в 95% перцентиль."
   ]
  },
  {
   "cell_type": "markdown",
   "metadata": {},
   "source": [
    "### Посчитайте статистическую значимость различий в среднем количестве заказов на посетителя между группами по «сырым» данным."
   ]
  },
  {
   "cell_type": "markdown",
   "metadata": {},
   "source": [
    "Посчитаем статистическую значимость различий в среднем количестве заказов на посетителя между группами по «сырым» данным. \n",
    "\n",
    "Будем использовать непараметрический тест Уилкоксона-Манна-Уитни, т.к. распределение не нормальное.\n",
    "\n",
    "Создадим переменные orders_by_users_a и orders_by_users_b со столбцами ['user_id', 'orders'], где для пользователей, совершивших хотя бы 1 заказ, будет указано число заказов.\n",
    "\n",
    "Объявим переменные sample_a и sample_b, в которых пользователям с заказами будет соответствовать число заказов пользователя. А пользователям без заказов — нули.\n",
    "\n",
    "Выведим p-value для сравнения среднего между группами. Округлим p-value до 5 знаков после запятой.\n",
    "\n",
    "Вычислим и выведим относительное различие в среднем между группами. Округлим до 3 знаков после запятой.\n",
    "\n",
    "Сформулируем гипотезы. Нулевая: различий в среднем количестве заказов между группами нет. Альтернативная: различия в среднем между группами есть.\n",
    "\n",
    "Установим критический уровень статистической значимости - 5%"
   ]
  },
  {
   "cell_type": "code",
   "execution_count": 44,
   "metadata": {},
   "outputs": [
    {
     "data": {
      "text/html": [
       "<div>\n",
       "<style scoped>\n",
       "    .dataframe tbody tr th:only-of-type {\n",
       "        vertical-align: middle;\n",
       "    }\n",
       "\n",
       "    .dataframe tbody tr th {\n",
       "        vertical-align: top;\n",
       "    }\n",
       "\n",
       "    .dataframe thead th {\n",
       "        text-align: right;\n",
       "    }\n",
       "</style>\n",
       "<table border=\"1\" class=\"dataframe\">\n",
       "  <thead>\n",
       "    <tr style=\"text-align: right;\">\n",
       "      <th></th>\n",
       "      <th>date</th>\n",
       "      <th>visitors_per_date_a</th>\n",
       "      <th>visitors_per_date_b</th>\n",
       "    </tr>\n",
       "  </thead>\n",
       "  <tbody>\n",
       "    <tr>\n",
       "      <th>0</th>\n",
       "      <td>2019-08-01</td>\n",
       "      <td>719</td>\n",
       "      <td>713</td>\n",
       "    </tr>\n",
       "    <tr>\n",
       "      <th>1</th>\n",
       "      <td>2019-08-02</td>\n",
       "      <td>619</td>\n",
       "      <td>581</td>\n",
       "    </tr>\n",
       "    <tr>\n",
       "      <th>2</th>\n",
       "      <td>2019-08-03</td>\n",
       "      <td>507</td>\n",
       "      <td>509</td>\n",
       "    </tr>\n",
       "    <tr>\n",
       "      <th>3</th>\n",
       "      <td>2019-08-04</td>\n",
       "      <td>717</td>\n",
       "      <td>770</td>\n",
       "    </tr>\n",
       "    <tr>\n",
       "      <th>4</th>\n",
       "      <td>2019-08-05</td>\n",
       "      <td>756</td>\n",
       "      <td>707</td>\n",
       "    </tr>\n",
       "  </tbody>\n",
       "</table>\n",
       "</div>"
      ],
      "text/plain": [
       "        date  visitors_per_date_a  visitors_per_date_b\n",
       "0 2019-08-01  719                  713                \n",
       "1 2019-08-02  619                  581                \n",
       "2 2019-08-03  507                  509                \n",
       "3 2019-08-04  717                  770                \n",
       "4 2019-08-05  756                  707                "
      ]
     },
     "execution_count": 44,
     "metadata": {},
     "output_type": "execute_result"
    }
   ],
   "source": [
    "\n",
    "# считаем количество пользователей по группам и дням\n",
    "\n",
    "visitors_a_daily = visitors[visitors['group'] == 'A'][['date', 'visitors']]\n",
    "visitors_a_daily.columns = ['date', 'visitors_per_date_a']\n",
    "\n",
    "visitors_b_daily = visitors[visitors['group'] == 'B'][['date', 'visitors']]\n",
    "visitors_b_daily.columns = ['date', 'visitors_per_date_b']\n",
    "\n",
    "data = (\n",
    "    visitors_a_daily.merge(\n",
    "        visitors_b_daily, left_on='date', right_on='date', how='left'))\n",
    "\n",
    "data.head()"
   ]
  },
  {
   "cell_type": "code",
   "execution_count": 45,
   "metadata": {},
   "outputs": [],
   "source": [
    "# создаем переменные orders_by_users_a и orders_by_users_b со столбцами ['user_id', 'orders'], \n",
    "# где для пользователей, совершивших хотя бы 1 заказ, будет указано число заказов\n",
    "\n",
    "orders_by_users_a = (\n",
    "    orders[orders['group'] == 'A']\n",
    "    .groupby('visitorid', as_index=False)\n",
    "    .agg({'transactionid': pd.Series.nunique})\n",
    ")\n",
    "orders_by_users_a.columns = ['user_id', 'orders']\n",
    "\n",
    "orders_by_users_b = (\n",
    "    orders[orders['group'] == 'B']\n",
    "    .groupby('visitorid', as_index=False)\n",
    "    .agg({'transactionid': pd.Series.nunique})\n",
    ")\n",
    "orders_by_users_b.columns = ['user_id', 'orders']"
   ]
  },
  {
   "cell_type": "code",
   "execution_count": 46,
   "metadata": {},
   "outputs": [],
   "source": [
    "# создаем переменные sample_a и sample_b, в которых пользователям с заказами будет соответствовать число заказов пользователя. А пользователям без заказов — нули.\n",
    "\n",
    "sample_a = pd.concat([orders_by_users_a['orders'],pd.Series(0, index=np.arange(data['visitors_per_date_a'].sum() - len(orders_by_users_a['orders'])), name='orders')],axis=0)\n",
    "sample_b = pd.concat([orders_by_users_b['orders'],pd.Series(0, index=np.arange(data['visitors_per_date_b'].sum() - len(orders_by_users_b['orders'])), name='orders')],axis=0)\n",
    "     "
   ]
  },
  {
   "cell_type": "code",
   "execution_count": 47,
   "metadata": {},
   "outputs": [
    {
     "name": "stdout",
     "output_type": "stream",
     "text": [
      "P-value: 0.01679\n",
      "Прирост 0.138\n"
     ]
    }
   ],
   "source": [
    "# считаем p-value для сравнения среднего между группами\n",
    "\n",
    "print('P-value:',\"{0:.5f}\".format(st.mannwhitneyu(sample_a, sample_b)[1]))\n",
    "\n",
    "# считаем относительное различие в среднем между группами\n",
    "\n",
    "print('Прирост',\"{0:.3f}\".format(sample_b.mean() / sample_a.mean() - 1))"
   ]
  },
  {
   "cell_type": "markdown",
   "metadata": {},
   "source": [
    "Первое число — p-value = 0.01679 меньше 0.05. Значит, нулевую гипотезу о том, что статистически значимых различий в среднем количестве заказов на посетителя между группами по «сырым» данным нет, отвергаем. Прирост количество заказов группы В относительно А примерно 13%."
   ]
  },
  {
   "cell_type": "markdown",
   "metadata": {},
   "source": [
    "### Посчитайте статистическую значимость различий в среднем чеке заказа между группами по «сырым» данным. "
   ]
  },
  {
   "cell_type": "markdown",
   "metadata": {},
   "source": [
    "\n",
    "Посчитаем статистическую значимость различий в среднем чеке заказа между группами по «сырым» данным. \n",
    "\n",
    "Будем использовать непараметрический тест Уилкоксона-Манна-Уитни, т.к. распределение не нормальное.\n",
    "\n",
    "Выведим p-value для сравнения среднего между группами. Округлим p-value до 3 знаков после запятой.\n",
    "\n",
    "Вычислим и выведим для сравнения средних чеков между группами. Округлим до 3 знаков после запятой.\n",
    "\n",
    "Сформулируем гипотезы. Нулевая: различий в среднем чеке между группами нет. Альтернативная: различия в среднем чеке между группами есть."
   ]
  },
  {
   "cell_type": "code",
   "execution_count": 48,
   "metadata": {},
   "outputs": [
    {
     "name": "stdout",
     "output_type": "stream",
     "text": [
      "P-value: 0.729\n",
      "Прирост 0.259\n"
     ]
    }
   ],
   "source": [
    "print('P-value:','{0:.3f}'.format(st.mannwhitneyu(orders[orders['group']=='A']['revenue'], orders[orders['group']=='B']['revenue'])[1]))\n",
    "print('Прирост','{0:.3f}'.format(orders[orders['group']=='B']['revenue'].mean()/orders[orders['group']=='A']['revenue'].mean()-1))"
   ]
  },
  {
   "cell_type": "markdown",
   "metadata": {},
   "source": [
    "Не можем отвергнуть Нулевую гипотезу, т.к. вероятность получить такие же или более экстремальные различия случайно более 5%.\n",
    "\n",
    "Разница в среднем чеке между группами примерно 25% в пользу группы В."
   ]
  },
  {
   "cell_type": "markdown",
   "metadata": {},
   "source": [
    "### Посчитайте статистическую значимость различий в среднем количестве заказов на посетителя между группами по «очищенным» данным."
   ]
  },
  {
   "cell_type": "markdown",
   "metadata": {},
   "source": [
    "Посчитаем статистическую значимость различий в среднем количестве заказов на посетителя между группами по «очищенным» данным.\n",
    "\n",
    "Будем использовать непараметрический тест Уилкоксона-Манна-Уитни, т.к. распределение не нормальное.\n",
    "\n",
    "Примем за аномальных пользователей тех, кто совершил от 3 заказов или совершил заказ дороже 28 000 рублей. Так мы уберём 5% пользователей с наибольшим числом заказов и от 1% до 5% пользователей с дорогими заказами. Сделаем срезы пользователей с числом заказов больше 2 — users_with_many_orders и пользователей, совершивших заказы дороже 28 000 — users_with_expensive_orders. Объединим их в таблице abnormal_users. \n",
    "\n",
    "Узнаем, сколько всего аномальных пользователей атрибутом shape.\n",
    "\n",
    "Узнаем, как их действия повлияли на результаты теста. Посчитаем статистическую значимость различий в среднем количестве заказов между группами теста по очищенным данным. Подготовим выборки количества заказов по пользователям по группам теста.\n",
    "\n",
    "Сформулируем гипотезы. Нулевая: различий в среднем количестве заказов между группами нет. Альтернативная: различия в среднем между группами есть.\n",
    "\n",
    "Применим статистический критерий Манна-Уитни к полученным выборкам."
   ]
  },
  {
   "cell_type": "code",
   "execution_count": 49,
   "metadata": {},
   "outputs": [
    {
     "name": "stdout",
     "output_type": "stream",
     "text": [
      "1099    148427295\n",
      "18      199603092\n",
      "928     204675465\n",
      "23      237748145\n",
      "37      249864742\n",
      "dtype: int64\n",
      "74\n"
     ]
    }
   ],
   "source": [
    "# делаем срез аномальных покупок по пользователям\n",
    "\n",
    "users_with_many_orders = pd.concat(\n",
    "    [\n",
    "        orders_by_users_a[orders_by_users_a['orders'] > 2]['user_id'],\n",
    "        orders_by_users_b[orders_by_users_b['orders'] > 2]['user_id']\n",
    "    ],\n",
    "    axis=0\n",
    ")\n",
    "\n",
    "users_with_expensive_orders = orders[orders['revenue'] > 28000]['visitorid']\n",
    "\n",
    "abnormal_users = (\n",
    "    pd.concat([users_with_many_orders, users_with_expensive_orders], axis=0)\n",
    "    .drop_duplicates().sort_values()\n",
    ")\n",
    "\n",
    "print(abnormal_users.head(5))\n",
    "print(abnormal_users.shape[0])"
   ]
  },
  {
   "cell_type": "markdown",
   "metadata": {},
   "source": [
    "Всего 74 аномальных пользователей."
   ]
  },
  {
   "cell_type": "code",
   "execution_count": 50,
   "metadata": {},
   "outputs": [],
   "source": [
    "# отфильтровываем аномалии для группы А\n",
    "\n",
    "sample_a_filtered = pd.concat(\n",
    "    [\n",
    "        orders_by_users_a[\n",
    "            np.logical_not(orders_by_users_a['user_id'].isin(abnormal_users))\n",
    "        ]['orders'],\n",
    "     \n",
    "        pd.Series(\n",
    "            0, \n",
    "            index=np.arange(\n",
    "                data['visitors_per_date_a'].sum() - len(orders_by_users_a['orders'])\n",
    "            ),\n",
    "            name='orders',\n",
    "        )\n",
    "    ],\n",
    "    axis=0,\n",
    ")"
   ]
  },
  {
   "cell_type": "code",
   "execution_count": 51,
   "metadata": {},
   "outputs": [],
   "source": [
    "# отфильтровываем аномалии для группы В\n",
    "\n",
    "sample_b_filtered = pd.concat(\n",
    "    [\n",
    "        orders_by_users_b[\n",
    "            np.logical_not(orders_by_users_b['user_id'].isin(abnormal_users))\n",
    "        ]['orders'],\n",
    "     \n",
    "        pd.Series(\n",
    "            0, \n",
    "            index=np.arange(\n",
    "                data['visitors_per_date_b'].sum() - len(orders_by_users_b['orders'])\n",
    "            ),\n",
    "            name='orders',\n",
    "        )\n",
    "    ],\n",
    "    axis=0,\n",
    ")"
   ]
  },
  {
   "cell_type": "code",
   "execution_count": 52,
   "metadata": {},
   "outputs": [
    {
     "name": "stdout",
     "output_type": "stream",
     "text": [
      "P-value: 0.013\n",
      "Прирост 0.173\n"
     ]
    }
   ],
   "source": [
    "# Применим статистический критерий Манна-Уитни к полученным выборкам\n",
    "\n",
    "print('P-value:','{0:.3f}'.format(st.mannwhitneyu(sample_a_filtered, sample_b_filtered)[1]))\n",
    "print('Прирост','{0:.3f}'.format(sample_b_filtered.mean()/sample_a_filtered.mean()-1))"
   ]
  },
  {
   "cell_type": "markdown",
   "metadata": {},
   "source": [
    "Как и в случае с сырыми данными - отвергаем Нулевую гипотезу, стат. значимые различия есть, здесь это более выраженно, вероятность случайно получить такие или более экстремальные различия всего 1,3%\n",
    "\n",
    "Прирост количества заказов группы В относительно А оказался выше, чем в тесте с сырыми данными - примерно 17%"
   ]
  },
  {
   "cell_type": "markdown",
   "metadata": {},
   "source": [
    "### Посчитайте статистическую значимость различий в среднем чеке заказа между группами по «очищенным» данным."
   ]
  },
  {
   "cell_type": "markdown",
   "metadata": {},
   "source": [
    "Посчитаем статистическую значимость различий в среднем чеке заказа между группами по «очищенным» данным.\n",
    "\n",
    "Выведим p-value для сравнения средних чеков между очищенными группами. Округлим p-value до трёх знаков после запятой. Выведим относительный прирост среднего чека очищенной группы B, округлив до трёх знаков после запятой.\n",
    "\n",
    "Сформулируем гипотезы. Нулевая: различий в  среднем чеке между группами нет. Альтернативная: различия в среднем чеке между группами есть.\n",
    "\n",
    "Применим статистический критерий Манна-Уитни к полученным выборкам."
   ]
  },
  {
   "cell_type": "code",
   "execution_count": 53,
   "metadata": {},
   "outputs": [
    {
     "name": "stdout",
     "output_type": "stream",
     "text": [
      "P-value: 0.738\n",
      "Прирост: -0.020\n"
     ]
    }
   ],
   "source": [
    "# применяем тест Манна-Уитни к отфильтрованным данным\n",
    "\n",
    "print('P-value:',\n",
    "    '{0:.3f}'.format(\n",
    "        st.mannwhitneyu(\n",
    "            orders[\n",
    "                np.logical_and(\n",
    "                    orders['group'] == 'A',\n",
    "                    np.logical_not(orders['visitorid'].isin(abnormal_users)),\n",
    "                )\n",
    "            ]['revenue'],\n",
    "            orders[\n",
    "                np.logical_and(\n",
    "                    orders['group'] == 'B',\n",
    "                    np.logical_not(orders['visitorid'].isin(abnormal_users)),\n",
    "                )\n",
    "            ]['revenue'],\n",
    "        )[1]\n",
    "    )\n",
    ")\n",
    "\n",
    "print('Прирост:',\n",
    "    \"{0:.3f}\".format(\n",
    "        orders[\n",
    "            np.logical_and(\n",
    "                orders['group'] == 'B',\n",
    "                np.logical_not(orders['visitorid'].isin(abnormal_users)),\n",
    "            )\n",
    "        ]['revenue'].mean()\n",
    "        / orders[\n",
    "            np.logical_and(\n",
    "                orders['group'] == 'A',\n",
    "                np.logical_not(orders['visitorid'].isin(abnormal_users)),\n",
    "            )\n",
    "        ]['revenue'].mean()\n",
    "        - 1\n",
    "    )\n",
    ")"
   ]
  },
  {
   "cell_type": "markdown",
   "metadata": {},
   "source": [
    "Не можем отвергнуть Нулевую гипотезу, как и при тестировании сырых данных, статистически значимых различий нет.\n",
    "\n",
    "Разницы в среднем чеке между группами почти нет - 2% в пользу группы А."
   ]
  },
  {
   "cell_type": "markdown",
   "metadata": {},
   "source": [
    "### Примите решение по результатам теста и объясните его."
   ]
  },
  {
   "cell_type": "markdown",
   "metadata": {},
   "source": [
    "#### Вывод\n",
    "\n",
    "В процессе предобработки были изучены данные и преобразованы для дальнешего корректного анализа.\n",
    "\n",
    "При расчете были выявлены гипотезы с наибольшим приоритетом: \"запуск акции, дающей скидку на товар в день рождения\" и \"добавление формы подписки на основных страницах\".\n",
    "\n",
    "По результатам теста принимаем решение остановить тест и зафиксировать победу группы В.\n",
    "\n",
    "Обнаружены стат. значимые различия в количестве заказов  между группами, прирост консверсии в группе В относительно группы А составил около 17%.\n",
    "\n",
    "Стат. значимых различий в среднем чеке не обнаружено, прирост среднего чека группы В также незначительный и составляет 2% над группой А\n",
    "\n",
    "Это говорит о том, что, несмотря на то, что средний чек покупки не изменился, общее количество покупок выросло, следовательно выросла целевая метрика - выручка."
   ]
  },
  {
   "cell_type": "code",
   "execution_count": null,
   "metadata": {},
   "outputs": [],
   "source": []
  }
 ],
 "metadata": {
  "ExecuteTimeLog": [
   {
    "duration": 1463,
    "start_time": "2023-01-24T11:34:16.123Z"
   },
   {
    "duration": 169,
    "start_time": "2023-01-24T11:34:31.444Z"
   },
   {
    "duration": 35,
    "start_time": "2023-01-24T11:34:37.209Z"
   },
   {
    "duration": 19,
    "start_time": "2023-01-24T11:34:47.052Z"
   },
   {
    "duration": 20,
    "start_time": "2023-01-24T11:34:55.215Z"
   },
   {
    "duration": 116,
    "start_time": "2023-01-24T11:37:20.647Z"
   },
   {
    "duration": 0,
    "start_time": "2023-01-24T11:37:20.766Z"
   },
   {
    "duration": 0,
    "start_time": "2023-01-24T11:37:20.767Z"
   },
   {
    "duration": 0,
    "start_time": "2023-01-24T11:37:20.768Z"
   },
   {
    "duration": 0,
    "start_time": "2023-01-24T11:37:20.769Z"
   },
   {
    "duration": 0,
    "start_time": "2023-01-24T11:37:20.770Z"
   },
   {
    "duration": 0,
    "start_time": "2023-01-24T11:37:20.772Z"
   },
   {
    "duration": 0,
    "start_time": "2023-01-24T11:37:20.773Z"
   },
   {
    "duration": 0,
    "start_time": "2023-01-24T11:37:20.774Z"
   },
   {
    "duration": 0,
    "start_time": "2023-01-24T11:37:20.776Z"
   },
   {
    "duration": 0,
    "start_time": "2023-01-24T11:37:20.777Z"
   },
   {
    "duration": 0,
    "start_time": "2023-01-24T11:37:20.778Z"
   },
   {
    "duration": 0,
    "start_time": "2023-01-24T11:37:20.779Z"
   },
   {
    "duration": 0,
    "start_time": "2023-01-24T11:37:20.780Z"
   },
   {
    "duration": 0,
    "start_time": "2023-01-24T11:37:20.782Z"
   },
   {
    "duration": 0,
    "start_time": "2023-01-24T11:37:20.783Z"
   },
   {
    "duration": 62,
    "start_time": "2023-01-24T11:37:20.799Z"
   },
   {
    "duration": 0,
    "start_time": "2023-01-24T11:37:20.863Z"
   },
   {
    "duration": 0,
    "start_time": "2023-01-24T11:37:20.864Z"
   },
   {
    "duration": 0,
    "start_time": "2023-01-24T11:37:20.866Z"
   },
   {
    "duration": 0,
    "start_time": "2023-01-24T11:37:20.867Z"
   },
   {
    "duration": 0,
    "start_time": "2023-01-24T11:37:20.868Z"
   },
   {
    "duration": 0,
    "start_time": "2023-01-24T11:37:20.869Z"
   },
   {
    "duration": 0,
    "start_time": "2023-01-24T11:37:20.870Z"
   },
   {
    "duration": 0,
    "start_time": "2023-01-24T11:37:20.871Z"
   },
   {
    "duration": 0,
    "start_time": "2023-01-24T11:37:20.872Z"
   },
   {
    "duration": 14,
    "start_time": "2023-01-24T11:37:20.916Z"
   },
   {
    "duration": 1224,
    "start_time": "2023-01-24T12:49:28.993Z"
   },
   {
    "duration": 61,
    "start_time": "2023-01-24T12:49:30.220Z"
   },
   {
    "duration": 5,
    "start_time": "2023-01-24T12:50:16.477Z"
   },
   {
    "duration": 1196,
    "start_time": "2023-01-24T12:50:25.832Z"
   },
   {
    "duration": 71,
    "start_time": "2023-01-24T12:50:27.029Z"
   },
   {
    "duration": 13,
    "start_time": "2023-01-24T12:50:43.801Z"
   },
   {
    "duration": 8,
    "start_time": "2023-01-24T12:50:48.731Z"
   },
   {
    "duration": 8,
    "start_time": "2023-01-24T12:50:55.812Z"
   },
   {
    "duration": 12,
    "start_time": "2023-01-24T12:51:02.381Z"
   },
   {
    "duration": 7,
    "start_time": "2023-01-24T12:51:08.414Z"
   },
   {
    "duration": 8,
    "start_time": "2023-01-24T12:51:14.049Z"
   },
   {
    "duration": 12,
    "start_time": "2023-01-24T12:51:19.788Z"
   },
   {
    "duration": 6,
    "start_time": "2023-01-24T12:51:25.268Z"
   },
   {
    "duration": 6,
    "start_time": "2023-01-24T12:51:34.331Z"
   },
   {
    "duration": 7,
    "start_time": "2023-01-24T12:51:40.580Z"
   },
   {
    "duration": 14,
    "start_time": "2023-01-24T12:51:47.077Z"
   },
   {
    "duration": 452,
    "start_time": "2023-01-24T12:51:53.777Z"
   },
   {
    "duration": 12,
    "start_time": "2023-01-24T12:52:05.182Z"
   },
   {
    "duration": 317,
    "start_time": "2023-01-24T12:52:11.667Z"
   },
   {
    "duration": 31,
    "start_time": "2023-01-24T12:52:20.865Z"
   },
   {
    "duration": 22,
    "start_time": "2023-01-24T12:52:27.596Z"
   },
   {
    "duration": 18,
    "start_time": "2023-01-24T12:52:39.217Z"
   },
   {
    "duration": 390,
    "start_time": "2023-01-24T12:52:45.857Z"
   },
   {
    "duration": 347,
    "start_time": "2023-01-24T12:52:56.585Z"
   },
   {
    "duration": 428,
    "start_time": "2023-01-24T12:53:05.268Z"
   },
   {
    "duration": 316,
    "start_time": "2023-01-24T12:53:13.355Z"
   },
   {
    "duration": 443,
    "start_time": "2023-01-24T12:53:21.596Z"
   },
   {
    "duration": 15,
    "start_time": "2023-01-24T12:53:29.304Z"
   },
   {
    "duration": 248,
    "start_time": "2023-01-24T12:53:35.650Z"
   },
   {
    "duration": 9,
    "start_time": "2023-01-24T12:53:43.702Z"
   },
   {
    "duration": 4,
    "start_time": "2023-01-24T12:53:49.880Z"
   },
   {
    "duration": 6,
    "start_time": "2023-01-24T12:53:54.783Z"
   },
   {
    "duration": 5,
    "start_time": "2023-01-24T12:54:02.564Z"
   },
   {
    "duration": 189,
    "start_time": "2023-01-24T12:54:09.751Z"
   },
   {
    "duration": 7,
    "start_time": "2023-01-24T12:54:19.302Z"
   },
   {
    "duration": 5,
    "start_time": "2023-01-24T12:54:26.705Z"
   },
   {
    "duration": 4,
    "start_time": "2023-01-24T12:54:33.612Z"
   },
   {
    "duration": 16,
    "start_time": "2023-01-24T12:54:42.937Z"
   },
   {
    "duration": 7,
    "start_time": "2023-01-24T12:54:51.739Z"
   },
   {
    "duration": 10,
    "start_time": "2023-01-24T12:54:59.598Z"
   },
   {
    "duration": 6,
    "start_time": "2023-01-24T12:55:06.475Z"
   },
   {
    "duration": 6,
    "start_time": "2023-01-24T12:55:26.706Z"
   },
   {
    "duration": 6,
    "start_time": "2023-01-24T12:55:27.057Z"
   },
   {
    "duration": 10,
    "start_time": "2023-01-24T12:55:38.824Z"
   },
   {
    "duration": 7,
    "start_time": "2023-01-24T12:55:46.756Z"
   },
   {
    "duration": 12,
    "start_time": "2023-01-24T12:55:57.670Z"
   },
   {
    "duration": 1157,
    "start_time": "2023-01-24T13:20:44.958Z"
   },
   {
    "duration": 66,
    "start_time": "2023-01-24T13:20:46.117Z"
   },
   {
    "duration": 25,
    "start_time": "2023-01-24T13:20:46.184Z"
   },
   {
    "duration": 18,
    "start_time": "2023-01-24T13:20:46.211Z"
   },
   {
    "duration": 23,
    "start_time": "2023-01-24T13:20:46.231Z"
   },
   {
    "duration": 10,
    "start_time": "2023-01-24T13:20:46.255Z"
   },
   {
    "duration": 10,
    "start_time": "2023-01-24T13:20:46.267Z"
   },
   {
    "duration": 16,
    "start_time": "2023-01-24T13:20:46.304Z"
   },
   {
    "duration": 19,
    "start_time": "2023-01-24T13:20:46.322Z"
   },
   {
    "duration": 14,
    "start_time": "2023-01-24T13:20:46.344Z"
   },
   {
    "duration": 5,
    "start_time": "2023-01-24T13:20:46.360Z"
   },
   {
    "duration": 25,
    "start_time": "2023-01-24T13:20:46.367Z"
   },
   {
    "duration": 8,
    "start_time": "2023-01-24T13:20:46.402Z"
   },
   {
    "duration": 15,
    "start_time": "2023-01-24T13:20:46.412Z"
   },
   {
    "duration": 16,
    "start_time": "2023-01-24T13:20:46.429Z"
   },
   {
    "duration": 19,
    "start_time": "2023-01-24T13:20:46.448Z"
   },
   {
    "duration": 37,
    "start_time": "2023-01-24T13:20:46.469Z"
   },
   {
    "duration": 12,
    "start_time": "2023-01-24T13:20:46.508Z"
   },
   {
    "duration": 13,
    "start_time": "2023-01-24T13:20:46.522Z"
   },
   {
    "duration": 404,
    "start_time": "2023-01-24T13:20:46.537Z"
   },
   {
    "duration": 13,
    "start_time": "2023-01-24T13:20:46.942Z"
   },
   {
    "duration": 339,
    "start_time": "2023-01-24T13:20:46.956Z"
   },
   {
    "duration": 14,
    "start_time": "2023-01-24T13:20:47.297Z"
   },
   {
    "duration": 21,
    "start_time": "2023-01-24T13:20:47.313Z"
   },
   {
    "duration": 31,
    "start_time": "2023-01-24T13:20:47.336Z"
   },
   {
    "duration": 18,
    "start_time": "2023-01-24T13:20:47.369Z"
   },
   {
    "duration": 21,
    "start_time": "2023-01-24T13:20:47.389Z"
   },
   {
    "duration": 375,
    "start_time": "2023-01-24T13:20:47.413Z"
   },
   {
    "duration": 1185,
    "start_time": "2023-01-24T13:25:32.351Z"
   },
   {
    "duration": 64,
    "start_time": "2023-01-24T13:25:33.538Z"
   },
   {
    "duration": 21,
    "start_time": "2023-01-24T13:25:33.604Z"
   },
   {
    "duration": 30,
    "start_time": "2023-01-24T13:25:33.627Z"
   },
   {
    "duration": 25,
    "start_time": "2023-01-24T13:25:33.658Z"
   },
   {
    "duration": 32,
    "start_time": "2023-01-24T13:25:33.685Z"
   },
   {
    "duration": 28,
    "start_time": "2023-01-24T13:25:33.718Z"
   },
   {
    "duration": 37,
    "start_time": "2023-01-24T13:25:33.748Z"
   },
   {
    "duration": 25,
    "start_time": "2023-01-24T13:25:33.787Z"
   },
   {
    "duration": 36,
    "start_time": "2023-01-24T13:25:33.814Z"
   },
   {
    "duration": 16,
    "start_time": "2023-01-24T13:25:33.852Z"
   },
   {
    "duration": 47,
    "start_time": "2023-01-24T13:25:33.870Z"
   },
   {
    "duration": 23,
    "start_time": "2023-01-24T13:25:33.918Z"
   },
   {
    "duration": 36,
    "start_time": "2023-01-24T13:25:33.942Z"
   },
   {
    "duration": 27,
    "start_time": "2023-01-24T13:25:33.980Z"
   },
   {
    "duration": 39,
    "start_time": "2023-01-24T13:25:34.009Z"
   },
   {
    "duration": 25,
    "start_time": "2023-01-24T13:25:34.051Z"
   },
   {
    "duration": 16,
    "start_time": "2023-01-24T13:25:34.078Z"
   },
   {
    "duration": 17,
    "start_time": "2023-01-24T13:25:34.096Z"
   },
   {
    "duration": 394,
    "start_time": "2023-01-24T13:25:34.115Z"
   },
   {
    "duration": 12,
    "start_time": "2023-01-24T13:25:34.510Z"
   },
   {
    "duration": 309,
    "start_time": "2023-01-24T13:25:34.523Z"
   },
   {
    "duration": 10,
    "start_time": "2023-01-24T13:25:34.834Z"
   },
   {
    "duration": 16,
    "start_time": "2023-01-24T13:25:34.845Z"
   },
   {
    "duration": 37,
    "start_time": "2023-01-24T13:25:34.863Z"
   },
   {
    "duration": 15,
    "start_time": "2023-01-24T13:25:34.902Z"
   },
   {
    "duration": 30,
    "start_time": "2023-01-24T13:25:34.918Z"
   },
   {
    "duration": 358,
    "start_time": "2023-01-24T13:25:34.951Z"
   },
   {
    "duration": 288,
    "start_time": "2023-01-24T13:29:14.655Z"
   },
   {
    "duration": 377,
    "start_time": "2023-01-24T13:30:52.450Z"
   },
   {
    "duration": 339,
    "start_time": "2023-01-24T13:34:24.380Z"
   },
   {
    "duration": 239,
    "start_time": "2023-01-24T13:41:11.951Z"
   },
   {
    "duration": 528,
    "start_time": "2023-01-24T13:41:24.495Z"
   },
   {
    "duration": 12,
    "start_time": "2023-01-24T13:45:47.278Z"
   },
   {
    "duration": 170,
    "start_time": "2023-01-24T13:45:57.713Z"
   },
   {
    "duration": 7,
    "start_time": "2023-01-24T13:47:16.430Z"
   },
   {
    "duration": 5,
    "start_time": "2023-01-24T13:47:29.099Z"
   },
   {
    "duration": 6,
    "start_time": "2023-01-24T13:47:36.222Z"
   },
   {
    "duration": 6,
    "start_time": "2023-01-24T13:47:45.036Z"
   },
   {
    "duration": 10,
    "start_time": "2023-01-24T13:49:59.705Z"
   },
   {
    "duration": 10,
    "start_time": "2023-01-24T13:50:06.196Z"
   },
   {
    "duration": 9,
    "start_time": "2023-01-24T13:50:30.034Z"
   },
   {
    "duration": 6,
    "start_time": "2023-01-24T13:50:40.100Z"
   },
   {
    "duration": 176,
    "start_time": "2023-01-24T13:51:59.507Z"
   },
   {
    "duration": 180,
    "start_time": "2023-01-24T13:52:08.630Z"
   },
   {
    "duration": 185,
    "start_time": "2023-01-24T13:55:41.112Z"
   },
   {
    "duration": 188,
    "start_time": "2023-01-24T13:56:05.604Z"
   },
   {
    "duration": 171,
    "start_time": "2023-01-24T13:56:14.485Z"
   },
   {
    "duration": 5,
    "start_time": "2023-01-24T13:58:09.124Z"
   },
   {
    "duration": 16,
    "start_time": "2023-01-24T14:03:00.903Z"
   },
   {
    "duration": 8,
    "start_time": "2023-01-24T14:03:12.945Z"
   },
   {
    "duration": 10,
    "start_time": "2023-01-24T14:08:13.732Z"
   },
   {
    "duration": 12,
    "start_time": "2023-01-24T14:09:14.150Z"
   },
   {
    "duration": 10,
    "start_time": "2023-01-24T14:11:05.824Z"
   },
   {
    "duration": 12,
    "start_time": "2023-01-24T14:11:18.432Z"
   },
   {
    "duration": 8,
    "start_time": "2023-01-24T14:11:28.634Z"
   },
   {
    "duration": 12,
    "start_time": "2023-01-24T14:12:52.578Z"
   },
   {
    "duration": 6,
    "start_time": "2023-01-24T14:13:09.440Z"
   },
   {
    "duration": 5,
    "start_time": "2023-01-24T14:13:16.640Z"
   },
   {
    "duration": 37,
    "start_time": "2023-01-24T14:14:19.833Z"
   },
   {
    "duration": 1162,
    "start_time": "2023-01-24T14:16:04.776Z"
   },
   {
    "duration": 64,
    "start_time": "2023-01-24T14:16:05.941Z"
   },
   {
    "duration": 21,
    "start_time": "2023-01-24T14:16:06.007Z"
   },
   {
    "duration": 23,
    "start_time": "2023-01-24T14:16:06.030Z"
   },
   {
    "duration": 41,
    "start_time": "2023-01-24T14:16:06.055Z"
   },
   {
    "duration": 45,
    "start_time": "2023-01-24T14:16:06.097Z"
   },
   {
    "duration": 37,
    "start_time": "2023-01-24T14:16:06.144Z"
   },
   {
    "duration": 37,
    "start_time": "2023-01-24T14:16:06.183Z"
   },
   {
    "duration": 31,
    "start_time": "2023-01-24T14:16:06.222Z"
   },
   {
    "duration": 25,
    "start_time": "2023-01-24T14:16:06.256Z"
   },
   {
    "duration": 24,
    "start_time": "2023-01-24T14:16:06.283Z"
   },
   {
    "duration": 36,
    "start_time": "2023-01-24T14:16:06.308Z"
   },
   {
    "duration": 21,
    "start_time": "2023-01-24T14:16:06.346Z"
   },
   {
    "duration": 37,
    "start_time": "2023-01-24T14:16:06.369Z"
   },
   {
    "duration": 43,
    "start_time": "2023-01-24T14:16:06.407Z"
   },
   {
    "duration": 43,
    "start_time": "2023-01-24T14:16:06.452Z"
   },
   {
    "duration": 29,
    "start_time": "2023-01-24T14:16:06.497Z"
   },
   {
    "duration": 32,
    "start_time": "2023-01-24T14:16:06.527Z"
   },
   {
    "duration": 36,
    "start_time": "2023-01-24T14:16:06.560Z"
   },
   {
    "duration": 391,
    "start_time": "2023-01-24T14:16:06.598Z"
   },
   {
    "duration": 12,
    "start_time": "2023-01-24T14:16:06.990Z"
   },
   {
    "duration": 334,
    "start_time": "2023-01-24T14:16:07.003Z"
   },
   {
    "duration": 11,
    "start_time": "2023-01-24T14:16:07.338Z"
   },
   {
    "duration": 39,
    "start_time": "2023-01-24T14:16:07.350Z"
   },
   {
    "duration": 31,
    "start_time": "2023-01-24T14:16:07.390Z"
   },
   {
    "duration": 35,
    "start_time": "2023-01-24T14:16:07.423Z"
   },
   {
    "duration": 27,
    "start_time": "2023-01-24T14:16:07.460Z"
   },
   {
    "duration": 397,
    "start_time": "2023-01-24T14:16:07.491Z"
   },
   {
    "duration": 312,
    "start_time": "2023-01-24T14:16:07.889Z"
   },
   {
    "duration": 412,
    "start_time": "2023-01-24T14:16:08.203Z"
   },
   {
    "duration": 332,
    "start_time": "2023-01-24T14:16:08.617Z"
   },
   {
    "duration": 387,
    "start_time": "2023-01-24T14:16:08.951Z"
   },
   {
    "duration": 11,
    "start_time": "2023-01-24T14:16:09.339Z"
   },
   {
    "duration": 265,
    "start_time": "2023-01-24T14:16:09.352Z"
   },
   {
    "duration": 5,
    "start_time": "2023-01-24T14:16:09.618Z"
   },
   {
    "duration": 203,
    "start_time": "2023-01-24T14:16:09.624Z"
   },
   {
    "duration": 5,
    "start_time": "2023-01-24T14:16:09.828Z"
   },
   {
    "duration": 44,
    "start_time": "2023-01-24T14:16:09.835Z"
   },
   {
    "duration": 29,
    "start_time": "2023-01-24T14:16:09.880Z"
   },
   {
    "duration": 38,
    "start_time": "2023-01-24T14:16:09.911Z"
   },
   {
    "duration": 124,
    "start_time": "2023-01-24T14:16:09.951Z"
   },
   {
    "duration": 0,
    "start_time": "2023-01-24T14:16:10.077Z"
   },
   {
    "duration": 76,
    "start_time": "2023-01-24T14:17:23.537Z"
   },
   {
    "duration": 17,
    "start_time": "2023-01-24T14:17:34.102Z"
   },
   {
    "duration": 9,
    "start_time": "2023-01-24T14:18:15.877Z"
   },
   {
    "duration": 11,
    "start_time": "2023-01-24T14:18:36.435Z"
   },
   {
    "duration": 8,
    "start_time": "2023-01-24T14:18:44.124Z"
   },
   {
    "duration": 6,
    "start_time": "2023-01-24T14:18:51.928Z"
   },
   {
    "duration": 41,
    "start_time": "2023-01-24T14:21:17.636Z"
   },
   {
    "duration": 304,
    "start_time": "2023-01-24T14:21:25.731Z"
   },
   {
    "duration": 300,
    "start_time": "2023-01-24T14:21:34.923Z"
   },
   {
    "duration": 305,
    "start_time": "2023-01-24T14:21:48.555Z"
   },
   {
    "duration": 1246,
    "start_time": "2023-01-24T14:28:22.077Z"
   },
   {
    "duration": 60,
    "start_time": "2023-01-24T14:28:23.325Z"
   },
   {
    "duration": 20,
    "start_time": "2023-01-24T14:28:23.387Z"
   },
   {
    "duration": 43,
    "start_time": "2023-01-24T14:28:23.409Z"
   },
   {
    "duration": 58,
    "start_time": "2023-01-24T14:28:23.454Z"
   },
   {
    "duration": 35,
    "start_time": "2023-01-24T14:28:23.514Z"
   },
   {
    "duration": 21,
    "start_time": "2023-01-24T14:28:23.551Z"
   },
   {
    "duration": 58,
    "start_time": "2023-01-24T14:28:23.573Z"
   },
   {
    "duration": 16,
    "start_time": "2023-01-24T14:28:23.632Z"
   },
   {
    "duration": 28,
    "start_time": "2023-01-24T14:28:23.651Z"
   },
   {
    "duration": 32,
    "start_time": "2023-01-24T14:28:23.681Z"
   },
   {
    "duration": 50,
    "start_time": "2023-01-24T14:28:23.716Z"
   },
   {
    "duration": 45,
    "start_time": "2023-01-24T14:28:23.767Z"
   },
   {
    "duration": 44,
    "start_time": "2023-01-24T14:28:23.813Z"
   },
   {
    "duration": 44,
    "start_time": "2023-01-24T14:28:23.859Z"
   },
   {
    "duration": 48,
    "start_time": "2023-01-24T14:28:23.905Z"
   },
   {
    "duration": 56,
    "start_time": "2023-01-24T14:28:23.955Z"
   },
   {
    "duration": 32,
    "start_time": "2023-01-24T14:28:24.013Z"
   },
   {
    "duration": 87,
    "start_time": "2023-01-24T14:28:24.046Z"
   },
   {
    "duration": 441,
    "start_time": "2023-01-24T14:28:24.135Z"
   },
   {
    "duration": 12,
    "start_time": "2023-01-24T14:28:24.578Z"
   },
   {
    "duration": 330,
    "start_time": "2023-01-24T14:28:24.592Z"
   },
   {
    "duration": 10,
    "start_time": "2023-01-24T14:28:24.924Z"
   },
   {
    "duration": 29,
    "start_time": "2023-01-24T14:28:24.936Z"
   },
   {
    "duration": 26,
    "start_time": "2023-01-24T14:28:24.968Z"
   },
   {
    "duration": 36,
    "start_time": "2023-01-24T14:28:24.995Z"
   },
   {
    "duration": 40,
    "start_time": "2023-01-24T14:28:25.032Z"
   },
   {
    "duration": 386,
    "start_time": "2023-01-24T14:28:25.075Z"
   },
   {
    "duration": 323,
    "start_time": "2023-01-24T14:28:25.463Z"
   },
   {
    "duration": 424,
    "start_time": "2023-01-24T14:28:25.787Z"
   },
   {
    "duration": 329,
    "start_time": "2023-01-24T14:28:26.213Z"
   },
   {
    "duration": 374,
    "start_time": "2023-01-24T14:28:26.544Z"
   },
   {
    "duration": 11,
    "start_time": "2023-01-24T14:28:26.920Z"
   },
   {
    "duration": 263,
    "start_time": "2023-01-24T14:28:26.933Z"
   },
   {
    "duration": 7,
    "start_time": "2023-01-24T14:28:27.199Z"
   },
   {
    "duration": 211,
    "start_time": "2023-01-24T14:28:27.208Z"
   },
   {
    "duration": 6,
    "start_time": "2023-01-24T14:28:27.421Z"
   },
   {
    "duration": 52,
    "start_time": "2023-01-24T14:28:27.428Z"
   },
   {
    "duration": 14,
    "start_time": "2023-01-24T14:28:27.482Z"
   },
   {
    "duration": 15,
    "start_time": "2023-01-24T14:28:27.498Z"
   },
   {
    "duration": 109,
    "start_time": "2023-01-24T14:28:27.516Z"
   },
   {
    "duration": 0,
    "start_time": "2023-01-24T14:28:27.626Z"
   },
   {
    "duration": 0,
    "start_time": "2023-01-24T14:28:27.627Z"
   },
   {
    "duration": 0,
    "start_time": "2023-01-24T14:28:27.629Z"
   },
   {
    "duration": 0,
    "start_time": "2023-01-24T14:28:27.630Z"
   },
   {
    "duration": 0,
    "start_time": "2023-01-24T14:28:27.632Z"
   },
   {
    "duration": 0,
    "start_time": "2023-01-24T14:28:27.633Z"
   },
   {
    "duration": 0,
    "start_time": "2023-01-24T14:28:27.634Z"
   },
   {
    "duration": 0,
    "start_time": "2023-01-24T14:28:27.635Z"
   },
   {
    "duration": 1238,
    "start_time": "2023-01-24T14:29:09.079Z"
   },
   {
    "duration": 66,
    "start_time": "2023-01-24T14:29:10.319Z"
   },
   {
    "duration": 22,
    "start_time": "2023-01-24T14:29:10.386Z"
   },
   {
    "duration": 27,
    "start_time": "2023-01-24T14:29:10.411Z"
   },
   {
    "duration": 17,
    "start_time": "2023-01-24T14:29:10.440Z"
   },
   {
    "duration": 15,
    "start_time": "2023-01-24T14:29:10.459Z"
   },
   {
    "duration": 13,
    "start_time": "2023-01-24T14:29:10.476Z"
   },
   {
    "duration": 13,
    "start_time": "2023-01-24T14:29:10.504Z"
   },
   {
    "duration": 32,
    "start_time": "2023-01-24T14:29:10.518Z"
   },
   {
    "duration": 26,
    "start_time": "2023-01-24T14:29:10.552Z"
   },
   {
    "duration": 26,
    "start_time": "2023-01-24T14:29:10.580Z"
   },
   {
    "duration": 37,
    "start_time": "2023-01-24T14:29:10.608Z"
   },
   {
    "duration": 19,
    "start_time": "2023-01-24T14:29:10.647Z"
   },
   {
    "duration": 15,
    "start_time": "2023-01-24T14:29:10.668Z"
   },
   {
    "duration": 22,
    "start_time": "2023-01-24T14:29:10.684Z"
   },
   {
    "duration": 36,
    "start_time": "2023-01-24T14:29:10.707Z"
   },
   {
    "duration": 17,
    "start_time": "2023-01-24T14:29:10.744Z"
   },
   {
    "duration": 30,
    "start_time": "2023-01-24T14:29:10.762Z"
   },
   {
    "duration": 23,
    "start_time": "2023-01-24T14:29:10.793Z"
   },
   {
    "duration": 384,
    "start_time": "2023-01-24T14:29:10.817Z"
   },
   {
    "duration": 14,
    "start_time": "2023-01-24T14:29:11.203Z"
   },
   {
    "duration": 334,
    "start_time": "2023-01-24T14:29:11.219Z"
   },
   {
    "duration": 11,
    "start_time": "2023-01-24T14:29:11.555Z"
   },
   {
    "duration": 32,
    "start_time": "2023-01-24T14:29:11.569Z"
   },
   {
    "duration": 42,
    "start_time": "2023-01-24T14:29:11.603Z"
   },
   {
    "duration": 17,
    "start_time": "2023-01-24T14:29:11.647Z"
   },
   {
    "duration": 28,
    "start_time": "2023-01-24T14:29:11.666Z"
   },
   {
    "duration": 417,
    "start_time": "2023-01-24T14:29:11.698Z"
   },
   {
    "duration": 314,
    "start_time": "2023-01-24T14:29:12.117Z"
   },
   {
    "duration": 387,
    "start_time": "2023-01-24T14:29:12.433Z"
   },
   {
    "duration": 350,
    "start_time": "2023-01-24T14:29:12.822Z"
   },
   {
    "duration": 432,
    "start_time": "2023-01-24T14:29:13.174Z"
   },
   {
    "duration": 11,
    "start_time": "2023-01-24T14:29:13.608Z"
   },
   {
    "duration": 265,
    "start_time": "2023-01-24T14:29:13.621Z"
   },
   {
    "duration": 5,
    "start_time": "2023-01-24T14:29:13.889Z"
   },
   {
    "duration": 191,
    "start_time": "2023-01-24T14:29:13.903Z"
   },
   {
    "duration": 10,
    "start_time": "2023-01-24T14:29:14.096Z"
   },
   {
    "duration": 42,
    "start_time": "2023-01-24T14:29:14.108Z"
   },
   {
    "duration": 18,
    "start_time": "2023-01-24T14:29:14.152Z"
   },
   {
    "duration": 25,
    "start_time": "2023-01-24T14:29:14.173Z"
   },
   {
    "duration": 128,
    "start_time": "2023-01-24T14:29:14.201Z"
   },
   {
    "duration": 0,
    "start_time": "2023-01-24T14:29:14.331Z"
   },
   {
    "duration": 0,
    "start_time": "2023-01-24T14:29:14.333Z"
   },
   {
    "duration": 0,
    "start_time": "2023-01-24T14:29:14.334Z"
   },
   {
    "duration": 0,
    "start_time": "2023-01-24T14:29:14.336Z"
   },
   {
    "duration": 0,
    "start_time": "2023-01-24T14:29:14.337Z"
   },
   {
    "duration": 0,
    "start_time": "2023-01-24T14:29:14.339Z"
   },
   {
    "duration": 0,
    "start_time": "2023-01-24T14:29:14.341Z"
   },
   {
    "duration": 0,
    "start_time": "2023-01-24T14:29:14.342Z"
   },
   {
    "duration": 97,
    "start_time": "2023-01-24T14:31:04.273Z"
   },
   {
    "duration": 13,
    "start_time": "2023-01-24T14:31:15.221Z"
   },
   {
    "duration": 11,
    "start_time": "2023-01-24T14:31:35.017Z"
   },
   {
    "duration": 10,
    "start_time": "2023-01-24T14:31:58.450Z"
   },
   {
    "duration": 5,
    "start_time": "2023-01-24T14:33:27.119Z"
   },
   {
    "duration": 4,
    "start_time": "2023-01-24T14:33:28.507Z"
   },
   {
    "duration": 1358,
    "start_time": "2023-01-24T14:35:23.864Z"
   },
   {
    "duration": 64,
    "start_time": "2023-01-24T14:35:25.224Z"
   },
   {
    "duration": 23,
    "start_time": "2023-01-24T14:35:25.289Z"
   },
   {
    "duration": 20,
    "start_time": "2023-01-24T14:35:25.381Z"
   },
   {
    "duration": 16,
    "start_time": "2023-01-24T14:35:26.264Z"
   },
   {
    "duration": 8,
    "start_time": "2023-01-24T14:35:26.591Z"
   },
   {
    "duration": 8,
    "start_time": "2023-01-24T14:35:27.305Z"
   },
   {
    "duration": 7,
    "start_time": "2023-01-24T14:35:27.584Z"
   },
   {
    "duration": 6,
    "start_time": "2023-01-24T14:35:28.201Z"
   },
   {
    "duration": 6,
    "start_time": "2023-01-24T14:35:28.889Z"
   },
   {
    "duration": 5,
    "start_time": "2023-01-24T14:35:29.320Z"
   },
   {
    "duration": 20,
    "start_time": "2023-01-24T14:35:29.720Z"
   },
   {
    "duration": 7,
    "start_time": "2023-01-24T14:35:30.108Z"
   },
   {
    "duration": 10,
    "start_time": "2023-01-24T14:35:30.462Z"
   },
   {
    "duration": 11,
    "start_time": "2023-01-24T14:35:31.304Z"
   },
   {
    "duration": 18,
    "start_time": "2023-01-24T14:35:31.631Z"
   },
   {
    "duration": 8,
    "start_time": "2023-01-24T14:35:32.015Z"
   },
   {
    "duration": 11,
    "start_time": "2023-01-24T14:35:32.723Z"
   },
   {
    "duration": 11,
    "start_time": "2023-01-24T14:35:34.978Z"
   },
   {
    "duration": 365,
    "start_time": "2023-01-24T14:35:35.316Z"
   },
   {
    "duration": 14,
    "start_time": "2023-01-24T14:35:37.213Z"
   },
   {
    "duration": 308,
    "start_time": "2023-01-24T14:35:37.559Z"
   },
   {
    "duration": 10,
    "start_time": "2023-01-24T14:35:40.272Z"
   },
   {
    "duration": 11,
    "start_time": "2023-01-24T14:35:40.621Z"
   },
   {
    "duration": 17,
    "start_time": "2023-01-24T14:35:44.478Z"
   },
   {
    "duration": 18,
    "start_time": "2023-01-24T14:35:45.539Z"
   },
   {
    "duration": 15,
    "start_time": "2023-01-24T14:35:46.116Z"
   },
   {
    "duration": 386,
    "start_time": "2023-01-24T14:35:47.000Z"
   },
   {
    "duration": 291,
    "start_time": "2023-01-24T14:35:49.415Z"
   },
   {
    "duration": 422,
    "start_time": "2023-01-24T14:35:50.486Z"
   },
   {
    "duration": 349,
    "start_time": "2023-01-24T14:35:52.900Z"
   },
   {
    "duration": 417,
    "start_time": "2023-01-24T14:35:57.165Z"
   },
   {
    "duration": 11,
    "start_time": "2023-01-24T14:35:59.838Z"
   },
   {
    "duration": 252,
    "start_time": "2023-01-24T14:36:00.214Z"
   },
   {
    "duration": 6,
    "start_time": "2023-01-24T14:36:02.967Z"
   },
   {
    "duration": 177,
    "start_time": "2023-01-24T14:36:05.643Z"
   },
   {
    "duration": 5,
    "start_time": "2023-01-24T14:36:08.581Z"
   },
   {
    "duration": 4,
    "start_time": "2023-01-24T14:36:09.620Z"
   },
   {
    "duration": 4,
    "start_time": "2023-01-24T14:36:10.260Z"
   },
   {
    "duration": 15,
    "start_time": "2023-01-24T14:36:13.973Z"
   },
   {
    "duration": 7,
    "start_time": "2023-01-24T14:36:15.414Z"
   },
   {
    "duration": 9,
    "start_time": "2023-01-24T14:36:18.916Z"
   },
   {
    "duration": 115,
    "start_time": "2023-01-24T14:36:22.589Z"
   },
   {
    "duration": 10,
    "start_time": "2023-01-24T14:36:28.803Z"
   },
   {
    "duration": 6,
    "start_time": "2023-01-24T14:37:38.467Z"
   },
   {
    "duration": 5,
    "start_time": "2023-01-24T14:37:44.789Z"
   },
   {
    "duration": 6,
    "start_time": "2023-01-24T14:37:58.897Z"
   },
   {
    "duration": 9,
    "start_time": "2023-01-24T14:38:10.112Z"
   },
   {
    "duration": 5,
    "start_time": "2023-01-24T14:39:05.386Z"
   },
   {
    "duration": 5,
    "start_time": "2023-01-24T14:39:13.217Z"
   },
   {
    "duration": 4,
    "start_time": "2023-01-24T14:39:21.521Z"
   },
   {
    "duration": 1217,
    "start_time": "2023-01-24T14:39:28.991Z"
   },
   {
    "duration": 64,
    "start_time": "2023-01-24T14:39:30.210Z"
   },
   {
    "duration": 22,
    "start_time": "2023-01-24T14:39:30.276Z"
   },
   {
    "duration": 54,
    "start_time": "2023-01-24T14:39:30.299Z"
   },
   {
    "duration": 46,
    "start_time": "2023-01-24T14:39:30.356Z"
   },
   {
    "duration": 45,
    "start_time": "2023-01-24T14:39:30.403Z"
   },
   {
    "duration": 36,
    "start_time": "2023-01-24T14:39:30.449Z"
   },
   {
    "duration": 38,
    "start_time": "2023-01-24T14:39:30.486Z"
   },
   {
    "duration": 44,
    "start_time": "2023-01-24T14:39:30.526Z"
   },
   {
    "duration": 39,
    "start_time": "2023-01-24T14:39:30.573Z"
   },
   {
    "duration": 30,
    "start_time": "2023-01-24T14:39:30.614Z"
   },
   {
    "duration": 46,
    "start_time": "2023-01-24T14:39:30.646Z"
   },
   {
    "duration": 35,
    "start_time": "2023-01-24T14:39:30.694Z"
   },
   {
    "duration": 50,
    "start_time": "2023-01-24T14:39:30.731Z"
   },
   {
    "duration": 48,
    "start_time": "2023-01-24T14:39:30.783Z"
   },
   {
    "duration": 56,
    "start_time": "2023-01-24T14:39:30.833Z"
   },
   {
    "duration": 37,
    "start_time": "2023-01-24T14:39:30.891Z"
   },
   {
    "duration": 72,
    "start_time": "2023-01-24T14:39:30.930Z"
   },
   {
    "duration": 42,
    "start_time": "2023-01-24T14:39:31.004Z"
   },
   {
    "duration": 446,
    "start_time": "2023-01-24T14:39:31.047Z"
   },
   {
    "duration": 17,
    "start_time": "2023-01-24T14:39:31.494Z"
   },
   {
    "duration": 346,
    "start_time": "2023-01-24T14:39:31.513Z"
   },
   {
    "duration": 10,
    "start_time": "2023-01-24T14:39:31.861Z"
   },
   {
    "duration": 41,
    "start_time": "2023-01-24T14:39:31.873Z"
   },
   {
    "duration": 24,
    "start_time": "2023-01-24T14:39:31.916Z"
   },
   {
    "duration": 18,
    "start_time": "2023-01-24T14:39:31.942Z"
   },
   {
    "duration": 25,
    "start_time": "2023-01-24T14:39:31.962Z"
   },
   {
    "duration": 383,
    "start_time": "2023-01-24T14:39:31.991Z"
   },
   {
    "duration": 302,
    "start_time": "2023-01-24T14:39:32.376Z"
   },
   {
    "duration": 430,
    "start_time": "2023-01-24T14:39:32.680Z"
   },
   {
    "duration": 328,
    "start_time": "2023-01-24T14:39:33.112Z"
   },
   {
    "duration": 370,
    "start_time": "2023-01-24T14:39:33.442Z"
   },
   {
    "duration": 11,
    "start_time": "2023-01-24T14:39:33.813Z"
   },
   {
    "duration": 280,
    "start_time": "2023-01-24T14:39:33.826Z"
   },
   {
    "duration": 7,
    "start_time": "2023-01-24T14:39:34.108Z"
   },
   {
    "duration": 26,
    "start_time": "2023-01-24T14:39:34.117Z"
   },
   {
    "duration": 15,
    "start_time": "2023-01-24T14:39:34.145Z"
   },
   {
    "duration": 13,
    "start_time": "2023-01-24T14:39:34.162Z"
   },
   {
    "duration": 199,
    "start_time": "2023-01-24T14:39:34.177Z"
   },
   {
    "duration": 5,
    "start_time": "2023-01-24T14:39:34.378Z"
   },
   {
    "duration": 8,
    "start_time": "2023-01-24T14:39:34.384Z"
   },
   {
    "duration": 5,
    "start_time": "2023-01-24T14:39:34.404Z"
   },
   {
    "duration": 17,
    "start_time": "2023-01-24T14:39:34.410Z"
   },
   {
    "duration": 14,
    "start_time": "2023-01-24T14:39:34.428Z"
   },
   {
    "duration": 14,
    "start_time": "2023-01-24T14:39:34.443Z"
   },
   {
    "duration": 15,
    "start_time": "2023-01-24T14:39:34.458Z"
   },
   {
    "duration": 11,
    "start_time": "2023-01-24T14:39:34.474Z"
   },
   {
    "duration": 25,
    "start_time": "2023-01-24T14:39:34.487Z"
   },
   {
    "duration": 14,
    "start_time": "2023-01-24T14:39:34.514Z"
   },
   {
    "duration": 8,
    "start_time": "2023-01-24T14:39:34.530Z"
   },
   {
    "duration": 25,
    "start_time": "2023-01-24T14:39:34.539Z"
   },
   {
    "duration": 16,
    "start_time": "2023-01-24T14:39:34.566Z"
   },
   {
    "duration": 13,
    "start_time": "2023-01-24T14:39:34.584Z"
   },
   {
    "duration": 55,
    "start_time": "2023-01-24T14:39:34.598Z"
   },
   {
    "duration": 317,
    "start_time": "2023-01-24T14:39:34.654Z"
   },
   {
    "duration": 309,
    "start_time": "2023-01-24T14:39:34.973Z"
   },
   {
    "duration": 325,
    "start_time": "2023-01-24T14:39:35.284Z"
   },
   {
    "duration": 1072,
    "start_time": "2023-01-24T21:08:17.046Z"
   },
   {
    "duration": 67,
    "start_time": "2023-01-24T21:08:18.120Z"
   },
   {
    "duration": 22,
    "start_time": "2023-01-24T21:08:18.188Z"
   },
   {
    "duration": 18,
    "start_time": "2023-01-24T21:08:18.212Z"
   },
   {
    "duration": 16,
    "start_time": "2023-01-24T21:08:18.231Z"
   },
   {
    "duration": 7,
    "start_time": "2023-01-24T21:08:18.248Z"
   },
   {
    "duration": 6,
    "start_time": "2023-01-24T21:08:18.256Z"
   },
   {
    "duration": 9,
    "start_time": "2023-01-24T21:08:18.264Z"
   },
   {
    "duration": 11,
    "start_time": "2023-01-24T21:08:18.275Z"
   },
   {
    "duration": 15,
    "start_time": "2023-01-24T21:08:18.289Z"
   },
   {
    "duration": 18,
    "start_time": "2023-01-24T21:08:18.305Z"
   },
   {
    "duration": 30,
    "start_time": "2023-01-24T21:08:18.325Z"
   },
   {
    "duration": 8,
    "start_time": "2023-01-24T21:08:18.356Z"
   },
   {
    "duration": 25,
    "start_time": "2023-01-24T21:08:18.366Z"
   },
   {
    "duration": 22,
    "start_time": "2023-01-24T21:08:18.393Z"
   },
   {
    "duration": 20,
    "start_time": "2023-01-24T21:08:18.417Z"
   },
   {
    "duration": 7,
    "start_time": "2023-01-24T21:08:18.439Z"
   },
   {
    "duration": 10,
    "start_time": "2023-01-24T21:08:18.448Z"
   },
   {
    "duration": 16,
    "start_time": "2023-01-24T21:08:18.460Z"
   },
   {
    "duration": 402,
    "start_time": "2023-01-24T21:08:18.477Z"
   },
   {
    "duration": 10,
    "start_time": "2023-01-24T21:08:18.881Z"
   },
   {
    "duration": 277,
    "start_time": "2023-01-24T21:08:18.892Z"
   },
   {
    "duration": 9,
    "start_time": "2023-01-24T21:08:19.171Z"
   },
   {
    "duration": 34,
    "start_time": "2023-01-24T21:08:19.182Z"
   },
   {
    "duration": 25,
    "start_time": "2023-01-24T21:08:19.217Z"
   },
   {
    "duration": 15,
    "start_time": "2023-01-24T21:08:19.243Z"
   },
   {
    "duration": 13,
    "start_time": "2023-01-24T21:08:19.259Z"
   },
   {
    "duration": 336,
    "start_time": "2023-01-24T21:08:19.275Z"
   },
   {
    "duration": 259,
    "start_time": "2023-01-24T21:08:19.612Z"
   },
   {
    "duration": 329,
    "start_time": "2023-01-24T21:08:19.872Z"
   },
   {
    "duration": 289,
    "start_time": "2023-01-24T21:08:20.202Z"
   },
   {
    "duration": 355,
    "start_time": "2023-01-24T21:08:20.492Z"
   },
   {
    "duration": 10,
    "start_time": "2023-01-24T21:08:20.849Z"
   },
   {
    "duration": 228,
    "start_time": "2023-01-24T21:08:20.861Z"
   },
   {
    "duration": 5,
    "start_time": "2023-01-24T21:08:21.091Z"
   },
   {
    "duration": 9,
    "start_time": "2023-01-24T21:08:21.097Z"
   },
   {
    "duration": 5,
    "start_time": "2023-01-24T21:08:21.107Z"
   },
   {
    "duration": 23,
    "start_time": "2023-01-24T21:08:21.114Z"
   },
   {
    "duration": 154,
    "start_time": "2023-01-24T21:08:21.139Z"
   },
   {
    "duration": 5,
    "start_time": "2023-01-24T21:08:21.294Z"
   },
   {
    "duration": 11,
    "start_time": "2023-01-24T21:08:21.300Z"
   },
   {
    "duration": 9,
    "start_time": "2023-01-24T21:08:21.312Z"
   },
   {
    "duration": 20,
    "start_time": "2023-01-24T21:08:21.322Z"
   },
   {
    "duration": 6,
    "start_time": "2023-01-24T21:08:21.343Z"
   },
   {
    "duration": 12,
    "start_time": "2023-01-24T21:08:21.350Z"
   },
   {
    "duration": 9,
    "start_time": "2023-01-24T21:08:21.364Z"
   },
   {
    "duration": 17,
    "start_time": "2023-01-24T21:08:21.374Z"
   },
   {
    "duration": 6,
    "start_time": "2023-01-24T21:08:21.393Z"
   },
   {
    "duration": 9,
    "start_time": "2023-01-24T21:08:21.401Z"
   },
   {
    "duration": 8,
    "start_time": "2023-01-24T21:08:21.411Z"
   },
   {
    "duration": 21,
    "start_time": "2023-01-24T21:08:21.420Z"
   },
   {
    "duration": 5,
    "start_time": "2023-01-24T21:08:21.442Z"
   },
   {
    "duration": 7,
    "start_time": "2023-01-24T21:08:21.450Z"
   },
   {
    "duration": 38,
    "start_time": "2023-01-24T21:08:21.458Z"
   },
   {
    "duration": 268,
    "start_time": "2023-01-24T21:08:21.497Z"
   },
   {
    "duration": 270,
    "start_time": "2023-01-24T21:08:21.767Z"
   },
   {
    "duration": 286,
    "start_time": "2023-01-24T21:08:22.038Z"
   },
   {
    "duration": 1411,
    "start_time": "2023-01-26T07:07:30.522Z"
   },
   {
    "duration": 214,
    "start_time": "2023-01-26T07:07:32.009Z"
   },
   {
    "duration": 24,
    "start_time": "2023-01-26T07:07:52.896Z"
   },
   {
    "duration": 17,
    "start_time": "2023-01-26T07:07:53.396Z"
   },
   {
    "duration": 16,
    "start_time": "2023-01-26T07:07:54.233Z"
   },
   {
    "duration": 8,
    "start_time": "2023-01-26T07:07:57.058Z"
   },
   {
    "duration": 7,
    "start_time": "2023-01-26T07:07:58.629Z"
   },
   {
    "duration": 9,
    "start_time": "2023-01-26T07:07:59.220Z"
   },
   {
    "duration": 6,
    "start_time": "2023-01-26T07:07:59.959Z"
   },
   {
    "duration": 9,
    "start_time": "2023-01-26T07:08:00.682Z"
   },
   {
    "duration": 10,
    "start_time": "2023-01-26T07:08:01.183Z"
   },
   {
    "duration": 22,
    "start_time": "2023-01-26T07:08:02.043Z"
   },
   {
    "duration": 7,
    "start_time": "2023-01-26T07:08:02.819Z"
   },
   {
    "duration": 9,
    "start_time": "2023-01-26T07:08:12.235Z"
   },
   {
    "duration": 11,
    "start_time": "2023-01-26T07:08:27.392Z"
   },
   {
    "duration": 16,
    "start_time": "2023-01-26T07:08:28.268Z"
   },
   {
    "duration": 7,
    "start_time": "2023-01-26T07:08:29.034Z"
   },
   {
    "duration": 10,
    "start_time": "2023-01-26T07:08:32.536Z"
   },
   {
    "duration": 10,
    "start_time": "2023-01-26T07:08:42.058Z"
   },
   {
    "duration": 11,
    "start_time": "2023-01-26T07:08:54.078Z"
   },
   {
    "duration": 15,
    "start_time": "2023-01-26T07:09:01.026Z"
   },
   {
    "duration": 356,
    "start_time": "2023-01-26T07:09:13.441Z"
   },
   {
    "duration": 13,
    "start_time": "2023-01-26T07:09:27.769Z"
   },
   {
    "duration": 299,
    "start_time": "2023-01-26T07:09:28.910Z"
   },
   {
    "duration": 10,
    "start_time": "2023-01-26T07:09:34.857Z"
   },
   {
    "duration": 10,
    "start_time": "2023-01-26T07:09:38.018Z"
   },
   {
    "duration": 19,
    "start_time": "2023-01-26T07:10:04.017Z"
   },
   {
    "duration": 16,
    "start_time": "2023-01-26T07:10:05.112Z"
   },
   {
    "duration": 13,
    "start_time": "2023-01-26T07:10:06.136Z"
   },
   {
    "duration": 350,
    "start_time": "2023-01-26T07:10:07.613Z"
   },
   {
    "duration": 279,
    "start_time": "2023-01-26T07:29:16.852Z"
   },
   {
    "duration": 425,
    "start_time": "2023-01-26T07:29:47.699Z"
   },
   {
    "duration": 296,
    "start_time": "2023-01-26T07:34:10.647Z"
   },
   {
    "duration": 403,
    "start_time": "2023-01-26T07:35:18.711Z"
   },
   {
    "duration": 14,
    "start_time": "2023-01-26T07:37:09.688Z"
   },
   {
    "duration": 269,
    "start_time": "2023-01-26T07:37:11.072Z"
   },
   {
    "duration": 8,
    "start_time": "2023-01-26T07:38:06.781Z"
   },
   {
    "duration": 5,
    "start_time": "2023-01-26T07:38:07.447Z"
   },
   {
    "duration": 5,
    "start_time": "2023-01-26T07:38:08.087Z"
   },
   {
    "duration": 5,
    "start_time": "2023-01-26T07:38:08.648Z"
   },
   {
    "duration": 166,
    "start_time": "2023-01-26T07:38:14.165Z"
   },
   {
    "duration": 74,
    "start_time": "2023-01-26T07:39:40.764Z"
   },
   {
    "duration": 183,
    "start_time": "2023-01-26T07:39:44.509Z"
   },
   {
    "duration": 282,
    "start_time": "2023-01-26T07:40:23.098Z"
   },
   {
    "duration": 248,
    "start_time": "2023-01-26T07:42:05.685Z"
   },
   {
    "duration": 167,
    "start_time": "2023-01-26T07:42:10.605Z"
   },
   {
    "duration": 211,
    "start_time": "2023-01-26T07:43:41.441Z"
   },
   {
    "duration": 188,
    "start_time": "2023-01-26T07:44:04.880Z"
   },
   {
    "duration": 176,
    "start_time": "2023-01-26T07:44:16.802Z"
   },
   {
    "duration": 169,
    "start_time": "2023-01-26T07:44:26.056Z"
   },
   {
    "duration": 197,
    "start_time": "2023-01-26T07:48:40.106Z"
   },
   {
    "duration": 192,
    "start_time": "2023-01-26T07:48:52.719Z"
   },
   {
    "duration": 383,
    "start_time": "2023-01-26T07:52:48.524Z"
   },
   {
    "duration": 215,
    "start_time": "2023-01-26T07:53:07.599Z"
   },
   {
    "duration": 204,
    "start_time": "2023-01-26T07:54:10.482Z"
   },
   {
    "duration": 195,
    "start_time": "2023-01-26T07:54:16.936Z"
   },
   {
    "duration": 6,
    "start_time": "2023-01-26T07:57:23.094Z"
   },
   {
    "duration": 4,
    "start_time": "2023-01-26T07:57:23.790Z"
   },
   {
    "duration": 4,
    "start_time": "2023-01-26T07:57:26.664Z"
   },
   {
    "duration": 1270,
    "start_time": "2023-01-26T08:40:02.141Z"
   },
   {
    "duration": 69,
    "start_time": "2023-01-26T08:40:03.413Z"
   },
   {
    "duration": 28,
    "start_time": "2023-01-26T08:40:03.483Z"
   },
   {
    "duration": 15,
    "start_time": "2023-01-26T08:40:03.513Z"
   },
   {
    "duration": 13,
    "start_time": "2023-01-26T08:40:03.529Z"
   },
   {
    "duration": 7,
    "start_time": "2023-01-26T08:40:03.832Z"
   },
   {
    "duration": 8,
    "start_time": "2023-01-26T08:40:04.214Z"
   },
   {
    "duration": 9,
    "start_time": "2023-01-26T08:40:04.388Z"
   },
   {
    "duration": 5,
    "start_time": "2023-01-26T08:40:04.580Z"
   },
   {
    "duration": 6,
    "start_time": "2023-01-26T08:40:04.845Z"
   },
   {
    "duration": 5,
    "start_time": "2023-01-26T08:40:05.121Z"
   },
   {
    "duration": 22,
    "start_time": "2023-01-26T08:40:05.373Z"
   },
   {
    "duration": 8,
    "start_time": "2023-01-26T08:40:05.616Z"
   },
   {
    "duration": 14,
    "start_time": "2023-01-26T08:40:05.898Z"
   },
   {
    "duration": 13,
    "start_time": "2023-01-26T08:40:06.706Z"
   },
   {
    "duration": 17,
    "start_time": "2023-01-26T08:40:06.960Z"
   },
   {
    "duration": 12,
    "start_time": "2023-01-26T08:40:07.986Z"
   },
   {
    "duration": 8,
    "start_time": "2023-01-26T08:40:09.155Z"
   },
   {
    "duration": 10,
    "start_time": "2023-01-26T08:40:13.143Z"
   },
   {
    "duration": 373,
    "start_time": "2023-01-26T08:40:13.525Z"
   },
   {
    "duration": 17,
    "start_time": "2023-01-26T08:40:17.288Z"
   },
   {
    "duration": 287,
    "start_time": "2023-01-26T08:40:17.624Z"
   },
   {
    "duration": 10,
    "start_time": "2023-01-26T08:40:18.560Z"
   },
   {
    "duration": 10,
    "start_time": "2023-01-26T08:40:18.950Z"
   },
   {
    "duration": 17,
    "start_time": "2023-01-26T08:40:22.162Z"
   },
   {
    "duration": 15,
    "start_time": "2023-01-26T08:40:22.769Z"
   },
   {
    "duration": 12,
    "start_time": "2023-01-26T08:40:23.420Z"
   },
   {
    "duration": 354,
    "start_time": "2023-01-26T08:40:24.126Z"
   },
   {
    "duration": 300,
    "start_time": "2023-01-26T08:40:44.754Z"
   },
   {
    "duration": 459,
    "start_time": "2023-01-26T08:41:37.655Z"
   },
   {
    "duration": 318,
    "start_time": "2023-01-26T08:42:10.289Z"
   },
   {
    "duration": 415,
    "start_time": "2023-01-26T08:42:38.742Z"
   },
   {
    "duration": 527,
    "start_time": "2023-01-26T08:42:46.140Z"
   },
   {
    "duration": 11,
    "start_time": "2023-01-26T08:44:18.801Z"
   },
   {
    "duration": 175,
    "start_time": "2023-01-26T08:44:19.867Z"
   },
   {
    "duration": 6,
    "start_time": "2023-01-26T08:44:26.007Z"
   },
   {
    "duration": 6,
    "start_time": "2023-01-26T08:44:26.495Z"
   },
   {
    "duration": 4,
    "start_time": "2023-01-26T08:44:26.962Z"
   },
   {
    "duration": 6,
    "start_time": "2023-01-26T08:44:27.502Z"
   },
   {
    "duration": 198,
    "start_time": "2023-01-26T08:44:33.124Z"
   },
   {
    "duration": 183,
    "start_time": "2023-01-26T08:44:38.170Z"
   },
   {
    "duration": 6,
    "start_time": "2023-01-26T08:44:40.980Z"
   },
   {
    "duration": 4,
    "start_time": "2023-01-26T08:44:41.417Z"
   },
   {
    "duration": 5,
    "start_time": "2023-01-26T08:44:41.884Z"
   },
   {
    "duration": 74,
    "start_time": "2023-01-26T08:52:41.691Z"
   },
   {
    "duration": 77,
    "start_time": "2023-01-26T08:59:05.965Z"
   },
   {
    "duration": 78,
    "start_time": "2023-01-26T09:00:49.021Z"
   },
   {
    "duration": 73,
    "start_time": "2023-01-26T09:02:17.765Z"
   },
   {
    "duration": 14,
    "start_time": "2023-01-26T09:07:37.707Z"
   },
   {
    "duration": 257,
    "start_time": "2023-01-26T09:08:37.764Z"
   },
   {
    "duration": 142,
    "start_time": "2023-01-26T09:09:22.815Z"
   },
   {
    "duration": 145,
    "start_time": "2023-01-26T09:09:45.926Z"
   },
   {
    "duration": 144,
    "start_time": "2023-01-26T09:10:03.768Z"
   },
   {
    "duration": 147,
    "start_time": "2023-01-26T09:10:37.231Z"
   },
   {
    "duration": 169,
    "start_time": "2023-01-26T09:11:05.883Z"
   },
   {
    "duration": 130,
    "start_time": "2023-01-26T09:11:20.312Z"
   },
   {
    "duration": 136,
    "start_time": "2023-01-26T09:11:38.301Z"
   },
   {
    "duration": 180,
    "start_time": "2023-01-26T09:11:44.185Z"
   },
   {
    "duration": 145,
    "start_time": "2023-01-26T09:11:54.066Z"
   },
   {
    "duration": 156,
    "start_time": "2023-01-26T09:12:25.976Z"
   },
   {
    "duration": 14,
    "start_time": "2023-01-26T09:14:28.434Z"
   },
   {
    "duration": 20,
    "start_time": "2023-01-26T09:14:41.312Z"
   },
   {
    "duration": 20,
    "start_time": "2023-01-26T09:15:05.383Z"
   },
   {
    "duration": 140,
    "start_time": "2023-01-26T09:15:33.792Z"
   },
   {
    "duration": 79,
    "start_time": "2023-01-26T09:16:00.327Z"
   },
   {
    "duration": 79,
    "start_time": "2023-01-26T09:16:32.892Z"
   },
   {
    "duration": 6,
    "start_time": "2023-01-26T09:17:04.141Z"
   },
   {
    "duration": 21,
    "start_time": "2023-01-26T09:17:56.329Z"
   },
   {
    "duration": 11,
    "start_time": "2023-01-26T09:30:50.825Z"
   },
   {
    "duration": 11,
    "start_time": "2023-01-26T09:31:30.922Z"
   },
   {
    "duration": 9,
    "start_time": "2023-01-26T09:32:59.707Z"
   },
   {
    "duration": 7,
    "start_time": "2023-01-26T09:33:12.711Z"
   },
   {
    "duration": 8,
    "start_time": "2023-01-26T09:33:22.006Z"
   },
   {
    "duration": 20,
    "start_time": "2023-01-26T09:34:11.314Z"
   },
   {
    "duration": 15,
    "start_time": "2023-01-26T09:37:23.575Z"
   },
   {
    "duration": 1230,
    "start_time": "2023-01-26T09:44:56.770Z"
   },
   {
    "duration": 68,
    "start_time": "2023-01-26T09:44:58.003Z"
   },
   {
    "duration": 25,
    "start_time": "2023-01-26T09:44:58.073Z"
   },
   {
    "duration": 20,
    "start_time": "2023-01-26T09:44:58.102Z"
   },
   {
    "duration": 14,
    "start_time": "2023-01-26T09:44:58.124Z"
   },
   {
    "duration": 7,
    "start_time": "2023-01-26T09:44:58.139Z"
   },
   {
    "duration": 45,
    "start_time": "2023-01-26T09:44:58.147Z"
   },
   {
    "duration": 9,
    "start_time": "2023-01-26T09:44:58.195Z"
   },
   {
    "duration": 37,
    "start_time": "2023-01-26T09:44:58.206Z"
   },
   {
    "duration": 13,
    "start_time": "2023-01-26T09:44:58.245Z"
   },
   {
    "duration": 9,
    "start_time": "2023-01-26T09:44:58.261Z"
   },
   {
    "duration": 36,
    "start_time": "2023-01-26T09:44:58.272Z"
   },
   {
    "duration": 13,
    "start_time": "2023-01-26T09:44:58.310Z"
   },
   {
    "duration": 12,
    "start_time": "2023-01-26T09:44:58.324Z"
   },
   {
    "duration": 17,
    "start_time": "2023-01-26T09:44:58.338Z"
   },
   {
    "duration": 56,
    "start_time": "2023-01-26T09:44:58.356Z"
   },
   {
    "duration": 10,
    "start_time": "2023-01-26T09:44:58.413Z"
   },
   {
    "duration": 11,
    "start_time": "2023-01-26T09:44:58.425Z"
   },
   {
    "duration": 13,
    "start_time": "2023-01-26T09:44:58.438Z"
   },
   {
    "duration": 388,
    "start_time": "2023-01-26T09:44:58.452Z"
   },
   {
    "duration": 12,
    "start_time": "2023-01-26T09:44:58.843Z"
   },
   {
    "duration": 319,
    "start_time": "2023-01-26T09:44:58.856Z"
   },
   {
    "duration": 12,
    "start_time": "2023-01-26T09:44:59.176Z"
   },
   {
    "duration": 58,
    "start_time": "2023-01-26T09:44:59.189Z"
   },
   {
    "duration": 36,
    "start_time": "2023-01-26T09:44:59.249Z"
   },
   {
    "duration": 26,
    "start_time": "2023-01-26T09:44:59.287Z"
   },
   {
    "duration": 29,
    "start_time": "2023-01-26T09:44:59.314Z"
   },
   {
    "duration": 390,
    "start_time": "2023-01-26T09:44:59.347Z"
   },
   {
    "duration": 323,
    "start_time": "2023-01-26T09:44:59.738Z"
   },
   {
    "duration": 431,
    "start_time": "2023-01-26T09:45:00.063Z"
   },
   {
    "duration": 334,
    "start_time": "2023-01-26T09:45:00.497Z"
   },
   {
    "duration": 398,
    "start_time": "2023-01-26T09:45:00.832Z"
   },
   {
    "duration": 10,
    "start_time": "2023-01-26T09:45:01.232Z"
   },
   {
    "duration": 369,
    "start_time": "2023-01-26T09:45:01.243Z"
   },
   {
    "duration": 5,
    "start_time": "2023-01-26T09:45:01.614Z"
   },
   {
    "duration": 40,
    "start_time": "2023-01-26T09:45:01.620Z"
   },
   {
    "duration": 66,
    "start_time": "2023-01-26T09:45:01.662Z"
   },
   {
    "duration": 34,
    "start_time": "2023-01-26T09:45:01.730Z"
   },
   {
    "duration": 261,
    "start_time": "2023-01-26T09:45:01.766Z"
   },
   {
    "duration": 190,
    "start_time": "2023-01-26T09:45:02.029Z"
   },
   {
    "duration": 10,
    "start_time": "2023-01-26T09:45:02.220Z"
   },
   {
    "duration": 111,
    "start_time": "2023-01-26T09:45:02.231Z"
   },
   {
    "duration": 81,
    "start_time": "2023-01-26T09:45:02.344Z"
   },
   {
    "duration": 44,
    "start_time": "2023-01-26T09:45:02.426Z"
   },
   {
    "duration": 214,
    "start_time": "2023-01-26T09:45:02.472Z"
   },
   {
    "duration": 9,
    "start_time": "2023-01-26T09:45:02.688Z"
   },
   {
    "duration": 88,
    "start_time": "2023-01-26T09:45:02.699Z"
   },
   {
    "duration": 42,
    "start_time": "2023-01-26T09:45:02.790Z"
   },
   {
    "duration": 24,
    "start_time": "2023-01-26T09:45:02.833Z"
   },
   {
    "duration": 22,
    "start_time": "2023-01-26T09:45:02.858Z"
   },
   {
    "duration": 33,
    "start_time": "2023-01-26T09:45:02.882Z"
   },
   {
    "duration": 48,
    "start_time": "2023-01-26T09:45:02.917Z"
   },
   {
    "duration": 18,
    "start_time": "2023-01-26T09:45:02.967Z"
   },
   {
    "duration": 49,
    "start_time": "2023-01-27T19:22:25.192Z"
   },
   {
    "duration": 1305,
    "start_time": "2023-01-27T19:22:36.059Z"
   },
   {
    "duration": 207,
    "start_time": "2023-01-27T19:22:38.126Z"
   },
   {
    "duration": 22,
    "start_time": "2023-01-27T19:22:38.583Z"
   },
   {
    "duration": 20,
    "start_time": "2023-01-27T19:22:39.066Z"
   },
   {
    "duration": 16,
    "start_time": "2023-01-27T19:22:39.409Z"
   },
   {
    "duration": 8,
    "start_time": "2023-01-27T19:22:39.821Z"
   },
   {
    "duration": 6,
    "start_time": "2023-01-27T19:22:40.183Z"
   },
   {
    "duration": 6,
    "start_time": "2023-01-27T19:22:40.539Z"
   },
   {
    "duration": 5,
    "start_time": "2023-01-27T19:22:40.891Z"
   },
   {
    "duration": 6,
    "start_time": "2023-01-27T19:22:41.194Z"
   },
   {
    "duration": 6,
    "start_time": "2023-01-27T19:22:41.516Z"
   },
   {
    "duration": 24,
    "start_time": "2023-01-27T19:22:41.893Z"
   },
   {
    "duration": 8,
    "start_time": "2023-01-27T19:22:42.194Z"
   },
   {
    "duration": 9,
    "start_time": "2023-01-27T19:22:42.518Z"
   },
   {
    "duration": 10,
    "start_time": "2023-01-27T19:22:43.420Z"
   },
   {
    "duration": 17,
    "start_time": "2023-01-27T19:22:43.795Z"
   },
   {
    "duration": 7,
    "start_time": "2023-01-27T19:22:44.134Z"
   },
   {
    "duration": 9,
    "start_time": "2023-01-27T19:22:44.958Z"
   },
   {
    "duration": 10,
    "start_time": "2023-01-27T19:22:49.356Z"
   },
   {
    "duration": 358,
    "start_time": "2023-01-27T19:22:50.655Z"
   },
   {
    "duration": 11,
    "start_time": "2023-01-27T19:22:52.086Z"
   },
   {
    "duration": 368,
    "start_time": "2023-01-27T19:22:53.811Z"
   },
   {
    "duration": 10,
    "start_time": "2023-01-27T19:22:56.229Z"
   },
   {
    "duration": 11,
    "start_time": "2023-01-27T19:22:56.554Z"
   },
   {
    "duration": 19,
    "start_time": "2023-01-27T19:23:01.671Z"
   },
   {
    "duration": 24,
    "start_time": "2023-01-27T19:23:02.832Z"
   },
   {
    "duration": 18,
    "start_time": "2023-01-27T19:23:03.223Z"
   },
   {
    "duration": 351,
    "start_time": "2023-01-27T19:23:15.162Z"
   },
   {
    "duration": 260,
    "start_time": "2023-01-27T19:23:33.227Z"
   },
   {
    "duration": 515,
    "start_time": "2023-01-27T19:23:38.767Z"
   },
   {
    "duration": 310,
    "start_time": "2023-01-27T19:23:45.799Z"
   },
   {
    "duration": 372,
    "start_time": "2023-01-27T19:24:06.033Z"
   },
   {
    "duration": 11,
    "start_time": "2023-01-27T19:24:14.406Z"
   },
   {
    "duration": 235,
    "start_time": "2023-01-27T19:24:15.554Z"
   },
   {
    "duration": 167,
    "start_time": "2023-01-27T19:25:24.915Z"
   },
   {
    "duration": 5,
    "start_time": "2023-01-27T19:25:34.485Z"
   },
   {
    "duration": 5,
    "start_time": "2023-01-27T19:25:35.047Z"
   },
   {
    "duration": 4,
    "start_time": "2023-01-27T19:25:35.548Z"
   },
   {
    "duration": 4,
    "start_time": "2023-01-27T19:25:36.129Z"
   },
   {
    "duration": 210,
    "start_time": "2023-01-27T19:25:43.514Z"
   },
   {
    "duration": 190,
    "start_time": "2023-01-27T19:25:47.463Z"
   },
   {
    "duration": 5,
    "start_time": "2023-01-27T19:25:53.174Z"
   },
   {
    "duration": 4,
    "start_time": "2023-01-27T19:25:53.520Z"
   },
   {
    "duration": 5,
    "start_time": "2023-01-27T19:25:53.869Z"
   },
   {
    "duration": 15,
    "start_time": "2023-01-27T19:50:45.035Z"
   },
   {
    "duration": 125,
    "start_time": "2023-01-27T19:50:47.656Z"
   },
   {
    "duration": 6,
    "start_time": "2023-01-27T19:50:53.737Z"
   },
   {
    "duration": 24,
    "start_time": "2023-01-27T19:50:58.010Z"
   },
   {
    "duration": 11,
    "start_time": "2023-01-27T20:03:40.536Z"
   },
   {
    "duration": 9,
    "start_time": "2023-01-27T20:12:16.875Z"
   },
   {
    "duration": 5,
    "start_time": "2023-01-27T20:16:29.569Z"
   },
   {
    "duration": 5,
    "start_time": "2023-01-27T20:16:30.619Z"
   },
   {
    "duration": 21,
    "start_time": "2023-01-27T20:16:31.638Z"
   },
   {
    "duration": 15,
    "start_time": "2023-01-27T20:21:59.644Z"
   },
   {
    "duration": 1184,
    "start_time": "2023-01-27T20:26:25.146Z"
   },
   {
    "duration": 68,
    "start_time": "2023-01-27T20:26:26.332Z"
   },
   {
    "duration": 25,
    "start_time": "2023-01-27T20:26:26.402Z"
   },
   {
    "duration": 19,
    "start_time": "2023-01-27T20:26:26.429Z"
   },
   {
    "duration": 50,
    "start_time": "2023-01-27T20:26:26.450Z"
   },
   {
    "duration": 9,
    "start_time": "2023-01-27T20:26:26.502Z"
   },
   {
    "duration": 8,
    "start_time": "2023-01-27T20:26:26.512Z"
   },
   {
    "duration": 18,
    "start_time": "2023-01-27T20:26:26.521Z"
   },
   {
    "duration": 9,
    "start_time": "2023-01-27T20:26:26.540Z"
   },
   {
    "duration": 5,
    "start_time": "2023-01-27T20:26:26.552Z"
   },
   {
    "duration": 6,
    "start_time": "2023-01-27T20:26:26.559Z"
   },
   {
    "duration": 21,
    "start_time": "2023-01-27T20:26:26.599Z"
   },
   {
    "duration": 7,
    "start_time": "2023-01-27T20:26:26.622Z"
   },
   {
    "duration": 14,
    "start_time": "2023-01-27T20:26:26.631Z"
   },
   {
    "duration": 14,
    "start_time": "2023-01-27T20:26:26.646Z"
   },
   {
    "duration": 45,
    "start_time": "2023-01-27T20:26:26.662Z"
   },
   {
    "duration": 9,
    "start_time": "2023-01-27T20:26:26.709Z"
   },
   {
    "duration": 12,
    "start_time": "2023-01-27T20:26:26.720Z"
   },
   {
    "duration": 13,
    "start_time": "2023-01-27T20:26:26.734Z"
   },
   {
    "duration": 441,
    "start_time": "2023-01-27T20:26:26.749Z"
   },
   {
    "duration": 16,
    "start_time": "2023-01-27T20:26:27.192Z"
   },
   {
    "duration": 347,
    "start_time": "2023-01-27T20:26:27.210Z"
   },
   {
    "duration": 12,
    "start_time": "2023-01-27T20:26:27.559Z"
   },
   {
    "duration": 29,
    "start_time": "2023-01-27T20:26:27.573Z"
   },
   {
    "duration": 29,
    "start_time": "2023-01-27T20:26:27.604Z"
   },
   {
    "duration": 18,
    "start_time": "2023-01-27T20:26:27.634Z"
   },
   {
    "duration": 15,
    "start_time": "2023-01-27T20:26:27.653Z"
   },
   {
    "duration": 429,
    "start_time": "2023-01-27T20:26:27.672Z"
   },
   {
    "duration": 322,
    "start_time": "2023-01-27T20:26:28.102Z"
   },
   {
    "duration": 413,
    "start_time": "2023-01-27T20:26:28.425Z"
   },
   {
    "duration": 321,
    "start_time": "2023-01-27T20:26:28.840Z"
   },
   {
    "duration": 436,
    "start_time": "2023-01-27T20:26:29.163Z"
   },
   {
    "duration": 12,
    "start_time": "2023-01-27T20:26:29.600Z"
   },
   {
    "duration": 263,
    "start_time": "2023-01-27T20:26:29.613Z"
   },
   {
    "duration": 5,
    "start_time": "2023-01-27T20:26:29.878Z"
   },
   {
    "duration": 5,
    "start_time": "2023-01-27T20:26:29.899Z"
   },
   {
    "duration": 25,
    "start_time": "2023-01-27T20:26:29.906Z"
   },
   {
    "duration": 49,
    "start_time": "2023-01-27T20:26:29.932Z"
   },
   {
    "duration": 216,
    "start_time": "2023-01-27T20:26:29.983Z"
   },
   {
    "duration": 205,
    "start_time": "2023-01-27T20:26:30.201Z"
   },
   {
    "duration": 5,
    "start_time": "2023-01-27T20:26:30.408Z"
   },
   {
    "duration": 42,
    "start_time": "2023-01-27T20:26:30.415Z"
   },
   {
    "duration": 32,
    "start_time": "2023-01-27T20:26:30.459Z"
   },
   {
    "duration": 47,
    "start_time": "2023-01-27T20:26:30.493Z"
   },
   {
    "duration": 157,
    "start_time": "2023-01-27T20:26:30.542Z"
   },
   {
    "duration": 7,
    "start_time": "2023-01-27T20:26:30.701Z"
   },
   {
    "duration": 40,
    "start_time": "2023-01-27T20:26:30.710Z"
   },
   {
    "duration": 19,
    "start_time": "2023-01-27T20:26:30.752Z"
   },
   {
    "duration": 29,
    "start_time": "2023-01-27T20:26:30.773Z"
   },
   {
    "duration": 26,
    "start_time": "2023-01-27T20:26:30.804Z"
   },
   {
    "duration": 24,
    "start_time": "2023-01-27T20:26:30.832Z"
   },
   {
    "duration": 71,
    "start_time": "2023-01-27T20:26:30.858Z"
   },
   {
    "duration": 13,
    "start_time": "2023-01-27T20:26:30.931Z"
   },
   {
    "duration": 65,
    "start_time": "2023-01-27T20:32:42.876Z"
   },
   {
    "duration": 1138,
    "start_time": "2023-01-27T20:34:44.452Z"
   },
   {
    "duration": 70,
    "start_time": "2023-01-27T20:34:45.593Z"
   },
   {
    "duration": 23,
    "start_time": "2023-01-27T20:34:45.665Z"
   },
   {
    "duration": 50,
    "start_time": "2023-01-27T20:34:45.690Z"
   },
   {
    "duration": 24,
    "start_time": "2023-01-27T20:34:45.742Z"
   },
   {
    "duration": 11,
    "start_time": "2023-01-27T20:34:45.768Z"
   },
   {
    "duration": 8,
    "start_time": "2023-01-27T20:34:45.781Z"
   },
   {
    "duration": 10,
    "start_time": "2023-01-27T20:34:45.791Z"
   },
   {
    "duration": 18,
    "start_time": "2023-01-27T20:34:45.802Z"
   },
   {
    "duration": 14,
    "start_time": "2023-01-27T20:34:45.823Z"
   },
   {
    "duration": 7,
    "start_time": "2023-01-27T20:34:45.839Z"
   },
   {
    "duration": 26,
    "start_time": "2023-01-27T20:34:45.849Z"
   },
   {
    "duration": 7,
    "start_time": "2023-01-27T20:34:45.876Z"
   },
   {
    "duration": 15,
    "start_time": "2023-01-27T20:34:45.885Z"
   },
   {
    "duration": 16,
    "start_time": "2023-01-27T20:34:45.901Z"
   },
   {
    "duration": 20,
    "start_time": "2023-01-27T20:34:45.919Z"
   },
   {
    "duration": 8,
    "start_time": "2023-01-27T20:34:45.942Z"
   },
   {
    "duration": 15,
    "start_time": "2023-01-27T20:34:45.952Z"
   },
   {
    "duration": 31,
    "start_time": "2023-01-27T20:34:45.969Z"
   },
   {
    "duration": 364,
    "start_time": "2023-01-27T20:34:46.001Z"
   },
   {
    "duration": 15,
    "start_time": "2023-01-27T20:34:46.368Z"
   },
   {
    "duration": 321,
    "start_time": "2023-01-27T20:34:46.385Z"
   },
   {
    "duration": 11,
    "start_time": "2023-01-27T20:34:46.708Z"
   },
   {
    "duration": 15,
    "start_time": "2023-01-27T20:34:46.720Z"
   },
   {
    "duration": 21,
    "start_time": "2023-01-27T20:34:46.737Z"
   },
   {
    "duration": 16,
    "start_time": "2023-01-27T20:34:46.760Z"
   },
   {
    "duration": 31,
    "start_time": "2023-01-27T20:34:46.777Z"
   },
   {
    "duration": 379,
    "start_time": "2023-01-27T20:34:46.811Z"
   },
   {
    "duration": 296,
    "start_time": "2023-01-27T20:34:47.192Z"
   },
   {
    "duration": 396,
    "start_time": "2023-01-27T20:34:47.490Z"
   },
   {
    "duration": 302,
    "start_time": "2023-01-27T20:34:47.888Z"
   },
   {
    "duration": 423,
    "start_time": "2023-01-27T20:34:48.198Z"
   },
   {
    "duration": 12,
    "start_time": "2023-01-27T20:34:48.623Z"
   },
   {
    "duration": 287,
    "start_time": "2023-01-27T20:34:48.637Z"
   },
   {
    "duration": 6,
    "start_time": "2023-01-27T20:34:48.926Z"
   },
   {
    "duration": 14,
    "start_time": "2023-01-27T20:34:48.933Z"
   },
   {
    "duration": 22,
    "start_time": "2023-01-27T20:34:48.948Z"
   },
   {
    "duration": 26,
    "start_time": "2023-01-27T20:34:48.971Z"
   },
   {
    "duration": 207,
    "start_time": "2023-01-27T20:34:48.999Z"
   },
   {
    "duration": 184,
    "start_time": "2023-01-27T20:34:49.208Z"
   },
   {
    "duration": 8,
    "start_time": "2023-01-27T20:34:49.394Z"
   },
   {
    "duration": 25,
    "start_time": "2023-01-27T20:34:49.403Z"
   },
   {
    "duration": 14,
    "start_time": "2023-01-27T20:34:49.430Z"
   },
   {
    "duration": 33,
    "start_time": "2023-01-27T20:34:49.445Z"
   },
   {
    "duration": 180,
    "start_time": "2023-01-27T20:34:49.479Z"
   },
   {
    "duration": 7,
    "start_time": "2023-01-27T20:34:49.661Z"
   },
   {
    "duration": 41,
    "start_time": "2023-01-27T20:34:49.670Z"
   },
   {
    "duration": 19,
    "start_time": "2023-01-27T20:34:49.713Z"
   },
   {
    "duration": 12,
    "start_time": "2023-01-27T20:34:49.733Z"
   },
   {
    "duration": 14,
    "start_time": "2023-01-27T20:34:49.747Z"
   },
   {
    "duration": 20,
    "start_time": "2023-01-27T20:34:49.763Z"
   },
   {
    "duration": 44,
    "start_time": "2023-01-27T20:34:49.785Z"
   },
   {
    "duration": 14,
    "start_time": "2023-01-27T20:34:49.831Z"
   },
   {
    "duration": 1312,
    "start_time": "2023-01-28T19:54:24.461Z"
   },
   {
    "duration": 238,
    "start_time": "2023-01-28T19:54:25.775Z"
   },
   {
    "duration": 22,
    "start_time": "2023-01-28T19:54:26.015Z"
   },
   {
    "duration": 17,
    "start_time": "2023-01-28T19:54:26.040Z"
   },
   {
    "duration": 15,
    "start_time": "2023-01-28T19:54:26.059Z"
   },
   {
    "duration": 11,
    "start_time": "2023-01-28T19:54:26.075Z"
   },
   {
    "duration": 6,
    "start_time": "2023-01-28T19:54:26.088Z"
   },
   {
    "duration": 7,
    "start_time": "2023-01-28T19:54:26.095Z"
   },
   {
    "duration": 6,
    "start_time": "2023-01-28T19:54:26.104Z"
   },
   {
    "duration": 5,
    "start_time": "2023-01-28T19:54:26.112Z"
   },
   {
    "duration": 6,
    "start_time": "2023-01-28T19:54:26.118Z"
   },
   {
    "duration": 18,
    "start_time": "2023-01-28T19:54:26.125Z"
   },
   {
    "duration": 36,
    "start_time": "2023-01-28T19:54:26.145Z"
   },
   {
    "duration": 19,
    "start_time": "2023-01-28T19:54:26.183Z"
   },
   {
    "duration": 11,
    "start_time": "2023-01-28T19:54:26.203Z"
   },
   {
    "duration": 17,
    "start_time": "2023-01-28T19:54:26.216Z"
   },
   {
    "duration": 7,
    "start_time": "2023-01-28T19:54:26.236Z"
   },
   {
    "duration": 14,
    "start_time": "2023-01-28T19:54:26.244Z"
   },
   {
    "duration": 39,
    "start_time": "2023-01-28T19:54:26.259Z"
   },
   {
    "duration": 395,
    "start_time": "2023-01-28T19:54:26.300Z"
   },
   {
    "duration": 11,
    "start_time": "2023-01-28T19:54:26.696Z"
   },
   {
    "duration": 281,
    "start_time": "2023-01-28T19:54:26.708Z"
   },
   {
    "duration": 9,
    "start_time": "2023-01-28T19:54:26.991Z"
   },
   {
    "duration": 26,
    "start_time": "2023-01-28T19:54:27.002Z"
   },
   {
    "duration": 24,
    "start_time": "2023-01-28T19:54:27.029Z"
   },
   {
    "duration": 14,
    "start_time": "2023-01-28T19:54:27.055Z"
   },
   {
    "duration": 18,
    "start_time": "2023-01-28T19:54:27.071Z"
   },
   {
    "duration": 340,
    "start_time": "2023-01-28T19:54:27.092Z"
   },
   {
    "duration": 291,
    "start_time": "2023-01-28T19:54:27.434Z"
   },
   {
    "duration": 406,
    "start_time": "2023-01-28T19:54:27.727Z"
   },
   {
    "duration": 304,
    "start_time": "2023-01-28T19:54:28.135Z"
   },
   {
    "duration": 362,
    "start_time": "2023-01-28T19:54:28.441Z"
   },
   {
    "duration": 10,
    "start_time": "2023-01-28T19:54:28.804Z"
   },
   {
    "duration": 248,
    "start_time": "2023-01-28T19:54:28.816Z"
   },
   {
    "duration": 5,
    "start_time": "2023-01-28T19:54:29.065Z"
   },
   {
    "duration": 12,
    "start_time": "2023-01-28T19:54:29.071Z"
   },
   {
    "duration": 7,
    "start_time": "2023-01-28T19:54:29.084Z"
   },
   {
    "duration": 6,
    "start_time": "2023-01-28T19:54:29.092Z"
   },
   {
    "duration": 187,
    "start_time": "2023-01-28T19:54:29.099Z"
   },
   {
    "duration": 184,
    "start_time": "2023-01-28T19:54:29.287Z"
   },
   {
    "duration": 11,
    "start_time": "2023-01-28T19:54:29.473Z"
   },
   {
    "duration": 7,
    "start_time": "2023-01-28T19:54:29.486Z"
   },
   {
    "duration": 9,
    "start_time": "2023-01-28T19:54:29.495Z"
   },
   {
    "duration": 16,
    "start_time": "2023-01-28T19:54:29.505Z"
   },
   {
    "duration": 153,
    "start_time": "2023-01-28T19:54:29.523Z"
   },
   {
    "duration": 6,
    "start_time": "2023-01-28T19:54:29.681Z"
   },
   {
    "duration": 21,
    "start_time": "2023-01-28T19:54:29.689Z"
   },
   {
    "duration": 33,
    "start_time": "2023-01-28T19:54:29.711Z"
   },
   {
    "duration": 52,
    "start_time": "2023-01-28T19:54:29.745Z"
   },
   {
    "duration": 10,
    "start_time": "2023-01-28T19:54:29.799Z"
   },
   {
    "duration": 8,
    "start_time": "2023-01-28T19:54:29.810Z"
   },
   {
    "duration": 22,
    "start_time": "2023-01-28T19:54:29.820Z"
   },
   {
    "duration": 14,
    "start_time": "2023-01-28T19:54:29.844Z"
   },
   {
    "duration": 1528,
    "start_time": "2023-01-29T17:38:19.801Z"
   },
   {
    "duration": 184,
    "start_time": "2023-01-29T17:38:21.331Z"
   },
   {
    "duration": 29,
    "start_time": "2023-01-29T17:38:21.517Z"
   },
   {
    "duration": 17,
    "start_time": "2023-01-29T17:38:21.548Z"
   },
   {
    "duration": 41,
    "start_time": "2023-01-29T17:38:21.567Z"
   },
   {
    "duration": 10,
    "start_time": "2023-01-29T17:38:21.613Z"
   },
   {
    "duration": 23,
    "start_time": "2023-01-29T17:38:21.624Z"
   },
   {
    "duration": 19,
    "start_time": "2023-01-29T17:38:21.649Z"
   },
   {
    "duration": 26,
    "start_time": "2023-01-29T17:38:21.670Z"
   },
   {
    "duration": 40,
    "start_time": "2023-01-29T17:38:21.699Z"
   },
   {
    "duration": 14,
    "start_time": "2023-01-29T17:38:21.740Z"
   },
   {
    "duration": 80,
    "start_time": "2023-01-29T17:38:21.756Z"
   },
   {
    "duration": 29,
    "start_time": "2023-01-29T17:38:21.838Z"
   },
   {
    "duration": 24,
    "start_time": "2023-01-29T17:38:21.869Z"
   },
   {
    "duration": 51,
    "start_time": "2023-01-29T17:38:21.895Z"
   },
   {
    "duration": 48,
    "start_time": "2023-01-29T17:38:21.948Z"
   },
   {
    "duration": 58,
    "start_time": "2023-01-29T17:38:21.998Z"
   },
   {
    "duration": 12,
    "start_time": "2023-01-29T17:38:22.058Z"
   },
   {
    "duration": 17,
    "start_time": "2023-01-29T17:38:22.071Z"
   },
   {
    "duration": 396,
    "start_time": "2023-01-29T17:38:22.089Z"
   },
   {
    "duration": 21,
    "start_time": "2023-01-29T17:38:22.487Z"
   },
   {
    "duration": 317,
    "start_time": "2023-01-29T17:38:22.510Z"
   },
   {
    "duration": 10,
    "start_time": "2023-01-29T17:38:22.829Z"
   },
   {
    "duration": 21,
    "start_time": "2023-01-29T17:38:22.842Z"
   },
   {
    "duration": 28,
    "start_time": "2023-01-29T17:38:22.865Z"
   },
   {
    "duration": 17,
    "start_time": "2023-01-29T17:38:22.895Z"
   },
   {
    "duration": 29,
    "start_time": "2023-01-29T17:38:22.914Z"
   },
   {
    "duration": 394,
    "start_time": "2023-01-29T17:38:22.948Z"
   },
   {
    "duration": 325,
    "start_time": "2023-01-29T17:38:23.344Z"
   },
   {
    "duration": 547,
    "start_time": "2023-01-29T17:38:23.671Z"
   },
   {
    "duration": 370,
    "start_time": "2023-01-29T17:38:24.220Z"
   },
   {
    "duration": 443,
    "start_time": "2023-01-29T17:38:24.591Z"
   },
   {
    "duration": 11,
    "start_time": "2023-01-29T17:38:25.036Z"
   },
   {
    "duration": 282,
    "start_time": "2023-01-29T17:38:25.049Z"
   },
   {
    "duration": 6,
    "start_time": "2023-01-29T17:38:25.333Z"
   },
   {
    "duration": 18,
    "start_time": "2023-01-29T17:38:25.341Z"
   },
   {
    "duration": 17,
    "start_time": "2023-01-29T17:38:25.361Z"
   },
   {
    "duration": 29,
    "start_time": "2023-01-29T17:38:25.380Z"
   },
   {
    "duration": 234,
    "start_time": "2023-01-29T17:38:25.411Z"
   },
   {
    "duration": 228,
    "start_time": "2023-01-29T17:38:25.647Z"
   },
   {
    "duration": 5,
    "start_time": "2023-01-29T17:38:25.877Z"
   },
   {
    "duration": 39,
    "start_time": "2023-01-29T17:38:25.898Z"
   },
   {
    "duration": 13,
    "start_time": "2023-01-29T17:38:25.938Z"
   },
   {
    "duration": 18,
    "start_time": "2023-01-29T17:38:25.953Z"
   },
   {
    "duration": 201,
    "start_time": "2023-01-29T17:38:25.972Z"
   },
   {
    "duration": 7,
    "start_time": "2023-01-29T17:38:26.174Z"
   },
   {
    "duration": 91,
    "start_time": "2023-01-29T17:38:26.183Z"
   },
   {
    "duration": 27,
    "start_time": "2023-01-29T17:38:26.276Z"
   },
   {
    "duration": 22,
    "start_time": "2023-01-29T17:38:26.306Z"
   },
   {
    "duration": 24,
    "start_time": "2023-01-29T17:38:26.330Z"
   },
   {
    "duration": 9,
    "start_time": "2023-01-29T17:38:26.356Z"
   },
   {
    "duration": 71,
    "start_time": "2023-01-29T17:38:26.367Z"
   },
   {
    "duration": 16,
    "start_time": "2023-01-29T17:38:26.440Z"
   }
  ],
  "kernelspec": {
   "display_name": "Python 3 (ipykernel)",
   "language": "python",
   "name": "python3"
  },
  "language_info": {
   "codemirror_mode": {
    "name": "ipython",
    "version": 3
   },
   "file_extension": ".py",
   "mimetype": "text/x-python",
   "name": "python",
   "nbconvert_exporter": "python",
   "pygments_lexer": "ipython3",
   "version": "3.9.12"
  },
  "toc": {
   "base_numbering": 1,
   "nav_menu": {},
   "number_sections": true,
   "sideBar": true,
   "skip_h1_title": true,
   "title_cell": "Table of Contents",
   "title_sidebar": "Contents",
   "toc_cell": false,
   "toc_position": {
    "height": "calc(100% - 180px)",
    "left": "10px",
    "top": "150px",
    "width": "165px"
   },
   "toc_section_display": true,
   "toc_window_display": false
  }
 },
 "nbformat": 4,
 "nbformat_minor": 2
}
