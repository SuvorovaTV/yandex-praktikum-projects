{
 "cells": [
  {
   "cell_type": "markdown",
   "metadata": {},
   "source": [
    "#     Проектная работа"
   ]
  },
  {
   "cell_type": "markdown",
   "metadata": {},
   "source": [
    "# Рынок заведений общественного питания Москвы"
   ]
  },
  {
   "cell_type": "markdown",
   "metadata": {},
   "source": [
    "# Описание проекта\n",
    "\n",
    "Инвесторы из фонда «Shut Up and Take My Money» решили попробовать себя в новой области и открыть заведение общественного питания в Москве. Заказчики ещё не знают, что это будет за место: кафе, ресторан, пиццерия, паб или бар, — и какими будут расположение, меню и цены.\n",
    "\n",
    "Для начала они просят вас — аналитика — подготовить исследование рынка Москвы, найти интересные особенности и презентовать полученные результаты, которые в будущем помогут в выборе подходящего инвесторам места.\n",
    "Постарайтесь сделать презентацию информативной и лаконичной. Её структура и оформление сильно влияют на восприятие информации читателями вашего исследования. Выбирать инструменты (matplotlib, seaborn и другие) и типы визуализаций вы можете самостоятельно.\n",
    "\n",
    "Вам доступен датасет с заведениями общественного питания Москвы, составленный на основе данных сервисов Яндекс Карты и Яндекс Бизнес на лето 2022 года. Информация, размещённая в сервисе Яндекс Бизнес, могла быть добавлена пользователями или найдена в общедоступных источниках. Она носит исключительно справочный характер."
   ]
  },
  {
   "cell_type": "markdown",
   "metadata": {},
   "source": [
    "# Описание данных\n",
    "\n",
    "Файл `moscow_places.csv`:\n",
    "\n",
    "`name` — название заведения;\n",
    "\n",
    "`address` — адрес заведения;\n",
    "\n",
    "`category` — категория заведения, например «кафе», «пиццерия» или «кофейня»;\n",
    "\n",
    "`hours` — информация о днях и часах работы;\n",
    "\n",
    "`lat` — широта географической точки, в которой находится заведение;\n",
    "\n",
    "`lng` — долгота географической точки, в которой находится заведение;\n",
    "\n",
    "`rating` — рейтинг заведения по оценкам пользователей в Яндекс Картах (высшая оценка — `5.0`);\n",
    "\n",
    "`price` — категория цен в заведении, например «средние», «ниже среднего», «выше среднего» и так далее;\n",
    "\n",
    "`avg_bill` — строка, которая хранит среднюю стоимость заказа в виде диапазона, например:\n",
    "\n",
    "* «Средний счёт: 1000–1500 ₽»;\n",
    "\n",
    "* «Цена чашки капучино: 130–220 ₽»;\n",
    "\n",
    "* «Цена бокала пива: 400–600 ₽».\n",
    "\n",
    "   и так далее;\n",
    "\n",
    "`middle_avg_bill` — число с оценкой среднего чека, которое указано только для значений из столбца `avg_bill`, начинающихся с подстроки «Средний счёт»:\n",
    "\n",
    "* Если в строке указан ценовой диапазон из двух значений, в столбец войдёт медиана этих двух значений.\n",
    "\n",
    "* Если в строке указано одно число — цена без диапазона, то в столбец войдёт это число.\n",
    "\n",
    "* Если значения нет или оно не начинается с подстроки «Средний счёт», то в столбец ничего не войдёт.\n",
    "\n",
    "`middle_coffee_cup` — число с оценкой одной чашки капучино, которое указано только для значений из столбца `avg_bill`, начинающихся с подстроки «Цена одной чашки капучино»:\n",
    "\n",
    "* Если в строке указан ценовой диапазон из двух значений, в столбец войдёт медиана этих двух значений.\n",
    "\n",
    "* Если в строке указано одно число — цена без диапазона, то в столбец войдёт это число.\n",
    "\n",
    "* Если значения нет или оно не начинается с подстроки «Цена одной чашки капучино», то в столбец ничего не войдёт.\n",
    "\n",
    "`chain` — число, выраженное `0` или `1`, которое показывает, является ли заведение сетевым (для маленьких сетей могут встречаться ошибки):\n",
    "\n",
    "* 0 — заведение не является сетевым\n",
    "\n",
    "* 1 — заведение является сетевым\n",
    "\n",
    "`district` — административный район, в котором находится заведение, например Центральный административный округ;\n",
    "\n",
    "`seats` — количество посадочных мест."
   ]
  },
  {
   "cell_type": "markdown",
   "metadata": {},
   "source": [
    "# Инструкция по выполнению проекта\n",
    "\n",
    "# Шаг 1. Загрузите данные и изучите общую информацию\n",
    "\n",
    "Загрузите данные о заведениях общественного питания Москвы.\n",
    "Путь к файлу: `/datasets/moscow_places.csv.`\n",
    "Изучите общую информацию о датасете. Сколько заведений представлено? Что можно сказать о каждом столбце? Значения какого типа они хранят? \n",
    "\n",
    "# Шаг 2. Выполните предобработку данных\n",
    "\n",
    "Изучите, есть ли дубликаты в данных. Поищите пропуски: встречаются ли они, в каких столбцах? Можно ли их обработать или оставить как есть?\n",
    "\n",
    "Выполните предобработку данных:\n",
    "\n",
    "* Создайте столбец `street` с названиями улиц из столбца с адресом.\n",
    "\n",
    "* Создайте столбец `is_24/7` с обозначением, что заведение работает ежедневно и круглосуточно (24/7):\n",
    "\n",
    "* логическое значение `True` — если заведение работает ежедневно и круглосуточно;\n",
    "* логическое значение `False` — в противоположном случае.\n",
    "\n",
    "# Шаг 3. Анализ данных\n",
    "\n",
    "* Какие категории заведений представлены в данных? Исследуйте количество объектов общественного питания по категориям: рестораны, кофейни, пиццерии, бары и так далее. Постройте визуализации. Ответьте на вопрос о распределении заведений по категориям.\n",
    "\n",
    "* Исследуйте количество посадочных мест в местах по категориям: рестораны, кофейни, пиццерии, бары и так далее. Постройте визуализации. Проанализируйте результаты и сделайте выводы.\n",
    "\n",
    "* Рассмотрите и изобразите соотношение сетевых и несетевых заведений в датасете. Каких заведений больше?\n",
    "\n",
    "* Какие категории заведений чаще являются сетевыми? Исследуйте данные и ответьте на вопрос графиком.\n",
    "\n",
    "* Сгруппируйте данные по названиям заведений и найдите топ-15 популярных сетей в Москве. Под популярностью понимается количество заведений этой сети в регионе. Постройте подходящую для такой информации визуализацию. Знакомы ли вам эти сети? Есть ли какой-то признак, который их объединяет? К какой категории заведений они относятся?\n",
    "\n",
    "* Какие административные районы Москвы присутствуют в датасете? Отобразите общее количество заведений и количество заведений каждой категории по районам. Попробуйте проиллюстрировать эту информацию одним графиком.\n",
    "\n",
    "* Визуализируйте распределение средних рейтингов по категориям заведений. Сильно ли различаются усреднённые рейтинги в разных типах общепита?\n",
    "\n",
    "* Постройте фоновую картограмму (хороплет) со средним рейтингом заведений каждого района. Границы районов Москвы, которые встречаются в датасете, хранятся в файле `admin_level_geomap.geojson`.\n",
    "\n",
    "* Отобразите все заведения датасета на карте с помощью кластеров средствами библиотеки `folium`.\n",
    "\n",
    "* Найдите топ-15 улиц по количеству заведений. Постройте график распределения количества заведений и их категорий по этим улицам. Попробуйте проиллюстрировать эту информацию одним графиком.\n",
    "\n",
    "* Найдите улицы, на которых находится только один объект общепита. Что можно сказать об этих заведениях?\n",
    "\n",
    "* Значения средних чеков заведений хранятся в столбце `middle_avg_bill`. Эти числа показывают примерную стоимость заказа в рублях, которая чаще всего выражена диапазоном. Посчитайте медиану этого столбца для каждого района. Используйте это значение в качестве ценового индикатора района. Постройте фоновую картограмму (хороплет) с полученными значениями для каждого района. Проанализируйте цены в центральном административном округе и других. Как удалённость от центра влияет на цены в заведениях?\n",
    "\n",
    "* Необязательное задание: проиллюстрируйте другие взаимосвязи, которые вы нашли в данных. Например, по желанию исследуйте часы работы заведений и их зависимость от расположения и категории заведения. Также можно исследовать особенности заведений с плохими рейтингами, средние чеки в таких местах и распределение по категориям заведений.\n",
    "\n",
    "* Соберите наблюдения по вопросам выше в один общий вывод.\n",
    "\n",
    "# Шаг 4. Детализируем исследование: открытие кофейни\n",
    "\n",
    "Основателям фонда «Shut Up and Take My Money» не даёт покоя успех сериала «Друзья». Их мечта — открыть такую же крутую и доступную, как «Central Perk», кофейню в Москве. Будем считать, что заказчики не боятся конкуренции в этой сфере, ведь кофеен в больших городах уже достаточно. Попробуйте определить, осуществима ли мечта клиентов.\n",
    "\n",
    "Ответьте на следующие вопросы:\n",
    "\n",
    "* Сколько всего кофеен в датасете? В каких районах их больше всего, каковы особенности их расположения?\n",
    "* Есть ли круглосуточные кофейни?\n",
    "* Какие у кофеен рейтинги? Как они распределяются по районам?\n",
    "* На какую стоимость чашки капучино стоит ориентироваться при открытии и почему?\n",
    "\n",
    "По желанию вы можете расширить список вопросов для исследования, добавив собственные.\n",
    "Постройте визуализации. Попробуйте дать рекомендацию для открытия нового заведения. Это творческое задание: здесь нет правильного или неправильного ответа, но ваше решение должно быть чем-то обосновано. Объяснить свою рекомендацию можно текстом с описанием или маркерами на географической карте.\n",
    "\n",
    "# Шаг 5. Подготовка презентации\n",
    "\n",
    "Подготовьте презентацию исследования для инвесторов. Отвечая на вопросы о московском общепите, вы уже построили много диаграмм, и помещать каждую из них в презентацию не нужно. Выберите важные тезисы и наблюдения, которые могут заинтересовать заказчиков. \n",
    "Для создания презентации используйте любой удобный инструмент, но отправить презентацию нужно обязательно в формате PDF. \n",
    "\n",
    "Приложите ссылку на презентацию в markdown-ячейке в формате:\n",
    "\n",
    "Презентация: <ссылка на облачное хранилище с презентацией> "
   ]
  },
  {
   "cell_type": "markdown",
   "metadata": {},
   "source": [
    "## Загрузите данные и изучите общую информацию"
   ]
  },
  {
   "cell_type": "code",
   "execution_count": 1,
   "metadata": {},
   "outputs": [
    {
     "ename": "ModuleNotFoundError",
     "evalue": "No module named 'folium'",
     "output_type": "error",
     "traceback": [
      "\u001b[1;31m---------------------------------------------------------------------------\u001b[0m",
      "\u001b[1;31mModuleNotFoundError\u001b[0m                       Traceback (most recent call last)",
      "Input \u001b[1;32mIn [1]\u001b[0m, in \u001b[0;36m<cell line: 10>\u001b[1;34m()\u001b[0m\n\u001b[0;32m      8\u001b[0m \u001b[38;5;28;01mimport\u001b[39;00m \u001b[38;5;21;01mplotly\u001b[39;00m\u001b[38;5;21;01m.\u001b[39;00m\u001b[38;5;21;01mexpress\u001b[39;00m \u001b[38;5;28;01mas\u001b[39;00m \u001b[38;5;21;01mpx\u001b[39;00m\n\u001b[0;32m      9\u001b[0m \u001b[38;5;28;01mimport\u001b[39;00m \u001b[38;5;21;01mplotly\u001b[39;00m\u001b[38;5;21;01m.\u001b[39;00m\u001b[38;5;21;01mgraph_objects\u001b[39;00m \u001b[38;5;28;01mas\u001b[39;00m \u001b[38;5;21;01mgo\u001b[39;00m\n\u001b[1;32m---> 10\u001b[0m \u001b[38;5;28;01mimport\u001b[39;00m \u001b[38;5;21;01mfolium\u001b[39;00m\n\u001b[0;32m     11\u001b[0m \u001b[38;5;28;01mimport\u001b[39;00m \u001b[38;5;21;01mwarnings\u001b[39;00m; warnings\u001b[38;5;241m.\u001b[39mfilterwarnings(action\u001b[38;5;241m=\u001b[39m\u001b[38;5;124m'\u001b[39m\u001b[38;5;124mignore\u001b[39m\u001b[38;5;124m'\u001b[39m)\n\u001b[0;32m     12\u001b[0m \u001b[38;5;28;01mimport\u001b[39;00m \u001b[38;5;21;01mre\u001b[39;00m\n",
      "\u001b[1;31mModuleNotFoundError\u001b[0m: No module named 'folium'"
     ]
    }
   ],
   "source": [
    "# импортируем библиотеки\n",
    "\n",
    "import pandas as pd\n",
    "import numpy as np\n",
    "import matplotlib as mpl\n",
    "import matplotlib.pyplot as plt\n",
    "import seaborn as sns\n",
    "import plotly.express as px\n",
    "import plotly.graph_objects as go\n",
    "import folium\n",
    "import warnings; warnings.filterwarnings(action='ignore')\n",
    "import re\n",
    "import json\n",
    "from folium.plugins import MarkerCluster\n",
    "\n",
    "# устанавливаем стиль графиков\n",
    "sns.set_style('darkgrid')  \n",
    "sns.set_context('notebook')    \n",
    "sns.set_style('ticks')    \n",
    "\n",
    "# Чтобы при выводе таблицы отображался весь столбец с описанием\n",
    "\n",
    "pd.set_option('display.max_colwidth', 0)"
   ]
  },
  {
   "cell_type": "code",
   "execution_count": null,
   "metadata": {},
   "outputs": [],
   "source": [
    "def first_look(df):\n",
    "    \"\"\"Display basic information about the dataframe\"\"\"\n",
    "    \n",
    "    display(df.info())\n",
    "    display(df.head(5))\n",
    "    display(df.describe())\n",
    "    display('Пропуски %:', round((df.isna().mean()*100),2))\n",
    "    display('Количество дубликатов:', df.duplicated().sum())\n",
    "    display('Дубликаты по сочетанию названия и адреса:',df.duplicated(subset=['name', 'address']).sum())"
   ]
  },
  {
   "cell_type": "code",
   "execution_count": null,
   "metadata": {},
   "outputs": [],
   "source": [
    "# загрузим файлы с данными и сохраненим в df\n",
    "\n",
    "    \n",
    "try:\n",
    "    df = (pd.read_csv('/Users/Амина/Downloads/moscow_places.csv')     \n",
    "    )\n",
    "except:\n",
    "    df = (pd.read_csv('/datasets/moscow_places.csv')\n",
    "    )\n",
    "first_look(df)"
   ]
  },
  {
   "cell_type": "code",
   "execution_count": null,
   "metadata": {},
   "outputs": [],
   "source": [
    "numbers_of_nulls = pd.DataFrame(columns=['names'], data=df.columns)\n",
    "numbers_of_nulls['nulls'] = df.isna().sum().values\n",
    "numbers_of_nulls['nulls_percent'] = round((numbers_of_nulls['nulls']/df.shape[0]*100),2)\n",
    "numbers_of_nulls"
   ]
  },
  {
   "cell_type": "markdown",
   "metadata": {},
   "source": [
    "Таблица содержит информацию о 8406-х разнообразных точках питания в Москве. Имеются пропуски данных, дубликатов нет, а так же по сочетанию названия и адреса тоже нет. Большая часть колонок представляет собой объекты категориального характера, типы колонок верные. Пропуски пока оставляем, будем анализировать только доступную информацию, очень большое кол-во пропуков, тогда знасение будет иметь неправдивый результат исследования."
   ]
  },
  {
   "cell_type": "markdown",
   "metadata": {},
   "source": [
    "## Выполните предобработку данных"
   ]
  },
  {
   "cell_type": "markdown",
   "metadata": {},
   "source": [
    "   * Создадим столбец `street` с названиями улиц из столбца с адресом"
   ]
  },
  {
   "cell_type": "code",
   "execution_count": null,
   "metadata": {},
   "outputs": [],
   "source": [
    "df['street'] = [re.split('\\,', x)[1] for x in df['address']]\n",
    "df['street'] = df['street'].str.lstrip()"
   ]
  },
  {
   "cell_type": "markdown",
   "metadata": {
    "scrolled": true
   },
   "source": [
    "```python\n",
    "data['address'].str.split(', ').str[1]\n",
    "```"
   ]
  },
  {
   "cell_type": "code",
   "execution_count": null,
   "metadata": {},
   "outputs": [],
   "source": [
    "# проверим корректность\n",
    "\n",
    "df['check_street_spelling'] = [1 if (\n",
    "    'ул.' or 'пер.' or 'ш.' or 'пр.' or 'б.' or 'бул.') in x else 0 for x in df['street']]"
   ]
  },
  {
   "cell_type": "code",
   "execution_count": null,
   "metadata": {},
   "outputs": [],
   "source": [
    "df[df['check_street_spelling'] > 0]"
   ]
  },
  {
   "cell_type": "code",
   "execution_count": null,
   "metadata": {
    "scrolled": true
   },
   "outputs": [],
   "source": [
    "df[df['street'] == 'Ярославская улица'].head()"
   ]
  },
  {
   "cell_type": "code",
   "execution_count": null,
   "metadata": {
    "scrolled": true
   },
   "outputs": [],
   "source": [
    "df[df['street'] == 'Нагорная улица'].head()"
   ]
  },
  {
   "cell_type": "code",
   "execution_count": null,
   "metadata": {
    "scrolled": true
   },
   "outputs": [],
   "source": [
    "df[df['street'] == 'Варшавское шоссе'].head()"
   ]
  },
  {
   "cell_type": "code",
   "execution_count": null,
   "metadata": {},
   "outputs": [],
   "source": [
    "df['street'] = [x.replace('ул. Ярославская','Ярославская улица') for x in df['street']]\n",
    "df['street'] = [x.replace('ул. Профсоюзная','Профсоюзная улица') for x in df['street']]"
   ]
  },
  {
   "cell_type": "code",
   "execution_count": null,
   "metadata": {
    "scrolled": true
   },
   "outputs": [],
   "source": [
    "df[df['check_street_spelling'] > 0]"
   ]
  },
  {
   "cell_type": "markdown",
   "metadata": {},
   "source": [
    "  * Создадим столбец `is_24/7` с обозначением, что заведение работает ежедневно и круглосуточно (24/7)"
   ]
  },
  {
   "cell_type": "code",
   "execution_count": null,
   "metadata": {},
   "outputs": [],
   "source": [
    "df['is_24/7'] = [True if x == 'ежедневно, круглосуточно' else False for x in df['hours']]"
   ]
  },
  {
   "cell_type": "markdown",
   "metadata": {},
   "source": [
    "```python\n",
    "data['hours'].str.contains('ежедневно, круглосуточно')\n",
    "\n",
    "```"
   ]
  },
  {
   "cell_type": "code",
   "execution_count": null,
   "metadata": {
    "scrolled": true
   },
   "outputs": [],
   "source": [
    "# посмотрим на распределение стоимости общего среднего чека\n",
    "\n",
    "df['middle_avg_bill'].hist()\n",
    "\n",
    "plt.title('Распределение стоимости общего среднего чека')\n",
    "\n",
    "plt.show()"
   ]
  },
  {
   "cell_type": "code",
   "execution_count": null,
   "metadata": {
    "scrolled": true
   },
   "outputs": [],
   "source": [
    "df[df['middle_avg_bill'] < np.quantile(\n",
    "    df[~df['middle_avg_bill'].isna()][\n",
    "        'middle_avg_bill'], 0.95)]['middle_avg_bill'].hist()\n",
    "\n",
    "plt.title('Распределение стоимости общего среднего чека')\n",
    "\n",
    "plt.show()"
   ]
  },
  {
   "cell_type": "markdown",
   "metadata": {},
   "source": [
    "Распределение довольно большое, поэтому при дальнейшем анализе данных из столбца будем использовать все значения, лежащие в пределах 95% квантиля."
   ]
  },
  {
   "cell_type": "code",
   "execution_count": null,
   "metadata": {},
   "outputs": [],
   "source": [
    "# посмотрим на распределение стоимости кофе\n",
    "\n",
    "df['middle_coffee_cup'].hist()\n",
    "\n",
    "plt.title('Распределение стоимости кофе')\n",
    "\n",
    "plt.show()"
   ]
  },
  {
   "cell_type": "code",
   "execution_count": null,
   "metadata": {},
   "outputs": [],
   "source": [
    "df[df['middle_coffee_cup'] < np.quantile(\n",
    "    df[~df['middle_coffee_cup'].isna()][\n",
    "        'middle_coffee_cup'], 0.99)]['middle_coffee_cup'].hist()\n",
    "plt.title('Распределение стоимости кофе')\n",
    "\n",
    "plt.show()"
   ]
  },
  {
   "cell_type": "markdown",
   "metadata": {},
   "source": [
    "В распределении есть отдельные выбросы, поэтому при дальнейшем анализе данных из столбца будем использовать все значения, лежащие в пределах 99% квантиля."
   ]
  },
  {
   "cell_type": "code",
   "execution_count": null,
   "metadata": {},
   "outputs": [],
   "source": [
    "# добавим колонки с расчетом макс, мин и медианных цен за пиво\n",
    "\n",
    "\n",
    "df['highest_price_beer_glass'] = [re.findall(\n",
    "    r'\\d+', str(x))[-1] if 'бокал' in str(x) else 0 for x in df['avg_bill']]\n",
    "\n",
    "df['lowest_price_beer_glass'] = [re.findall(\n",
    "    r'\\d+', str(x))[0] if 'бокал' in str(x) else 0 for x in df['avg_bill']]\n",
    "\n",
    "df['middle_beer_price'] = np.array(list(map(np.median, zip(\n",
    "    df['highest_price_beer_glass'].astype(int), df['lowest_price_beer_glass'].astype(int)))))"
   ]
  },
  {
   "cell_type": "code",
   "execution_count": null,
   "metadata": {},
   "outputs": [],
   "source": [
    "# посмотрим на распределение стоимости пива\n",
    "\n",
    "df[df['middle_beer_price'] != 0]['middle_beer_price'].hist()\n",
    "\n",
    "plt.title('Распределение стоимости пива')\n",
    "\n",
    "plt.show()"
   ]
  },
  {
   "cell_type": "markdown",
   "metadata": {},
   "source": [
    "Распределение нормальное."
   ]
  },
  {
   "cell_type": "code",
   "execution_count": null,
   "metadata": {},
   "outputs": [],
   "source": [
    "# посмотрим на распределение посадочных мест\n",
    "\n",
    "df['seats'].hist()\n",
    "\n",
    "plt.title('Распределение посадочных мест')\n",
    "\n",
    "plt.show()"
   ]
  },
  {
   "cell_type": "code",
   "execution_count": null,
   "metadata": {},
   "outputs": [],
   "source": [
    "df[df['seats'] < np.quantile(\n",
    "    df[~df['seats'].isna()][\n",
    "        'seats'], 0.95)]['seats'].hist()\n",
    "\n",
    "plt.title('Распределение посадочных мест')\n",
    "\n",
    "plt.show()"
   ]
  },
  {
   "cell_type": "markdown",
   "metadata": {},
   "source": [
    "Распределение довольно большое, поэтому при дальнейшем анализе данных из столбца будем использовать все значения, лежащие в пределах 95% квантиля."
   ]
  },
  {
   "cell_type": "code",
   "execution_count": null,
   "metadata": {},
   "outputs": [],
   "source": [
    "# проверим распределение пропусков по стоимости кофе по округам для более точных дальнейших выводов\n",
    "\n",
    "[print(f'{district}:',round(df[(df['category'] == 'кофейня') & (df['district'] == district)][\n",
    "    'middle_coffee_cup'].isna().mean(),2)) for district in df[df['category'] == 'кофейня']['district'].unique()]"
   ]
  },
  {
   "cell_type": "markdown",
   "metadata": {},
   "source": [
    "Пропуски особо не отличаются."
   ]
  },
  {
   "cell_type": "code",
   "execution_count": null,
   "metadata": {},
   "outputs": [],
   "source": [
    "# проверим распределение пропусков по среднему чеку по округам для более точных дальнейших выводов\n",
    "\n",
    "[print(f'{district}:',round(df[df['district'] == district][\n",
    "    'middle_avg_bill'].isna().mean(),2)) for district in df['district'].unique()]"
   ]
  },
  {
   "cell_type": "markdown",
   "metadata": {},
   "source": [
    "Пропуски распределены относительно равномерно, наибольшая доля в ЮВАО.\n",
    "\n",
    " При подготовке df было замечено большое количество пропусков во всех столбцах с информацией о стоимости, а также, в столбце с количеством посадочных мест, пропуски решено оставить и анализировать только доступную часть информации.\n",
    "\n",
    " Обнаружены выбросы в распределениях по среднему чеку, средней стоимости кофе, кол-ву посадочных мест - определили квантили, в рамках которых будем анализировать данные столбцы.\n",
    "\n",
    " Пропуски в столбцах со средним чеком и средней стоимостью кофе по округам распределены примерно равномерно.\n",
    "\n",
    " Явных дубликатов не обнаружено, дубликатов по сочетанию названия+адреса не обнаружено.\n",
    "\n",
    " Проверены и заменены названия улиц с сокращениями, такие, как ул., пер., ш. и т.д. Создали столбец `street` с названиями улиц из столбца с адресом и `is_24/7` с обозначением, что заведение работает ежедневно и круглосуточно (24/7)., макс/мин и медианных цен на пиво."
   ]
  },
  {
   "cell_type": "markdown",
   "metadata": {},
   "source": [
    "## Анализ данных"
   ]
  },
  {
   "cell_type": "markdown",
   "metadata": {},
   "source": [
    "### Исследуйте количество объектов общественного питания по категориям: рестораны, кофейни, пиццерии, бары и так далее."
   ]
  },
  {
   "cell_type": "code",
   "execution_count": null,
   "metadata": {},
   "outputs": [],
   "source": [
    "print('Всего уникальных названий:', df['name'].nunique())"
   ]
  },
  {
   "cell_type": "code",
   "execution_count": null,
   "metadata": {},
   "outputs": [],
   "source": [
    "df['category'].value_counts()"
   ]
  },
  {
   "cell_type": "code",
   "execution_count": null,
   "metadata": {},
   "outputs": [],
   "source": [
    "plt.figure(figsize=(7,9))\n",
    "plt.title('Распределение заведений по категориям')\n",
    "\n",
    "data = list(df['category'].value_counts())\n",
    "\n",
    "y_axis = data\n",
    "max_val = max(y_axis)\n",
    "max_index = y_axis.index(max_val)\n",
    "explode = tuple([0 if i!=max_index else 0.05 for i in range(len(y_axis))])\n",
    "\n",
    "plt.pie(data, labels=df['category'].unique(), explode=explode, autopct='%.0f%%')\n",
    "plt.show()"
   ]
  },
  {
   "cell_type": "markdown",
   "metadata": {},
   "source": [
    "Больше всего заведений в категории кафе и ресторан и кофейня (28% и 24% и 17% соответственно). Меньше всего столовых и булочных (3% и 4% соответственно)."
   ]
  },
  {
   "cell_type": "code",
   "execution_count": null,
   "metadata": {},
   "outputs": [],
   "source": [
    "# посмотрим категории по округам\n",
    "\n",
    "def get_category_distrib_per_district(district):\n",
    "    plt.figure(figsize=(7,9))\n",
    "    plt.title(f'Распределение заведений по категориям в {district}')\n",
    "\n",
    "    data = df[df['district'] == district].groupby('category')['name'].count()\n",
    "    \n",
    "    y_axis = data\n",
    "    max_val = max(y_axis)\n",
    "    max_index = y_axis.idxmax()\n",
    "    explode = tuple([0 if i!=max_index else 0.05 for i in range(len(y_axis))])\n",
    "\n",
    "    plt.pie(data, labels=data.index, explode=explode, autopct='%.0f%%')\n",
    "    plt.show()"
   ]
  },
  {
   "cell_type": "code",
   "execution_count": null,
   "metadata": {
    "scrolled": true
   },
   "outputs": [],
   "source": [
    "for dis in df['district'].unique():\n",
    "    get_category_distrib_per_district(dis)"
   ]
  },
  {
   "cell_type": "markdown",
   "metadata": {},
   "source": [
    "Явно видно, что, кафе и рестораны имеют преимущество.\n",
    "Наибольшее распространение имеют кафе во всех округах, кроме ЦАО.\n",
    "Можно отметить, что пропорции примерно одинаковые во всех нецентральных округах.\n",
    "По этим графикам кажется, что, если открывать кофейню, то лучшим местом будет ЮВАО из-за меньшей конкуренции, но нужно проанализировать и других факторы.\n"
   ]
  },
  {
   "cell_type": "markdown",
   "metadata": {},
   "source": [
    "### Исследуйте количество посадочных мест в местах по категориям: рестораны, кофейни, пиццерии, бары и так далее."
   ]
  },
  {
   "cell_type": "code",
   "execution_count": null,
   "metadata": {},
   "outputs": [],
   "source": [
    "round(df[df['seats'] < np.quantile(df[~df['seats'].isna()][\n",
    "    'seats'], 0.95)].groupby('category')['seats'].mean().sort_values(ascending=False), 2)"
   ]
  },
  {
   "cell_type": "code",
   "execution_count": null,
   "metadata": {},
   "outputs": [],
   "source": [
    "x = df[df['seats'] < np.quantile(df[~df['seats'].isna()][\n",
    "    'seats'], 0.95)].groupby('category')['seats'].mean().sort_values()\n",
    "y = df[df['seats'] < np.quantile(df[~df['seats'].isna()][\n",
    "    'seats'], 0.95)].groupby('category')['seats'].mean().index\n",
    "\n",
    "fig = px.bar(df, x=x, y=y, title='Среднее количество посадочных мест по категории')\n",
    "\n",
    "fig.update_layout(xaxis_title='Количество посадочных мест',\n",
    "                   yaxis_title='Категория')\n",
    "\n",
    "fig.show()"
   ]
  },
  {
   "cell_type": "markdown",
   "metadata": {},
   "source": [
    "Наибольше вместительны столовые и рестораны (значения >90), менее вместительны бары, пабы, булочные(значение до 80). Пиццерии, кофейни и кафе (значения от 81 до 89). "
   ]
  },
  {
   "cell_type": "markdown",
   "metadata": {},
   "source": [
    "### Рассмотрите и изобразите соотношение сетевых и несетевых заведений в датасете."
   ]
  },
  {
   "cell_type": "code",
   "execution_count": null,
   "metadata": {},
   "outputs": [],
   "source": [
    "print('Доля сетевых заведений от общего числа:', round(df['chain'].mean(),2))"
   ]
  },
  {
   "cell_type": "code",
   "execution_count": null,
   "metadata": {},
   "outputs": [],
   "source": [
    "def get_ratio_of_chains(category):\n",
    "    print(f'Доля сетевых в {category}:', round(df[df['category'] == category]['chain'].mean(),2))"
   ]
  },
  {
   "cell_type": "code",
   "execution_count": null,
   "metadata": {},
   "outputs": [],
   "source": [
    "for cat in df['category'].unique():\n",
    "    get_ratio_of_chains(cat)"
   ]
  },
  {
   "cell_type": "code",
   "execution_count": null,
   "metadata": {},
   "outputs": [],
   "source": [
    "plt.figure(figsize=(7,9))\n",
    "plt.title('Соотношение сетевых и несетевых заведений от общего числа')\n",
    "\n",
    "data = [df['chain'].mean(), 1 - df['chain'].mean()]\n",
    "\n",
    "plt.pie(data, labels = ['Сетевые','Несетевые'], autopct='%.0f%%')\n",
    "plt.show()"
   ]
  },
  {
   "cell_type": "markdown",
   "metadata": {},
   "source": [
    "62% - Несетевые заведения, 38% - Сетевых."
   ]
  },
  {
   "cell_type": "markdown",
   "metadata": {},
   "source": [
    "### Какие категории заведений чаще являются сетевыми?"
   ]
  },
  {
   "cell_type": "code",
   "execution_count": null,
   "metadata": {},
   "outputs": [],
   "source": [
    "chains = df[df['chain'] == 1]"
   ]
  },
  {
   "cell_type": "code",
   "execution_count": null,
   "metadata": {},
   "outputs": [],
   "source": [
    "chains = chains['category'].value_counts()\n",
    "chains"
   ]
  },
  {
   "cell_type": "code",
   "execution_count": null,
   "metadata": {},
   "outputs": [],
   "source": [
    "plt.figure(figsize=(7,9))\n",
    "plt.title('Распределение долей категорий заведений среди сетевых')\n",
    "\n",
    "data = list(chains)\n",
    "\n",
    "y_axis = data\n",
    "max_val = max(y_axis)\n",
    "max_index = y_axis.index(max_val)\n",
    "explode = tuple([0 if i!=max_index else 0.05 for i in range(len(y_axis))])\n",
    "\n",
    "plt.pie(data, labels=chains.index, explode=explode, autopct='%.0f%%')\n",
    "plt.show()"
   ]
  },
  {
   "cell_type": "markdown",
   "metadata": {},
   "source": [
    "Больше всего в распределении долей категорий среди сетевых преобладают: кафе, ресторан, кофейня(24%, 23%, 22% соответственно). Менее всего столовая, булочная, бар,паб(3%, 5%, 5% соответственно)."
   ]
  },
  {
   "cell_type": "code",
   "execution_count": null,
   "metadata": {},
   "outputs": [],
   "source": [
    "chain_share = round(df.groupby('category')['chain'].agg(['count', 'mean']).sort_values('mean', ascending=False),2)\n",
    "chain_share"
   ]
  },
  {
   "cell_type": "code",
   "execution_count": null,
   "metadata": {},
   "outputs": [],
   "source": [
    "y = chain_share['mean'].index\n",
    "x = chain_share['mean']\n",
    "\n",
    "plt.figure(figsize=(9,7))\n",
    "sns.barplot(x=x, y=y, data=chain_share['mean'].reset_index())\n",
    "\n",
    "plt.title('Доля сетевых заведений по категориям от общего числа')\n",
    "plt.xlabel('Доля')\n",
    "plt.ylabel('Категория')\n",
    "\n",
    "plt.show()"
   ]
  },
  {
   "cell_type": "markdown",
   "metadata": {},
   "source": [
    "Доля сетевых заведений по категориям от общего числа у булочной является самая высокая(0.61), а самая маленькая - у бара, паба(0.22)."
   ]
  },
  {
   "cell_type": "markdown",
   "metadata": {},
   "source": [
    "### Сгруппируйте данные по названиям заведений и найдите топ-15 популярных сетей в Москве."
   ]
  },
  {
   "cell_type": "code",
   "execution_count": null,
   "metadata": {},
   "outputs": [],
   "source": [
    "top_chains = df[df['chain'] == 1]['name'].value_counts().head(15)\n",
    "top_chains"
   ]
  },
  {
   "cell_type": "code",
   "execution_count": null,
   "metadata": {},
   "outputs": [],
   "source": [
    "y = top_chains.index\n",
    "x = top_chains\n",
    "\n",
    "plt.figure(figsize=(9,7))\n",
    "sns.barplot(x=x, y=y, data=top_chains.reset_index())\n",
    "\n",
    "plt.title('Количество заведений по ТОП-15 сетям')\n",
    "plt.xlabel('Количество заведений')\n",
    "plt.ylabel('Название сети')\n",
    "\n",
    "plt.show()"
   ]
  },
  {
   "cell_type": "markdown",
   "metadata": {},
   "source": [
    "В топ-15 заведений лидирует Шоколадница(120), менее всего у заведения Му-Му(27). Данные сети знакомы, на мой взгляд признак объединения очевиден в доступности, удаленности в отношении метро, относятся к разным категориям, т.к. если заметить есть даже онлайн-доставка Яндекс Лавка[ресторан]."
   ]
  },
  {
   "cell_type": "code",
   "execution_count": null,
   "metadata": {},
   "outputs": [],
   "source": [
    "top_chains = df[df['name'].isin(list(top_chains.index))]"
   ]
  },
  {
   "cell_type": "code",
   "execution_count": null,
   "metadata": {},
   "outputs": [],
   "source": [
    "top_chains.groupby('name')['category'].unique().reset_index()"
   ]
  },
  {
   "cell_type": "markdown",
   "metadata": {},
   "source": [
    "В зависимости от заведения имеют разные категории."
   ]
  },
  {
   "cell_type": "code",
   "execution_count": null,
   "metadata": {},
   "outputs": [],
   "source": [
    "print('Доля заведений 24/7 среди ТОП-15 сетей:', round(top_chains['is_24/7'].mean(),2))"
   ]
  },
  {
   "cell_type": "code",
   "execution_count": null,
   "metadata": {},
   "outputs": [],
   "source": [
    "top_chains.groupby('name')['is_24/7'].sum().sort_values(ascending=False)"
   ]
  },
  {
   "cell_type": "markdown",
   "metadata": {},
   "source": [
    "Всего 5% всех заведений, относящихся к ТОП-15 сетям, работают круглосуточно."
   ]
  },
  {
   "cell_type": "markdown",
   "metadata": {},
   "source": [
    "### Какие административные районы Москвы присутствуют в датасете? Отобразим общее количество заведений и количество заведений каждой категории по районам."
   ]
  },
  {
   "cell_type": "code",
   "execution_count": null,
   "metadata": {},
   "outputs": [],
   "source": [
    "# сделаем фильтры по округам\n",
    "\n",
    "sao = top_chains[top_chains['district'] == 'Северный административный округ'].groupby('category')['name'].count().sort_values(ascending=False)\n",
    "uao = top_chains[top_chains['district'] == 'Южный административный округ'].groupby('category')['name'].count().sort_values(ascending=False)\n",
    "svao = top_chains[top_chains['district'] == 'Северо-Восточный административный округ'].groupby('category')['name'].count().sort_values(ascending=False)\n",
    "szao = top_chains[top_chains['district'] == 'Северо-Западный административный округ'].groupby('category')['name'].count().sort_values(ascending=False)\n",
    "tsao = top_chains[top_chains['district'] == 'Центральный административный округ'].groupby('category')['name'].count().sort_values(ascending=False)\n",
    "vao = top_chains[top_chains['district'] == 'Восточный административный округ'].groupby('category')['name'].count().sort_values(ascending=False)\n",
    "zao = top_chains[top_chains['district'] == 'Западный административный округ'].groupby('category')['name'].count().sort_values(ascending=False)\n",
    "uvao = top_chains[top_chains['district'] == 'Юго-Восточный административный округ'].groupby('category')['name'].count().sort_values(ascending=False)\n",
    "uzao = top_chains[top_chains['district'] == 'Юго-Западный административный округ'].groupby('category')['name'].count().sort_values(ascending=False)"
   ]
  },
  {
   "cell_type": "code",
   "execution_count": null,
   "metadata": {},
   "outputs": [],
   "source": [
    "plot = go.Figure(data=[go.Bar(\n",
    "    name='САО',\n",
    "    x=sao.index,\n",
    "    y=sao.values\n",
    "),\n",
    "    go.Bar(\n",
    "    name='ЮАО',\n",
    "    x=uao.index,\n",
    "    y=uao.values\n",
    "),\n",
    "    go.Bar(\n",
    "    name='ВАО',\n",
    "    x=vao.index,\n",
    "    y=vao.values    \n",
    "),\n",
    "    go.Bar(\n",
    "    name='ЗАО',\n",
    "    x=zao.index,\n",
    "    y=zao.values    \n",
    "),\n",
    "    go.Bar(\n",
    "    name='ЦАО',\n",
    "    x=tsao.index,\n",
    "    y=tsao.values    \n",
    "),\n",
    "    go.Bar(\n",
    "    name='СЗАО',\n",
    "    x=szao.index,\n",
    "    y=szao.values    \n",
    "),\n",
    "    go.Bar(\n",
    "    name='СВАО',\n",
    "    x=svao.index,\n",
    "    y=svao.values    \n",
    "),\n",
    "    go.Bar(\n",
    "    name='ЮЗАО',\n",
    "    x=uzao.index,\n",
    "    y=uzao.values    \n",
    "),\n",
    "    go.Bar(\n",
    "    name='ЮВАО',\n",
    "    x=uvao.index,\n",
    "    y=uvao.values    \n",
    ")], \n",
    "    layout= {'title': 'ТОП-15 крупных сетей. Распределение категорий заведений по районам.'})\n",
    "\n",
    "plot.update_layout(\n",
    "    updatemenus=[\n",
    "        dict(\n",
    "            active=0,\n",
    "            buttons=list([\n",
    "                dict(label=\"Все\",\n",
    "                     method=\"update\",\n",
    "                     args=[{\"visible\": [True, True, True, True, True, True, True, True, True]}]),\n",
    "                dict(label=\"САО\",\n",
    "                     method=\"update\",\n",
    "                     args=[{\"visible\": [True, False, False, False, False, False, False, False, False]}]),\n",
    "                dict(label=\"ЮАО\",\n",
    "                     method=\"update\",\n",
    "                     args=[{\"visible\": [False, True, False, False, False, False, False, False, False]}]),\n",
    "                dict(label=\"ВАО\",\n",
    "                     method=\"update\",\n",
    "                     args=[{\"visible\": [False, False, True, False, False, False, False, False, False]}]),\n",
    "                dict(label=\"ЗАО\",\n",
    "                     method=\"update\",\n",
    "                     args=[{\"visible\": [False, False, False, True, False, False, False, False, False]}]),\n",
    "                dict(label=\"ЦАО\",\n",
    "                     method=\"update\",\n",
    "                     args=[{\"visible\": [False, False, False, False, True, False, False, False, False]}]),\n",
    "                dict(label=\"СЗАО\",\n",
    "                     method=\"update\",\n",
    "                     args=[{\"visible\": [False, False, False, False, False, True, False, False, False]}]),\n",
    "                dict(label=\"СВАО\",\n",
    "                     method=\"update\",\n",
    "                     args=[{\"visible\": [False, False, False, False, False, False, True, False, False]}]),\n",
    "                dict(label=\"ЮЗАО\",\n",
    "                     method=\"update\",\n",
    "                     args=[{\"visible\": [False, False, False, False, False, False, False, True, False]}]),\n",
    "                dict(label=\"ЮВАО\",\n",
    "                     method=\"update\",\n",
    "                     args=[{\"visible\": [False, False, False, False, False, False, False, False, True]}]),\n",
    "            ]),\n",
    "        )\n",
    "    ], barmode='stack', \n",
    "    autosize=False, \n",
    "    width=900, \n",
    "    height=800)\n",
    "\n",
    "plot.show()"
   ]
  },
  {
   "cell_type": "markdown",
   "metadata": {},
   "source": [
    "Большая часть крупных сетевых брендов - кофейни.\n",
    "\n",
    "В САО, ЮАО, СЗАО больше всего преобладают кофейни, а меньше всего кафе.\n",
    "\n",
    "В ВАО преобладают кофейни, а меньше всего булочные и столовые.\n",
    "\n",
    "В ЗАО, СВАО, ЮЗАО преобладают кофейни, а меньше всего заведения быстрого питания.\n",
    "\n",
    "В ЦАО можно выделить три категории заведений - кофейни, рестораны, кафе, а меньше всего заведения быстрого питания, бары и пабы, булочные и столовые.\n",
    "\n",
    "В ЮВАО преобладают пиццерии, а меньше всего заведений быстрого питания, однако заметного разрыва кофеин, кафе и ресторанов нет.\n",
    "\n",
    "Заведения категорий: бар/паб, быстрое питание, столовая - имеют наименьшую популяцию во всех округах. Это говорит о том, что в этих категориях преобладают несетевые предприятия. Возможно, это также связано с уходом из России крупных международных сетей.\n"
   ]
  },
  {
   "cell_type": "code",
   "execution_count": null,
   "metadata": {},
   "outputs": [],
   "source": [
    "df['district'].unique()"
   ]
  },
  {
   "cell_type": "code",
   "execution_count": null,
   "metadata": {},
   "outputs": [],
   "source": [
    "# сделаем фильтры по округам\n",
    "\n",
    "sao = df[df['district'] == 'Северный административный округ'].groupby('category')['name'].count().sort_values(ascending=False)\n",
    "uao = df[df['district'] == 'Южный административный округ'].groupby('category')['name'].count().sort_values(ascending=False)\n",
    "svao = df[df['district'] == 'Северо-Восточный административный округ'].groupby('category')['name'].count().sort_values(ascending=False)\n",
    "szao = df[df['district'] == 'Северо-Западный административный округ'].groupby('category')['name'].count().sort_values(ascending=False)\n",
    "tsao = df[df['district'] == 'Центральный административный округ'].groupby('category')['name'].count().sort_values(ascending=False)\n",
    "vao = df[df['district'] == 'Восточный административный округ'].groupby('category')['name'].count().sort_values(ascending=False)\n",
    "zao = df[df['district'] == 'Западный административный округ'].groupby('category')['name'].count().sort_values(ascending=False)\n",
    "uvao = df[df['district'] == 'Юго-Восточный административный округ'].groupby('category')['name'].count().sort_values(ascending=False)\n",
    "uzao = df[df['district'] == 'Юго-Западный административный округ'].groupby('category')['name'].count().sort_values(ascending=False)"
   ]
  },
  {
   "cell_type": "code",
   "execution_count": null,
   "metadata": {},
   "outputs": [],
   "source": [
    "plot = go.Figure(data=[go.Bar(\n",
    "    name='САО',\n",
    "    x=sao.index,\n",
    "    y=sao.values\n",
    "),\n",
    "    go.Bar(\n",
    "    name='ЮАО',\n",
    "    x=uao.index,\n",
    "    y=uao.values\n",
    "),\n",
    "    go.Bar(\n",
    "    name='ВАО',\n",
    "    x=vao.index,\n",
    "    y=vao.values    \n",
    "),\n",
    "    go.Bar(\n",
    "    name='ЗАО',\n",
    "    x=zao.index,\n",
    "    y=zao.values    \n",
    "),\n",
    "    go.Bar(\n",
    "    name='ЦАО',\n",
    "    x=tsao.index,\n",
    "    y=tsao.values    \n",
    "),\n",
    "    go.Bar(\n",
    "    name='СЗАО',\n",
    "    x=szao.index,\n",
    "    y=szao.values    \n",
    "),\n",
    "    go.Bar(\n",
    "    name='СВАО',\n",
    "    x=svao.index,\n",
    "    y=svao.values    \n",
    "),\n",
    "    go.Bar(\n",
    "    name='ЮЗАО',\n",
    "    x=uzao.index,\n",
    "    y=uzao.values    \n",
    "),\n",
    "    go.Bar(\n",
    "    name='ЮВАО',\n",
    "    x=uvao.index,\n",
    "    y=uvao.values    \n",
    ")], \n",
    "    layout= {'title': 'Все заведения. Распределение категорий заведений по районам.'})\n",
    "\n",
    "plot.update_layout(\n",
    "    updatemenus=[\n",
    "        dict(\n",
    "            active=0,\n",
    "            buttons=list([\n",
    "                dict(label=\"Все\",\n",
    "                     method=\"update\",\n",
    "                     args=[{\"visible\": [True, True, True, True, True, True, True, True, True]}]),\n",
    "                dict(label=\"САО\",\n",
    "                     method=\"update\",\n",
    "                     args=[{\"visible\": [True, False, False, False, False, False, False, False, False]}]),\n",
    "                dict(label=\"ЮАО\",\n",
    "                     method=\"update\",\n",
    "                     args=[{\"visible\": [False, True, False, False, False, False, False, False, False]}]),\n",
    "                dict(label=\"ВАО\",\n",
    "                     method=\"update\",\n",
    "                     args=[{\"visible\": [False, False, True, False, False, False, False, False, False]}]),\n",
    "                dict(label=\"ЗАО\",\n",
    "                     method=\"update\",\n",
    "                     args=[{\"visible\": [False, False, False, True, False, False, False, False, False]}]),\n",
    "                dict(label=\"ЦАО\",\n",
    "                     method=\"update\",\n",
    "                     args=[{\"visible\": [False, False, False, False, True, False, False, False, False]}]),\n",
    "                dict(label=\"СЗАО\",\n",
    "                     method=\"update\",\n",
    "                     args=[{\"visible\": [False, False, False, False, False, True, False, False, False]}]),\n",
    "                dict(label=\"СВАО\",\n",
    "                     method=\"update\",\n",
    "                     args=[{\"visible\": [False, False, False, False, False, False, True, False, False]}]),\n",
    "                dict(label=\"ЮЗАО\",\n",
    "                     method=\"update\",\n",
    "                     args=[{\"visible\": [False, False, False, False, False, False, False, True, False]}]),\n",
    "                dict(label=\"ЮВАО\",\n",
    "                     method=\"update\",\n",
    "                     args=[{\"visible\": [False, False, False, False, False, False, False, False, True]}]),\n",
    "            ]),\n",
    "        )\n",
    "    ], barmode='stack', \n",
    "    autosize=False, \n",
    "    width=900, \n",
    "    height=800)\n",
    "\n",
    "plot.show()"
   ]
  },
  {
   "cell_type": "markdown",
   "metadata": {},
   "source": [
    "В целом самые популярные категории: кафе, рестораны, кофейни в ЦАО также выделяются бары. Остальные категории менее популярны.\n",
    "    \n",
    "В СЗАО меньшая концентрация по всем категориям, этот фактор может быть возможным ростом.\n",
    "\n",
    "В САО можно выделить заведения в категории кафе, кофеня и ресторан, а менее всего можно отметить заведения категории столовая и булочная.\n",
    "\n",
    "В ЮАО, ЗАО, СЗАО, СВАО, ЮЗАО, ЮВАО можно выделить заведения в категории кафе, ресторан и кофейни, менне всего так же столовых и булочных.\n",
    "\n",
    "В ВАО явным лидиром является заведение в категории кафе, а наименьшее значение так же в столовых и булочных.\n",
    "\n",
    "В ЦАО явных 4-ре лидера категорий: ресторан, кафе, кофейня, бар,паб, а наименьшее значение у столовых и булочных.\n",
    "    \n"
   ]
  },
  {
   "cell_type": "markdown",
   "metadata": {},
   "source": [
    "### Визуализируем распределение средних рейтингов по категориям заведений."
   ]
  },
  {
   "cell_type": "code",
   "execution_count": null,
   "metadata": {},
   "outputs": [],
   "source": [
    "rating_by_cat = round(df.groupby('category')['rating'].mean().sort_values(ascending=False), 2)\n",
    "rating_by_cat"
   ]
  },
  {
   "cell_type": "code",
   "execution_count": null,
   "metadata": {},
   "outputs": [],
   "source": [
    "x = rating_by_cat\n",
    "y = rating_by_cat.index\n",
    "\n",
    "plt.figure(figsize=(9,7))\n",
    "sns.barplot(x=x, y=y, data=rating_by_cat.reset_index())\n",
    "plt.xlim(4, 4.5)\n",
    "\n",
    "plt.title('Средний рейтинг по категориям заведений')\n",
    "plt.xlabel('Рейтинг')\n",
    "plt.ylabel('Категория')\n",
    "\n",
    "plt.show()"
   ]
  },
  {
   "cell_type": "markdown",
   "metadata": {},
   "source": [
    "Средний рейтинг у категории бар,паб - наибольший(4.39), а наименьший у заведений быстрого питания(4.05). В целом видно, что рейтинг довольно плавно различается от 4.05 до 4.39."
   ]
  },
  {
   "cell_type": "markdown",
   "metadata": {},
   "source": [
    "### Построим фоновую картограмму (хороплет) со средним рейтингом заведений каждого района."
   ]
  },
  {
   "cell_type": "code",
   "execution_count": null,
   "metadata": {},
   "outputs": [],
   "source": [
    "with open('/datasets/admin_level_geomap.geojson', 'r') as f:\n",
    "        geo_json = json.load(f)\n",
    "        json.dumps(geo_json, indent=2, ensure_ascii=False, sort_keys=True)"
   ]
  },
  {
   "cell_type": "code",
   "execution_count": null,
   "metadata": {},
   "outputs": [],
   "source": [
    "# moscow_lat - широта центра Москвы, moscow_lng - долгота центра Москвы\n",
    "\n",
    "moscow_lat, moscow_lng = 55.751244, 37.618423\n",
    "\n",
    "# создаём карту Москвы\n",
    "\n",
    "m = folium.Map(location=[moscow_lat, moscow_lng], zoom_start=10)\n",
    "\n",
    "# создаем сводную\n",
    "\n",
    "data = df.groupby('district')['rating'].mean()\n",
    "\n",
    "# создаём хороплет с помощью конструктора Choropleth и добавляем его на карту\n",
    "\n",
    "folium.Choropleth(\n",
    "    geo_data=geo_json,\n",
    "    data=data,\n",
    "    columns=['district', 'rating'],\n",
    "    key_on='feature.name',\n",
    "    fill_color='BuGn',\n",
    "    fill_opacity=0.8,\n",
    "    legend_name='Средний рейтинг заведений каждого района',\n",
    ").add_to(m)\n",
    "\n",
    "# выводим карту\n",
    "\n",
    "m"
   ]
  },
  {
   "cell_type": "markdown",
   "metadata": {},
   "source": [
    "Заведения с наивысшими рейтингами сконцентрированы в ЦАО.\n",
    "\n",
    "В САО и СЗАО средний рейтинг чуть ниже, в остальных округах средний рейтинг распределен примерно равномерно."
   ]
  },
  {
   "cell_type": "markdown",
   "metadata": {},
   "source": [
    "### Отобразим все заведения датасета на карте с помощью кластеров средствами библиотеки `folium`."
   ]
  },
  {
   "cell_type": "code",
   "execution_count": null,
   "metadata": {},
   "outputs": [],
   "source": [
    "# создаём пустой кластер, добавляем его на карту\n",
    "\n",
    "marker_cluster = MarkerCluster().add_to(m)\n",
    "\n",
    "# пишем функцию, которая принимает строку датафрейма,\n",
    "# создаёт маркер в текущей точке и добавляет его в кластер marker_cluster\n",
    "\n",
    "def create_clusters(row):\n",
    "    folium.Marker(\n",
    "        [row['lat'], row['lng']],\n",
    "        popup=f\"{row['name']} {row['rating']}\",\n",
    "    ).add_to(marker_cluster)\n",
    "\n",
    "# применяем функцию create_clusters() к каждой строке датафрейма\n",
    "\n",
    "df.apply(create_clusters, axis=1)\n",
    "\n",
    "# выводим карту\n",
    "\n",
    "m"
   ]
  },
  {
   "cell_type": "markdown",
   "metadata": {},
   "source": [
    "### Найдем топ-15 улиц по количеству заведений. Построим график распределения количества заведений и их категорий по этим улицам."
   ]
  },
  {
   "cell_type": "code",
   "execution_count": null,
   "metadata": {},
   "outputs": [],
   "source": [
    "df.groupby('street')['name'].count().sort_values(ascending=False).head(15)"
   ]
  },
  {
   "cell_type": "code",
   "execution_count": null,
   "metadata": {},
   "outputs": [],
   "source": [
    "top_15_streets = df[df['street'].isin(\n",
    "    df.groupby('street')['name'].count()\n",
    "    .sort_values(ascending=False).head(15).index)]"
   ]
  },
  {
   "cell_type": "code",
   "execution_count": null,
   "metadata": {},
   "outputs": [],
   "source": [
    "top_15_streets_and_cat = top_15_streets.groupby(['street', 'category'], as_index=False)['name'].count()\n",
    "top_15_streets_and_cat.rename({'name' : 'quantity'}, axis=1, inplace=True)"
   ]
  },
  {
   "cell_type": "code",
   "execution_count": null,
   "metadata": {},
   "outputs": [],
   "source": [
    "fig = px.bar(top_15_streets_and_cat, x='street', y='quantity', color='category')\n",
    "fig.update_xaxes(tickangle=45)\n",
    "fig.update_layout(title='Распределения количества заведений и их категорий по ТОП-15 улицам',\n",
    "                   xaxis_title='Улица',\n",
    "                   yaxis_title='Распределение',\n",
    "                   autosize=False,\n",
    "                   width=900,\n",
    "                   height=800,\n",
    "                   xaxis={'categoryorder':'total descending'})\n",
    "fig.show()"
   ]
  },
  {
   "cell_type": "markdown",
   "metadata": {},
   "source": [
    "Самое большое кол-во заведений - Проспект Мира(184).\n",
    "\n",
    "Наименьшее кол-во заведений - Пятницкая улица(48).\n",
    "\n",
    "Наименьшая концентрация баров,пабов на МКАДе, Каширском ш., Кутузовском проспекте и на  ул. Вавилова. Наивысшая концентрация на Ленинском пр-те и пр-те Мира.\n",
    "\n",
    "Наивысшая концентрация быстрого питания на пр-те Мира, наименьшая на Кутузовском пр-те, Ленинском пр-те, Ленинградском пр-те и на Пятницкой ул.\n",
    "\n",
    "Категория кафе распределено почти равномерно, наивысшая концентрация на пр-те Мира и МКАД, наименьшая - на Пятницкой ул.\n",
    "\n",
    "Наибольшая концентрация кофеен на пр-те Мира, наименьшая - на МКАДе, на ул. Миклухо-Маклая.\n",
    "\n",
    "Наибольшая концентрация пиццерий на ул. Профсоюзной, пр-те Вернадского и проспекте Мира, наименьшая - на Люблинской ул.\n",
    "\n",
    "Наибольшая концентрация ресторанов на пр-те Мира, пр-те Вернадского и Ленинском пр-те, наименьшая - на МКАДе.\n",
    "\n",
    "Наибольшая концентрация столовых на Варшавском шоссе, наименьшая - на МКАДе.\n",
    "\n",
    "Наибольшая концентрация булочных на Ленинградском пр-те, пр-те Мира,на ул. Профсоюзной, наименьшая - на Кутузовском пр-те и пр-те Вернадского."
   ]
  },
  {
   "cell_type": "markdown",
   "metadata": {},
   "source": [
    "### Найдем улицы, на которых находится только один объект общепита."
   ]
  },
  {
   "cell_type": "code",
   "execution_count": null,
   "metadata": {},
   "outputs": [],
   "source": [
    "one_eatary_streets = df.groupby('street')['name'].count() == 1\n",
    "one_eatary_streets = one_eatary_streets[one_eatary_streets.values == True]"
   ]
  },
  {
   "cell_type": "code",
   "execution_count": null,
   "metadata": {
    "scrolled": true
   },
   "outputs": [],
   "source": [
    "one_eatary_streets = df[df['street'].isin(one_eatary_streets.index)]\n",
    "display(one_eatary_streets)"
   ]
  },
  {
   "cell_type": "markdown",
   "metadata": {},
   "source": [
    "456 улиц на которых находится только один объект общепита"
   ]
  },
  {
   "cell_type": "code",
   "execution_count": null,
   "metadata": {},
   "outputs": [],
   "source": [
    "one_eatary_streets.groupby('district')['street'].count().sort_values(ascending=False)"
   ]
  },
  {
   "cell_type": "code",
   "execution_count": null,
   "metadata": {},
   "outputs": [],
   "source": [
    "round(one_eatary_streets.groupby('category')['street'].count().sort_values(ascending=False), 2)"
   ]
  },
  {
   "cell_type": "code",
   "execution_count": null,
   "metadata": {},
   "outputs": [],
   "source": [
    "round(one_eatary_streets.groupby('category')['rating'].mean().sort_values(ascending=False), 2)"
   ]
  },
  {
   "cell_type": "markdown",
   "metadata": {},
   "source": [
    "Основная доля заведений приходится на ЦАО, где маленькие улицы, и возможно не все данные попали в датасет. Больше всего заведений в категории кафе, меньше-булочная. Средний рейтинг больше у бара, паба, а меньше у быстрого питания."
   ]
  },
  {
   "cell_type": "markdown",
   "metadata": {},
   "source": [
    "### Значения средних чеков заведений хранятся в столбце `middle_avg_bill`. Эти числа показывают примерную стоимость заказа в рублях, которая чаще всего выражена диапазоном. Посчитаем медиану этого столбца для каждого района. Используем это значение в качестве ценового индикатора района. Построим фоновую картограмму (хороплет) с полученными значениями для каждого района. Проанализируем цены в центральном административном округе и других. Как удалённость от центра влияет на цены в заведениях?"
   ]
  },
  {
   "cell_type": "code",
   "execution_count": null,
   "metadata": {},
   "outputs": [],
   "source": [
    "round(df[df['middle_avg_bill'] < np.quantile(df[~df['middle_avg_bill'].isna()][\n",
    "    'middle_avg_bill'], 0.95)].groupby('district')[\n",
    "    'middle_avg_bill'].median().sort_values(ascending=False), 2)"
   ]
  },
  {
   "cell_type": "code",
   "execution_count": null,
   "metadata": {},
   "outputs": [],
   "source": [
    "moscow_lat, moscow_lng = 55.751244, 37.618423\n",
    "\n",
    "m = folium.Map(location=[moscow_lat, moscow_lng], zoom_start=10)\n",
    "\n",
    "data = df[df['middle_avg_bill'] < np.quantile(df[~df['middle_avg_bill'].isna()][\n",
    "    'middle_avg_bill'], 0.95)].groupby('district')[\n",
    "    'middle_avg_bill'].mean()\n",
    "\n",
    "folium.Choropleth(\n",
    "    geo_data=geo_json,\n",
    "    data=data,\n",
    "    columns=['district', 'middle_avg_bill'],\n",
    "    key_on='feature.name',\n",
    "    fill_color='BuGn',\n",
    "    fill_opacity=0.8,\n",
    "    legend_name='Средний чек по районам',\n",
    ").add_to(m)\n",
    "\n",
    "m"
   ]
  },
  {
   "cell_type": "code",
   "execution_count": null,
   "metadata": {},
   "outputs": [],
   "source": [
    "print('Средний чек в ЦАО по отношению к остальным округам:', round(\n",
    "    df[(df['middle_avg_bill'] < np.quantile(df[~df['middle_avg_bill'].isna()][\n",
    "    'middle_avg_bill'], 0.95)) & (df['district'] == 'Центральный административный округ')][\n",
    "    'middle_avg_bill'].mean() / \n",
    "    df[(df['middle_avg_bill'] < np.quantile(df[~df['middle_avg_bill'].isna()][\n",
    "    'middle_avg_bill'], 0.95)) & (df['district'] != 'Центральный административный округ')][\n",
    "    'middle_avg_bill'].mean(),2))"
   ]
  },
  {
   "cell_type": "markdown",
   "metadata": {},
   "source": [
    "Самый высокий средний чек - в ЦАО и ЗАО.\n",
    "\n",
    "Самый низкий средний чек в ЮАО, СВАО и ЮВАО.\n",
    "\n",
    "В среднем чек в ЦАО на 20% выше, чем в остальных округах."
   ]
  },
  {
   "cell_type": "code",
   "execution_count": null,
   "metadata": {},
   "outputs": [],
   "source": [
    "print('Средняя стоимость чашки капучино в кофейнях без конкурентов на своей улице:', \\\n",
    "round(one_eatary_streets[(one_eatary_streets[\n",
    "    'middle_coffee_cup'] < np.quantile(one_eatary_streets[~df[\n",
    "    'middle_coffee_cup'].isna()]['middle_coffee_cup'], 0.99)) & (one_eatary_streets['category'] == 'кофейня')][\n",
    "    'middle_coffee_cup'].mean(),2))\n",
    "\n",
    "print('Средняя стоимость чашки капучино в кофейнях из ТОП-15 концентрированных улиц:',\n",
    "round(top_15_streets[(top_15_streets[\n",
    "    'middle_coffee_cup'] < np.quantile(top_15_streets[~df[\n",
    "    'middle_coffee_cup'].isna()]['middle_coffee_cup'], 0.99)) & (top_15_streets['category'] == 'кофейня')][\n",
    "    'middle_coffee_cup'].mean(),2))"
   ]
  },
  {
   "cell_type": "code",
   "execution_count": null,
   "metadata": {},
   "outputs": [],
   "source": [
    "print('Средняя стоимость бокала пива в пабах:',\n",
    "      round(df[(df['category'] == 'бар,паб') & (df['middle_beer_price'] != 0)]['middle_beer_price'].mean(),1))"
   ]
  },
  {
   "cell_type": "code",
   "execution_count": null,
   "metadata": {},
   "outputs": [],
   "source": [
    "pubs = df[df['category'] == 'бар,паб']"
   ]
  },
  {
   "cell_type": "code",
   "execution_count": null,
   "metadata": {},
   "outputs": [],
   "source": [
    "pubs.groupby('district')['name'].count().sort_values(ascending=False)"
   ]
  },
  {
   "cell_type": "code",
   "execution_count": null,
   "metadata": {},
   "outputs": [],
   "source": [
    "print('Доля пабов в ЦАО от всех пабов Москвы:', \n",
    "      round(pubs[(pubs['district'] == 'Центральный административный округ') & (pubs['middle_beer_price'] != 0)][\n",
    "      'name'].count() / pubs[pubs['middle_beer_price'] != 0][\n",
    "      'name'].count(), 2))"
   ]
  },
  {
   "cell_type": "code",
   "execution_count": null,
   "metadata": {},
   "outputs": [],
   "source": [
    "x = pubs.groupby('district')['name'].count().sort_values(ascending=False)\n",
    "y = pubs.groupby('district')['name'].count().sort_values(ascending=False).index\n",
    "\n",
    "plt.figure(figsize=(9,7))\n",
    "sns.barplot(x=x, y=y, data=pubs.reset_index())\n",
    "\n",
    "plt.title('Распределение пабов по округам')\n",
    "plt.xlabel('Количество пабов')\n",
    "plt.ylabel('Округ')\n",
    "\n",
    "plt.show()"
   ]
  },
  {
   "cell_type": "markdown",
   "metadata": {},
   "source": [
    "Большая часть пабов расположена в ЦАО."
   ]
  },
  {
   "cell_type": "code",
   "execution_count": null,
   "metadata": {},
   "outputs": [],
   "source": [
    "round(pubs[pubs['middle_beer_price'] != 0].groupby('district')[\n",
    "    'middle_beer_price'].mean().sort_values(ascending=False), 2)"
   ]
  },
  {
   "cell_type": "code",
   "execution_count": null,
   "metadata": {},
   "outputs": [],
   "source": [
    "moscow_lat, moscow_lng = 55.751244, 37.618423\n",
    "\n",
    "m = folium.Map(location=[moscow_lat, moscow_lng], zoom_start=10)\n",
    "\n",
    "data = pubs[pubs['middle_beer_price'] != 0].groupby(\n",
    "    'district')['middle_beer_price'].mean()\n",
    "\n",
    "folium.Choropleth(\n",
    "    geo_data=geo_json,\n",
    "    data=data,\n",
    "    columns=['district', 'middle_beer_price'],\n",
    "    key_on='feature.name',\n",
    "    fill_color='BuGn',\n",
    "    fill_opacity=0.8,\n",
    "    legend_name='Средняя стоимость кружки пива по округам',\n",
    ").add_to(m)\n",
    "\n",
    "m"
   ]
  },
  {
   "cell_type": "markdown",
   "metadata": {},
   "source": [
    "Большая часть пабов находится в ЦАО, в СЗАО их меньше всего. Стоимость бокала пива составляет в ЦАО-336р. в ВАО минимальный - 247р."
   ]
  },
  {
   "cell_type": "code",
   "execution_count": null,
   "metadata": {},
   "outputs": [],
   "source": [
    "# посмотрим зависимость часов работы от округа и категории\n",
    "\n",
    "df[df['hours'] != 'unknown']['hours'].value_counts().head(20)"
   ]
  },
  {
   "cell_type": "markdown",
   "metadata": {},
   "source": [
    "Разобьем по категориям:\n",
    "* ежедневно, круглосуточно\n",
    "* ежедневно, но не круглосуточно\n",
    "* по будням, не круглосуточно"
   ]
  },
  {
   "cell_type": "code",
   "execution_count": null,
   "metadata": {},
   "outputs": [],
   "source": [
    "df['hours'] = df['hours'].astype(str)"
   ]
  },
  {
   "cell_type": "code",
   "execution_count": null,
   "metadata": {},
   "outputs": [],
   "source": [
    "df['working_hours_cat'] = ['ежедневно, круглосуточно' if x != 'unknown' \n",
    "                           and x == 'ежедневно, круглосуточно' else\n",
    "\n",
    "                          ('ежедневно, но не круглосуточно' if x != 'unknown' \n",
    "                           and (('ежедневно' in x and 'круглосуточно' not in x) \n",
    "                           or ('сб' in x and 'вс' in x)) else\n",
    "\n",
    "                          ('по будням, не круглосуточно' if x != 'unknown' \n",
    "                           and ('ежедневно' not in x and 'круглосуточно' not in x) \n",
    "                           else 0))\n",
    "                          for x in df['hours']]"
   ]
  },
  {
   "cell_type": "code",
   "execution_count": null,
   "metadata": {},
   "outputs": [],
   "source": [
    "df.groupby('working_hours_cat')['name'].count().sort_values(ascending=False)"
   ]
  },
  {
   "cell_type": "markdown",
   "metadata": {},
   "source": [
    "Большая часть заведений работает ежедневно, но не круглосуточно, меньше всего круглосуточных."
   ]
  },
  {
   "cell_type": "code",
   "execution_count": null,
   "metadata": {},
   "outputs": [],
   "source": [
    "work_hours_per_distr = df[df['working_hours_cat'] != 0].groupby(\n",
    "    ['district', 'working_hours_cat'], as_index=False)['name'].count()"
   ]
  },
  {
   "cell_type": "code",
   "execution_count": null,
   "metadata": {},
   "outputs": [],
   "source": [
    "plot = go.Figure(data=[go.Pie(\n",
    "    labels=work_hours_per_distr[work_hours_per_distr['district'] == 'Северный административный округ']\n",
    "    ['working_hours_cat'],\n",
    "    values=work_hours_per_distr[work_hours_per_distr['district'] == 'Северный административный округ']\n",
    "    ['name']\n",
    "),\n",
    "    go.Pie(\n",
    "    labels=work_hours_per_distr[work_hours_per_distr['district'] == 'Южный административный округ']\n",
    "    ['working_hours_cat'],\n",
    "    values=work_hours_per_distr[work_hours_per_distr['district'] == 'Южный административный округ']\n",
    "    ['name']    \n",
    "),\n",
    "    go.Pie(\n",
    "    labels=work_hours_per_distr[work_hours_per_distr['district'] == 'Западный административный округ']\n",
    "    ['working_hours_cat'],\n",
    "    values=work_hours_per_distr[work_hours_per_distr['district'] == 'Западный административный округ']\n",
    "    ['name']    \n",
    "),\n",
    "    go.Pie(\n",
    "    labels=work_hours_per_distr[work_hours_per_distr['district'] == 'Восточный административный округ']\n",
    "    ['working_hours_cat'],\n",
    "    values=work_hours_per_distr[work_hours_per_distr['district'] == 'Восточный административный округ']\n",
    "    ['name']    \n",
    "),\n",
    "    go.Pie(\n",
    "    labels=work_hours_per_distr[work_hours_per_distr['district'] == 'Центральный административный округ']\n",
    "    ['working_hours_cat'],\n",
    "    values=work_hours_per_distr[work_hours_per_distr['district'] == 'Центральный административный округ']\n",
    "    ['name']    \n",
    "),\n",
    "    go.Pie(\n",
    "    labels=work_hours_per_distr[work_hours_per_distr['district'] == 'Северо-Западный административный округ']\n",
    "    ['working_hours_cat'],\n",
    "    values=work_hours_per_distr[work_hours_per_distr['district'] == 'Северо-Западный административный округ']\n",
    "    ['name']    \n",
    "),\n",
    "    go.Pie(\n",
    "    labels=work_hours_per_distr[work_hours_per_distr['district'] == 'Северо-Восточный административный округ']\n",
    "    ['working_hours_cat'],\n",
    "    values=work_hours_per_distr[work_hours_per_distr['district'] == 'Северо-Восточный административный округ']\n",
    "    ['name']    \n",
    "),\n",
    "    go.Pie(\n",
    "    labels=work_hours_per_distr[work_hours_per_distr['district'] == 'Юго-Западный административный округ']\n",
    "    ['working_hours_cat'],\n",
    "    values=work_hours_per_distr[work_hours_per_distr['district'] == 'Юго-Западный административный округ']\n",
    "    ['name']    \n",
    "),\n",
    "    go.Pie(\n",
    "    labels=work_hours_per_distr[work_hours_per_distr['district'] == 'Юго-Восточный административный округ']\n",
    "    ['working_hours_cat'],\n",
    "    values=work_hours_per_distr[work_hours_per_distr['district'] == 'Юго-Восточный административный округ']\n",
    "    ['name']    \n",
    "),\n",
    "],\n",
    "\n",
    "layout= {'title': 'Распределение категорий времени работы заведений по округам'})\n",
    "\n",
    "plot.update_layout(\n",
    "    updatemenus=[\n",
    "        dict(\n",
    "            active=0,\n",
    "            buttons=list([\n",
    "                dict(label=\"САО\",\n",
    "                     method=\"update\",\n",
    "                     args=[{\"visible\": [True, False, False, False, False, False, False, False, False]}]),\n",
    "                dict(label=\"ЮАО\",\n",
    "                     method=\"update\",\n",
    "                     args=[{\"visible\": [False, True, False, False, False, False, False, False, False]}]),\n",
    "                dict(label=\"ЗАО\",\n",
    "                     method=\"update\",\n",
    "                     args=[{\"visible\": [False, False, True, False, False, False, False, False, False]}]),\n",
    "                dict(label=\"ВАО\",\n",
    "                     method=\"update\",\n",
    "                     args=[{\"visible\": [False, False, False, True, False, False, False, False, False]}]),\n",
    "                dict(label=\"ЦАО\",\n",
    "                     method=\"update\",\n",
    "                     args=[{\"visible\": [False, False, False, False, True, False, False, False, False]}]),\n",
    "                dict(label=\"СЗАО\",\n",
    "                     method=\"update\",\n",
    "                     args=[{\"visible\": [False, False, False, False, False, True, False, False, False]}]),\n",
    "                dict(label=\"СВАО\",\n",
    "                     method=\"update\",\n",
    "                     args=[{\"visible\": [False, False, False, False, False, False, True, False, False]}]),\n",
    "                dict(label=\"ЮЗАО\",\n",
    "                     method=\"update\",\n",
    "                     args=[{\"visible\": [False, False, False, False, False, False, False, True, False]}]),\n",
    "                dict(label=\"ЮВАО\",\n",
    "                     method=\"update\",\n",
    "                     args=[{\"visible\": [False, False, False, False, False, False, False, False, True]}]),          \n",
    "                         ]),\n",
    "            )\n",
    "                ])\n",
    "\n",
    "plot.show()"
   ]
  },
  {
   "cell_type": "markdown",
   "metadata": {},
   "source": [
    "В ЦАО заметно видно, что много заведений работает ежедневно, но не круглосуточно. В ЮВАО больше всего заведений, которые работают по будням, не круглосуточно. В ВАО больше всего заведений, которые работают ежедневно, круглосуточно.\n"
   ]
  },
  {
   "cell_type": "code",
   "execution_count": null,
   "metadata": {},
   "outputs": [],
   "source": [
    "cat_per_work_hours_cat = df[df['working_hours_cat'] != 0].groupby(['working_hours_cat', 'category'], as_index=False)['name'].count()"
   ]
  },
  {
   "cell_type": "code",
   "execution_count": null,
   "metadata": {},
   "outputs": [],
   "source": [
    "plot = go.Figure(data=[go.Pie(\n",
    "    labels=cat_per_work_hours_cat[cat_per_work_hours_cat['working_hours_cat'] == 'ежедневно, круглосуточно']\n",
    "    ['category'],\n",
    "    values=cat_per_work_hours_cat[cat_per_work_hours_cat['working_hours_cat'] == 'ежедневно, круглосуточно']\n",
    "    ['name']\n",
    "),\n",
    "    go.Pie(\n",
    "    labels=cat_per_work_hours_cat[cat_per_work_hours_cat['working_hours_cat'] == 'ежедневно, но не круглосуточно']\n",
    "    ['category'],\n",
    "    values=cat_per_work_hours_cat[cat_per_work_hours_cat['working_hours_cat'] == 'ежедневно, но не круглосуточно']\n",
    "    ['name']   \n",
    "),\n",
    "    go.Pie(\n",
    "    labels=cat_per_work_hours_cat[cat_per_work_hours_cat['working_hours_cat'] == 'по будням, не круглосуточно']\n",
    "    ['category'],\n",
    "    values=cat_per_work_hours_cat[cat_per_work_hours_cat['working_hours_cat'] == 'по будням, не круглосуточно']\n",
    "    ['name']    \n",
    ")\n",
    "],\n",
    "\n",
    "layout= {'title': 'Распределение категорий заведений по категориям времени работы'})\n",
    "\n",
    "plot.update_layout(\n",
    "    updatemenus=[\n",
    "        dict(\n",
    "            active=0,\n",
    "            buttons=list([\n",
    "                dict(label=\"ежедневно, круглосуточно\",\n",
    "                     method=\"update\",\n",
    "                     args=[{\"visible\": [True, False, False]}]),\n",
    "                dict(label=\"ежедневно, но не круглосуточно\",\n",
    "                     method=\"update\",\n",
    "                     args=[{\"visible\": [False, True, False]}]),\n",
    "                dict(label=\"по будням, не круглосуточно\",\n",
    "                     method=\"update\",\n",
    "                     args=[{\"visible\": [False, False, True]}]),          \n",
    "                         ]),\n",
    "            )\n",
    "                ])\n",
    "\n",
    "plot.show()"
   ]
  },
  {
   "cell_type": "markdown",
   "metadata": {},
   "source": [
    "Наибольшую долю заведений, работающих ежедневно/круглосуточно, представляют кафе (43.9%), наименьшую – булочные (1.28%).\n",
    "Наибольшую долю заведений работающие ежедневно, но не круглосуточно, представляют рестораны (27.6%), наименьшую – столовые (1.34%).\n",
    "Наибольшую долю заведений, работающих по будням, не круглосуточно, представляют кафе (43.9%), наименьшую – булочные (1.28%)."
   ]
  },
  {
   "cell_type": "code",
   "execution_count": null,
   "metadata": {},
   "outputs": [],
   "source": [
    "# посмотрим заведения с плохим рейтингом\n",
    "\n",
    "df['bins'] = pd.qcut(df['rating'], 5)"
   ]
  },
  {
   "cell_type": "code",
   "execution_count": null,
   "metadata": {},
   "outputs": [],
   "source": [
    "df['bins'].value_counts()"
   ]
  },
  {
   "cell_type": "code",
   "execution_count": null,
   "metadata": {},
   "outputs": [],
   "source": [
    "# нарисуем квантильное распределение рейтингов для выбора границы \"плохого\" рейтинга\n",
    "\n",
    "df['bins'].value_counts().plot(kind='bar')\n",
    "\n",
    "plt.title('Квантильное распределение рейтингов для выбора границы \"плохого\" рейтинга')\n",
    "\n",
    "plt.show()"
   ]
  },
  {
   "cell_type": "markdown",
   "metadata": {},
   "source": [
    "Будем считать, что плохие рейтинги - все, что ниже 4,1."
   ]
  },
  {
   "cell_type": "code",
   "execution_count": null,
   "metadata": {},
   "outputs": [],
   "source": [
    "df['bins'] = df['bins'].astype('str')"
   ]
  },
  {
   "cell_type": "code",
   "execution_count": null,
   "metadata": {},
   "outputs": [],
   "source": [
    "low_rating_places = df[df['bins'] == '(0.999, 4.1]']"
   ]
  },
  {
   "cell_type": "code",
   "execution_count": null,
   "metadata": {},
   "outputs": [],
   "source": [
    "print('Средний чек в заведении с плохим рейтингом:', \n",
    "      round(low_rating_places[low_rating_places[\n",
    "          'middle_avg_bill'] < np.quantile(low_rating_places[~low_rating_places[\n",
    "          'middle_avg_bill'].isna()][\n",
    "          'middle_avg_bill'], 0.95)]['middle_avg_bill'].mean()),'р.')\n",
    "\n",
    "print('Средняя стоимость чашки капучино в кофейне с плохим рейтингом:',\n",
    "      round(low_rating_places[low_rating_places[\n",
    "          'middle_coffee_cup'] < np.quantile(low_rating_places[~low_rating_places[\n",
    "          'middle_coffee_cup'].isna()][\n",
    "          'middle_coffee_cup'], 0.99)]['middle_coffee_cup'].mean()),'р.')"
   ]
  },
  {
   "cell_type": "code",
   "execution_count": null,
   "metadata": {},
   "outputs": [],
   "source": [
    "high_rating_places = df[df['bins'] != '(0.999, 4.1]']"
   ]
  },
  {
   "cell_type": "code",
   "execution_count": null,
   "metadata": {},
   "outputs": [],
   "source": [
    "print('Средний чек в заведении с хорошим рейтингом:', \n",
    "      round(high_rating_places[high_rating_places[\n",
    "          'middle_avg_bill'] < np.quantile(high_rating_places[~high_rating_places[\n",
    "          'middle_avg_bill'].isna()][\n",
    "          'middle_avg_bill'], 0.95)]['middle_avg_bill'].mean()),'р.')\n",
    "\n",
    "print('Средняя стоимость чашки капучино в кофейне с хорошим рейтингом:',\n",
    "      round(high_rating_places[high_rating_places[\n",
    "          'middle_coffee_cup'] < np.quantile(high_rating_places[~high_rating_places[\n",
    "          'middle_coffee_cup'].isna()][\n",
    "          'middle_coffee_cup'], 0.99)]['middle_coffee_cup'].mean()),'р.')"
   ]
  },
  {
   "cell_type": "markdown",
   "metadata": {},
   "source": [
    "В среднем заведение с хорошим рейтингом зарабатывает с чека примерно на 393р. больше, а хорошая кофейня на 21р. больше с чашки капучино."
   ]
  },
  {
   "cell_type": "code",
   "execution_count": null,
   "metadata": {},
   "outputs": [],
   "source": [
    "low_rating_places.groupby('category')['name'].count().sort_values(ascending=False)"
   ]
  },
  {
   "cell_type": "code",
   "execution_count": null,
   "metadata": {},
   "outputs": [],
   "source": [
    "x = low_rating_places.groupby('category')['name'].count().sort_values(ascending=False)\n",
    "y = low_rating_places.groupby('category')['name'].count().sort_values(ascending=False).index\n",
    "\n",
    "fig = plt.figure(figsize=(9,7))\n",
    "sns.barplot(x=x, y=y, data=one_eatary_streets.reset_index())\n",
    "\n",
    "plt.title('Абсолютное распределение заведений с плохим рейтингом по категориям')\n",
    "plt.xlabel('Количество')\n",
    "plt.ylabel('Категория')\n",
    "\n",
    "plt.show()\n",
    "     "
   ]
  },
  {
   "cell_type": "code",
   "execution_count": null,
   "metadata": {},
   "outputs": [],
   "source": [
    "low_to_high_rating_share_by_cat = round((low_rating_places.groupby('category')['name'].count() \\\n",
    "    .sort_values(ascending=False) / high_rating_places.groupby('category')['name'].count() \\\n",
    "    .sort_values(ascending=False)).sort_values(ascending=False), 2)\n",
    "\n",
    "low_to_high_rating_share_by_cat"
   ]
  },
  {
   "cell_type": "code",
   "execution_count": null,
   "metadata": {},
   "outputs": [],
   "source": [
    "x = low_to_high_rating_share_by_cat\n",
    "y = low_to_high_rating_share_by_cat.index\n",
    "\n",
    "fig = plt.figure(figsize=(9,7))\n",
    "sns.barplot(x=x, y=y, data=low_to_high_rating_share_by_cat.reset_index())\n",
    "\n",
    "plt.title('Относительное распределение заведений с плохим рейтингом по категориям')\n",
    "plt.xlabel('Количество')\n",
    "plt.ylabel('Округ')\n",
    "\n",
    "plt.show()"
   ]
  },
  {
   "cell_type": "markdown",
   "metadata": {},
   "source": [
    "Большая часть заведений с плохим рейтингом - кафе, булочных с плохим рейтингом меньше всего в абсолютном. В относительных величинах хуже всего рейтинг у быстрого питания (примерно 86% заведений имеют низкий рейтинг) и кафе (67%), лучше - у баров (15% заведений с низким рейтингом) и пиццерий (27%)."
   ]
  },
  {
   "cell_type": "code",
   "execution_count": null,
   "metadata": {},
   "outputs": [],
   "source": [
    "low_rating_places.groupby('district')['name'].count().sort_values(ascending=False)"
   ]
  },
  {
   "cell_type": "code",
   "execution_count": null,
   "metadata": {},
   "outputs": [],
   "source": [
    "low_to_high_rating_share_by_distr = round((low_rating_places.groupby('district')['name'].count() \\\n",
    "    .sort_values(ascending=False) / high_rating_places.groupby('district')['name'].count() \\\n",
    "    .sort_values(ascending=False)).sort_values(ascending=False), 2)\n",
    "low_to_high_rating_share_by_distr"
   ]
  },
  {
   "cell_type": "code",
   "execution_count": null,
   "metadata": {},
   "outputs": [],
   "source": [
    "x = low_rating_places.groupby('district')['name'].count().sort_values(ascending=False)\n",
    "y = low_rating_places.groupby('district')['name'].count().sort_values(ascending=False).index\n",
    "\n",
    "fig = plt.figure(figsize=(9,7))\n",
    "sns.barplot(x=x, y=y, data=one_eatary_streets.reset_index())\n",
    "\n",
    "plt.title('Абсолютное распределение заведений с плохим рейтингом по округам')\n",
    "plt.xlabel('Количество')\n",
    "plt.ylabel('Округ')\n",
    "\n",
    "plt.show()"
   ]
  },
  {
   "cell_type": "code",
   "execution_count": null,
   "metadata": {},
   "outputs": [],
   "source": [
    "x = low_to_high_rating_share_by_distr\n",
    "y = low_to_high_rating_share_by_distr.index\n",
    "\n",
    "fig = plt.figure(figsize=(9,7))\n",
    "sns.barplot(x=x, y=y, data=low_to_high_rating_share_by_distr.reset_index())\n",
    "\n",
    "plt.title('Относительное распределение заведений с плохим рейтингом по округам')\n",
    "plt.xlabel('Количество')\n",
    "plt.ylabel('Округ')\n",
    "\n",
    "plt.show()"
   ]
  },
  {
   "cell_type": "markdown",
   "metadata": {},
   "source": [
    "Хуже всего дела обстоят в СВАО, ЦАО и ЮАО в абсолютных значениях, лучше всего в СЗАО.\n",
    "В относительных лучше всего в ЦАО и СЗАО, хуже - в ЮВАО."
   ]
  },
  {
   "cell_type": "markdown",
   "metadata": {},
   "source": [
    "Всего заведений в датасете 5614. \n",
    "\n",
    "Больше всего заведений в категории кафе и ресторан и кофейня (28% и 24% и 17% соответственно). Меньше всего столовых и булочных (3% и 4% соответственно).\n",
    "\n",
    "Явно видно, что, кафе и рестораны имеют преимущество.\n",
    "Наибольшее распространение имеют кафе во всех округах, кроме ЦАО.\n",
    "Можно отметить, что пропорции примерно одинаковые во всех нецентральных округах.\n",
    "По этим графикам кажется, что, если открывать кофейню, то лучшим местом будет ЮВАО из-за меньшей конкуренции, но нужно проанализировать и других факторы.\n",
    "\n",
    "Наибольше вместительны столовые и рестораны (значения >90), менее вместительны бары, пабы, булочные (значение до 80). Пиццерии, кофейни и кафе (значения от 81 до 89).\n",
    "\n",
    "Доля сетевых в кафе: 0.33\n",
    "\n",
    "Доля сетевых в ресторан: 0.36\n",
    "\n",
    "Доля сетевых в кофейня: 0.51\n",
    "Доля сетевых в пиццерия: 0.52\n",
    "Доля сетевых в бар,паб: 0.22\n",
    "Доля сетевых в быстрое питание: 0.38\n",
    "\n",
    "Доля сетевых в булочная: 0.61\n",
    "\n",
    "Доля сетевых в столовая: 0.28\n",
    "\n",
    "62% - Несетевые заведения, 38% - Сетевых.\n",
    "\n",
    "Больше всего в распределении долей категорий среди сетевых преобладают: кафе, ресторан, кофейня (24%, 23%, 22% соответственно). Менее всего столовая, булочная, бар,паб (3%, 5%, 5% соответственно).\n",
    "Доля сетевых заведений по категориям от общего числа у булочной является самая высокая (0.61), а самая маленькая - у бара, паба(0.22).\n",
    "\n",
    "В топ-15 заведений лидирует Шоколадница (120), менее всего у заведения Му-Му(27). Данные сети знакомы, на мой взгляд признак объединения очевиден в доступности, удаленности в отношении метро, относятся к разным категориям, т.к. если заметить есть даже онлайн-доставка Яндекс Лавка[ресторан].\n",
    "\n",
    "Всего 5% всех заведений, относящихся к ТОП-15 сетям, работают круглосуточно.\n",
    "\n",
    "Большая часть крупных сетевых брендов - кофейни.\n",
    "\n",
    "В САО, ЮАО, СЗАО больше всего преобладают кофейни, а меньше всего кафе.\n",
    "\n",
    "В ВАО преобладают кофейни, а меньше всего булочные и столовые.\n",
    "\n",
    "В ЗАО, СВАО, ЮЗАО преобладают кофейни, а меньше всего заведения быстрого питания.\n",
    "Средний рейтинг у категории бар,паб - наибольший(4.39), а наименьший у заведений быстрого питания(4.05). В целом видно, что рейтинг довольно плавно различается от 4.05 до 4.39.\n",
    "\n",
    "В ЦАО можно выделить три категории заведений - кофейни, рестораны, кафе, а меньше всего заведения быстрого питания, бары и пабы, булочные и столовые.\n",
    "\n",
    "В ЮВАО преобладают пиццерии, а меньше всего заведений быстрого питания, однако заметного разрыва кофеин, кафе и ресторанов нет.\n",
    "\n",
    "Заведения категорий: бар/паб, быстрое питание, столовая - имеют наименьшую популяцию во всех округах. Это говорит о том, что в этих категориях преобладают несетевые предприятия. Возможно, это также связано с уходом из России крупных международных сетей.\n",
    "\n",
    "Заведения с наивысшими рейтингами сконцентрированы в ЦАО.\n",
    "В САО и СЗАО средний рейтинг чуть ниже, в остальных округах средний рейтинг распределен примерно равномерно.\n",
    "\n",
    "Самое большое кол-во заведений - Проспект Мира(184).\n",
    "\n",
    "Наименьшее кол-во заведений - Пятницкая улица(48).\n",
    "\n",
    "Наименьшая концентрация баров,пабов на МКАДе, Каширском ш., Кутузовском проспекте и на  ул. Вавилова. Наивысшая концентрация на Ленинском пр-те и пр-те Мира.\n",
    "\n",
    "Наивысшая концентрация быстрого питания на пр-те Мира, наименьшая на Кутузовском пр-те, Ленинском пр-те, Ленинградском пр-те и на Пятницкой ул.\n",
    "\n",
    "Категория кафе распределено почти равномерно, наивысшая концентрация на пр-те Мира и МКАД, наименьшая - на Пятницкой ул.\n",
    "\n",
    "Наибольшая концентрация кофеен на пр-те Мира, наименьшая - на МКАДе, на ул. Миклухо-Маклая.\n",
    "\n",
    "Наибольшая концентрация пиццерий на ул. Профсоюзной, пр-те Вернадского и проспекте Мира, наименьшая - на Люблинской ул.\n",
    "\n",
    "Наибольшая концентрация ресторанов на пр-те Мира, пр-те Вернадского и Ленинском пр-те, наименьшая - на МКАДе.\n",
    "\n",
    "Наибольшая концентрация столовых на Варшавском шоссе, наименьшая - на МКАДе.\n",
    "\n",
    "Наибольшая концентрация булочных на Ленинградском пр-те, пр-те Мира,на ул. Профсоюзной, наименьшая - на Кутузовском пр-те и пр-те Вернадского.\n",
    "\n",
    "456 улиц на которых находится только один объект общепита.\n",
    "\n",
    "Основная доля заведений приходится на ЦАО, где маленькие улицы, и возможно не все данные попали в датасет. Больше всего заведений в категории кафе, меньше-булочная. Средний рейтинг больше у бара, паба, а меньше у быстрого питания.\n",
    "\n",
    "Средний чек в ЦАО по отношению к остальным округам: 1.3\n",
    "\n",
    "Самый высокий средний чек - в ЦАО и ЗАО.\n",
    "\n",
    "Самый низкий средний чек в ЮАО, СВАО и ЮВАО.\n",
    "\n",
    "В среднем чек в ЦАО на 20% выше, чем в остальных округах.\n",
    "\n",
    "Средняя стоимость чашки капучино в кофейнях без конкурентов на своей улице: 180.35\n",
    "\n",
    "Средняя стоимость чашки капучино в кофейнях из ТОП-15 концентрированных улиц: 183.07\n",
    "\n",
    "Средняя стоимость бокала пива в пабах: 307.1\n",
    "\n",
    "Доля пабов в ЦАО от всех пабов Москвы: 0.51\n",
    "\n",
    "Большая часть пабов находится в ЦАО, в СЗАО их меньше всего. Стоимость бокала пива составляет в ЦАО-336р. в ВАО минимальный - 247р.\n",
    "\n",
    "Большая часть заведений работает ежедневно, но не круглосуточно, меньше всего круглосуточных.\n",
    "\n",
    "В ЦАО заметно видно, что много заведений работает ежедневно, но не круглосуточно. В ЮВАО больше всего заведений, которые работают по будням, не круглосуточно. В ВАО больше всего заведений, которые работают ежедневно, круглосуточно.\n",
    "\n",
    "Наибольшую долю заведений, работающих ежедневно/круглосуточно, представляют кафе (43.9%), наименьшую – булочные (1.28%).\n",
    "\n",
    "Наибольшую долю заведений работающие ежедневно, но не круглосуточно, представляют рестораны (27.6%), наименьшую – столовые (1.34%).\n",
    "\n",
    "Наибольшую долю заведений, работающих по будням, не круглосуточно, представляют кафе (43.9%), наименьшую – булочные (1.28%).\n",
    "\n",
    "Средний чек в заведении с плохим рейтингом: 505 р.\n",
    "\n",
    "Средняя стоимость чашки капучино в кофейне с плохим рейтингом: 154 р.\n",
    "\n",
    "Средний чек в заведении с хорошим рейтингом: 898 р.\n",
    "\n",
    "Средняя стоимость чашки капучино в кофейне с хорошим рейтингом: 175 р.\n",
    "\n",
    "В среднем заведение с хорошим рейтингом зарабатывает с чека примерно на 393р. больше, а хорошая кофейня на 21р. больше с чашки капучино.\n",
    "\n",
    "Большая часть заведений с плохим рейтингом - кафе, булочных с плохим рейтингом меньше всего в абсолютном. В относительных величинах хуже всего рейтинг у быстрого питания (примерно 86% заведений имеют низкий рейтинг) и кафе (67%), лучше - у баров (15% заведений с низким рейтингом) и пиццерий (27%).\n",
    "\n",
    "Хуже всего дела обстоят в СВАО, ЦАО и ЮАО в абсолютных значениях, лучше всего в СЗАО. В относительных лучше всего в ЦАО и СЗАО, хуже - в ЮВАО.\n"
   ]
  },
  {
   "cell_type": "markdown",
   "metadata": {},
   "source": [
    "## Детализируем исследование: открытие кофейни\n",
    "\n",
    "\n",
    "* Сколько всего кофеен в датасете? В каких районах их больше всего, каковы особенности их расположения?\n",
    "* Есть ли круглосуточные кофейни?\n",
    "* Какие у кофеен рейтинги? Как они распределяются по районам?\n",
    "* На какую стоимость чашки капучино стоит ориентироваться при открытии и почему?"
   ]
  },
  {
   "cell_type": "code",
   "execution_count": null,
   "metadata": {},
   "outputs": [],
   "source": [
    "coffee = df[df['category'] == 'кофейня']"
   ]
  },
  {
   "cell_type": "code",
   "execution_count": null,
   "metadata": {},
   "outputs": [],
   "source": [
    "print('Всего кофеен в Москве:', len(coffee))\n",
    "print('Доля круглосуточных кофеен:', round(len(coffee[coffee['is_24/7'] == 1]) / len(coffee),2))"
   ]
  },
  {
   "cell_type": "code",
   "execution_count": null,
   "metadata": {},
   "outputs": [],
   "source": [
    "coffee.groupby('district')['name'].count().sort_values(ascending=False)"
   ]
  },
  {
   "cell_type": "code",
   "execution_count": null,
   "metadata": {},
   "outputs": [],
   "source": [
    "x = coffee.groupby('district')['name'].count().sort_values(ascending=False)\n",
    "y = coffee.groupby('district')['name'].count().sort_values(ascending=False).index\n",
    "\n",
    "fig = plt.figure(figsize=(9,7))\n",
    "sns.barplot(x=x, y=y, data=coffee.reset_index())\n",
    "\n",
    "plt.title('Распределение кофеен по округам')\n",
    "plt.xlabel('Количество')\n",
    "plt.ylabel('Округ')\n",
    "\n",
    "plt.show()"
   ]
  },
  {
   "cell_type": "code",
   "execution_count": null,
   "metadata": {},
   "outputs": [],
   "source": [
    "moscow_lat, moscow_lng = 55.751244, 37.618423\n",
    "\n",
    "m = folium.Map(location=[moscow_lat, moscow_lng], zoom_start=10)\n",
    "\n",
    "data = coffee.groupby('district')['name'].count()\n",
    "\n",
    "folium.Choropleth(\n",
    "    geo_data=geo_json,\n",
    "    data=data,\n",
    "    columns=['district', 'name'],\n",
    "    key_on='feature.name',\n",
    "    fill_color='BuGn',\n",
    "    fill_opacity=0.4,\n",
    "    legend_name='Концентрация кофеен по районам',\n",
    ").add_to(m)\n",
    "\n",
    "marker_cluster = MarkerCluster().add_to(m)\n",
    "\n",
    "def create_clusters(row):\n",
    "    folium.Marker(\n",
    "        [row['lat'], row['lng']],\n",
    "        popup=f\"{row['name']} {row['rating']}\",\n",
    "    ).add_to(marker_cluster)\n",
    "\n",
    "coffee.apply(create_clusters, axis=1)\n",
    "\n",
    "m\n",
    "     "
   ]
  },
  {
   "cell_type": "markdown",
   "metadata": {},
   "source": [
    "В ЦАО больше всего кофеен, СЗАО- меньше."
   ]
  },
  {
   "cell_type": "code",
   "execution_count": null,
   "metadata": {},
   "outputs": [],
   "source": [
    "# распределение среднего рейтинга кофеен по округам\n",
    "\n",
    "round(coffee.groupby('district')['rating'].mean().sort_values(ascending=False), 2)"
   ]
  },
  {
   "cell_type": "code",
   "execution_count": null,
   "metadata": {},
   "outputs": [],
   "source": [
    "x = coffee.groupby('district')['rating'].mean().sort_values(ascending=False)\n",
    "y = coffee.groupby('district')['rating'].mean().sort_values(ascending=False).index\n",
    "\n",
    "fig = plt.figure(figsize=(9,7))\n",
    "sns.barplot(x=x, y=y, data=coffee.reset_index())\n",
    "plt.xlim(4.1, 4.5)\n",
    "\n",
    "plt.title('Распределение среднего рейтинга кофеен по округам')\n",
    "plt.xlabel('Рейтинг')\n",
    "plt.ylabel('Округ')\n",
    "\n",
    "plt.show()"
   ]
  },
  {
   "cell_type": "code",
   "execution_count": null,
   "metadata": {},
   "outputs": [],
   "source": [
    "moscow_lat, moscow_lng = 55.751244, 37.618423\n",
    "\n",
    "m = folium.Map(location=[moscow_lat, moscow_lng], zoom_start=10)\n",
    "\n",
    "data = coffee.groupby('district')['rating'].mean()\n",
    "\n",
    "folium.Choropleth(\n",
    "    geo_data=geo_json,\n",
    "    data=data,\n",
    "    columns=['district', 'rating'],\n",
    "    key_on='feature.name',\n",
    "    fill_color='BuGn',\n",
    "    fill_opacity=0.8,\n",
    "    legend_name='Средний рейтинг кофеен по округам',\n",
    ").add_to(m)\n",
    "\n",
    "marker_cluster = MarkerCluster().add_to(m)\n",
    "\n",
    "def create_clusters(row):\n",
    "    folium.Marker(\n",
    "        [row['lat'], row['lng']],\n",
    "        popup=f\"{row['name']} {row['rating']}\",\n",
    "    ).add_to(marker_cluster)\n",
    "\n",
    "coffee.apply(create_clusters, axis=1)\n",
    "\n",
    "m"
   ]
  },
  {
   "cell_type": "markdown",
   "metadata": {},
   "source": [
    "Средний рейтинг кофеен во всех округах выше определенного ранее уровня \"плохого\" рейтинга.\n",
    "Наиболее высокий средний рейтинг у кофеен расположенных в ЦАО , СЗАО и САО, а меньше в ЗАО."
   ]
  },
  {
   "cell_type": "code",
   "execution_count": null,
   "metadata": {},
   "outputs": [],
   "source": [
    "#  посмотрим среднюю стоимость чашки капучино в сетях и несетях по округам\n",
    "\n",
    "dist_chain_coffee_price = round(coffee[coffee[\n",
    "    'middle_coffee_cup'] < np.quantile(coffee[~coffee[\n",
    "    'middle_coffee_cup'].isna()][\n",
    "    'middle_coffee_cup'], 0.99)].groupby(['district', 'chain'],as_index=False)[\n",
    "    'middle_coffee_cup'].mean(), 2)\n",
    "\n",
    "dist_chain_coffee_price"
   ]
  },
  {
   "cell_type": "code",
   "execution_count": null,
   "metadata": {},
   "outputs": [],
   "source": [
    "name0='Не сетевая'\n",
    "name1='Сетевая'\n",
    "x=list(dist_chain_coffee_price['district'].unique())\n",
    "y0=list(dist_chain_coffee_price[dist_chain_coffee_price['chain'] == 0][\n",
    "    'middle_coffee_cup'])\n",
    "y1=list(dist_chain_coffee_price[dist_chain_coffee_price['chain'] == 1][\n",
    "    'middle_coffee_cup'])\n",
    "\n",
    "fig = go.Figure(data=[\n",
    "    go.Bar(name=name0, x=x, y=y0),\n",
    "    go.Bar(name=name1, x=x, y=y1)\n",
    "])\n",
    "\n",
    "fig.update_layout(title='Средняя стоимость чашки капучино по кофейням', \n",
    "                  barmode='group', \n",
    "                  xaxis={'categoryorder':'total descending'})\n",
    "fig.show()"
   ]
  },
  {
   "cell_type": "code",
   "execution_count": null,
   "metadata": {},
   "outputs": [],
   "source": [
    "print('Средняя стоимость чашки капучино', round(df[df[\n",
    "    'middle_coffee_cup'] < np.quantile(df[~df[\n",
    "    'middle_coffee_cup'].isna()][\n",
    "    'middle_coffee_cup'], 0.99)][\n",
    "    'middle_coffee_cup'].mean(),1), 'р.')"
   ]
  },
  {
   "cell_type": "code",
   "execution_count": null,
   "metadata": {},
   "outputs": [],
   "source": [
    "print('Средняя стоимость чашки капучино в несетевой кофейне', round(\n",
    "    dist_chain_coffee_price[dist_chain_coffee_price['chain'] == 0][\n",
    "        'middle_coffee_cup'].mean(),1), 'р.')\n",
    "\n",
    "print('Средняя стоимость чашки капучино в сетевой кофейне', round(\n",
    "    dist_chain_coffee_price[dist_chain_coffee_price['chain'] == 1][\n",
    "        'middle_coffee_cup'].mean(),1), 'р.')"
   ]
  },
  {
   "cell_type": "markdown",
   "metadata": {},
   "source": [
    "Почти во всех округах в несетевых кофейнях средняя стоимость чашки капучино дороже, кроме СЗАО, ЮВАО, ВАО.\n",
    "В среднем в несетевых кофейнях дороже на 8.3р."
   ]
  },
  {
   "cell_type": "code",
   "execution_count": null,
   "metadata": {},
   "outputs": [],
   "source": [
    "# На основе данных о площади округов Москвы посмотрим на плотность заселения округов и\n",
    "# соотношение количества кофеен на душу населения по округам.\n",
    "# создадим датафрейм с данной информацией\n",
    "\n",
    "moscow_area_detailed = pd.DataFrame({'area':\n",
    "                                     ['Центральный административный округ',\n",
    "                                     'Северный административный округ',\n",
    "                                     'Северо-Восточный административный округ',\n",
    "                                     'Восточный административный округ',\n",
    "                                     'Юго-Восточный административный округ',\n",
    "                                     'Южный административный округ',\n",
    "                                     'Юго-Западный административный округ',\n",
    "                                     'Западный административный округ',\n",
    "                                     'Северо-Западный административный округ'],\n",
    "                                     'area_square_km':\n",
    "                                     [66.1755,113.726,101.883,154.8355,117.5597,131.7729,111.3622,153.0343,93.281],\n",
    "                                     'population':\n",
    "                                     [779086,1175229,1427597,1514420,1432839,1773425,1442971,1383853,1009217]})\n",
    "     "
   ]
  },
  {
   "cell_type": "code",
   "execution_count": null,
   "metadata": {},
   "outputs": [],
   "source": [
    "moscow_area_detailed['population_density'] = moscow_area_detailed[\n",
    "    'population'] / moscow_area_detailed['area_square_km']"
   ]
  },
  {
   "cell_type": "code",
   "execution_count": null,
   "metadata": {},
   "outputs": [],
   "source": [
    "moscow_area_detailed.sort_values('population_density', ascending=False)"
   ]
  },
  {
   "cell_type": "code",
   "execution_count": null,
   "metadata": {},
   "outputs": [],
   "source": [
    "x = moscow_area_detailed.sort_values('population_density', ascending=False)[\n",
    "    'population_density']\n",
    "y = moscow_area_detailed.sort_values('population_density', ascending=False)[\n",
    "    'area']\n",
    "\n",
    "fig = plt.figure(figsize=(9,7))\n",
    "sns.barplot(x=x, y=y, data=moscow_area_detailed)\n",
    "\n",
    "plt.title('Плотность населения по округам')\n",
    "plt.xlabel('Плотность населения, чел/км2')\n",
    "plt.ylabel('Округ')\n",
    "\n",
    "plt.show()"
   ]
  },
  {
   "cell_type": "code",
   "execution_count": null,
   "metadata": {},
   "outputs": [],
   "source": [
    "t = coffee['district'].value_counts().reset_index()"
   ]
  },
  {
   "cell_type": "code",
   "execution_count": null,
   "metadata": {},
   "outputs": [],
   "source": [
    "# объединяем таблицы, приводим к нормальному виду и посчитаем кофейни на душу населения\n",
    "\n",
    "moscow_area_detailed = moscow_area_detailed.merge(t, left_on='area', right_on='index')\n",
    "moscow_area_detailed = moscow_area_detailed.drop(columns='index')\n",
    "moscow_area_detailed.rename(columns={'district':'coffee_house_count'}, inplace=True)\n",
    "moscow_area_detailed['coffee_house_count'] = moscow_area_detailed[\n",
    "    'coffee_house_count'].astype(int)\n",
    "moscow_area_detailed['coffee_house_per_local'] = moscow_area_detailed[\n",
    "    'coffee_house_count'] / moscow_area_detailed['population']"
   ]
  },
  {
   "cell_type": "code",
   "execution_count": null,
   "metadata": {},
   "outputs": [],
   "source": [
    "moscow_area_detailed.sort_values('coffee_house_per_local', ascending=False)"
   ]
  },
  {
   "cell_type": "code",
   "execution_count": null,
   "metadata": {},
   "outputs": [],
   "source": [
    "x = moscow_area_detailed.sort_values('coffee_house_per_local', ascending=False)[\n",
    "    'coffee_house_per_local']\n",
    "y = moscow_area_detailed.sort_values('coffee_house_per_local', ascending=False)[\n",
    "    'area']\n",
    "\n",
    "fig = plt.figure(figsize=(9,7))\n",
    "sns.barplot(x=x, y=y, data=moscow_area_detailed)\n",
    "\n",
    "plt.title('Количество кофеен на душу населения')\n",
    "plt.xlabel('Количество')\n",
    "plt.ylabel('Округ')\n",
    "\n",
    "plt.show()"
   ]
  },
  {
   "cell_type": "code",
   "execution_count": null,
   "metadata": {},
   "outputs": [],
   "source": [
    "top_chains[top_chains['category'] == 'кофейня']['district'].value_counts()"
   ]
  },
  {
   "cell_type": "code",
   "execution_count": null,
   "metadata": {},
   "outputs": [],
   "source": [
    "x = top_chains[top_chains['category'] == 'кофейня']['district'].value_counts()\n",
    "y = top_chains[top_chains['category'] == 'кофейня']['district'].value_counts().index\n",
    "\n",
    "fig = plt.figure(figsize=(9,7))\n",
    "sns.barplot(x=x, y=y, data=top_chains[top_chains['category'] == 'кофейня']['district'])\n",
    "\n",
    "plt.title('Количество сетевых кофеен по округам')\n",
    "plt.xlabel('Количество')\n",
    "plt.ylabel('Округ')\n",
    "\n",
    "plt.show()"
   ]
  },
  {
   "cell_type": "code",
   "execution_count": null,
   "metadata": {},
   "outputs": [],
   "source": [
    "# выведем на карту улицы с одной кофейней для СЗАО и ЮЗАО\n",
    "\n",
    "szao_one_eatary_streets = one_eatary_streets[(\n",
    "    one_eatary_streets['district'] == 'Северо-Западный административный округ') & \\\n",
    "    (one_eatary_streets['category'] == 'кофейня')][\n",
    "        ['name', 'lat', 'lng', 'street']]\n",
    "     "
   ]
  },
  {
   "cell_type": "code",
   "execution_count": null,
   "metadata": {},
   "outputs": [],
   "source": [
    "uzao_one_eatary_streets = one_eatary_streets[(\n",
    "    one_eatary_streets['district'] == 'Юго-Западный административный округ') & \\\n",
    "    (one_eatary_streets['category'] == 'кофейня')][[\n",
    "        'name', 'lat', 'lng', 'street']]"
   ]
  },
  {
   "cell_type": "code",
   "execution_count": null,
   "metadata": {},
   "outputs": [],
   "source": [
    "szao_uzao_one_eatary_streets = pd.concat(\n",
    "    [szao_one_eatary_streets, uzao_one_eatary_streets], ignore_index=True)\n",
    "\n",
    "szao_uzao_one_eatary_streets"
   ]
  },
  {
   "cell_type": "code",
   "execution_count": null,
   "metadata": {},
   "outputs": [],
   "source": [
    "moscow_lat, moscow_lng = 55.751244, 37.618423\n",
    "\n",
    "moscow = folium.Map(location=[moscow_lat, moscow_lng], zoom_start=10)\n",
    "\n",
    "# сохраняем значения name, lat, lng, street  в список\n",
    "arr = szao_uzao_one_eatary_streets[['name', 'lat', 'lng', 'street']].to_numpy()\n",
    "\n",
    "# выводим на карту\n",
    "for name, lat, lng, street in arr:\n",
    "    folium.Marker(location=[lat, lng], popup=[name, street]).add_to(moscow)\n",
    "\n",
    "# добавляем хороплет\n",
    "folium.Choropleth(\n",
    "    geo_data=geo_json,\n",
    "    data=coffee['district'].value_counts().reset_index(),\n",
    "    columns=['index', 'district'],\n",
    "    key_on='feature.name',\n",
    "    fill_color='BuGn',\n",
    "    fill_opacity=0.4,\n",
    "    legend_name='Количество кофеен по округам',\n",
    ").add_to(moscow)\n",
    "\n",
    "moscow"
   ]
  },
  {
   "cell_type": "markdown",
   "metadata": {},
   "source": [
    "## Рекомендации\n",
    "\n",
    "Наиболее подходящим округом для открытия кофейни будет СЗАО, поскольку там наименьшая конкуренция, наименьшее число сетевых кофеен, а значит, возможность установить чуть более высокую стоимость - 162-168р. \n",
    "\n",
    "Также в СЗАО наименьшее количество кофеен на душу населения и средняя по городу плотность населения.\n",
    "Но следует учесть, что в СЗАО рынок кофеен высокорейтинговый, это может указывать на хорошее качество действующих кофеен.\n",
    "\n",
    "Хорошим вариантом будет ЮЗАО, здесь также невысокая конкуренция среди кофеен, средняя стоимость кофе выше - 181-187р. (третий показатель по городу), невысокая концентрация сетей и малое количество кофеен на душу населения.\n",
    "\n",
    "Слабая сторона этих округов - наиболее низкое количество улиц в целом и низкое количество улиц с одним заведением."
   ]
  },
  {
   "cell_type": "markdown",
   "metadata": {},
   "source": [
    "## Презентация: \n",
    "\n",
    "https://disk.yandex.ru/i/XMTjoTR9GpaUJA\n"
   ]
  }
 ],
 "metadata": {
  "ExecuteTimeLog": [
   {
    "duration": 1289,
    "start_time": "2023-02-14T18:44:33.429Z"
   },
   {
    "duration": 4,
    "start_time": "2023-02-14T18:48:28.133Z"
   },
   {
    "duration": 350,
    "start_time": "2023-02-14T18:49:55.190Z"
   },
   {
    "duration": 156,
    "start_time": "2023-02-14T18:50:10.793Z"
   },
   {
    "duration": 1313,
    "start_time": "2023-02-15T09:51:20.857Z"
   },
   {
    "duration": 4,
    "start_time": "2023-02-15T09:51:22.172Z"
   },
   {
    "duration": 314,
    "start_time": "2023-02-15T09:51:22.177Z"
   },
   {
    "duration": 1490,
    "start_time": "2023-02-15T09:54:36.232Z"
   },
   {
    "duration": 165,
    "start_time": "2023-02-15T09:58:26.670Z"
   },
   {
    "duration": 56,
    "start_time": "2023-02-15T09:58:40.808Z"
   },
   {
    "duration": 3,
    "start_time": "2023-02-15T09:58:49.751Z"
   },
   {
    "duration": 155,
    "start_time": "2023-02-15T09:58:52.239Z"
   },
   {
    "duration": 1463,
    "start_time": "2023-02-15T10:06:27.505Z"
   },
   {
    "duration": 4,
    "start_time": "2023-02-15T10:06:28.970Z"
   },
   {
    "duration": 160,
    "start_time": "2023-02-15T10:06:28.976Z"
   },
   {
    "duration": 1506,
    "start_time": "2023-02-15T10:06:30.899Z"
   },
   {
    "duration": 4,
    "start_time": "2023-02-15T10:06:32.408Z"
   },
   {
    "duration": 187,
    "start_time": "2023-02-15T10:06:32.413Z"
   },
   {
    "duration": 1752,
    "start_time": "2023-02-15T10:08:04.167Z"
   },
   {
    "duration": 4,
    "start_time": "2023-02-15T10:08:05.922Z"
   },
   {
    "duration": 172,
    "start_time": "2023-02-15T10:08:05.927Z"
   },
   {
    "duration": 1449,
    "start_time": "2023-02-15T10:09:12.884Z"
   },
   {
    "duration": 4,
    "start_time": "2023-02-15T10:09:14.337Z"
   },
   {
    "duration": 159,
    "start_time": "2023-02-15T10:09:14.342Z"
   },
   {
    "duration": 15,
    "start_time": "2023-02-15T10:09:34.722Z"
   },
   {
    "duration": 17,
    "start_time": "2023-02-15T10:10:11.394Z"
   },
   {
    "duration": 119,
    "start_time": "2023-02-15T10:10:38.184Z"
   },
   {
    "duration": 4,
    "start_time": "2023-02-15T10:11:03.989Z"
   },
   {
    "duration": 18,
    "start_time": "2023-02-15T10:11:08.395Z"
   },
   {
    "duration": 136,
    "start_time": "2023-02-15T10:11:56.299Z"
   },
   {
    "duration": 16,
    "start_time": "2023-02-15T10:12:01.847Z"
   },
   {
    "duration": 14,
    "start_time": "2023-02-15T10:12:57.697Z"
   },
   {
    "duration": 15,
    "start_time": "2023-02-15T10:13:10.036Z"
   },
   {
    "duration": 15,
    "start_time": "2023-02-15T10:14:20.788Z"
   },
   {
    "duration": 17,
    "start_time": "2023-02-15T10:14:52.953Z"
   },
   {
    "duration": 49,
    "start_time": "2023-02-15T10:15:45.331Z"
   },
   {
    "duration": 20,
    "start_time": "2023-02-15T10:15:52.950Z"
   },
   {
    "duration": 18,
    "start_time": "2023-02-15T10:16:06.884Z"
   },
   {
    "duration": 15,
    "start_time": "2023-02-15T10:16:15.766Z"
   },
   {
    "duration": 16,
    "start_time": "2023-02-15T10:16:27.583Z"
   },
   {
    "duration": 5,
    "start_time": "2023-02-15T10:26:42.868Z"
   },
   {
    "duration": 21,
    "start_time": "2023-02-15T10:26:50.660Z"
   },
   {
    "duration": 12,
    "start_time": "2023-02-15T10:30:10.184Z"
   },
   {
    "duration": 17,
    "start_time": "2023-02-15T10:30:37.891Z"
   },
   {
    "duration": 24,
    "start_time": "2023-02-15T10:30:46.575Z"
   },
   {
    "duration": 18,
    "start_time": "2023-02-15T10:30:58.365Z"
   },
   {
    "duration": 32,
    "start_time": "2023-02-15T10:31:04.383Z"
   },
   {
    "duration": 32,
    "start_time": "2023-02-15T10:31:21.213Z"
   },
   {
    "duration": 16,
    "start_time": "2023-02-15T10:46:00.120Z"
   },
   {
    "duration": 6,
    "start_time": "2023-02-15T10:46:31.917Z"
   },
   {
    "duration": 16,
    "start_time": "2023-02-15T10:46:41.417Z"
   },
   {
    "duration": 18,
    "start_time": "2023-02-15T10:47:12.085Z"
   },
   {
    "duration": 17,
    "start_time": "2023-02-15T10:47:41.411Z"
   },
   {
    "duration": 7,
    "start_time": "2023-02-15T10:49:24.489Z"
   },
   {
    "duration": 19,
    "start_time": "2023-02-15T10:49:55.237Z"
   },
   {
    "duration": 20,
    "start_time": "2023-02-15T10:50:38.453Z"
   },
   {
    "duration": 9,
    "start_time": "2023-02-15T10:51:00.987Z"
   },
   {
    "duration": 15,
    "start_time": "2023-02-15T10:51:09.782Z"
   },
   {
    "duration": 1599,
    "start_time": "2023-02-15T10:51:22.086Z"
   },
   {
    "duration": 5,
    "start_time": "2023-02-15T10:51:23.687Z"
   },
   {
    "duration": 164,
    "start_time": "2023-02-15T10:51:23.694Z"
   },
   {
    "duration": 36,
    "start_time": "2023-02-15T10:51:23.861Z"
   },
   {
    "duration": 18,
    "start_time": "2023-02-15T10:51:23.899Z"
   },
   {
    "duration": 8,
    "start_time": "2023-02-15T10:51:23.919Z"
   },
   {
    "duration": 20,
    "start_time": "2023-02-15T10:51:23.928Z"
   },
   {
    "duration": 18,
    "start_time": "2023-02-15T10:51:23.950Z"
   },
   {
    "duration": 35,
    "start_time": "2023-02-15T10:51:23.971Z"
   },
   {
    "duration": 10,
    "start_time": "2023-02-15T10:51:24.009Z"
   },
   {
    "duration": 19,
    "start_time": "2023-02-15T10:51:24.020Z"
   },
   {
    "duration": 1530,
    "start_time": "2023-02-15T10:52:25.374Z"
   },
   {
    "duration": 4,
    "start_time": "2023-02-15T10:52:26.906Z"
   },
   {
    "duration": 184,
    "start_time": "2023-02-15T10:52:26.911Z"
   },
   {
    "duration": 16,
    "start_time": "2023-02-15T10:52:27.097Z"
   },
   {
    "duration": 22,
    "start_time": "2023-02-15T10:52:27.115Z"
   },
   {
    "duration": 8,
    "start_time": "2023-02-15T10:52:27.139Z"
   },
   {
    "duration": 25,
    "start_time": "2023-02-15T10:52:27.149Z"
   },
   {
    "duration": 28,
    "start_time": "2023-02-15T10:52:27.176Z"
   },
   {
    "duration": 27,
    "start_time": "2023-02-15T10:52:27.206Z"
   },
   {
    "duration": 8,
    "start_time": "2023-02-15T10:52:27.235Z"
   },
   {
    "duration": 27,
    "start_time": "2023-02-15T10:52:27.244Z"
   },
   {
    "duration": 6,
    "start_time": "2023-02-15T10:55:14.495Z"
   },
   {
    "duration": 27,
    "start_time": "2023-02-15T10:55:20.600Z"
   },
   {
    "duration": 5,
    "start_time": "2023-02-15T10:56:15.031Z"
   },
   {
    "duration": 31,
    "start_time": "2023-02-15T10:56:18.494Z"
   },
   {
    "duration": 7,
    "start_time": "2023-02-15T10:59:09.265Z"
   },
   {
    "duration": 21,
    "start_time": "2023-02-15T10:59:09.812Z"
   },
   {
    "duration": 1696,
    "start_time": "2023-02-15T11:01:15.567Z"
   },
   {
    "duration": 4,
    "start_time": "2023-02-15T11:01:17.265Z"
   },
   {
    "duration": 168,
    "start_time": "2023-02-15T11:01:17.270Z"
   },
   {
    "duration": 15,
    "start_time": "2023-02-15T11:01:17.440Z"
   },
   {
    "duration": 38,
    "start_time": "2023-02-15T11:01:17.457Z"
   },
   {
    "duration": 18,
    "start_time": "2023-02-15T11:01:17.498Z"
   },
   {
    "duration": 21,
    "start_time": "2023-02-15T11:01:17.518Z"
   },
   {
    "duration": 16,
    "start_time": "2023-02-15T11:01:17.541Z"
   },
   {
    "duration": 40,
    "start_time": "2023-02-15T11:01:17.558Z"
   },
   {
    "duration": 24,
    "start_time": "2023-02-15T11:01:17.601Z"
   },
   {
    "duration": 11,
    "start_time": "2023-02-15T11:01:17.626Z"
   },
   {
    "duration": 14,
    "start_time": "2023-02-15T11:01:17.638Z"
   },
   {
    "duration": 18,
    "start_time": "2023-02-15T11:01:17.654Z"
   },
   {
    "duration": 26,
    "start_time": "2023-02-15T11:01:17.674Z"
   },
   {
    "duration": 12,
    "start_time": "2023-02-15T11:01:38.911Z"
   },
   {
    "duration": 18,
    "start_time": "2023-02-15T11:02:09.698Z"
   },
   {
    "duration": 10,
    "start_time": "2023-02-15T11:02:35.445Z"
   },
   {
    "duration": 10,
    "start_time": "2023-02-15T11:02:40.851Z"
   },
   {
    "duration": 11,
    "start_time": "2023-02-15T11:02:48.612Z"
   },
   {
    "duration": 10,
    "start_time": "2023-02-15T11:02:54.878Z"
   },
   {
    "duration": 10,
    "start_time": "2023-02-15T11:03:01.679Z"
   },
   {
    "duration": 10,
    "start_time": "2023-02-15T11:03:18.725Z"
   },
   {
    "duration": 10,
    "start_time": "2023-02-15T11:03:22.363Z"
   },
   {
    "duration": 11,
    "start_time": "2023-02-15T11:03:51.051Z"
   },
   {
    "duration": 11,
    "start_time": "2023-02-15T11:03:55.550Z"
   },
   {
    "duration": 1580,
    "start_time": "2023-02-15T11:04:09.915Z"
   },
   {
    "duration": 10,
    "start_time": "2023-02-15T11:04:11.499Z"
   },
   {
    "duration": 159,
    "start_time": "2023-02-15T11:04:11.511Z"
   },
   {
    "duration": 42,
    "start_time": "2023-02-15T11:04:11.671Z"
   },
   {
    "duration": 21,
    "start_time": "2023-02-15T11:04:11.715Z"
   },
   {
    "duration": 8,
    "start_time": "2023-02-15T11:04:11.738Z"
   },
   {
    "duration": 20,
    "start_time": "2023-02-15T11:04:11.748Z"
   },
   {
    "duration": 46,
    "start_time": "2023-02-15T11:04:11.770Z"
   },
   {
    "duration": 25,
    "start_time": "2023-02-15T11:04:11.818Z"
   },
   {
    "duration": 31,
    "start_time": "2023-02-15T11:04:11.845Z"
   },
   {
    "duration": 24,
    "start_time": "2023-02-15T11:04:11.878Z"
   },
   {
    "duration": 22,
    "start_time": "2023-02-15T11:04:11.905Z"
   },
   {
    "duration": 10,
    "start_time": "2023-02-15T11:04:11.928Z"
   },
   {
    "duration": 39,
    "start_time": "2023-02-15T11:04:49.975Z"
   },
   {
    "duration": 27,
    "start_time": "2023-02-15T11:05:11.593Z"
   },
   {
    "duration": 26,
    "start_time": "2023-02-15T11:05:19.087Z"
   },
   {
    "duration": 17,
    "start_time": "2023-02-15T11:05:33.176Z"
   },
   {
    "duration": 19,
    "start_time": "2023-02-15T11:05:36.882Z"
   },
   {
    "duration": 51,
    "start_time": "2023-02-15T11:05:40.937Z"
   },
   {
    "duration": 42,
    "start_time": "2023-02-15T11:05:44.684Z"
   },
   {
    "duration": 1497,
    "start_time": "2023-02-15T11:06:32.259Z"
   },
   {
    "duration": 5,
    "start_time": "2023-02-15T11:06:33.758Z"
   },
   {
    "duration": 158,
    "start_time": "2023-02-15T11:06:33.764Z"
   },
   {
    "duration": 14,
    "start_time": "2023-02-15T11:06:33.924Z"
   },
   {
    "duration": 33,
    "start_time": "2023-02-15T11:06:33.940Z"
   },
   {
    "duration": 17,
    "start_time": "2023-02-15T11:06:33.975Z"
   },
   {
    "duration": 23,
    "start_time": "2023-02-15T11:06:33.994Z"
   },
   {
    "duration": 19,
    "start_time": "2023-02-15T11:06:34.018Z"
   },
   {
    "duration": 22,
    "start_time": "2023-02-15T11:06:34.038Z"
   },
   {
    "duration": 41,
    "start_time": "2023-02-15T11:06:34.062Z"
   },
   {
    "duration": 20,
    "start_time": "2023-02-15T11:06:34.115Z"
   },
   {
    "duration": 44,
    "start_time": "2023-02-15T11:06:34.136Z"
   },
   {
    "duration": 10,
    "start_time": "2023-02-15T11:06:34.182Z"
   },
   {
    "duration": 31,
    "start_time": "2023-02-15T11:06:34.194Z"
   },
   {
    "duration": 25,
    "start_time": "2023-02-15T11:07:50.530Z"
   },
   {
    "duration": 1641,
    "start_time": "2023-02-15T11:08:41.115Z"
   },
   {
    "duration": 5,
    "start_time": "2023-02-15T11:08:42.757Z"
   },
   {
    "duration": 185,
    "start_time": "2023-02-15T11:08:42.764Z"
   },
   {
    "duration": 41,
    "start_time": "2023-02-15T11:08:42.952Z"
   },
   {
    "duration": 33,
    "start_time": "2023-02-15T11:08:42.996Z"
   },
   {
    "duration": 11,
    "start_time": "2023-02-15T11:08:43.032Z"
   },
   {
    "duration": 48,
    "start_time": "2023-02-15T11:08:43.045Z"
   },
   {
    "duration": 25,
    "start_time": "2023-02-15T11:08:43.096Z"
   },
   {
    "duration": 22,
    "start_time": "2023-02-15T11:08:43.123Z"
   },
   {
    "duration": 45,
    "start_time": "2023-02-15T11:08:43.147Z"
   },
   {
    "duration": 8,
    "start_time": "2023-02-15T11:08:43.195Z"
   },
   {
    "duration": 22,
    "start_time": "2023-02-15T11:08:43.206Z"
   },
   {
    "duration": 10,
    "start_time": "2023-02-15T11:08:43.230Z"
   },
   {
    "duration": 29,
    "start_time": "2023-02-15T11:08:43.241Z"
   },
   {
    "duration": 6,
    "start_time": "2023-02-15T11:20:38.676Z"
   },
   {
    "duration": 7,
    "start_time": "2023-02-15T11:21:03.785Z"
   },
   {
    "duration": 152,
    "start_time": "2023-02-15T11:21:58.085Z"
   },
   {
    "duration": 11,
    "start_time": "2023-02-15T11:29:04.463Z"
   },
   {
    "duration": 12,
    "start_time": "2023-02-15T11:29:20.320Z"
   },
   {
    "duration": 12,
    "start_time": "2023-02-15T11:29:25.732Z"
   },
   {
    "duration": 108,
    "start_time": "2023-02-15T11:29:38.808Z"
   },
   {
    "duration": 54,
    "start_time": "2023-02-15T11:29:43.635Z"
   },
   {
    "duration": 11,
    "start_time": "2023-02-15T11:29:57.376Z"
   },
   {
    "duration": 463,
    "start_time": "2023-02-15T11:30:36.273Z"
   },
   {
    "duration": 65,
    "start_time": "2023-02-15T11:31:26.360Z"
   },
   {
    "duration": 79,
    "start_time": "2023-02-15T11:31:54.214Z"
   },
   {
    "duration": 72,
    "start_time": "2023-02-15T11:32:03.815Z"
   },
   {
    "duration": 45,
    "start_time": "2023-02-15T11:32:16.075Z"
   },
   {
    "duration": 27,
    "start_time": "2023-02-15T11:32:22.416Z"
   },
   {
    "duration": 53,
    "start_time": "2023-02-15T11:32:26.960Z"
   },
   {
    "duration": 57,
    "start_time": "2023-02-15T11:32:59.592Z"
   },
   {
    "duration": 12,
    "start_time": "2023-02-15T11:34:17.954Z"
   },
   {
    "duration": 11,
    "start_time": "2023-02-15T11:34:29.343Z"
   },
   {
    "duration": 1382,
    "start_time": "2023-02-15T11:37:23.140Z"
   },
   {
    "duration": 3,
    "start_time": "2023-02-15T11:37:24.524Z"
   },
   {
    "duration": 179,
    "start_time": "2023-02-15T11:37:24.529Z"
   },
   {
    "duration": 15,
    "start_time": "2023-02-15T11:37:24.710Z"
   },
   {
    "duration": 17,
    "start_time": "2023-02-15T11:37:24.727Z"
   },
   {
    "duration": 6,
    "start_time": "2023-02-15T11:37:24.746Z"
   },
   {
    "duration": 44,
    "start_time": "2023-02-15T11:37:24.753Z"
   },
   {
    "duration": 15,
    "start_time": "2023-02-15T11:37:24.799Z"
   },
   {
    "duration": 24,
    "start_time": "2023-02-15T11:37:24.815Z"
   },
   {
    "duration": 26,
    "start_time": "2023-02-15T11:37:24.842Z"
   },
   {
    "duration": 11,
    "start_time": "2023-02-15T11:37:24.870Z"
   },
   {
    "duration": 26,
    "start_time": "2023-02-15T11:37:24.892Z"
   },
   {
    "duration": 7,
    "start_time": "2023-02-15T11:37:24.920Z"
   },
   {
    "duration": 9,
    "start_time": "2023-02-15T11:37:24.928Z"
   },
   {
    "duration": 17,
    "start_time": "2023-02-15T11:37:24.938Z"
   },
   {
    "duration": 149,
    "start_time": "2023-02-15T11:37:24.956Z"
   },
   {
    "duration": 12,
    "start_time": "2023-02-15T11:37:25.107Z"
   },
   {
    "duration": 416,
    "start_time": "2023-02-15T11:37:25.121Z"
   },
   {
    "duration": 52,
    "start_time": "2023-02-15T11:37:40.271Z"
   },
   {
    "duration": 4,
    "start_time": "2023-02-15T11:48:04.278Z"
   },
   {
    "duration": 3,
    "start_time": "2023-02-15T11:48:17.731Z"
   },
   {
    "duration": 20,
    "start_time": "2023-02-15T11:48:24.786Z"
   },
   {
    "duration": 94,
    "start_time": "2023-02-15T11:48:44.553Z"
   },
   {
    "duration": 5,
    "start_time": "2023-02-15T11:50:06.204Z"
   },
   {
    "duration": 6,
    "start_time": "2023-02-15T11:50:12.800Z"
   },
   {
    "duration": 134,
    "start_time": "2023-02-15T11:50:29.838Z"
   },
   {
    "duration": 12,
    "start_time": "2023-02-15T11:53:54.805Z"
   },
   {
    "duration": 12,
    "start_time": "2023-02-15T11:54:15.358Z"
   },
   {
    "duration": 179,
    "start_time": "2023-02-15T11:55:03.877Z"
   },
   {
    "duration": 9,
    "start_time": "2023-02-15T11:57:44.849Z"
   },
   {
    "duration": 225,
    "start_time": "2023-02-15T11:58:01.781Z"
   },
   {
    "duration": 228,
    "start_time": "2023-02-15T11:58:30.746Z"
   },
   {
    "duration": 5,
    "start_time": "2023-02-15T12:05:21.359Z"
   },
   {
    "duration": 13,
    "start_time": "2023-02-15T12:05:36.845Z"
   },
   {
    "duration": 4,
    "start_time": "2023-02-15T12:08:35.508Z"
   },
   {
    "duration": 8,
    "start_time": "2023-02-15T12:08:51.511Z"
   },
   {
    "duration": 4,
    "start_time": "2023-02-15T12:13:31.621Z"
   },
   {
    "duration": 4,
    "start_time": "2023-02-15T12:15:17.473Z"
   },
   {
    "duration": 1411,
    "start_time": "2023-02-15T12:15:19.364Z"
   },
   {
    "duration": 1539,
    "start_time": "2023-02-15T12:18:26.480Z"
   },
   {
    "duration": 4,
    "start_time": "2023-02-15T12:18:28.020Z"
   },
   {
    "duration": 165,
    "start_time": "2023-02-15T12:18:28.026Z"
   },
   {
    "duration": 16,
    "start_time": "2023-02-15T12:18:28.193Z"
   },
   {
    "duration": 18,
    "start_time": "2023-02-15T12:18:28.211Z"
   },
   {
    "duration": 13,
    "start_time": "2023-02-15T12:18:28.231Z"
   },
   {
    "duration": 19,
    "start_time": "2023-02-15T12:18:28.246Z"
   },
   {
    "duration": 38,
    "start_time": "2023-02-15T12:18:28.267Z"
   },
   {
    "duration": 26,
    "start_time": "2023-02-15T12:18:28.308Z"
   },
   {
    "duration": 32,
    "start_time": "2023-02-15T12:18:28.337Z"
   },
   {
    "duration": 15,
    "start_time": "2023-02-15T12:18:28.371Z"
   },
   {
    "duration": 23,
    "start_time": "2023-02-15T12:18:28.388Z"
   },
   {
    "duration": 7,
    "start_time": "2023-02-15T12:18:28.412Z"
   },
   {
    "duration": 8,
    "start_time": "2023-02-15T12:18:28.420Z"
   },
   {
    "duration": 6,
    "start_time": "2023-02-15T12:18:28.429Z"
   },
   {
    "duration": 172,
    "start_time": "2023-02-15T12:18:28.436Z"
   },
   {
    "duration": 4,
    "start_time": "2023-02-15T12:18:28.610Z"
   },
   {
    "duration": 1399,
    "start_time": "2023-02-15T12:18:28.616Z"
   },
   {
    "duration": 12,
    "start_time": "2023-02-15T12:18:30.017Z"
   },
   {
    "duration": 632,
    "start_time": "2023-02-15T12:18:30.030Z"
   },
   {
    "duration": 5,
    "start_time": "2023-02-15T12:18:30.663Z"
   },
   {
    "duration": 30,
    "start_time": "2023-02-15T12:18:30.670Z"
   },
   {
    "duration": 39,
    "start_time": "2023-02-15T12:18:30.703Z"
   },
   {
    "duration": 157,
    "start_time": "2023-02-15T12:18:30.744Z"
   },
   {
    "duration": 5,
    "start_time": "2023-02-15T12:18:30.903Z"
   },
   {
    "duration": 43,
    "start_time": "2023-02-15T12:18:30.909Z"
   },
   {
    "duration": 158,
    "start_time": "2023-02-15T12:18:30.954Z"
   },
   {
    "duration": 14,
    "start_time": "2023-02-15T12:18:31.115Z"
   },
   {
    "duration": 192,
    "start_time": "2023-02-15T12:18:31.131Z"
   },
   {
    "duration": 12,
    "start_time": "2023-02-15T12:18:31.325Z"
   },
   {
    "duration": 263,
    "start_time": "2023-02-15T12:18:31.339Z"
   },
   {
    "duration": 5,
    "start_time": "2023-02-15T12:18:31.604Z"
   },
   {
    "duration": 57,
    "start_time": "2023-02-15T12:18:31.611Z"
   },
   {
    "duration": 4,
    "start_time": "2023-02-15T12:18:31.670Z"
   },
   {
    "duration": 11,
    "start_time": "2023-02-15T12:18:31.676Z"
   },
   {
    "duration": 24,
    "start_time": "2023-02-15T12:19:07.186Z"
   },
   {
    "duration": 47,
    "start_time": "2023-02-15T12:19:22.431Z"
   },
   {
    "duration": 5,
    "start_time": "2023-02-15T12:39:12.019Z"
   },
   {
    "duration": 33,
    "start_time": "2023-02-15T12:39:29.234Z"
   },
   {
    "duration": 25,
    "start_time": "2023-02-15T12:40:43.134Z"
   },
   {
    "duration": 317,
    "start_time": "2023-02-15T12:49:34.834Z"
   },
   {
    "duration": 3,
    "start_time": "2023-02-15T12:52:45.416Z"
   },
   {
    "duration": 9,
    "start_time": "2023-02-15T12:52:48.479Z"
   },
   {
    "duration": 186,
    "start_time": "2023-02-15T12:53:40.752Z"
   },
   {
    "duration": 154,
    "start_time": "2023-02-15T12:58:26.888Z"
   },
   {
    "duration": 85,
    "start_time": "2023-02-15T12:59:49.312Z"
   },
   {
    "duration": 9734,
    "start_time": "2023-02-15T13:03:04.717Z"
   },
   {
    "duration": 12,
    "start_time": "2023-02-15T13:07:32.224Z"
   },
   {
    "duration": 11,
    "start_time": "2023-02-15T13:07:47.657Z"
   },
   {
    "duration": 9,
    "start_time": "2023-02-15T13:07:56.131Z"
   },
   {
    "duration": 116,
    "start_time": "2023-02-15T13:09:00.134Z"
   },
   {
    "duration": 7,
    "start_time": "2023-02-15T13:23:22.336Z"
   },
   {
    "duration": 5,
    "start_time": "2023-02-15T13:23:29.788Z"
   },
   {
    "duration": 7,
    "start_time": "2023-02-15T13:23:40.495Z"
   },
   {
    "duration": 228,
    "start_time": "2023-02-15T13:24:48.693Z"
   },
   {
    "duration": 213,
    "start_time": "2023-02-15T13:25:30.297Z"
   },
   {
    "duration": 7,
    "start_time": "2023-02-15T13:25:39.200Z"
   },
   {
    "duration": 29,
    "start_time": "2023-02-15T13:28:48.798Z"
   },
   {
    "duration": 1474,
    "start_time": "2023-02-15T13:32:25.929Z"
   },
   {
    "duration": 4,
    "start_time": "2023-02-15T13:32:27.405Z"
   },
   {
    "duration": 184,
    "start_time": "2023-02-15T13:32:27.410Z"
   },
   {
    "duration": 15,
    "start_time": "2023-02-15T13:32:27.596Z"
   },
   {
    "duration": 46,
    "start_time": "2023-02-15T13:32:27.612Z"
   },
   {
    "duration": 12,
    "start_time": "2023-02-15T13:32:27.659Z"
   },
   {
    "duration": 42,
    "start_time": "2023-02-15T13:32:27.673Z"
   },
   {
    "duration": 17,
    "start_time": "2023-02-15T13:32:27.716Z"
   },
   {
    "duration": 33,
    "start_time": "2023-02-15T13:32:27.734Z"
   },
   {
    "duration": 49,
    "start_time": "2023-02-15T13:32:27.771Z"
   },
   {
    "duration": 28,
    "start_time": "2023-02-15T13:32:27.822Z"
   },
   {
    "duration": 52,
    "start_time": "2023-02-15T13:32:27.852Z"
   },
   {
    "duration": 22,
    "start_time": "2023-02-15T13:32:27.906Z"
   },
   {
    "duration": 25,
    "start_time": "2023-02-15T13:32:27.929Z"
   },
   {
    "duration": 23,
    "start_time": "2023-02-15T13:32:27.955Z"
   },
   {
    "duration": 181,
    "start_time": "2023-02-15T13:32:27.980Z"
   },
   {
    "duration": 5,
    "start_time": "2023-02-15T13:32:28.162Z"
   },
   {
    "duration": 1451,
    "start_time": "2023-02-15T13:32:28.169Z"
   },
   {
    "duration": 12,
    "start_time": "2023-02-15T13:32:29.621Z"
   },
   {
    "duration": 499,
    "start_time": "2023-02-15T13:32:29.635Z"
   },
   {
    "duration": 4,
    "start_time": "2023-02-15T13:32:30.136Z"
   },
   {
    "duration": 50,
    "start_time": "2023-02-15T13:32:30.142Z"
   },
   {
    "duration": 52,
    "start_time": "2023-02-15T13:32:30.194Z"
   },
   {
    "duration": 171,
    "start_time": "2023-02-15T13:32:30.249Z"
   },
   {
    "duration": 5,
    "start_time": "2023-02-15T13:32:30.423Z"
   },
   {
    "duration": 24,
    "start_time": "2023-02-15T13:32:30.430Z"
   },
   {
    "duration": 164,
    "start_time": "2023-02-15T13:32:30.456Z"
   },
   {
    "duration": 18,
    "start_time": "2023-02-15T13:32:30.625Z"
   },
   {
    "duration": 277,
    "start_time": "2023-02-15T13:32:30.645Z"
   },
   {
    "duration": 8,
    "start_time": "2023-02-15T13:32:30.924Z"
   },
   {
    "duration": 250,
    "start_time": "2023-02-15T13:32:30.934Z"
   },
   {
    "duration": 7,
    "start_time": "2023-02-15T13:32:31.186Z"
   },
   {
    "duration": 77,
    "start_time": "2023-02-15T13:32:31.195Z"
   },
   {
    "duration": 28,
    "start_time": "2023-02-15T13:32:31.275Z"
   },
   {
    "duration": 32,
    "start_time": "2023-02-15T13:32:31.305Z"
   },
   {
    "duration": 62,
    "start_time": "2023-02-15T13:32:31.339Z"
   },
   {
    "duration": 47,
    "start_time": "2023-02-15T13:32:31.403Z"
   },
   {
    "duration": 41,
    "start_time": "2023-02-15T13:32:31.453Z"
   },
   {
    "duration": 59,
    "start_time": "2023-02-15T13:32:31.497Z"
   },
   {
    "duration": 25,
    "start_time": "2023-02-15T13:32:31.559Z"
   },
   {
    "duration": 47,
    "start_time": "2023-02-15T13:32:31.586Z"
   },
   {
    "duration": 285,
    "start_time": "2023-02-15T13:32:31.635Z"
   },
   {
    "duration": 96,
    "start_time": "2023-02-15T13:32:31.922Z"
   },
   {
    "duration": 101,
    "start_time": "2023-02-15T13:32:32.020Z"
   },
   {
    "duration": 10032,
    "start_time": "2023-02-15T13:32:32.123Z"
   },
   {
    "duration": 38,
    "start_time": "2023-02-15T13:32:42.157Z"
   },
   {
    "duration": 8,
    "start_time": "2023-02-15T13:32:42.197Z"
   },
   {
    "duration": 8,
    "start_time": "2023-02-15T13:32:42.207Z"
   },
   {
    "duration": 178,
    "start_time": "2023-02-15T13:32:42.217Z"
   },
   {
    "duration": 6,
    "start_time": "2023-02-15T13:32:42.396Z"
   },
   {
    "duration": 9,
    "start_time": "2023-02-15T13:32:42.404Z"
   },
   {
    "duration": 14,
    "start_time": "2023-02-15T13:33:50.021Z"
   },
   {
    "duration": 8,
    "start_time": "2023-02-15T13:34:52.359Z"
   },
   {
    "duration": 29,
    "start_time": "2023-02-15T13:34:53.097Z"
   },
   {
    "duration": 7,
    "start_time": "2023-02-15T13:35:10.518Z"
   },
   {
    "duration": 27,
    "start_time": "2023-02-15T13:35:12.287Z"
   },
   {
    "duration": 1540,
    "start_time": "2023-02-15T13:35:24.882Z"
   },
   {
    "duration": 6,
    "start_time": "2023-02-15T13:35:26.425Z"
   },
   {
    "duration": 226,
    "start_time": "2023-02-15T13:35:26.433Z"
   },
   {
    "duration": 37,
    "start_time": "2023-02-15T13:35:26.662Z"
   },
   {
    "duration": 21,
    "start_time": "2023-02-15T13:35:26.701Z"
   },
   {
    "duration": 8,
    "start_time": "2023-02-15T13:35:26.724Z"
   },
   {
    "duration": 20,
    "start_time": "2023-02-15T13:35:26.734Z"
   },
   {
    "duration": 16,
    "start_time": "2023-02-15T13:35:26.755Z"
   },
   {
    "duration": 16,
    "start_time": "2023-02-15T13:35:26.792Z"
   },
   {
    "duration": 30,
    "start_time": "2023-02-15T13:35:26.811Z"
   },
   {
    "duration": 15,
    "start_time": "2023-02-15T13:35:26.844Z"
   },
   {
    "duration": 40,
    "start_time": "2023-02-15T13:35:26.860Z"
   },
   {
    "duration": 15,
    "start_time": "2023-02-15T13:35:26.902Z"
   },
   {
    "duration": 14,
    "start_time": "2023-02-15T13:35:26.919Z"
   },
   {
    "duration": 7,
    "start_time": "2023-02-15T13:35:26.935Z"
   },
   {
    "duration": 249,
    "start_time": "2023-02-15T13:35:26.944Z"
   },
   {
    "duration": 4,
    "start_time": "2023-02-15T13:35:27.195Z"
   },
   {
    "duration": 1392,
    "start_time": "2023-02-15T13:35:27.201Z"
   },
   {
    "duration": 13,
    "start_time": "2023-02-15T13:35:28.595Z"
   },
   {
    "duration": 456,
    "start_time": "2023-02-15T13:35:28.610Z"
   },
   {
    "duration": 5,
    "start_time": "2023-02-15T13:35:29.068Z"
   },
   {
    "duration": 15,
    "start_time": "2023-02-15T13:35:29.077Z"
   },
   {
    "duration": 28,
    "start_time": "2023-02-15T13:35:29.095Z"
   },
   {
    "duration": 218,
    "start_time": "2023-02-15T13:35:29.125Z"
   },
   {
    "duration": 7,
    "start_time": "2023-02-15T13:35:29.346Z"
   },
   {
    "duration": 39,
    "start_time": "2023-02-15T13:35:29.355Z"
   },
   {
    "duration": 161,
    "start_time": "2023-02-15T13:35:29.396Z"
   },
   {
    "duration": 14,
    "start_time": "2023-02-15T13:35:29.560Z"
   },
   {
    "duration": 219,
    "start_time": "2023-02-15T13:35:29.577Z"
   },
   {
    "duration": 9,
    "start_time": "2023-02-15T13:35:29.799Z"
   },
   {
    "duration": 262,
    "start_time": "2023-02-15T13:35:29.810Z"
   },
   {
    "duration": 5,
    "start_time": "2023-02-15T13:35:30.074Z"
   },
   {
    "duration": 19,
    "start_time": "2023-02-15T13:35:30.092Z"
   },
   {
    "duration": 6,
    "start_time": "2023-02-15T13:35:30.113Z"
   },
   {
    "duration": 28,
    "start_time": "2023-02-15T13:35:30.121Z"
   },
   {
    "duration": 33,
    "start_time": "2023-02-15T13:35:30.151Z"
   },
   {
    "duration": 25,
    "start_time": "2023-02-15T13:35:30.186Z"
   },
   {
    "duration": 9,
    "start_time": "2023-02-15T13:35:30.213Z"
   },
   {
    "duration": 35,
    "start_time": "2023-02-15T13:35:30.224Z"
   },
   {
    "duration": 38,
    "start_time": "2023-02-15T13:35:30.261Z"
   },
   {
    "duration": 19,
    "start_time": "2023-02-15T13:35:30.302Z"
   },
   {
    "duration": 211,
    "start_time": "2023-02-15T13:35:30.323Z"
   },
   {
    "duration": 93,
    "start_time": "2023-02-15T13:35:30.536Z"
   },
   {
    "duration": 94,
    "start_time": "2023-02-15T13:35:30.631Z"
   },
   {
    "duration": 9988,
    "start_time": "2023-02-15T13:35:30.727Z"
   },
   {
    "duration": 11,
    "start_time": "2023-02-15T13:35:40.718Z"
   },
   {
    "duration": 10,
    "start_time": "2023-02-15T13:35:40.732Z"
   },
   {
    "duration": 56,
    "start_time": "2023-02-15T13:35:40.743Z"
   },
   {
    "duration": 206,
    "start_time": "2023-02-15T13:35:40.801Z"
   },
   {
    "duration": 8,
    "start_time": "2023-02-15T13:35:41.008Z"
   },
   {
    "duration": 93,
    "start_time": "2023-02-15T13:35:41.018Z"
   },
   {
    "duration": 1480,
    "start_time": "2023-02-15T13:36:16.935Z"
   },
   {
    "duration": 4,
    "start_time": "2023-02-15T13:36:18.417Z"
   },
   {
    "duration": 185,
    "start_time": "2023-02-15T13:36:18.423Z"
   },
   {
    "duration": 15,
    "start_time": "2023-02-15T13:36:18.610Z"
   },
   {
    "duration": 36,
    "start_time": "2023-02-15T13:36:18.627Z"
   },
   {
    "duration": 18,
    "start_time": "2023-02-15T13:36:18.665Z"
   },
   {
    "duration": 20,
    "start_time": "2023-02-15T13:36:18.691Z"
   },
   {
    "duration": 19,
    "start_time": "2023-02-15T13:36:18.713Z"
   },
   {
    "duration": 26,
    "start_time": "2023-02-15T13:36:18.734Z"
   },
   {
    "duration": 45,
    "start_time": "2023-02-15T13:36:18.763Z"
   },
   {
    "duration": 8,
    "start_time": "2023-02-15T13:36:18.810Z"
   },
   {
    "duration": 24,
    "start_time": "2023-02-15T13:36:18.820Z"
   },
   {
    "duration": 8,
    "start_time": "2023-02-15T13:36:18.846Z"
   },
   {
    "duration": 7,
    "start_time": "2023-02-15T13:36:18.856Z"
   },
   {
    "duration": 27,
    "start_time": "2023-02-15T13:36:18.865Z"
   },
   {
    "duration": 162,
    "start_time": "2023-02-15T13:36:18.894Z"
   },
   {
    "duration": 5,
    "start_time": "2023-02-15T13:36:19.058Z"
   },
   {
    "duration": 1348,
    "start_time": "2023-02-15T13:36:19.065Z"
   },
   {
    "duration": 13,
    "start_time": "2023-02-15T13:36:20.415Z"
   },
   {
    "duration": 427,
    "start_time": "2023-02-15T13:36:20.429Z"
   },
   {
    "duration": 5,
    "start_time": "2023-02-15T13:36:20.858Z"
   },
   {
    "duration": 28,
    "start_time": "2023-02-15T13:36:20.864Z"
   },
   {
    "duration": 27,
    "start_time": "2023-02-15T13:36:20.893Z"
   },
   {
    "duration": 172,
    "start_time": "2023-02-15T13:36:20.921Z"
   },
   {
    "duration": 5,
    "start_time": "2023-02-15T13:36:21.095Z"
   },
   {
    "duration": 19,
    "start_time": "2023-02-15T13:36:21.102Z"
   },
   {
    "duration": 131,
    "start_time": "2023-02-15T13:36:21.123Z"
   },
   {
    "duration": 12,
    "start_time": "2023-02-15T13:36:21.257Z"
   },
   {
    "duration": 175,
    "start_time": "2023-02-15T13:36:21.270Z"
   },
   {
    "duration": 8,
    "start_time": "2023-02-15T13:36:21.446Z"
   },
   {
    "duration": 230,
    "start_time": "2023-02-15T13:36:21.455Z"
   },
   {
    "duration": 6,
    "start_time": "2023-02-15T13:36:21.687Z"
   },
   {
    "duration": 28,
    "start_time": "2023-02-15T13:36:21.695Z"
   },
   {
    "duration": 12,
    "start_time": "2023-02-15T13:36:21.725Z"
   },
   {
    "duration": 35,
    "start_time": "2023-02-15T13:36:21.738Z"
   },
   {
    "duration": 36,
    "start_time": "2023-02-15T13:36:21.775Z"
   },
   {
    "duration": 53,
    "start_time": "2023-02-15T13:36:21.814Z"
   },
   {
    "duration": 6,
    "start_time": "2023-02-15T13:36:21.869Z"
   },
   {
    "duration": 33,
    "start_time": "2023-02-15T13:36:21.877Z"
   },
   {
    "duration": 20,
    "start_time": "2023-02-15T13:36:21.912Z"
   },
   {
    "duration": 12,
    "start_time": "2023-02-15T13:36:21.933Z"
   },
   {
    "duration": 178,
    "start_time": "2023-02-15T13:36:21.947Z"
   },
   {
    "duration": 82,
    "start_time": "2023-02-15T13:36:22.127Z"
   },
   {
    "duration": 85,
    "start_time": "2023-02-15T13:36:22.211Z"
   },
   {
    "duration": 9685,
    "start_time": "2023-02-15T13:36:22.297Z"
   },
   {
    "duration": 13,
    "start_time": "2023-02-15T13:36:31.991Z"
   },
   {
    "duration": 90,
    "start_time": "2023-02-15T13:36:32.006Z"
   },
   {
    "duration": 8,
    "start_time": "2023-02-15T13:36:32.099Z"
   },
   {
    "duration": 217,
    "start_time": "2023-02-15T13:36:32.109Z"
   },
   {
    "duration": 8,
    "start_time": "2023-02-15T13:36:32.327Z"
   },
   {
    "duration": 58,
    "start_time": "2023-02-15T13:36:32.337Z"
   },
   {
    "duration": 8,
    "start_time": "2023-02-15T13:38:00.846Z"
   },
   {
    "duration": 161,
    "start_time": "2023-02-15T13:39:59.989Z"
   },
   {
    "duration": 18,
    "start_time": "2023-02-15T13:40:36.363Z"
   },
   {
    "duration": 8,
    "start_time": "2023-02-15T13:41:00.099Z"
   },
   {
    "duration": 6,
    "start_time": "2023-02-15T13:41:15.435Z"
   },
   {
    "duration": 11,
    "start_time": "2023-02-15T13:41:25.376Z"
   },
   {
    "duration": 14,
    "start_time": "2023-02-15T13:41:46.241Z"
   },
   {
    "duration": 1554,
    "start_time": "2023-02-15T13:42:58.706Z"
   },
   {
    "duration": 4,
    "start_time": "2023-02-15T13:43:00.262Z"
   },
   {
    "duration": 193,
    "start_time": "2023-02-15T13:43:00.267Z"
   },
   {
    "duration": 30,
    "start_time": "2023-02-15T13:43:00.463Z"
   },
   {
    "duration": 20,
    "start_time": "2023-02-15T13:43:00.495Z"
   },
   {
    "duration": 32,
    "start_time": "2023-02-15T13:43:00.517Z"
   },
   {
    "duration": 43,
    "start_time": "2023-02-15T13:43:00.551Z"
   },
   {
    "duration": 26,
    "start_time": "2023-02-15T13:43:00.595Z"
   },
   {
    "duration": 38,
    "start_time": "2023-02-15T13:43:00.623Z"
   },
   {
    "duration": 74,
    "start_time": "2023-02-15T13:43:00.664Z"
   },
   {
    "duration": 17,
    "start_time": "2023-02-15T13:43:00.739Z"
   },
   {
    "duration": 40,
    "start_time": "2023-02-15T13:43:00.758Z"
   },
   {
    "duration": 30,
    "start_time": "2023-02-15T13:43:00.800Z"
   },
   {
    "duration": 28,
    "start_time": "2023-02-15T13:43:00.832Z"
   },
   {
    "duration": 30,
    "start_time": "2023-02-15T13:43:00.861Z"
   },
   {
    "duration": 167,
    "start_time": "2023-02-15T13:43:00.892Z"
   },
   {
    "duration": 5,
    "start_time": "2023-02-15T13:43:01.061Z"
   },
   {
    "duration": 1443,
    "start_time": "2023-02-15T13:43:01.067Z"
   },
   {
    "duration": 12,
    "start_time": "2023-02-15T13:43:02.513Z"
   },
   {
    "duration": 447,
    "start_time": "2023-02-15T13:43:02.527Z"
   },
   {
    "duration": 4,
    "start_time": "2023-02-15T13:43:02.976Z"
   },
   {
    "duration": 11,
    "start_time": "2023-02-15T13:43:02.982Z"
   },
   {
    "duration": 39,
    "start_time": "2023-02-15T13:43:02.995Z"
   },
   {
    "duration": 176,
    "start_time": "2023-02-15T13:43:03.036Z"
   },
   {
    "duration": 5,
    "start_time": "2023-02-15T13:43:03.214Z"
   },
   {
    "duration": 13,
    "start_time": "2023-02-15T13:43:03.221Z"
   },
   {
    "duration": 141,
    "start_time": "2023-02-15T13:43:03.236Z"
   },
   {
    "duration": 25,
    "start_time": "2023-02-15T13:43:03.382Z"
   },
   {
    "duration": 183,
    "start_time": "2023-02-15T13:43:03.408Z"
   },
   {
    "duration": 10,
    "start_time": "2023-02-15T13:43:03.593Z"
   },
   {
    "duration": 253,
    "start_time": "2023-02-15T13:43:03.605Z"
   },
   {
    "duration": 6,
    "start_time": "2023-02-15T13:43:03.860Z"
   },
   {
    "duration": 27,
    "start_time": "2023-02-15T13:43:03.868Z"
   },
   {
    "duration": 5,
    "start_time": "2023-02-15T13:43:03.896Z"
   },
   {
    "duration": 9,
    "start_time": "2023-02-15T13:43:03.904Z"
   },
   {
    "duration": 26,
    "start_time": "2023-02-15T13:43:03.915Z"
   },
   {
    "duration": 55,
    "start_time": "2023-02-15T13:43:03.943Z"
   },
   {
    "duration": 5,
    "start_time": "2023-02-15T13:43:04.000Z"
   },
   {
    "duration": 26,
    "start_time": "2023-02-15T13:43:04.007Z"
   },
   {
    "duration": 22,
    "start_time": "2023-02-15T13:43:04.035Z"
   },
   {
    "duration": 41,
    "start_time": "2023-02-15T13:43:04.059Z"
   },
   {
    "duration": 174,
    "start_time": "2023-02-15T13:43:04.101Z"
   },
   {
    "duration": 84,
    "start_time": "2023-02-15T13:43:04.277Z"
   },
   {
    "duration": 109,
    "start_time": "2023-02-15T13:43:04.363Z"
   },
   {
    "duration": 9947,
    "start_time": "2023-02-15T13:43:04.474Z"
   },
   {
    "duration": 12,
    "start_time": "2023-02-15T13:43:14.423Z"
   },
   {
    "duration": 54,
    "start_time": "2023-02-15T13:43:14.437Z"
   },
   {
    "duration": 10,
    "start_time": "2023-02-15T13:43:14.494Z"
   },
   {
    "duration": 209,
    "start_time": "2023-02-15T13:43:14.506Z"
   },
   {
    "duration": 8,
    "start_time": "2023-02-15T13:43:14.717Z"
   },
   {
    "duration": 82,
    "start_time": "2023-02-15T13:43:14.727Z"
   },
   {
    "duration": 7,
    "start_time": "2023-02-15T13:43:14.811Z"
   },
   {
    "duration": 15,
    "start_time": "2023-02-15T13:51:58.388Z"
   },
   {
    "duration": 16,
    "start_time": "2023-02-15T13:52:16.264Z"
   },
   {
    "duration": 94,
    "start_time": "2023-02-15T13:52:34.939Z"
   },
   {
    "duration": 17,
    "start_time": "2023-02-15T13:53:01.761Z"
   },
   {
    "duration": 1445,
    "start_time": "2023-02-15T13:54:09.546Z"
   },
   {
    "duration": 4,
    "start_time": "2023-02-15T13:54:10.994Z"
   },
   {
    "duration": 158,
    "start_time": "2023-02-15T13:54:11.000Z"
   },
   {
    "duration": 40,
    "start_time": "2023-02-15T13:54:11.161Z"
   },
   {
    "duration": 24,
    "start_time": "2023-02-15T13:54:11.203Z"
   },
   {
    "duration": 9,
    "start_time": "2023-02-15T13:54:11.229Z"
   },
   {
    "duration": 26,
    "start_time": "2023-02-15T13:54:11.240Z"
   },
   {
    "duration": 36,
    "start_time": "2023-02-15T13:54:11.268Z"
   },
   {
    "duration": 25,
    "start_time": "2023-02-15T13:54:11.306Z"
   },
   {
    "duration": 21,
    "start_time": "2023-02-15T13:54:11.334Z"
   },
   {
    "duration": 15,
    "start_time": "2023-02-15T13:54:11.357Z"
   },
   {
    "duration": 30,
    "start_time": "2023-02-15T13:54:11.373Z"
   },
   {
    "duration": 7,
    "start_time": "2023-02-15T13:54:11.405Z"
   },
   {
    "duration": 7,
    "start_time": "2023-02-15T13:54:11.414Z"
   },
   {
    "duration": 7,
    "start_time": "2023-02-15T13:54:11.423Z"
   },
   {
    "duration": 165,
    "start_time": "2023-02-15T13:54:11.432Z"
   },
   {
    "duration": 4,
    "start_time": "2023-02-15T13:54:11.599Z"
   },
   {
    "duration": 1388,
    "start_time": "2023-02-15T13:54:11.605Z"
   },
   {
    "duration": 11,
    "start_time": "2023-02-15T13:54:12.995Z"
   },
   {
    "duration": 435,
    "start_time": "2023-02-15T13:54:13.008Z"
   },
   {
    "duration": 4,
    "start_time": "2023-02-15T13:54:13.445Z"
   },
   {
    "duration": 16,
    "start_time": "2023-02-15T13:54:13.451Z"
   },
   {
    "duration": 24,
    "start_time": "2023-02-15T13:54:13.491Z"
   },
   {
    "duration": 177,
    "start_time": "2023-02-15T13:54:13.517Z"
   },
   {
    "duration": 6,
    "start_time": "2023-02-15T13:54:13.696Z"
   },
   {
    "duration": 13,
    "start_time": "2023-02-15T13:54:13.703Z"
   },
   {
    "duration": 176,
    "start_time": "2023-02-15T13:54:13.718Z"
   },
   {
    "duration": 13,
    "start_time": "2023-02-15T13:54:13.898Z"
   },
   {
    "duration": 191,
    "start_time": "2023-02-15T13:54:13.913Z"
   },
   {
    "duration": 8,
    "start_time": "2023-02-15T13:54:14.106Z"
   },
   {
    "duration": 227,
    "start_time": "2023-02-15T13:54:14.115Z"
   },
   {
    "duration": 5,
    "start_time": "2023-02-15T13:54:14.344Z"
   },
   {
    "duration": 16,
    "start_time": "2023-02-15T13:54:14.350Z"
   },
   {
    "duration": 4,
    "start_time": "2023-02-15T13:54:14.367Z"
   },
   {
    "duration": 6,
    "start_time": "2023-02-15T13:54:14.391Z"
   },
   {
    "duration": 21,
    "start_time": "2023-02-15T13:54:14.399Z"
   },
   {
    "duration": 31,
    "start_time": "2023-02-15T13:54:14.422Z"
   },
   {
    "duration": 5,
    "start_time": "2023-02-15T13:54:14.455Z"
   },
   {
    "duration": 23,
    "start_time": "2023-02-15T13:54:14.491Z"
   },
   {
    "duration": 19,
    "start_time": "2023-02-15T13:54:14.516Z"
   },
   {
    "duration": 12,
    "start_time": "2023-02-15T13:54:14.537Z"
   },
   {
    "duration": 226,
    "start_time": "2023-02-15T13:54:14.551Z"
   },
   {
    "duration": 85,
    "start_time": "2023-02-15T13:54:14.778Z"
   },
   {
    "duration": 86,
    "start_time": "2023-02-15T13:54:14.865Z"
   },
   {
    "duration": 9635,
    "start_time": "2023-02-15T13:54:14.952Z"
   },
   {
    "duration": 10,
    "start_time": "2023-02-15T13:54:24.592Z"
   },
   {
    "duration": 12,
    "start_time": "2023-02-15T13:54:24.604Z"
   },
   {
    "duration": 7,
    "start_time": "2023-02-15T13:54:24.617Z"
   },
   {
    "duration": 173,
    "start_time": "2023-02-15T13:54:24.626Z"
   },
   {
    "duration": 6,
    "start_time": "2023-02-15T13:54:24.801Z"
   },
   {
    "duration": 84,
    "start_time": "2023-02-15T13:54:24.809Z"
   },
   {
    "duration": 10,
    "start_time": "2023-02-15T13:54:24.895Z"
   },
   {
    "duration": 19,
    "start_time": "2023-02-15T13:54:24.906Z"
   },
   {
    "duration": 197,
    "start_time": "2023-02-15T13:54:24.928Z"
   },
   {
    "duration": 16,
    "start_time": "2023-02-15T13:54:25.128Z"
   },
   {
    "duration": 94,
    "start_time": "2023-02-15T13:54:57.198Z"
   },
   {
    "duration": 1541,
    "start_time": "2023-02-15T13:55:58.208Z"
   },
   {
    "duration": 4,
    "start_time": "2023-02-15T13:55:59.751Z"
   },
   {
    "duration": 174,
    "start_time": "2023-02-15T13:55:59.757Z"
   },
   {
    "duration": 15,
    "start_time": "2023-02-15T13:55:59.933Z"
   },
   {
    "duration": 16,
    "start_time": "2023-02-15T13:55:59.950Z"
   },
   {
    "duration": 6,
    "start_time": "2023-02-15T13:55:59.992Z"
   },
   {
    "duration": 34,
    "start_time": "2023-02-15T13:55:59.999Z"
   },
   {
    "duration": 16,
    "start_time": "2023-02-15T13:56:00.035Z"
   },
   {
    "duration": 20,
    "start_time": "2023-02-15T13:56:00.053Z"
   },
   {
    "duration": 29,
    "start_time": "2023-02-15T13:56:00.075Z"
   },
   {
    "duration": 9,
    "start_time": "2023-02-15T13:56:00.106Z"
   },
   {
    "duration": 18,
    "start_time": "2023-02-15T13:56:00.116Z"
   },
   {
    "duration": 17,
    "start_time": "2023-02-15T13:56:00.135Z"
   },
   {
    "duration": 18,
    "start_time": "2023-02-15T13:56:00.153Z"
   },
   {
    "duration": 14,
    "start_time": "2023-02-15T13:56:00.173Z"
   },
   {
    "duration": 145,
    "start_time": "2023-02-15T13:56:00.192Z"
   },
   {
    "duration": 4,
    "start_time": "2023-02-15T13:56:00.339Z"
   },
   {
    "duration": 1311,
    "start_time": "2023-02-15T13:56:00.345Z"
   },
   {
    "duration": 11,
    "start_time": "2023-02-15T13:56:01.658Z"
   },
   {
    "duration": 431,
    "start_time": "2023-02-15T13:56:01.670Z"
   },
   {
    "duration": 4,
    "start_time": "2023-02-15T13:56:02.103Z"
   },
   {
    "duration": 18,
    "start_time": "2023-02-15T13:56:02.108Z"
   },
   {
    "duration": 74,
    "start_time": "2023-02-15T13:56:02.128Z"
   },
   {
    "duration": 126,
    "start_time": "2023-02-15T13:56:02.204Z"
   },
   {
    "duration": 4,
    "start_time": "2023-02-15T13:56:02.332Z"
   },
   {
    "duration": 18,
    "start_time": "2023-02-15T13:56:02.338Z"
   },
   {
    "duration": 154,
    "start_time": "2023-02-15T13:56:02.357Z"
   },
   {
    "duration": 12,
    "start_time": "2023-02-15T13:56:02.514Z"
   },
   {
    "duration": 179,
    "start_time": "2023-02-15T13:56:02.528Z"
   },
   {
    "duration": 9,
    "start_time": "2023-02-15T13:56:02.708Z"
   },
   {
    "duration": 231,
    "start_time": "2023-02-15T13:56:02.718Z"
   },
   {
    "duration": 6,
    "start_time": "2023-02-15T13:56:02.952Z"
   },
   {
    "duration": 32,
    "start_time": "2023-02-15T13:56:02.960Z"
   },
   {
    "duration": 3,
    "start_time": "2023-02-15T13:56:02.994Z"
   },
   {
    "duration": 14,
    "start_time": "2023-02-15T13:56:02.999Z"
   },
   {
    "duration": 30,
    "start_time": "2023-02-15T13:56:03.015Z"
   },
   {
    "duration": 44,
    "start_time": "2023-02-15T13:56:03.047Z"
   },
   {
    "duration": 5,
    "start_time": "2023-02-15T13:56:03.093Z"
   },
   {
    "duration": 34,
    "start_time": "2023-02-15T13:56:03.099Z"
   },
   {
    "duration": 28,
    "start_time": "2023-02-15T13:56:03.135Z"
   },
   {
    "duration": 29,
    "start_time": "2023-02-15T13:56:03.165Z"
   },
   {
    "duration": 174,
    "start_time": "2023-02-15T13:56:03.195Z"
   },
   {
    "duration": 97,
    "start_time": "2023-02-15T13:56:03.371Z"
   },
   {
    "duration": 114,
    "start_time": "2023-02-15T13:56:03.470Z"
   },
   {
    "duration": 9876,
    "start_time": "2023-02-15T13:56:03.586Z"
   },
   {
    "duration": 33,
    "start_time": "2023-02-15T13:56:13.464Z"
   },
   {
    "duration": 8,
    "start_time": "2023-02-15T13:56:13.498Z"
   },
   {
    "duration": 7,
    "start_time": "2023-02-15T13:56:13.507Z"
   },
   {
    "duration": 179,
    "start_time": "2023-02-15T13:56:13.515Z"
   },
   {
    "duration": 6,
    "start_time": "2023-02-15T13:56:13.697Z"
   },
   {
    "duration": 30,
    "start_time": "2023-02-15T13:56:13.706Z"
   },
   {
    "duration": 59,
    "start_time": "2023-02-15T13:56:13.738Z"
   },
   {
    "duration": 17,
    "start_time": "2023-02-15T13:56:13.799Z"
   },
   {
    "duration": 189,
    "start_time": "2023-02-15T13:56:13.818Z"
   },
   {
    "duration": 12,
    "start_time": "2023-02-15T13:56:14.008Z"
   },
   {
    "duration": 133,
    "start_time": "2023-02-15T13:58:40.491Z"
   },
   {
    "duration": 17,
    "start_time": "2023-02-15T13:58:45.715Z"
   },
   {
    "duration": 11,
    "start_time": "2023-02-15T14:01:47.253Z"
   },
   {
    "duration": 1437,
    "start_time": "2023-02-15T14:02:18.819Z"
   },
   {
    "duration": 146,
    "start_time": "2023-02-15T14:04:18.035Z"
   },
   {
    "duration": 168,
    "start_time": "2023-02-15T14:05:01.568Z"
   },
   {
    "duration": 158,
    "start_time": "2023-02-15T14:05:11.675Z"
   },
   {
    "duration": 141,
    "start_time": "2023-02-15T14:05:32.571Z"
   },
   {
    "duration": 154,
    "start_time": "2023-02-15T14:06:09.813Z"
   },
   {
    "duration": 128,
    "start_time": "2023-02-15T14:06:19.802Z"
   },
   {
    "duration": 1541,
    "start_time": "2023-02-15T14:07:22.510Z"
   },
   {
    "duration": 5,
    "start_time": "2023-02-15T14:07:24.053Z"
   },
   {
    "duration": 149,
    "start_time": "2023-02-15T14:07:25.616Z"
   },
   {
    "duration": 19,
    "start_time": "2023-02-15T14:07:28.744Z"
   },
   {
    "duration": 18,
    "start_time": "2023-02-15T14:07:32.175Z"
   },
   {
    "duration": 7,
    "start_time": "2023-02-15T14:07:33.547Z"
   },
   {
    "duration": 18,
    "start_time": "2023-02-15T14:07:34.673Z"
   },
   {
    "duration": 21,
    "start_time": "2023-02-15T14:07:35.260Z"
   },
   {
    "duration": 28,
    "start_time": "2023-02-15T14:07:36.670Z"
   },
   {
    "duration": 17,
    "start_time": "2023-02-15T14:07:38.105Z"
   },
   {
    "duration": 8,
    "start_time": "2023-02-15T14:07:39.737Z"
   },
   {
    "duration": 17,
    "start_time": "2023-02-15T14:07:41.605Z"
   },
   {
    "duration": 5,
    "start_time": "2023-02-15T14:07:44.276Z"
   },
   {
    "duration": 138,
    "start_time": "2023-02-15T14:08:17.326Z"
   },
   {
    "duration": 140,
    "start_time": "2023-02-15T14:08:25.683Z"
   },
   {
    "duration": 139,
    "start_time": "2023-02-15T14:09:31.244Z"
   },
   {
    "duration": 199,
    "start_time": "2023-02-15T14:09:39.125Z"
   },
   {
    "duration": 952,
    "start_time": "2023-02-15T14:10:20.189Z"
   },
   {
    "duration": 165,
    "start_time": "2023-02-15T14:10:50.406Z"
   },
   {
    "duration": 128,
    "start_time": "2023-02-15T14:11:01.565Z"
   },
   {
    "duration": 130,
    "start_time": "2023-02-15T14:11:37.235Z"
   },
   {
    "duration": 143,
    "start_time": "2023-02-15T14:11:45.094Z"
   },
   {
    "duration": 38,
    "start_time": "2023-02-15T14:12:42.909Z"
   },
   {
    "duration": 28,
    "start_time": "2023-02-15T14:13:51.528Z"
   },
   {
    "duration": 1518,
    "start_time": "2023-02-15T14:19:01.796Z"
   },
   {
    "duration": 5,
    "start_time": "2023-02-15T14:19:03.316Z"
   },
   {
    "duration": 171,
    "start_time": "2023-02-15T14:19:03.323Z"
   },
   {
    "duration": 14,
    "start_time": "2023-02-15T14:19:03.496Z"
   },
   {
    "duration": 23,
    "start_time": "2023-02-15T14:19:03.512Z"
   },
   {
    "duration": 11,
    "start_time": "2023-02-15T14:19:03.536Z"
   },
   {
    "duration": 22,
    "start_time": "2023-02-15T14:19:03.548Z"
   },
   {
    "duration": 16,
    "start_time": "2023-02-15T14:19:03.592Z"
   },
   {
    "duration": 26,
    "start_time": "2023-02-15T14:19:03.610Z"
   },
   {
    "duration": 34,
    "start_time": "2023-02-15T14:19:03.640Z"
   },
   {
    "duration": 42,
    "start_time": "2023-02-15T14:19:03.676Z"
   },
   {
    "duration": 54,
    "start_time": "2023-02-15T14:19:03.720Z"
   },
   {
    "duration": 16,
    "start_time": "2023-02-15T14:19:03.775Z"
   },
   {
    "duration": 165,
    "start_time": "2023-02-15T14:19:03.793Z"
   },
   {
    "duration": 122,
    "start_time": "2023-02-15T14:19:03.960Z"
   },
   {
    "duration": 169,
    "start_time": "2023-02-15T14:19:04.084Z"
   },
   {
    "duration": 210,
    "start_time": "2023-02-15T14:19:04.255Z"
   },
   {
    "duration": 163,
    "start_time": "2023-02-15T14:19:04.467Z"
   },
   {
    "duration": 136,
    "start_time": "2023-02-15T14:19:04.632Z"
   },
   {
    "duration": 164,
    "start_time": "2023-02-15T14:19:04.770Z"
   },
   {
    "duration": 141,
    "start_time": "2023-02-15T14:19:04.936Z"
   },
   {
    "duration": 36,
    "start_time": "2023-02-15T14:19:05.079Z"
   },
   {
    "duration": 26,
    "start_time": "2023-02-15T14:19:05.117Z"
   },
   {
    "duration": 5,
    "start_time": "2023-02-15T14:19:05.145Z"
   },
   {
    "duration": 14,
    "start_time": "2023-02-15T14:19:05.152Z"
   },
   {
    "duration": 191,
    "start_time": "2023-02-15T14:19:05.193Z"
   },
   {
    "duration": 10,
    "start_time": "2023-02-15T14:19:05.385Z"
   },
   {
    "duration": 1566,
    "start_time": "2023-02-15T14:19:05.400Z"
   },
   {
    "duration": 25,
    "start_time": "2023-02-15T14:19:06.968Z"
   },
   {
    "duration": 372,
    "start_time": "2023-02-15T14:19:06.994Z"
   },
   {
    "duration": 4,
    "start_time": "2023-02-15T14:19:07.367Z"
   },
   {
    "duration": 19,
    "start_time": "2023-02-15T14:19:07.372Z"
   },
   {
    "duration": 19,
    "start_time": "2023-02-15T14:19:07.393Z"
   },
   {
    "duration": 192,
    "start_time": "2023-02-15T14:19:07.414Z"
   },
   {
    "duration": 5,
    "start_time": "2023-02-15T14:19:07.607Z"
   },
   {
    "duration": 34,
    "start_time": "2023-02-15T14:19:07.614Z"
   },
   {
    "duration": 161,
    "start_time": "2023-02-15T14:19:07.650Z"
   },
   {
    "duration": 13,
    "start_time": "2023-02-15T14:19:07.813Z"
   },
   {
    "duration": 179,
    "start_time": "2023-02-15T14:19:07.828Z"
   },
   {
    "duration": 10,
    "start_time": "2023-02-15T14:19:08.009Z"
   },
   {
    "duration": 337,
    "start_time": "2023-02-15T14:19:08.020Z"
   },
   {
    "duration": 5,
    "start_time": "2023-02-15T14:19:08.359Z"
   },
   {
    "duration": 28,
    "start_time": "2023-02-15T14:19:08.366Z"
   },
   {
    "duration": 9,
    "start_time": "2023-02-15T14:19:08.395Z"
   },
   {
    "duration": 20,
    "start_time": "2023-02-15T14:19:08.405Z"
   },
   {
    "duration": 34,
    "start_time": "2023-02-15T14:19:08.427Z"
   },
   {
    "duration": 40,
    "start_time": "2023-02-15T14:19:08.463Z"
   },
   {
    "duration": 25,
    "start_time": "2023-02-15T14:19:08.505Z"
   },
   {
    "duration": 26,
    "start_time": "2023-02-15T14:19:08.532Z"
   },
   {
    "duration": 34,
    "start_time": "2023-02-15T14:19:08.560Z"
   },
   {
    "duration": 9,
    "start_time": "2023-02-15T14:19:08.596Z"
   },
   {
    "duration": 222,
    "start_time": "2023-02-15T14:19:08.607Z"
   },
   {
    "duration": 88,
    "start_time": "2023-02-15T14:19:08.831Z"
   },
   {
    "duration": 94,
    "start_time": "2023-02-15T14:19:08.920Z"
   },
   {
    "duration": 9816,
    "start_time": "2023-02-15T14:19:09.016Z"
   },
   {
    "duration": 10,
    "start_time": "2023-02-15T14:19:18.834Z"
   },
   {
    "duration": 48,
    "start_time": "2023-02-15T14:19:18.846Z"
   },
   {
    "duration": 8,
    "start_time": "2023-02-15T14:19:18.896Z"
   },
   {
    "duration": 122,
    "start_time": "2023-02-15T14:19:18.906Z"
   },
   {
    "duration": 7,
    "start_time": "2023-02-15T14:19:19.029Z"
   },
   {
    "duration": 95,
    "start_time": "2023-02-15T14:19:19.038Z"
   },
   {
    "duration": 61,
    "start_time": "2023-02-15T14:19:19.135Z"
   },
   {
    "duration": 15,
    "start_time": "2023-02-15T14:19:19.198Z"
   },
   {
    "duration": 217,
    "start_time": "2023-02-15T14:19:19.215Z"
   },
   {
    "duration": 12,
    "start_time": "2023-02-15T14:19:19.434Z"
   },
   {
    "duration": 1556,
    "start_time": "2023-02-15T14:21:30.374Z"
   },
   {
    "duration": 4,
    "start_time": "2023-02-15T14:21:31.932Z"
   },
   {
    "duration": 188,
    "start_time": "2023-02-15T14:21:31.937Z"
   },
   {
    "duration": 19,
    "start_time": "2023-02-15T14:21:32.128Z"
   },
   {
    "duration": 44,
    "start_time": "2023-02-15T14:21:32.149Z"
   },
   {
    "duration": 7,
    "start_time": "2023-02-15T14:21:32.194Z"
   },
   {
    "duration": 21,
    "start_time": "2023-02-15T14:21:32.203Z"
   },
   {
    "duration": 28,
    "start_time": "2023-02-15T14:21:32.226Z"
   },
   {
    "duration": 38,
    "start_time": "2023-02-15T14:21:32.256Z"
   },
   {
    "duration": 22,
    "start_time": "2023-02-15T14:21:32.297Z"
   },
   {
    "duration": 25,
    "start_time": "2023-02-15T14:21:32.320Z"
   },
   {
    "duration": 34,
    "start_time": "2023-02-15T14:21:32.347Z"
   },
   {
    "duration": 13,
    "start_time": "2023-02-15T14:21:32.382Z"
   },
   {
    "duration": 225,
    "start_time": "2023-02-15T14:21:32.397Z"
   },
   {
    "duration": 187,
    "start_time": "2023-02-15T14:21:32.624Z"
   },
   {
    "duration": 218,
    "start_time": "2023-02-15T14:21:32.813Z"
   },
   {
    "duration": 276,
    "start_time": "2023-02-15T14:21:33.033Z"
   },
   {
    "duration": 154,
    "start_time": "2023-02-15T14:21:33.311Z"
   },
   {
    "duration": 187,
    "start_time": "2023-02-15T14:21:33.467Z"
   },
   {
    "duration": 223,
    "start_time": "2023-02-15T14:21:33.656Z"
   },
   {
    "duration": 202,
    "start_time": "2023-02-15T14:21:33.881Z"
   },
   {
    "duration": 35,
    "start_time": "2023-02-15T14:21:34.085Z"
   },
   {
    "duration": 22,
    "start_time": "2023-02-15T14:21:34.122Z"
   },
   {
    "duration": 8,
    "start_time": "2023-02-15T14:21:34.146Z"
   },
   {
    "duration": 44,
    "start_time": "2023-02-15T14:21:34.156Z"
   },
   {
    "duration": 299,
    "start_time": "2023-02-15T14:21:34.202Z"
   },
   {
    "duration": 5,
    "start_time": "2023-02-15T14:21:34.503Z"
   },
   {
    "duration": 3113,
    "start_time": "2023-02-15T14:21:34.513Z"
   },
   {
    "duration": 13,
    "start_time": "2023-02-15T14:21:37.628Z"
   },
   {
    "duration": 379,
    "start_time": "2023-02-15T14:21:37.642Z"
   },
   {
    "duration": 4,
    "start_time": "2023-02-15T14:21:38.022Z"
   },
   {
    "duration": 7,
    "start_time": "2023-02-15T14:21:38.028Z"
   },
   {
    "duration": 64,
    "start_time": "2023-02-15T14:21:38.036Z"
   },
   {
    "duration": 295,
    "start_time": "2023-02-15T14:21:38.102Z"
   },
   {
    "duration": 5,
    "start_time": "2023-02-15T14:21:38.399Z"
   },
   {
    "duration": 8,
    "start_time": "2023-02-15T14:21:38.406Z"
   },
   {
    "duration": 309,
    "start_time": "2023-02-15T14:21:38.416Z"
   },
   {
    "duration": 12,
    "start_time": "2023-02-15T14:21:38.726Z"
   },
   {
    "duration": 391,
    "start_time": "2023-02-15T14:21:38.740Z"
   },
   {
    "duration": 9,
    "start_time": "2023-02-15T14:21:39.133Z"
   },
   {
    "duration": 587,
    "start_time": "2023-02-15T14:21:39.144Z"
   },
   {
    "duration": 5,
    "start_time": "2023-02-15T14:21:39.732Z"
   },
   {
    "duration": 21,
    "start_time": "2023-02-15T14:21:39.739Z"
   },
   {
    "duration": 8,
    "start_time": "2023-02-15T14:21:39.761Z"
   },
   {
    "duration": 20,
    "start_time": "2023-02-15T14:21:39.771Z"
   },
   {
    "duration": 21,
    "start_time": "2023-02-15T14:21:39.793Z"
   },
   {
    "duration": 37,
    "start_time": "2023-02-15T14:21:39.816Z"
   },
   {
    "duration": 14,
    "start_time": "2023-02-15T14:21:39.856Z"
   },
   {
    "duration": 57,
    "start_time": "2023-02-15T14:21:39.872Z"
   },
   {
    "duration": 26,
    "start_time": "2023-02-15T14:21:39.932Z"
   },
   {
    "duration": 35,
    "start_time": "2023-02-15T14:21:39.960Z"
   },
   {
    "duration": 359,
    "start_time": "2023-02-15T14:21:39.997Z"
   },
   {
    "duration": 84,
    "start_time": "2023-02-15T14:21:40.357Z"
   },
   {
    "duration": 92,
    "start_time": "2023-02-15T14:21:40.443Z"
   },
   {
    "duration": 10121,
    "start_time": "2023-02-15T14:21:40.536Z"
   },
   {
    "duration": 36,
    "start_time": "2023-02-15T14:21:50.660Z"
   },
   {
    "duration": 11,
    "start_time": "2023-02-15T14:21:50.698Z"
   },
   {
    "duration": 10,
    "start_time": "2023-02-15T14:21:50.711Z"
   },
   {
    "duration": 188,
    "start_time": "2023-02-15T14:21:50.723Z"
   },
   {
    "duration": 9,
    "start_time": "2023-02-15T14:21:50.913Z"
   },
   {
    "duration": 88,
    "start_time": "2023-02-15T14:21:50.923Z"
   },
   {
    "duration": 10,
    "start_time": "2023-02-15T14:21:51.015Z"
   },
   {
    "duration": 65,
    "start_time": "2023-02-15T14:21:51.027Z"
   },
   {
    "duration": 108,
    "start_time": "2023-02-15T14:21:51.095Z"
   },
   {
    "duration": 18,
    "start_time": "2023-02-15T14:21:51.204Z"
   },
   {
    "duration": 8,
    "start_time": "2023-02-15T14:28:58.970Z"
   },
   {
    "duration": 8,
    "start_time": "2023-02-15T14:29:13.760Z"
   },
   {
    "duration": 7,
    "start_time": "2023-02-15T14:29:51.455Z"
   },
   {
    "duration": 13,
    "start_time": "2023-02-15T14:33:50.839Z"
   },
   {
    "duration": 8,
    "start_time": "2023-02-15T14:34:19.938Z"
   },
   {
    "duration": 5,
    "start_time": "2023-02-15T14:40:49.124Z"
   },
   {
    "duration": 8,
    "start_time": "2023-02-15T14:40:50.891Z"
   },
   {
    "duration": 28,
    "start_time": "2023-02-15T14:41:17.387Z"
   },
   {
    "duration": 58,
    "start_time": "2023-02-15T14:41:27.032Z"
   },
   {
    "duration": 12,
    "start_time": "2023-02-15T14:41:37.581Z"
   },
   {
    "duration": 10,
    "start_time": "2023-02-15T14:42:15.420Z"
   },
   {
    "duration": 28,
    "start_time": "2023-02-15T14:43:08.963Z"
   },
   {
    "duration": 160,
    "start_time": "2023-02-15T14:43:34.284Z"
   },
   {
    "duration": 14,
    "start_time": "2023-02-15T14:43:43.483Z"
   },
   {
    "duration": 13,
    "start_time": "2023-02-15T14:43:49.811Z"
   },
   {
    "duration": 29,
    "start_time": "2023-02-15T14:44:21.970Z"
   },
   {
    "duration": 13,
    "start_time": "2023-02-15T14:45:04.689Z"
   },
   {
    "duration": 18,
    "start_time": "2023-02-15T14:45:10.917Z"
   },
   {
    "duration": 14,
    "start_time": "2023-02-15T14:45:26.688Z"
   },
   {
    "duration": 6,
    "start_time": "2023-02-15T14:45:31.374Z"
   },
   {
    "duration": 5,
    "start_time": "2023-02-15T14:47:20.921Z"
   },
   {
    "duration": 1687,
    "start_time": "2023-02-16T07:19:08.187Z"
   },
   {
    "duration": 5,
    "start_time": "2023-02-16T07:19:09.876Z"
   },
   {
    "duration": 214,
    "start_time": "2023-02-16T07:19:09.883Z"
   },
   {
    "duration": 34,
    "start_time": "2023-02-16T07:19:10.099Z"
   },
   {
    "duration": 18,
    "start_time": "2023-02-16T07:19:10.135Z"
   },
   {
    "duration": 6,
    "start_time": "2023-02-16T07:19:10.155Z"
   },
   {
    "duration": 22,
    "start_time": "2023-02-16T07:19:10.163Z"
   },
   {
    "duration": 45,
    "start_time": "2023-02-16T07:19:10.187Z"
   },
   {
    "duration": 41,
    "start_time": "2023-02-16T07:19:10.234Z"
   },
   {
    "duration": 46,
    "start_time": "2023-02-16T07:19:10.277Z"
   },
   {
    "duration": 22,
    "start_time": "2023-02-16T07:19:10.325Z"
   },
   {
    "duration": 28,
    "start_time": "2023-02-16T07:19:10.350Z"
   },
   {
    "duration": 17,
    "start_time": "2023-02-16T07:19:10.380Z"
   },
   {
    "duration": 254,
    "start_time": "2023-02-16T07:19:10.400Z"
   },
   {
    "duration": 209,
    "start_time": "2023-02-16T07:19:10.657Z"
   },
   {
    "duration": 290,
    "start_time": "2023-02-16T07:19:10.868Z"
   },
   {
    "duration": 212,
    "start_time": "2023-02-16T07:19:11.161Z"
   },
   {
    "duration": 163,
    "start_time": "2023-02-16T07:19:11.375Z"
   },
   {
    "duration": 204,
    "start_time": "2023-02-16T07:19:11.540Z"
   },
   {
    "duration": 222,
    "start_time": "2023-02-16T07:19:11.746Z"
   },
   {
    "duration": 207,
    "start_time": "2023-02-16T07:19:11.970Z"
   },
   {
    "duration": 28,
    "start_time": "2023-02-16T07:19:12.179Z"
   },
   {
    "duration": 38,
    "start_time": "2023-02-16T07:19:12.209Z"
   },
   {
    "duration": 6,
    "start_time": "2023-02-16T07:19:12.249Z"
   },
   {
    "duration": 16,
    "start_time": "2023-02-16T07:19:12.257Z"
   },
   {
    "duration": 315,
    "start_time": "2023-02-16T07:19:12.275Z"
   },
   {
    "duration": 5,
    "start_time": "2023-02-16T07:19:12.592Z"
   },
   {
    "duration": 3038,
    "start_time": "2023-02-16T07:19:12.598Z"
   },
   {
    "duration": 15,
    "start_time": "2023-02-16T07:19:15.637Z"
   },
   {
    "duration": 357,
    "start_time": "2023-02-16T07:19:15.654Z"
   },
   {
    "duration": 5,
    "start_time": "2023-02-16T07:19:16.012Z"
   },
   {
    "duration": 7,
    "start_time": "2023-02-16T07:19:16.019Z"
   },
   {
    "duration": 25,
    "start_time": "2023-02-16T07:19:16.027Z"
   },
   {
    "duration": 309,
    "start_time": "2023-02-16T07:19:16.054Z"
   },
   {
    "duration": 5,
    "start_time": "2023-02-16T07:19:16.365Z"
   },
   {
    "duration": 9,
    "start_time": "2023-02-16T07:19:16.372Z"
   },
   {
    "duration": 315,
    "start_time": "2023-02-16T07:19:16.383Z"
   },
   {
    "duration": 14,
    "start_time": "2023-02-16T07:19:16.699Z"
   },
   {
    "duration": 472,
    "start_time": "2023-02-16T07:19:16.715Z"
   },
   {
    "duration": 9,
    "start_time": "2023-02-16T07:19:17.188Z"
   },
   {
    "duration": 505,
    "start_time": "2023-02-16T07:19:17.202Z"
   },
   {
    "duration": 6,
    "start_time": "2023-02-16T07:19:17.708Z"
   },
   {
    "duration": 21,
    "start_time": "2023-02-16T07:19:17.726Z"
   },
   {
    "duration": 3,
    "start_time": "2023-02-16T07:19:17.749Z"
   },
   {
    "duration": 11,
    "start_time": "2023-02-16T07:19:17.754Z"
   },
   {
    "duration": 22,
    "start_time": "2023-02-16T07:19:17.767Z"
   },
   {
    "duration": 67,
    "start_time": "2023-02-16T07:19:17.791Z"
   },
   {
    "duration": 5,
    "start_time": "2023-02-16T07:19:17.859Z"
   },
   {
    "duration": 28,
    "start_time": "2023-02-16T07:19:17.865Z"
   },
   {
    "duration": 22,
    "start_time": "2023-02-16T07:19:17.895Z"
   },
   {
    "duration": 12,
    "start_time": "2023-02-16T07:19:17.926Z"
   },
   {
    "duration": 368,
    "start_time": "2023-02-16T07:19:17.939Z"
   },
   {
    "duration": 182,
    "start_time": "2023-02-16T07:19:18.309Z"
   },
   {
    "duration": 97,
    "start_time": "2023-02-16T07:19:18.493Z"
   },
   {
    "duration": 9777,
    "start_time": "2023-02-16T07:19:18.592Z"
   },
   {
    "duration": 10,
    "start_time": "2023-02-16T07:19:28.371Z"
   },
   {
    "duration": 47,
    "start_time": "2023-02-16T07:19:28.383Z"
   },
   {
    "duration": 11,
    "start_time": "2023-02-16T07:19:28.432Z"
   },
   {
    "duration": 202,
    "start_time": "2023-02-16T07:19:28.445Z"
   },
   {
    "duration": 7,
    "start_time": "2023-02-16T07:19:28.649Z"
   },
   {
    "duration": 32,
    "start_time": "2023-02-16T07:19:28.658Z"
   },
   {
    "duration": 40,
    "start_time": "2023-02-16T07:19:28.691Z"
   },
   {
    "duration": 9,
    "start_time": "2023-02-16T07:19:28.733Z"
   },
   {
    "duration": 9,
    "start_time": "2023-02-16T07:19:28.744Z"
   },
   {
    "duration": 11,
    "start_time": "2023-02-16T07:19:28.755Z"
   },
   {
    "duration": 108,
    "start_time": "2023-02-16T07:19:28.768Z"
   },
   {
    "duration": 14,
    "start_time": "2023-02-16T07:19:28.878Z"
   },
   {
    "duration": 34,
    "start_time": "2023-02-16T07:19:28.894Z"
   },
   {
    "duration": 6,
    "start_time": "2023-02-16T07:19:28.930Z"
   },
   {
    "duration": 10,
    "start_time": "2023-02-16T07:19:28.938Z"
   },
   {
    "duration": 9,
    "start_time": "2023-02-16T07:19:28.949Z"
   },
   {
    "duration": 8,
    "start_time": "2023-02-16T07:19:28.960Z"
   },
   {
    "duration": 9,
    "start_time": "2023-02-16T07:33:39.952Z"
   },
   {
    "duration": 492,
    "start_time": "2023-02-16T07:49:28.514Z"
   },
   {
    "duration": 10,
    "start_time": "2023-02-16T07:52:24.003Z"
   },
   {
    "duration": 10,
    "start_time": "2023-02-16T07:52:38.201Z"
   },
   {
    "duration": 103,
    "start_time": "2023-02-16T07:55:02.650Z"
   },
   {
    "duration": 12,
    "start_time": "2023-02-16T08:00:01.966Z"
   },
   {
    "duration": 10,
    "start_time": "2023-02-16T08:00:42.475Z"
   },
   {
    "duration": 3,
    "start_time": "2023-02-16T08:01:19.207Z"
   },
   {
    "duration": 8,
    "start_time": "2023-02-16T08:01:41.928Z"
   },
   {
    "duration": 8,
    "start_time": "2023-02-16T08:01:58.669Z"
   },
   {
    "duration": 14,
    "start_time": "2023-02-16T08:03:37.193Z"
   },
   {
    "duration": 38,
    "start_time": "2023-02-16T08:14:33.552Z"
   },
   {
    "duration": 160,
    "start_time": "2023-02-16T08:18:08.227Z"
   },
   {
    "duration": 18,
    "start_time": "2023-02-16T08:19:48.292Z"
   },
   {
    "duration": 17,
    "start_time": "2023-02-16T08:21:49.098Z"
   },
   {
    "duration": 54,
    "start_time": "2023-02-16T08:26:47.506Z"
   },
   {
    "duration": 10,
    "start_time": "2023-02-16T08:26:56.196Z"
   },
   {
    "duration": 256,
    "start_time": "2023-02-16T08:27:16.950Z"
   },
   {
    "duration": 6,
    "start_time": "2023-02-16T08:28:08.055Z"
   },
   {
    "duration": 8,
    "start_time": "2023-02-16T08:28:26.659Z"
   },
   {
    "duration": 11,
    "start_time": "2023-02-16T08:30:11.014Z"
   },
   {
    "duration": 6,
    "start_time": "2023-02-16T08:31:06.903Z"
   },
   {
    "duration": 18,
    "start_time": "2023-02-16T08:31:21.951Z"
   },
   {
    "duration": 8,
    "start_time": "2023-02-16T08:33:06.742Z"
   },
   {
    "duration": 363,
    "start_time": "2023-02-16T08:33:35.271Z"
   },
   {
    "duration": 11,
    "start_time": "2023-02-16T08:35:02.955Z"
   },
   {
    "duration": 18,
    "start_time": "2023-02-16T08:35:05.625Z"
   },
   {
    "duration": 5,
    "start_time": "2023-02-16T08:35:25.271Z"
   },
   {
    "duration": 10,
    "start_time": "2023-02-16T08:35:30.676Z"
   },
   {
    "duration": 11,
    "start_time": "2023-02-16T08:35:35.840Z"
   },
   {
    "duration": 342,
    "start_time": "2023-02-16T08:36:08.001Z"
   },
   {
    "duration": 6,
    "start_time": "2023-02-16T08:38:45.818Z"
   },
   {
    "duration": 11,
    "start_time": "2023-02-16T08:39:36.761Z"
   },
   {
    "duration": 10,
    "start_time": "2023-02-16T08:39:52.779Z"
   },
   {
    "duration": 481,
    "start_time": "2023-02-16T08:40:15.340Z"
   },
   {
    "duration": 503,
    "start_time": "2023-02-16T08:40:59.179Z"
   },
   {
    "duration": 1580,
    "start_time": "2023-02-16T08:46:57.820Z"
   },
   {
    "duration": 5,
    "start_time": "2023-02-16T08:46:59.402Z"
   },
   {
    "duration": 151,
    "start_time": "2023-02-16T08:46:59.408Z"
   },
   {
    "duration": 14,
    "start_time": "2023-02-16T08:46:59.561Z"
   },
   {
    "duration": 17,
    "start_time": "2023-02-16T08:46:59.577Z"
   },
   {
    "duration": 8,
    "start_time": "2023-02-16T08:46:59.596Z"
   },
   {
    "duration": 33,
    "start_time": "2023-02-16T08:46:59.605Z"
   },
   {
    "duration": 16,
    "start_time": "2023-02-16T08:46:59.640Z"
   },
   {
    "duration": 19,
    "start_time": "2023-02-16T08:46:59.658Z"
   },
   {
    "duration": 19,
    "start_time": "2023-02-16T08:46:59.679Z"
   },
   {
    "duration": 8,
    "start_time": "2023-02-16T08:46:59.699Z"
   },
   {
    "duration": 24,
    "start_time": "2023-02-16T08:46:59.728Z"
   },
   {
    "duration": 7,
    "start_time": "2023-02-16T08:46:59.753Z"
   },
   {
    "duration": 226,
    "start_time": "2023-02-16T08:46:59.761Z"
   },
   {
    "duration": 205,
    "start_time": "2023-02-16T08:46:59.989Z"
   },
   {
    "duration": 253,
    "start_time": "2023-02-16T08:47:00.196Z"
   },
   {
    "duration": 331,
    "start_time": "2023-02-16T08:47:00.452Z"
   },
   {
    "duration": 171,
    "start_time": "2023-02-16T08:47:00.785Z"
   },
   {
    "duration": 192,
    "start_time": "2023-02-16T08:47:00.957Z"
   },
   {
    "duration": 216,
    "start_time": "2023-02-16T08:47:01.151Z"
   },
   {
    "duration": 207,
    "start_time": "2023-02-16T08:47:01.369Z"
   },
   {
    "duration": 27,
    "start_time": "2023-02-16T08:47:01.578Z"
   },
   {
    "duration": 40,
    "start_time": "2023-02-16T08:47:01.607Z"
   },
   {
    "duration": 5,
    "start_time": "2023-02-16T08:47:01.649Z"
   },
   {
    "duration": 27,
    "start_time": "2023-02-16T08:47:01.655Z"
   },
   {
    "duration": 324,
    "start_time": "2023-02-16T08:47:01.683Z"
   },
   {
    "duration": 4,
    "start_time": "2023-02-16T08:47:02.009Z"
   },
   {
    "duration": 3122,
    "start_time": "2023-02-16T08:47:02.027Z"
   },
   {
    "duration": 11,
    "start_time": "2023-02-16T08:47:05.150Z"
   },
   {
    "duration": 361,
    "start_time": "2023-02-16T08:47:05.162Z"
   },
   {
    "duration": 17,
    "start_time": "2023-02-16T08:47:05.525Z"
   },
   {
    "duration": 5,
    "start_time": "2023-02-16T08:47:05.544Z"
   },
   {
    "duration": 21,
    "start_time": "2023-02-16T08:47:05.551Z"
   },
   {
    "duration": 288,
    "start_time": "2023-02-16T08:47:05.573Z"
   },
   {
    "duration": 4,
    "start_time": "2023-02-16T08:47:05.863Z"
   },
   {
    "duration": 11,
    "start_time": "2023-02-16T08:47:05.868Z"
   },
   {
    "duration": 297,
    "start_time": "2023-02-16T08:47:05.880Z"
   },
   {
    "duration": 13,
    "start_time": "2023-02-16T08:47:06.178Z"
   },
   {
    "duration": 389,
    "start_time": "2023-02-16T08:47:06.193Z"
   },
   {
    "duration": 8,
    "start_time": "2023-02-16T08:47:06.584Z"
   },
   {
    "duration": 618,
    "start_time": "2023-02-16T08:47:06.593Z"
   },
   {
    "duration": 17,
    "start_time": "2023-02-16T08:47:07.213Z"
   },
   {
    "duration": 22,
    "start_time": "2023-02-16T08:47:07.231Z"
   },
   {
    "duration": 7,
    "start_time": "2023-02-16T08:47:07.255Z"
   },
   {
    "duration": 9,
    "start_time": "2023-02-16T08:47:07.263Z"
   },
   {
    "duration": 20,
    "start_time": "2023-02-16T08:47:07.273Z"
   },
   {
    "duration": 51,
    "start_time": "2023-02-16T08:47:07.295Z"
   },
   {
    "duration": 4,
    "start_time": "2023-02-16T08:47:07.348Z"
   },
   {
    "duration": 26,
    "start_time": "2023-02-16T08:47:07.354Z"
   },
   {
    "duration": 21,
    "start_time": "2023-02-16T08:47:07.382Z"
   },
   {
    "duration": 35,
    "start_time": "2023-02-16T08:47:07.404Z"
   },
   {
    "duration": 357,
    "start_time": "2023-02-16T08:47:07.440Z"
   },
   {
    "duration": 84,
    "start_time": "2023-02-16T08:47:07.799Z"
   },
   {
    "duration": 93,
    "start_time": "2023-02-16T08:47:07.886Z"
   },
   {
    "duration": 10182,
    "start_time": "2023-02-16T08:47:07.980Z"
   },
   {
    "duration": 11,
    "start_time": "2023-02-16T08:47:18.164Z"
   },
   {
    "duration": 9,
    "start_time": "2023-02-16T08:47:18.177Z"
   },
   {
    "duration": 52,
    "start_time": "2023-02-16T08:47:18.187Z"
   },
   {
    "duration": 185,
    "start_time": "2023-02-16T08:47:18.247Z"
   },
   {
    "duration": 11,
    "start_time": "2023-02-16T08:47:18.434Z"
   },
   {
    "duration": 29,
    "start_time": "2023-02-16T08:47:18.446Z"
   },
   {
    "duration": 7,
    "start_time": "2023-02-16T08:47:18.477Z"
   },
   {
    "duration": 53,
    "start_time": "2023-02-16T08:47:18.485Z"
   },
   {
    "duration": 8,
    "start_time": "2023-02-16T08:47:18.540Z"
   },
   {
    "duration": 16,
    "start_time": "2023-02-16T08:47:18.549Z"
   },
   {
    "duration": 100,
    "start_time": "2023-02-16T08:47:18.567Z"
   },
   {
    "duration": 18,
    "start_time": "2023-02-16T08:47:18.669Z"
   },
   {
    "duration": 15,
    "start_time": "2023-02-16T08:47:18.689Z"
   },
   {
    "duration": 11,
    "start_time": "2023-02-16T08:47:18.729Z"
   },
   {
    "duration": 21,
    "start_time": "2023-02-16T08:47:18.742Z"
   },
   {
    "duration": 15,
    "start_time": "2023-02-16T08:47:18.765Z"
   },
   {
    "duration": 13,
    "start_time": "2023-02-16T08:47:18.781Z"
   },
   {
    "duration": 11,
    "start_time": "2023-02-16T08:47:18.796Z"
   },
   {
    "duration": 534,
    "start_time": "2023-02-16T08:47:18.808Z"
   },
   {
    "duration": 9,
    "start_time": "2023-02-16T08:47:19.344Z"
   },
   {
    "duration": 95,
    "start_time": "2023-02-16T08:47:19.355Z"
   },
   {
    "duration": 13,
    "start_time": "2023-02-16T08:47:19.452Z"
   },
   {
    "duration": 4,
    "start_time": "2023-02-16T08:47:19.467Z"
   },
   {
    "duration": 8,
    "start_time": "2023-02-16T08:47:19.473Z"
   },
   {
    "duration": 51,
    "start_time": "2023-02-16T08:47:19.483Z"
   },
   {
    "duration": 15,
    "start_time": "2023-02-16T08:47:19.535Z"
   },
   {
    "duration": 31,
    "start_time": "2023-02-16T08:47:19.555Z"
   },
   {
    "duration": 18,
    "start_time": "2023-02-16T08:47:19.587Z"
   },
   {
    "duration": 39,
    "start_time": "2023-02-16T08:47:19.606Z"
   },
   {
    "duration": 8,
    "start_time": "2023-02-16T08:47:19.647Z"
   },
   {
    "duration": 7,
    "start_time": "2023-02-16T08:47:19.657Z"
   },
   {
    "duration": 220,
    "start_time": "2023-02-16T08:47:19.665Z"
   },
   {
    "duration": 6,
    "start_time": "2023-02-16T08:47:19.887Z"
   },
   {
    "duration": 10,
    "start_time": "2023-02-16T08:47:19.895Z"
   },
   {
    "duration": 29,
    "start_time": "2023-02-16T08:47:19.907Z"
   },
   {
    "duration": 8,
    "start_time": "2023-02-16T08:47:19.938Z"
   },
   {
    "duration": 18,
    "start_time": "2023-02-16T08:47:19.947Z"
   },
   {
    "duration": 8,
    "start_time": "2023-02-16T08:47:19.966Z"
   },
   {
    "duration": 417,
    "start_time": "2023-02-16T08:47:19.982Z"
   },
   {
    "duration": 14,
    "start_time": "2023-02-16T08:47:20.401Z"
   },
   {
    "duration": 414,
    "start_time": "2023-02-16T08:47:20.429Z"
   },
   {
    "duration": 7,
    "start_time": "2023-02-16T08:47:20.845Z"
   },
   {
    "duration": 20,
    "start_time": "2023-02-16T08:47:20.853Z"
   },
   {
    "duration": 466,
    "start_time": "2023-02-16T08:47:20.875Z"
   },
   {
    "duration": 474,
    "start_time": "2023-02-16T08:47:21.343Z"
   },
   {
    "duration": 163,
    "start_time": "2023-02-16T08:55:55.741Z"
   },
   {
    "duration": 8,
    "start_time": "2023-02-16T08:56:12.529Z"
   },
   {
    "duration": 18,
    "start_time": "2023-02-16T08:56:52.925Z"
   },
   {
    "duration": 31,
    "start_time": "2023-02-16T08:58:30.636Z"
   },
   {
    "duration": 1682,
    "start_time": "2023-02-16T08:59:05.968Z"
   },
   {
    "duration": 1600,
    "start_time": "2023-02-16T09:02:36.698Z"
   },
   {
    "duration": 4,
    "start_time": "2023-02-16T09:02:38.300Z"
   },
   {
    "duration": 161,
    "start_time": "2023-02-16T09:02:38.305Z"
   },
   {
    "duration": 14,
    "start_time": "2023-02-16T09:02:38.468Z"
   },
   {
    "duration": 18,
    "start_time": "2023-02-16T09:02:38.484Z"
   },
   {
    "duration": 8,
    "start_time": "2023-02-16T09:02:38.504Z"
   },
   {
    "duration": 18,
    "start_time": "2023-02-16T09:02:38.538Z"
   },
   {
    "duration": 17,
    "start_time": "2023-02-16T09:02:38.558Z"
   },
   {
    "duration": 23,
    "start_time": "2023-02-16T09:02:38.577Z"
   },
   {
    "duration": 38,
    "start_time": "2023-02-16T09:02:38.602Z"
   },
   {
    "duration": 11,
    "start_time": "2023-02-16T09:02:38.642Z"
   },
   {
    "duration": 31,
    "start_time": "2023-02-16T09:02:38.655Z"
   },
   {
    "duration": 13,
    "start_time": "2023-02-16T09:02:38.688Z"
   },
   {
    "duration": 235,
    "start_time": "2023-02-16T09:02:38.703Z"
   },
   {
    "duration": 197,
    "start_time": "2023-02-16T09:02:38.941Z"
   },
   {
    "duration": 218,
    "start_time": "2023-02-16T09:02:39.140Z"
   },
   {
    "duration": 274,
    "start_time": "2023-02-16T09:02:39.359Z"
   },
   {
    "duration": 152,
    "start_time": "2023-02-16T09:02:39.637Z"
   },
   {
    "duration": 196,
    "start_time": "2023-02-16T09:02:39.791Z"
   },
   {
    "duration": 225,
    "start_time": "2023-02-16T09:02:39.989Z"
   },
   {
    "duration": 239,
    "start_time": "2023-02-16T09:02:40.216Z"
   },
   {
    "duration": 40,
    "start_time": "2023-02-16T09:02:40.457Z"
   },
   {
    "duration": 52,
    "start_time": "2023-02-16T09:02:40.499Z"
   },
   {
    "duration": 6,
    "start_time": "2023-02-16T09:02:40.553Z"
   },
   {
    "duration": 13,
    "start_time": "2023-02-16T09:02:40.561Z"
   },
   {
    "duration": 364,
    "start_time": "2023-02-16T09:02:40.576Z"
   },
   {
    "duration": 5,
    "start_time": "2023-02-16T09:02:40.942Z"
   },
   {
    "duration": 3111,
    "start_time": "2023-02-16T09:02:40.951Z"
   },
   {
    "duration": 12,
    "start_time": "2023-02-16T09:02:44.063Z"
   },
   {
    "duration": 347,
    "start_time": "2023-02-16T09:02:44.076Z"
   },
   {
    "duration": 9,
    "start_time": "2023-02-16T09:02:44.425Z"
   },
   {
    "duration": 6,
    "start_time": "2023-02-16T09:02:44.439Z"
   },
   {
    "duration": 25,
    "start_time": "2023-02-16T09:02:44.447Z"
   },
   {
    "duration": 302,
    "start_time": "2023-02-16T09:02:44.474Z"
   },
   {
    "duration": 5,
    "start_time": "2023-02-16T09:02:44.778Z"
   },
   {
    "duration": 8,
    "start_time": "2023-02-16T09:02:44.784Z"
   },
   {
    "duration": 309,
    "start_time": "2023-02-16T09:02:44.794Z"
   },
   {
    "duration": 26,
    "start_time": "2023-02-16T09:02:45.105Z"
   },
   {
    "duration": 386,
    "start_time": "2023-02-16T09:02:45.133Z"
   },
   {
    "duration": 20,
    "start_time": "2023-02-16T09:02:45.521Z"
   },
   {
    "duration": 579,
    "start_time": "2023-02-16T09:02:45.543Z"
   },
   {
    "duration": 11,
    "start_time": "2023-02-16T09:02:46.124Z"
   },
   {
    "duration": 17,
    "start_time": "2023-02-16T09:02:46.144Z"
   },
   {
    "duration": 9,
    "start_time": "2023-02-16T09:02:46.162Z"
   },
   {
    "duration": 9,
    "start_time": "2023-02-16T09:02:46.172Z"
   },
   {
    "duration": 22,
    "start_time": "2023-02-16T09:02:46.183Z"
   },
   {
    "duration": 41,
    "start_time": "2023-02-16T09:02:46.207Z"
   },
   {
    "duration": 19,
    "start_time": "2023-02-16T09:02:46.250Z"
   },
   {
    "duration": 43,
    "start_time": "2023-02-16T09:02:46.271Z"
   },
   {
    "duration": 33,
    "start_time": "2023-02-16T09:02:46.316Z"
   },
   {
    "duration": 12,
    "start_time": "2023-02-16T09:02:46.351Z"
   },
   {
    "duration": 385,
    "start_time": "2023-02-16T09:02:46.365Z"
   },
   {
    "duration": 89,
    "start_time": "2023-02-16T09:02:46.752Z"
   },
   {
    "duration": 97,
    "start_time": "2023-02-16T09:02:46.842Z"
   },
   {
    "duration": 10019,
    "start_time": "2023-02-16T09:02:46.941Z"
   },
   {
    "duration": 10,
    "start_time": "2023-02-16T09:02:56.962Z"
   },
   {
    "duration": 64,
    "start_time": "2023-02-16T09:02:56.974Z"
   },
   {
    "duration": 9,
    "start_time": "2023-02-16T09:02:57.040Z"
   },
   {
    "duration": 198,
    "start_time": "2023-02-16T09:02:57.050Z"
   },
   {
    "duration": 8,
    "start_time": "2023-02-16T09:02:57.250Z"
   },
   {
    "duration": 78,
    "start_time": "2023-02-16T09:02:57.261Z"
   },
   {
    "duration": 7,
    "start_time": "2023-02-16T09:02:57.341Z"
   },
   {
    "duration": 8,
    "start_time": "2023-02-16T09:02:57.350Z"
   },
   {
    "duration": 9,
    "start_time": "2023-02-16T09:02:57.360Z"
   },
   {
    "duration": 13,
    "start_time": "2023-02-16T09:02:57.370Z"
   },
   {
    "duration": 104,
    "start_time": "2023-02-16T09:02:57.384Z"
   },
   {
    "duration": 13,
    "start_time": "2023-02-16T09:02:57.490Z"
   },
   {
    "duration": 34,
    "start_time": "2023-02-16T09:02:57.505Z"
   },
   {
    "duration": 8,
    "start_time": "2023-02-16T09:02:57.542Z"
   },
   {
    "duration": 6,
    "start_time": "2023-02-16T09:02:57.552Z"
   },
   {
    "duration": 6,
    "start_time": "2023-02-16T09:02:57.560Z"
   },
   {
    "duration": 9,
    "start_time": "2023-02-16T09:02:57.568Z"
   },
   {
    "duration": 8,
    "start_time": "2023-02-16T09:02:57.579Z"
   },
   {
    "duration": 489,
    "start_time": "2023-02-16T09:02:57.589Z"
   },
   {
    "duration": 1683,
    "start_time": "2023-02-16T09:02:58.080Z"
   },
   {
    "duration": 1540,
    "start_time": "2023-02-16T09:04:08.256Z"
   },
   {
    "duration": 4,
    "start_time": "2023-02-16T09:04:09.798Z"
   },
   {
    "duration": 166,
    "start_time": "2023-02-16T09:04:09.803Z"
   },
   {
    "duration": 15,
    "start_time": "2023-02-16T09:04:09.970Z"
   },
   {
    "duration": 17,
    "start_time": "2023-02-16T09:04:09.988Z"
   },
   {
    "duration": 35,
    "start_time": "2023-02-16T09:04:10.007Z"
   },
   {
    "duration": 26,
    "start_time": "2023-02-16T09:04:10.044Z"
   },
   {
    "duration": 18,
    "start_time": "2023-02-16T09:04:10.072Z"
   },
   {
    "duration": 49,
    "start_time": "2023-02-16T09:04:10.092Z"
   },
   {
    "duration": 35,
    "start_time": "2023-02-16T09:04:10.143Z"
   },
   {
    "duration": 9,
    "start_time": "2023-02-16T09:04:10.179Z"
   },
   {
    "duration": 17,
    "start_time": "2023-02-16T09:04:10.190Z"
   },
   {
    "duration": 6,
    "start_time": "2023-02-16T09:04:10.209Z"
   },
   {
    "duration": 242,
    "start_time": "2023-02-16T09:04:10.217Z"
   },
   {
    "duration": 227,
    "start_time": "2023-02-16T09:04:10.461Z"
   },
   {
    "duration": 220,
    "start_time": "2023-02-16T09:04:10.690Z"
   },
   {
    "duration": 291,
    "start_time": "2023-02-16T09:04:10.912Z"
   },
   {
    "duration": 169,
    "start_time": "2023-02-16T09:04:11.205Z"
   },
   {
    "duration": 198,
    "start_time": "2023-02-16T09:04:11.376Z"
   },
   {
    "duration": 212,
    "start_time": "2023-02-16T09:04:11.575Z"
   },
   {
    "duration": 211,
    "start_time": "2023-02-16T09:04:11.788Z"
   },
   {
    "duration": 49,
    "start_time": "2023-02-16T09:04:12.001Z"
   },
   {
    "duration": 22,
    "start_time": "2023-02-16T09:04:12.052Z"
   },
   {
    "duration": 5,
    "start_time": "2023-02-16T09:04:12.076Z"
   },
   {
    "duration": 7,
    "start_time": "2023-02-16T09:04:12.083Z"
   },
   {
    "duration": 330,
    "start_time": "2023-02-16T09:04:12.091Z"
   },
   {
    "duration": 11,
    "start_time": "2023-02-16T09:04:12.427Z"
   },
   {
    "duration": 3146,
    "start_time": "2023-02-16T09:04:12.440Z"
   },
   {
    "duration": 12,
    "start_time": "2023-02-16T09:04:15.587Z"
   },
   {
    "duration": 1193,
    "start_time": "2023-02-16T09:04:15.600Z"
   },
   {
    "duration": 4,
    "start_time": "2023-02-16T09:04:16.795Z"
   },
   {
    "duration": 26,
    "start_time": "2023-02-16T09:04:16.801Z"
   },
   {
    "duration": 43,
    "start_time": "2023-02-16T09:04:16.833Z"
   },
   {
    "duration": 282,
    "start_time": "2023-02-16T09:04:16.879Z"
   },
   {
    "duration": 5,
    "start_time": "2023-02-16T09:04:17.163Z"
   },
   {
    "duration": 11,
    "start_time": "2023-02-16T09:04:17.170Z"
   },
   {
    "duration": 314,
    "start_time": "2023-02-16T09:04:17.183Z"
   },
   {
    "duration": 30,
    "start_time": "2023-02-16T09:04:17.499Z"
   },
   {
    "duration": 382,
    "start_time": "2023-02-16T09:04:17.530Z"
   },
   {
    "duration": 14,
    "start_time": "2023-02-16T09:04:17.914Z"
   },
   {
    "duration": 580,
    "start_time": "2023-02-16T09:04:17.933Z"
   },
   {
    "duration": 15,
    "start_time": "2023-02-16T09:04:18.515Z"
   },
   {
    "duration": 20,
    "start_time": "2023-02-16T09:04:18.531Z"
   },
   {
    "duration": 4,
    "start_time": "2023-02-16T09:04:18.553Z"
   },
   {
    "duration": 11,
    "start_time": "2023-02-16T09:04:18.558Z"
   },
   {
    "duration": 23,
    "start_time": "2023-02-16T09:04:18.571Z"
   },
   {
    "duration": 45,
    "start_time": "2023-02-16T09:04:18.595Z"
   },
   {
    "duration": 17,
    "start_time": "2023-02-16T09:04:18.641Z"
   },
   {
    "duration": 36,
    "start_time": "2023-02-16T09:04:18.660Z"
   },
   {
    "duration": 21,
    "start_time": "2023-02-16T09:04:18.698Z"
   },
   {
    "duration": 46,
    "start_time": "2023-02-16T09:04:18.720Z"
   },
   {
    "duration": 386,
    "start_time": "2023-02-16T09:04:18.767Z"
   },
   {
    "duration": 86,
    "start_time": "2023-02-16T09:04:19.155Z"
   },
   {
    "duration": 107,
    "start_time": "2023-02-16T09:04:19.244Z"
   },
   {
    "duration": 10236,
    "start_time": "2023-02-16T09:04:19.353Z"
   },
   {
    "duration": 9,
    "start_time": "2023-02-16T09:04:29.591Z"
   },
   {
    "duration": 41,
    "start_time": "2023-02-16T09:04:29.602Z"
   },
   {
    "duration": 107,
    "start_time": "2023-02-16T09:04:29.645Z"
   },
   {
    "duration": 112,
    "start_time": "2023-02-16T09:04:29.754Z"
   },
   {
    "duration": 6,
    "start_time": "2023-02-16T09:04:29.868Z"
   },
   {
    "duration": 27,
    "start_time": "2023-02-16T09:04:29.876Z"
   },
   {
    "duration": 37,
    "start_time": "2023-02-16T09:04:29.905Z"
   },
   {
    "duration": 13,
    "start_time": "2023-02-16T09:04:29.946Z"
   },
   {
    "duration": 16,
    "start_time": "2023-02-16T09:04:29.964Z"
   },
   {
    "duration": 12,
    "start_time": "2023-02-16T09:04:29.982Z"
   },
   {
    "duration": 92,
    "start_time": "2023-02-16T09:04:29.995Z"
   },
   {
    "duration": 16,
    "start_time": "2023-02-16T09:04:30.089Z"
   },
   {
    "duration": 16,
    "start_time": "2023-02-16T09:04:30.127Z"
   },
   {
    "duration": 27,
    "start_time": "2023-02-16T09:04:30.145Z"
   },
   {
    "duration": 32,
    "start_time": "2023-02-16T09:04:30.174Z"
   },
   {
    "duration": 197,
    "start_time": "2023-02-16T09:04:30.208Z"
   },
   {
    "duration": 0,
    "start_time": "2023-02-16T09:04:30.408Z"
   },
   {
    "duration": 0,
    "start_time": "2023-02-16T09:04:30.409Z"
   },
   {
    "duration": 0,
    "start_time": "2023-02-16T09:04:30.411Z"
   },
   {
    "duration": 0,
    "start_time": "2023-02-16T09:04:30.412Z"
   },
   {
    "duration": 10,
    "start_time": "2023-02-16T09:04:51.149Z"
   },
   {
    "duration": 10,
    "start_time": "2023-02-16T09:04:54.192Z"
   },
   {
    "duration": 8,
    "start_time": "2023-02-16T09:04:55.355Z"
   },
   {
    "duration": 23,
    "start_time": "2023-02-16T09:04:55.953Z"
   },
   {
    "duration": 1728,
    "start_time": "2023-02-16T09:04:56.689Z"
   },
   {
    "duration": 466,
    "start_time": "2023-02-16T09:05:08.782Z"
   },
   {
    "duration": 6,
    "start_time": "2023-02-16T09:07:31.064Z"
   },
   {
    "duration": 7,
    "start_time": "2023-02-16T09:07:38.575Z"
   },
   {
    "duration": 6,
    "start_time": "2023-02-16T09:07:45.492Z"
   },
   {
    "duration": 458,
    "start_time": "2023-02-16T09:07:52.664Z"
   },
   {
    "duration": 1630,
    "start_time": "2023-02-16T09:12:12.784Z"
   },
   {
    "duration": 5,
    "start_time": "2023-02-16T09:12:14.416Z"
   },
   {
    "duration": 164,
    "start_time": "2023-02-16T09:12:14.434Z"
   },
   {
    "duration": 44,
    "start_time": "2023-02-16T09:12:14.600Z"
   },
   {
    "duration": 22,
    "start_time": "2023-02-16T09:12:14.646Z"
   },
   {
    "duration": 18,
    "start_time": "2023-02-16T09:12:14.670Z"
   },
   {
    "duration": 22,
    "start_time": "2023-02-16T09:12:14.690Z"
   },
   {
    "duration": 27,
    "start_time": "2023-02-16T09:12:14.714Z"
   },
   {
    "duration": 18,
    "start_time": "2023-02-16T09:12:14.742Z"
   },
   {
    "duration": 23,
    "start_time": "2023-02-16T09:12:14.762Z"
   },
   {
    "duration": 17,
    "start_time": "2023-02-16T09:12:14.787Z"
   },
   {
    "duration": 34,
    "start_time": "2023-02-16T09:12:14.805Z"
   },
   {
    "duration": 8,
    "start_time": "2023-02-16T09:12:14.841Z"
   },
   {
    "duration": 222,
    "start_time": "2023-02-16T09:12:14.850Z"
   },
   {
    "duration": 194,
    "start_time": "2023-02-16T09:12:15.076Z"
   },
   {
    "duration": 226,
    "start_time": "2023-02-16T09:12:15.272Z"
   },
   {
    "duration": 287,
    "start_time": "2023-02-16T09:12:15.500Z"
   },
   {
    "duration": 170,
    "start_time": "2023-02-16T09:12:15.789Z"
   },
   {
    "duration": 200,
    "start_time": "2023-02-16T09:12:15.960Z"
   },
   {
    "duration": 230,
    "start_time": "2023-02-16T09:12:16.163Z"
   },
   {
    "duration": 221,
    "start_time": "2023-02-16T09:12:16.395Z"
   },
   {
    "duration": 36,
    "start_time": "2023-02-16T09:12:16.617Z"
   },
   {
    "duration": 23,
    "start_time": "2023-02-16T09:12:16.655Z"
   },
   {
    "duration": 5,
    "start_time": "2023-02-16T09:12:16.679Z"
   },
   {
    "duration": 12,
    "start_time": "2023-02-16T09:12:16.685Z"
   },
   {
    "duration": 345,
    "start_time": "2023-02-16T09:12:16.698Z"
   },
   {
    "duration": 4,
    "start_time": "2023-02-16T09:12:17.045Z"
   },
   {
    "duration": 3058,
    "start_time": "2023-02-16T09:12:17.053Z"
   },
   {
    "duration": 27,
    "start_time": "2023-02-16T09:12:20.113Z"
   },
   {
    "duration": 373,
    "start_time": "2023-02-16T09:12:20.141Z"
   },
   {
    "duration": 5,
    "start_time": "2023-02-16T09:12:20.516Z"
   },
   {
    "duration": 4,
    "start_time": "2023-02-16T09:12:20.542Z"
   },
   {
    "duration": 34,
    "start_time": "2023-02-16T09:12:20.548Z"
   },
   {
    "duration": 311,
    "start_time": "2023-02-16T09:12:20.584Z"
   },
   {
    "duration": 5,
    "start_time": "2023-02-16T09:12:20.896Z"
   },
   {
    "duration": 9,
    "start_time": "2023-02-16T09:12:20.903Z"
   },
   {
    "duration": 307,
    "start_time": "2023-02-16T09:12:20.914Z"
   },
   {
    "duration": 24,
    "start_time": "2023-02-16T09:12:21.226Z"
   },
   {
    "duration": 367,
    "start_time": "2023-02-16T09:12:21.252Z"
   },
   {
    "duration": 21,
    "start_time": "2023-02-16T09:12:21.621Z"
   },
   {
    "duration": 606,
    "start_time": "2023-02-16T09:12:21.644Z"
   },
   {
    "duration": 6,
    "start_time": "2023-02-16T09:12:22.252Z"
   },
   {
    "duration": 20,
    "start_time": "2023-02-16T09:12:22.260Z"
   },
   {
    "duration": 4,
    "start_time": "2023-02-16T09:12:22.283Z"
   },
   {
    "duration": 32,
    "start_time": "2023-02-16T09:12:22.288Z"
   },
   {
    "duration": 38,
    "start_time": "2023-02-16T09:12:22.322Z"
   },
   {
    "duration": 22,
    "start_time": "2023-02-16T09:12:22.363Z"
   },
   {
    "duration": 4,
    "start_time": "2023-02-16T09:12:22.387Z"
   },
   {
    "duration": 45,
    "start_time": "2023-02-16T09:12:22.393Z"
   },
   {
    "duration": 23,
    "start_time": "2023-02-16T09:12:22.440Z"
   },
   {
    "duration": 9,
    "start_time": "2023-02-16T09:12:22.464Z"
   },
   {
    "duration": 378,
    "start_time": "2023-02-16T09:12:22.475Z"
   },
   {
    "duration": 87,
    "start_time": "2023-02-16T09:12:22.855Z"
   },
   {
    "duration": 94,
    "start_time": "2023-02-16T09:12:22.944Z"
   },
   {
    "duration": 10062,
    "start_time": "2023-02-16T09:12:23.039Z"
   },
   {
    "duration": 29,
    "start_time": "2023-02-16T09:12:33.102Z"
   },
   {
    "duration": 10,
    "start_time": "2023-02-16T09:12:33.137Z"
   },
   {
    "duration": 16,
    "start_time": "2023-02-16T09:12:33.148Z"
   },
   {
    "duration": 175,
    "start_time": "2023-02-16T09:12:33.167Z"
   },
   {
    "duration": 9,
    "start_time": "2023-02-16T09:12:33.344Z"
   },
   {
    "duration": 91,
    "start_time": "2023-02-16T09:12:33.355Z"
   },
   {
    "duration": 8,
    "start_time": "2023-02-16T09:12:33.448Z"
   },
   {
    "duration": 31,
    "start_time": "2023-02-16T09:12:33.458Z"
   },
   {
    "duration": 15,
    "start_time": "2023-02-16T09:12:33.491Z"
   },
   {
    "duration": 44,
    "start_time": "2023-02-16T09:12:33.508Z"
   },
   {
    "duration": 93,
    "start_time": "2023-02-16T09:12:33.555Z"
   },
   {
    "duration": 12,
    "start_time": "2023-02-16T09:12:33.650Z"
   },
   {
    "duration": 11,
    "start_time": "2023-02-16T09:12:33.664Z"
   },
   {
    "duration": 5,
    "start_time": "2023-02-16T09:12:33.676Z"
   },
   {
    "duration": 6,
    "start_time": "2023-02-16T09:12:33.683Z"
   },
   {
    "duration": 8,
    "start_time": "2023-02-16T09:12:33.690Z"
   },
   {
    "duration": 37,
    "start_time": "2023-02-16T09:12:33.699Z"
   },
   {
    "duration": 480,
    "start_time": "2023-02-16T09:12:33.738Z"
   },
   {
    "duration": 20,
    "start_time": "2023-02-16T09:12:34.220Z"
   },
   {
    "duration": 7,
    "start_time": "2023-02-16T09:12:34.242Z"
   },
   {
    "duration": 9,
    "start_time": "2023-02-16T09:12:34.251Z"
   },
   {
    "duration": 9,
    "start_time": "2023-02-16T09:12:34.261Z"
   },
   {
    "duration": 14,
    "start_time": "2023-02-16T09:12:34.272Z"
   },
   {
    "duration": 530,
    "start_time": "2023-02-16T09:12:34.288Z"
   },
   {
    "duration": 1749,
    "start_time": "2023-02-16T09:12:34.820Z"
   },
   {
    "duration": 9,
    "start_time": "2023-02-16T09:12:59.764Z"
   },
   {
    "duration": 93,
    "start_time": "2023-02-16T09:13:12.240Z"
   },
   {
    "duration": 11,
    "start_time": "2023-02-16T09:16:15.045Z"
   },
   {
    "duration": 4,
    "start_time": "2023-02-16T09:17:35.240Z"
   },
   {
    "duration": 7,
    "start_time": "2023-02-16T09:17:35.997Z"
   },
   {
    "duration": 12,
    "start_time": "2023-02-16T09:17:46.004Z"
   },
   {
    "duration": 33,
    "start_time": "2023-02-16T09:17:55.550Z"
   },
   {
    "duration": 17,
    "start_time": "2023-02-16T09:22:03.936Z"
   },
   {
    "duration": 18,
    "start_time": "2023-02-16T09:22:12.572Z"
   },
   {
    "duration": 7,
    "start_time": "2023-02-16T09:25:32.674Z"
   },
   {
    "duration": 10,
    "start_time": "2023-02-16T09:25:41.549Z"
   },
   {
    "duration": 282,
    "start_time": "2023-02-16T09:25:51.761Z"
   },
   {
    "duration": 6,
    "start_time": "2023-02-16T09:26:23.076Z"
   },
   {
    "duration": 7,
    "start_time": "2023-02-16T09:26:31.140Z"
   },
   {
    "duration": 11,
    "start_time": "2023-02-16T09:26:38.395Z"
   },
   {
    "duration": 5,
    "start_time": "2023-02-16T09:26:45.829Z"
   },
   {
    "duration": 12,
    "start_time": "2023-02-16T09:26:54.444Z"
   },
   {
    "duration": 8,
    "start_time": "2023-02-16T09:27:56.644Z"
   },
   {
    "duration": 384,
    "start_time": "2023-02-16T09:28:04.003Z"
   },
   {
    "duration": 10,
    "start_time": "2023-02-16T09:28:31.444Z"
   },
   {
    "duration": 364,
    "start_time": "2023-02-16T09:28:39.780Z"
   },
   {
    "duration": 6,
    "start_time": "2023-02-16T09:29:59.572Z"
   },
   {
    "duration": 10,
    "start_time": "2023-02-16T09:30:07.541Z"
   },
   {
    "duration": 177,
    "start_time": "2023-02-16T09:30:25.768Z"
   },
   {
    "duration": 16,
    "start_time": "2023-02-16T09:30:30.455Z"
   },
   {
    "duration": 522,
    "start_time": "2023-02-16T09:30:40.044Z"
   },
   {
    "duration": 481,
    "start_time": "2023-02-16T09:30:49.254Z"
   },
   {
    "duration": 1616,
    "start_time": "2023-02-16T09:51:15.099Z"
   },
   {
    "duration": 15,
    "start_time": "2023-02-16T09:51:16.717Z"
   },
   {
    "duration": 174,
    "start_time": "2023-02-16T09:51:16.735Z"
   },
   {
    "duration": 22,
    "start_time": "2023-02-16T09:51:16.935Z"
   },
   {
    "duration": 20,
    "start_time": "2023-02-16T09:51:16.960Z"
   },
   {
    "duration": 16,
    "start_time": "2023-02-16T09:51:16.983Z"
   },
   {
    "duration": 42,
    "start_time": "2023-02-16T09:51:17.001Z"
   },
   {
    "duration": 18,
    "start_time": "2023-02-16T09:51:17.045Z"
   },
   {
    "duration": 22,
    "start_time": "2023-02-16T09:51:17.065Z"
   },
   {
    "duration": 18,
    "start_time": "2023-02-16T09:51:17.090Z"
   },
   {
    "duration": 29,
    "start_time": "2023-02-16T09:51:17.110Z"
   },
   {
    "duration": 17,
    "start_time": "2023-02-16T09:51:17.142Z"
   },
   {
    "duration": 9,
    "start_time": "2023-02-16T09:51:17.160Z"
   },
   {
    "duration": 250,
    "start_time": "2023-02-16T09:51:17.170Z"
   },
   {
    "duration": 223,
    "start_time": "2023-02-16T09:51:17.427Z"
   },
   {
    "duration": 248,
    "start_time": "2023-02-16T09:51:17.652Z"
   },
   {
    "duration": 299,
    "start_time": "2023-02-16T09:51:17.902Z"
   },
   {
    "duration": 181,
    "start_time": "2023-02-16T09:51:18.203Z"
   },
   {
    "duration": 218,
    "start_time": "2023-02-16T09:51:18.385Z"
   },
   {
    "duration": 242,
    "start_time": "2023-02-16T09:51:18.605Z"
   },
   {
    "duration": 226,
    "start_time": "2023-02-16T09:51:18.849Z"
   },
   {
    "duration": 31,
    "start_time": "2023-02-16T09:51:19.077Z"
   },
   {
    "duration": 38,
    "start_time": "2023-02-16T09:51:19.110Z"
   },
   {
    "duration": 12,
    "start_time": "2023-02-16T09:51:19.149Z"
   },
   {
    "duration": 24,
    "start_time": "2023-02-16T09:51:19.162Z"
   },
   {
    "duration": 354,
    "start_time": "2023-02-16T09:51:19.188Z"
   },
   {
    "duration": 6,
    "start_time": "2023-02-16T09:51:19.551Z"
   },
   {
    "duration": 3274,
    "start_time": "2023-02-16T09:51:19.564Z"
   },
   {
    "duration": 13,
    "start_time": "2023-02-16T09:51:22.840Z"
   },
   {
    "duration": 387,
    "start_time": "2023-02-16T09:51:22.855Z"
   },
   {
    "duration": 4,
    "start_time": "2023-02-16T09:51:23.247Z"
   },
   {
    "duration": 5,
    "start_time": "2023-02-16T09:51:23.253Z"
   },
   {
    "duration": 23,
    "start_time": "2023-02-16T09:51:23.260Z"
   },
   {
    "duration": 357,
    "start_time": "2023-02-16T09:51:23.285Z"
   },
   {
    "duration": 6,
    "start_time": "2023-02-16T09:51:23.644Z"
   },
   {
    "duration": 8,
    "start_time": "2023-02-16T09:51:23.652Z"
   },
   {
    "duration": 307,
    "start_time": "2023-02-16T09:51:23.662Z"
   },
   {
    "duration": 14,
    "start_time": "2023-02-16T09:51:23.970Z"
   },
   {
    "duration": 391,
    "start_time": "2023-02-16T09:51:23.986Z"
   },
   {
    "duration": 10,
    "start_time": "2023-02-16T09:51:24.379Z"
   },
   {
    "duration": 622,
    "start_time": "2023-02-16T09:51:24.391Z"
   },
   {
    "duration": 19,
    "start_time": "2023-02-16T09:51:25.015Z"
   },
   {
    "duration": 24,
    "start_time": "2023-02-16T09:51:25.040Z"
   },
   {
    "duration": 12,
    "start_time": "2023-02-16T09:51:25.066Z"
   },
   {
    "duration": 14,
    "start_time": "2023-02-16T09:51:25.080Z"
   },
   {
    "duration": 24,
    "start_time": "2023-02-16T09:51:25.095Z"
   },
   {
    "duration": 45,
    "start_time": "2023-02-16T09:51:25.121Z"
   },
   {
    "duration": 5,
    "start_time": "2023-02-16T09:51:25.167Z"
   },
   {
    "duration": 27,
    "start_time": "2023-02-16T09:51:25.174Z"
   },
   {
    "duration": 43,
    "start_time": "2023-02-16T09:51:25.203Z"
   },
   {
    "duration": 10,
    "start_time": "2023-02-16T09:51:25.248Z"
   },
   {
    "duration": 380,
    "start_time": "2023-02-16T09:51:25.259Z"
   },
   {
    "duration": 87,
    "start_time": "2023-02-16T09:51:25.641Z"
   },
   {
    "duration": 102,
    "start_time": "2023-02-16T09:51:25.730Z"
   },
   {
    "duration": 10380,
    "start_time": "2023-02-16T09:51:25.839Z"
   },
   {
    "duration": 20,
    "start_time": "2023-02-16T09:51:36.221Z"
   },
   {
    "duration": 30,
    "start_time": "2023-02-16T09:51:36.245Z"
   },
   {
    "duration": 50,
    "start_time": "2023-02-16T09:51:36.277Z"
   },
   {
    "duration": 143,
    "start_time": "2023-02-16T09:51:36.329Z"
   },
   {
    "duration": 11,
    "start_time": "2023-02-16T09:51:36.527Z"
   },
   {
    "duration": 53,
    "start_time": "2023-02-16T09:51:36.540Z"
   },
   {
    "duration": 44,
    "start_time": "2023-02-16T09:51:36.596Z"
   },
   {
    "duration": 14,
    "start_time": "2023-02-16T09:51:36.642Z"
   },
   {
    "duration": 15,
    "start_time": "2023-02-16T09:51:36.659Z"
   },
   {
    "duration": 17,
    "start_time": "2023-02-16T09:51:36.676Z"
   },
   {
    "duration": 99,
    "start_time": "2023-02-16T09:51:36.695Z"
   },
   {
    "duration": 39,
    "start_time": "2023-02-16T09:51:36.796Z"
   },
   {
    "duration": 17,
    "start_time": "2023-02-16T09:51:36.839Z"
   },
   {
    "duration": 15,
    "start_time": "2023-02-16T09:51:36.857Z"
   },
   {
    "duration": 10,
    "start_time": "2023-02-16T09:51:36.874Z"
   },
   {
    "duration": 13,
    "start_time": "2023-02-16T09:51:36.885Z"
   },
   {
    "duration": 12,
    "start_time": "2023-02-16T09:51:36.899Z"
   },
   {
    "duration": 518,
    "start_time": "2023-02-16T09:51:36.930Z"
   },
   {
    "duration": 9,
    "start_time": "2023-02-16T09:51:37.450Z"
   },
   {
    "duration": 98,
    "start_time": "2023-02-16T09:51:37.460Z"
   },
   {
    "duration": 15,
    "start_time": "2023-02-16T09:51:37.559Z"
   },
   {
    "duration": 4,
    "start_time": "2023-02-16T09:51:37.576Z"
   },
   {
    "duration": 15,
    "start_time": "2023-02-16T09:51:37.582Z"
   },
   {
    "duration": 53,
    "start_time": "2023-02-16T09:51:37.600Z"
   },
   {
    "duration": 22,
    "start_time": "2023-02-16T09:51:37.656Z"
   },
   {
    "duration": 48,
    "start_time": "2023-02-16T09:51:37.681Z"
   },
   {
    "duration": 22,
    "start_time": "2023-02-16T09:51:37.737Z"
   },
   {
    "duration": 27,
    "start_time": "2023-02-16T09:51:37.761Z"
   },
   {
    "duration": 32,
    "start_time": "2023-02-16T09:51:37.791Z"
   },
   {
    "duration": 43,
    "start_time": "2023-02-16T09:51:37.825Z"
   },
   {
    "duration": 224,
    "start_time": "2023-02-16T09:51:37.869Z"
   },
   {
    "duration": 8,
    "start_time": "2023-02-16T09:51:38.096Z"
   },
   {
    "duration": 26,
    "start_time": "2023-02-16T09:51:38.106Z"
   },
   {
    "duration": 23,
    "start_time": "2023-02-16T09:51:38.134Z"
   },
   {
    "duration": 10,
    "start_time": "2023-02-16T09:51:38.159Z"
   },
   {
    "duration": 19,
    "start_time": "2023-02-16T09:51:38.171Z"
   },
   {
    "duration": 13,
    "start_time": "2023-02-16T09:51:38.192Z"
   },
   {
    "duration": 445,
    "start_time": "2023-02-16T09:51:38.207Z"
   },
   {
    "duration": 14,
    "start_time": "2023-02-16T09:51:38.654Z"
   },
   {
    "duration": 394,
    "start_time": "2023-02-16T09:51:38.671Z"
   },
   {
    "duration": 8,
    "start_time": "2023-02-16T09:51:39.067Z"
   },
   {
    "duration": 19,
    "start_time": "2023-02-16T09:51:39.076Z"
   },
   {
    "duration": 513,
    "start_time": "2023-02-16T09:51:39.097Z"
   },
   {
    "duration": 500,
    "start_time": "2023-02-16T09:51:39.612Z"
   },
   {
    "duration": 19,
    "start_time": "2023-02-16T09:51:40.114Z"
   },
   {
    "duration": 15,
    "start_time": "2023-02-16T09:51:40.135Z"
   },
   {
    "duration": 7,
    "start_time": "2023-02-16T09:51:40.152Z"
   },
   {
    "duration": 8,
    "start_time": "2023-02-16T09:51:40.161Z"
   },
   {
    "duration": 579,
    "start_time": "2023-02-16T09:51:40.171Z"
   },
   {
    "duration": 1720,
    "start_time": "2023-02-16T09:51:40.752Z"
   },
   {
    "duration": 2124,
    "start_time": "2023-02-16T15:18:32.997Z"
   },
   {
    "duration": 4,
    "start_time": "2023-02-16T15:18:35.124Z"
   },
   {
    "duration": 419,
    "start_time": "2023-02-16T15:18:35.130Z"
   },
   {
    "duration": 31,
    "start_time": "2023-02-16T15:18:35.552Z"
   },
   {
    "duration": 25,
    "start_time": "2023-02-16T15:18:35.585Z"
   },
   {
    "duration": 9,
    "start_time": "2023-02-16T15:18:35.612Z"
   },
   {
    "duration": 28,
    "start_time": "2023-02-16T15:18:35.624Z"
   },
   {
    "duration": 22,
    "start_time": "2023-02-16T15:18:35.653Z"
   },
   {
    "duration": 31,
    "start_time": "2023-02-16T15:18:35.677Z"
   },
   {
    "duration": 28,
    "start_time": "2023-02-16T15:18:35.711Z"
   },
   {
    "duration": 26,
    "start_time": "2023-02-16T15:18:35.741Z"
   },
   {
    "duration": 19,
    "start_time": "2023-02-16T15:18:35.768Z"
   },
   {
    "duration": 10,
    "start_time": "2023-02-16T15:18:35.789Z"
   },
   {
    "duration": 246,
    "start_time": "2023-02-16T15:18:35.801Z"
   },
   {
    "duration": 232,
    "start_time": "2023-02-16T15:18:36.050Z"
   },
   {
    "duration": 238,
    "start_time": "2023-02-16T15:18:36.284Z"
   },
   {
    "duration": 384,
    "start_time": "2023-02-16T15:18:36.523Z"
   },
   {
    "duration": 209,
    "start_time": "2023-02-16T15:18:36.909Z"
   },
   {
    "duration": 209,
    "start_time": "2023-02-16T15:18:37.119Z"
   },
   {
    "duration": 259,
    "start_time": "2023-02-16T15:18:37.330Z"
   },
   {
    "duration": 238,
    "start_time": "2023-02-16T15:18:37.592Z"
   },
   {
    "duration": 48,
    "start_time": "2023-02-16T15:18:37.832Z"
   },
   {
    "duration": 35,
    "start_time": "2023-02-16T15:18:37.883Z"
   },
   {
    "duration": 31,
    "start_time": "2023-02-16T15:18:37.921Z"
   },
   {
    "duration": 12,
    "start_time": "2023-02-16T15:18:37.954Z"
   },
   {
    "duration": 401,
    "start_time": "2023-02-16T15:18:37.968Z"
   },
   {
    "duration": 6,
    "start_time": "2023-02-16T15:18:38.371Z"
   },
   {
    "duration": 3547,
    "start_time": "2023-02-16T15:18:38.384Z"
   },
   {
    "duration": 31,
    "start_time": "2023-02-16T15:18:41.933Z"
   },
   {
    "duration": 1611,
    "start_time": "2023-02-16T15:18:41.968Z"
   },
   {
    "duration": 5,
    "start_time": "2023-02-16T15:18:43.580Z"
   },
   {
    "duration": 12,
    "start_time": "2023-02-16T15:18:43.586Z"
   },
   {
    "duration": 63,
    "start_time": "2023-02-16T15:18:43.599Z"
   },
   {
    "duration": 378,
    "start_time": "2023-02-16T15:18:43.664Z"
   },
   {
    "duration": 9,
    "start_time": "2023-02-16T15:18:44.043Z"
   },
   {
    "duration": 30,
    "start_time": "2023-02-16T15:18:44.054Z"
   },
   {
    "duration": 340,
    "start_time": "2023-02-16T15:18:44.086Z"
   },
   {
    "duration": 38,
    "start_time": "2023-02-16T15:18:44.428Z"
   },
   {
    "duration": 408,
    "start_time": "2023-02-16T15:18:44.468Z"
   },
   {
    "duration": 8,
    "start_time": "2023-02-16T15:18:44.879Z"
   },
   {
    "duration": 627,
    "start_time": "2023-02-16T15:18:44.889Z"
   },
   {
    "duration": 7,
    "start_time": "2023-02-16T15:18:45.518Z"
   },
   {
    "duration": 41,
    "start_time": "2023-02-16T15:18:45.526Z"
   },
   {
    "duration": 5,
    "start_time": "2023-02-16T15:18:45.569Z"
   },
   {
    "duration": 10,
    "start_time": "2023-02-16T15:18:45.576Z"
   },
   {
    "duration": 20,
    "start_time": "2023-02-16T15:18:45.589Z"
   },
   {
    "duration": 62,
    "start_time": "2023-02-16T15:18:45.611Z"
   },
   {
    "duration": 4,
    "start_time": "2023-02-16T15:18:45.674Z"
   },
   {
    "duration": 30,
    "start_time": "2023-02-16T15:18:45.680Z"
   },
   {
    "duration": 22,
    "start_time": "2023-02-16T15:18:45.712Z"
   },
   {
    "duration": 56,
    "start_time": "2023-02-16T15:18:45.736Z"
   },
   {
    "duration": 349,
    "start_time": "2023-02-16T15:18:45.794Z"
   },
   {
    "duration": 185,
    "start_time": "2023-02-16T15:18:46.145Z"
   },
   {
    "duration": 138,
    "start_time": "2023-02-16T15:18:46.332Z"
   },
   {
    "duration": 10663,
    "start_time": "2023-02-16T15:18:46.472Z"
   },
   {
    "duration": 30,
    "start_time": "2023-02-16T15:18:57.137Z"
   },
   {
    "duration": 8,
    "start_time": "2023-02-16T15:18:57.169Z"
   },
   {
    "duration": 8,
    "start_time": "2023-02-16T15:18:57.179Z"
   },
   {
    "duration": 199,
    "start_time": "2023-02-16T15:18:57.188Z"
   },
   {
    "duration": 8,
    "start_time": "2023-02-16T15:18:57.390Z"
   },
   {
    "duration": 32,
    "start_time": "2023-02-16T15:18:57.449Z"
   },
   {
    "duration": 6,
    "start_time": "2023-02-16T15:18:57.483Z"
   },
   {
    "duration": 64,
    "start_time": "2023-02-16T15:18:57.490Z"
   },
   {
    "duration": 20,
    "start_time": "2023-02-16T15:18:57.557Z"
   },
   {
    "duration": 12,
    "start_time": "2023-02-16T15:18:57.579Z"
   },
   {
    "duration": 111,
    "start_time": "2023-02-16T15:18:57.593Z"
   },
   {
    "duration": 46,
    "start_time": "2023-02-16T15:18:57.706Z"
   },
   {
    "duration": 18,
    "start_time": "2023-02-16T15:18:57.757Z"
   },
   {
    "duration": 13,
    "start_time": "2023-02-16T15:18:57.777Z"
   },
   {
    "duration": 10,
    "start_time": "2023-02-16T15:18:57.792Z"
   },
   {
    "duration": 11,
    "start_time": "2023-02-16T15:18:57.803Z"
   },
   {
    "duration": 7,
    "start_time": "2023-02-16T15:18:57.816Z"
   },
   {
    "duration": 508,
    "start_time": "2023-02-16T15:18:57.825Z"
   },
   {
    "duration": 25,
    "start_time": "2023-02-16T15:18:58.335Z"
   },
   {
    "duration": 105,
    "start_time": "2023-02-16T15:18:58.362Z"
   },
   {
    "duration": 13,
    "start_time": "2023-02-16T15:18:58.469Z"
   },
   {
    "duration": 5,
    "start_time": "2023-02-16T15:18:58.483Z"
   },
   {
    "duration": 14,
    "start_time": "2023-02-16T15:18:58.489Z"
   },
   {
    "duration": 15,
    "start_time": "2023-02-16T15:18:58.504Z"
   },
   {
    "duration": 41,
    "start_time": "2023-02-16T15:18:58.521Z"
   },
   {
    "duration": 38,
    "start_time": "2023-02-16T15:18:58.565Z"
   },
   {
    "duration": 11,
    "start_time": "2023-02-16T15:18:58.609Z"
   },
   {
    "duration": 40,
    "start_time": "2023-02-16T15:18:58.622Z"
   },
   {
    "duration": 26,
    "start_time": "2023-02-16T15:18:58.664Z"
   },
   {
    "duration": 11,
    "start_time": "2023-02-16T15:18:58.692Z"
   },
   {
    "duration": 223,
    "start_time": "2023-02-16T15:18:58.705Z"
   },
   {
    "duration": 5,
    "start_time": "2023-02-16T15:18:58.930Z"
   },
   {
    "duration": 18,
    "start_time": "2023-02-16T15:18:58.936Z"
   },
   {
    "duration": 31,
    "start_time": "2023-02-16T15:18:58.957Z"
   },
   {
    "duration": 8,
    "start_time": "2023-02-16T15:18:58.990Z"
   },
   {
    "duration": 12,
    "start_time": "2023-02-16T15:18:58.999Z"
   },
   {
    "duration": 8,
    "start_time": "2023-02-16T15:18:59.013Z"
   },
   {
    "duration": 417,
    "start_time": "2023-02-16T15:18:59.023Z"
   },
   {
    "duration": 15,
    "start_time": "2023-02-16T15:18:59.442Z"
   },
   {
    "duration": 362,
    "start_time": "2023-02-16T15:18:59.467Z"
   },
   {
    "duration": 8,
    "start_time": "2023-02-16T15:18:59.831Z"
   },
   {
    "duration": 24,
    "start_time": "2023-02-16T15:18:59.854Z"
   },
   {
    "duration": 493,
    "start_time": "2023-02-16T15:18:59.880Z"
   },
   {
    "duration": 501,
    "start_time": "2023-02-16T15:19:00.374Z"
   },
   {
    "duration": 6,
    "start_time": "2023-02-16T15:19:00.877Z"
   },
   {
    "duration": 34,
    "start_time": "2023-02-16T15:19:00.885Z"
   },
   {
    "duration": 45,
    "start_time": "2023-02-16T15:19:00.921Z"
   },
   {
    "duration": 49,
    "start_time": "2023-02-16T15:19:00.968Z"
   },
   {
    "duration": 587,
    "start_time": "2023-02-16T15:19:01.019Z"
   },
   {
    "duration": 1789,
    "start_time": "2023-02-16T15:19:01.608Z"
   },
   {
    "duration": 507,
    "start_time": "2023-02-16T15:21:03.734Z"
   },
   {
    "duration": 1978,
    "start_time": "2023-02-16T15:21:32.783Z"
   },
   {
    "duration": 8,
    "start_time": "2023-02-16T15:24:37.460Z"
   },
   {
    "duration": 10,
    "start_time": "2023-02-16T15:24:52.194Z"
   },
   {
    "duration": 516,
    "start_time": "2023-02-16T15:25:13.555Z"
   },
   {
    "duration": 1652,
    "start_time": "2023-02-16T15:26:21.315Z"
   },
   {
    "duration": 170,
    "start_time": "2023-02-16T15:28:30.367Z"
   },
   {
    "duration": 9,
    "start_time": "2023-02-16T15:28:34.951Z"
   },
   {
    "duration": 13,
    "start_time": "2023-02-16T15:28:46.439Z"
   },
   {
    "duration": 14,
    "start_time": "2023-02-16T15:28:49.726Z"
   },
   {
    "duration": 16,
    "start_time": "2023-02-16T15:29:14.698Z"
   },
   {
    "duration": 14,
    "start_time": "2023-02-16T15:29:38.402Z"
   },
   {
    "duration": 8,
    "start_time": "2023-02-16T15:29:58.052Z"
   },
   {
    "duration": 7,
    "start_time": "2023-02-16T15:30:06.732Z"
   },
   {
    "duration": 5,
    "start_time": "2023-02-16T15:37:06.956Z"
   },
   {
    "duration": 5,
    "start_time": "2023-02-16T15:37:14.937Z"
   },
   {
    "duration": 10,
    "start_time": "2023-02-16T15:37:25.077Z"
   },
   {
    "duration": 459,
    "start_time": "2023-02-16T15:37:35.957Z"
   },
   {
    "duration": 10,
    "start_time": "2023-02-16T15:37:50.202Z"
   },
   {
    "duration": 5,
    "start_time": "2023-02-16T15:37:57.237Z"
   },
   {
    "duration": 9,
    "start_time": "2023-02-16T15:38:11.236Z"
   },
   {
    "duration": 14,
    "start_time": "2023-02-16T15:38:23.396Z"
   },
   {
    "duration": 429,
    "start_time": "2023-02-16T15:38:39.098Z"
   },
   {
    "duration": 6,
    "start_time": "2023-02-16T15:38:48.703Z"
   },
   {
    "duration": 430,
    "start_time": "2023-02-16T15:39:00.091Z"
   },
   {
    "duration": 5,
    "start_time": "2023-02-16T15:39:32.778Z"
   },
   {
    "duration": 7,
    "start_time": "2023-02-16T15:39:43.827Z"
   },
   {
    "duration": 10,
    "start_time": "2023-02-16T15:39:50.062Z"
   },
   {
    "duration": 15,
    "start_time": "2023-02-16T15:40:10.098Z"
   },
   {
    "duration": 96,
    "start_time": "2023-02-16T15:40:20.129Z"
   },
   {
    "duration": 1693,
    "start_time": "2023-02-16T15:44:44.724Z"
   },
   {
    "duration": 6,
    "start_time": "2023-02-16T15:44:46.420Z"
   },
   {
    "duration": 396,
    "start_time": "2023-02-16T15:44:46.428Z"
   },
   {
    "duration": 30,
    "start_time": "2023-02-16T15:44:46.826Z"
   },
   {
    "duration": 51,
    "start_time": "2023-02-16T15:44:46.858Z"
   },
   {
    "duration": 55,
    "start_time": "2023-02-16T15:44:46.911Z"
   },
   {
    "duration": 82,
    "start_time": "2023-02-16T15:44:46.967Z"
   },
   {
    "duration": 58,
    "start_time": "2023-02-16T15:44:47.050Z"
   },
   {
    "duration": 62,
    "start_time": "2023-02-16T15:44:47.110Z"
   },
   {
    "duration": 46,
    "start_time": "2023-02-16T15:44:47.175Z"
   },
   {
    "duration": 53,
    "start_time": "2023-02-16T15:44:47.223Z"
   },
   {
    "duration": 50,
    "start_time": "2023-02-16T15:44:47.278Z"
   },
   {
    "duration": 58,
    "start_time": "2023-02-16T15:44:47.330Z"
   },
   {
    "duration": 185,
    "start_time": "2023-02-16T15:44:47.389Z"
   },
   {
    "duration": 130,
    "start_time": "2023-02-16T15:44:47.575Z"
   },
   {
    "duration": 171,
    "start_time": "2023-02-16T15:44:47.706Z"
   },
   {
    "duration": 237,
    "start_time": "2023-02-16T15:44:47.878Z"
   },
   {
    "duration": 165,
    "start_time": "2023-02-16T15:44:48.117Z"
   },
   {
    "duration": 141,
    "start_time": "2023-02-16T15:44:48.283Z"
   },
   {
    "duration": 156,
    "start_time": "2023-02-16T15:44:48.426Z"
   },
   {
    "duration": 149,
    "start_time": "2023-02-16T15:44:48.584Z"
   },
   {
    "duration": 35,
    "start_time": "2023-02-16T15:44:48.735Z"
   },
   {
    "duration": 21,
    "start_time": "2023-02-16T15:44:48.772Z"
   },
   {
    "duration": 5,
    "start_time": "2023-02-16T15:44:48.794Z"
   },
   {
    "duration": 6,
    "start_time": "2023-02-16T15:44:48.801Z"
   },
   {
    "duration": 221,
    "start_time": "2023-02-16T15:44:48.808Z"
   },
   {
    "duration": 5,
    "start_time": "2023-02-16T15:44:49.031Z"
   },
   {
    "duration": 1668,
    "start_time": "2023-02-16T15:44:49.043Z"
   },
   {
    "duration": 13,
    "start_time": "2023-02-16T15:44:50.712Z"
   },
   {
    "duration": 373,
    "start_time": "2023-02-16T15:44:50.727Z"
   },
   {
    "duration": 4,
    "start_time": "2023-02-16T15:44:51.101Z"
   },
   {
    "duration": 42,
    "start_time": "2023-02-16T15:44:51.106Z"
   },
   {
    "duration": 28,
    "start_time": "2023-02-16T15:44:51.150Z"
   },
   {
    "duration": 150,
    "start_time": "2023-02-16T15:44:51.180Z"
   },
   {
    "duration": 4,
    "start_time": "2023-02-16T15:44:51.332Z"
   },
   {
    "duration": 7,
    "start_time": "2023-02-16T15:44:51.348Z"
   },
   {
    "duration": 178,
    "start_time": "2023-02-16T15:44:51.356Z"
   },
   {
    "duration": 13,
    "start_time": "2023-02-16T15:44:51.536Z"
   },
   {
    "duration": 212,
    "start_time": "2023-02-16T15:44:51.551Z"
   },
   {
    "duration": 8,
    "start_time": "2023-02-16T15:44:51.764Z"
   },
   {
    "duration": 367,
    "start_time": "2023-02-16T15:44:51.774Z"
   },
   {
    "duration": 5,
    "start_time": "2023-02-16T15:44:52.148Z"
   },
   {
    "duration": 17,
    "start_time": "2023-02-16T15:44:52.154Z"
   },
   {
    "duration": 17,
    "start_time": "2023-02-16T15:44:52.173Z"
   },
   {
    "duration": 25,
    "start_time": "2023-02-16T15:44:52.191Z"
   },
   {
    "duration": 45,
    "start_time": "2023-02-16T15:44:52.217Z"
   },
   {
    "duration": 61,
    "start_time": "2023-02-16T15:44:52.264Z"
   },
   {
    "duration": 8,
    "start_time": "2023-02-16T15:44:52.326Z"
   },
   {
    "duration": 31,
    "start_time": "2023-02-16T15:44:52.336Z"
   },
   {
    "duration": 37,
    "start_time": "2023-02-16T15:44:52.369Z"
   },
   {
    "duration": 65,
    "start_time": "2023-02-16T15:44:52.407Z"
   },
   {
    "duration": 205,
    "start_time": "2023-02-16T15:44:52.474Z"
   },
   {
    "duration": 149,
    "start_time": "2023-02-16T15:44:52.681Z"
   },
   {
    "duration": 92,
    "start_time": "2023-02-16T15:44:52.831Z"
   },
   {
    "duration": 10175,
    "start_time": "2023-02-16T15:44:52.925Z"
   },
   {
    "duration": 11,
    "start_time": "2023-02-16T15:45:03.103Z"
   },
   {
    "duration": 37,
    "start_time": "2023-02-16T15:45:03.116Z"
   },
   {
    "duration": 14,
    "start_time": "2023-02-16T15:45:03.155Z"
   },
   {
    "duration": 188,
    "start_time": "2023-02-16T15:45:03.171Z"
   },
   {
    "duration": 7,
    "start_time": "2023-02-16T15:45:03.360Z"
   },
   {
    "duration": 96,
    "start_time": "2023-02-16T15:45:03.369Z"
   },
   {
    "duration": 9,
    "start_time": "2023-02-16T15:45:03.467Z"
   },
   {
    "duration": 76,
    "start_time": "2023-02-16T15:45:03.478Z"
   },
   {
    "duration": 8,
    "start_time": "2023-02-16T15:45:03.556Z"
   },
   {
    "duration": 27,
    "start_time": "2023-02-16T15:45:03.566Z"
   },
   {
    "duration": 119,
    "start_time": "2023-02-16T15:45:03.595Z"
   },
   {
    "duration": 33,
    "start_time": "2023-02-16T15:45:03.716Z"
   },
   {
    "duration": 62,
    "start_time": "2023-02-16T15:45:03.752Z"
   },
   {
    "duration": 27,
    "start_time": "2023-02-16T15:45:03.816Z"
   },
   {
    "duration": 12,
    "start_time": "2023-02-16T15:45:03.844Z"
   },
   {
    "duration": 18,
    "start_time": "2023-02-16T15:45:03.857Z"
   },
   {
    "duration": 8,
    "start_time": "2023-02-16T15:45:03.876Z"
   },
   {
    "duration": 273,
    "start_time": "2023-02-16T15:45:03.886Z"
   },
   {
    "duration": 9,
    "start_time": "2023-02-16T15:45:04.161Z"
   },
   {
    "duration": 103,
    "start_time": "2023-02-16T15:45:04.172Z"
   },
   {
    "duration": 10,
    "start_time": "2023-02-16T15:45:04.277Z"
   },
   {
    "duration": 5,
    "start_time": "2023-02-16T15:45:04.289Z"
   },
   {
    "duration": 26,
    "start_time": "2023-02-16T15:45:04.296Z"
   },
   {
    "duration": 28,
    "start_time": "2023-02-16T15:45:04.324Z"
   },
   {
    "duration": 14,
    "start_time": "2023-02-16T15:45:04.353Z"
   },
   {
    "duration": 31,
    "start_time": "2023-02-16T15:45:04.369Z"
   },
   {
    "duration": 12,
    "start_time": "2023-02-16T15:45:04.406Z"
   },
   {
    "duration": 48,
    "start_time": "2023-02-16T15:45:04.420Z"
   },
   {
    "duration": 18,
    "start_time": "2023-02-16T15:45:04.469Z"
   },
   {
    "duration": 17,
    "start_time": "2023-02-16T15:45:04.489Z"
   },
   {
    "duration": 172,
    "start_time": "2023-02-16T15:45:04.508Z"
   },
   {
    "duration": 7,
    "start_time": "2023-02-16T15:45:04.682Z"
   },
   {
    "duration": 13,
    "start_time": "2023-02-16T15:45:04.691Z"
   },
   {
    "duration": 14,
    "start_time": "2023-02-16T15:45:04.706Z"
   },
   {
    "duration": 27,
    "start_time": "2023-02-16T15:45:04.722Z"
   },
   {
    "duration": 16,
    "start_time": "2023-02-16T15:45:04.751Z"
   },
   {
    "duration": 9,
    "start_time": "2023-02-16T15:45:04.769Z"
   },
   {
    "duration": 234,
    "start_time": "2023-02-16T15:45:04.780Z"
   },
   {
    "duration": 11,
    "start_time": "2023-02-16T15:45:05.016Z"
   },
   {
    "duration": 208,
    "start_time": "2023-02-16T15:45:05.029Z"
   },
   {
    "duration": 14,
    "start_time": "2023-02-16T15:45:05.239Z"
   },
   {
    "duration": 14,
    "start_time": "2023-02-16T15:45:05.255Z"
   },
   {
    "duration": 268,
    "start_time": "2023-02-16T15:45:05.270Z"
   },
   {
    "duration": 294,
    "start_time": "2023-02-16T15:45:05.540Z"
   },
   {
    "duration": 15,
    "start_time": "2023-02-16T15:45:05.836Z"
   },
   {
    "duration": 21,
    "start_time": "2023-02-16T15:45:05.852Z"
   },
   {
    "duration": 27,
    "start_time": "2023-02-16T15:45:05.875Z"
   },
   {
    "duration": 259,
    "start_time": "2023-02-16T15:45:05.904Z"
   },
   {
    "duration": 1764,
    "start_time": "2023-02-16T15:45:06.165Z"
   },
   {
    "duration": 19,
    "start_time": "2023-02-16T15:45:07.931Z"
   },
   {
    "duration": 325,
    "start_time": "2023-02-16T15:45:07.952Z"
   },
   {
    "duration": 1926,
    "start_time": "2023-02-16T15:45:08.280Z"
   },
   {
    "duration": 43,
    "start_time": "2023-02-16T15:45:10.207Z"
   },
   {
    "duration": 14,
    "start_time": "2023-02-16T15:45:10.251Z"
   },
   {
    "duration": 7,
    "start_time": "2023-02-16T15:45:10.267Z"
   },
   {
    "duration": 8,
    "start_time": "2023-02-16T15:45:10.276Z"
   },
   {
    "duration": 5,
    "start_time": "2023-02-16T15:45:10.286Z"
   },
   {
    "duration": 67,
    "start_time": "2023-02-16T15:45:10.292Z"
   },
   {
    "duration": 13,
    "start_time": "2023-02-16T15:45:10.361Z"
   },
   {
    "duration": 263,
    "start_time": "2023-02-16T15:45:10.376Z"
   },
   {
    "duration": 11,
    "start_time": "2023-02-16T15:45:10.641Z"
   },
   {
    "duration": 24,
    "start_time": "2023-02-16T15:45:10.653Z"
   },
   {
    "duration": 16,
    "start_time": "2023-02-16T15:45:10.679Z"
   },
   {
    "duration": 293,
    "start_time": "2023-02-16T15:45:10.697Z"
   },
   {
    "duration": 9,
    "start_time": "2023-02-16T15:45:10.993Z"
   },
   {
    "duration": 254,
    "start_time": "2023-02-16T15:45:11.004Z"
   },
   {
    "duration": 5,
    "start_time": "2023-02-16T15:45:11.260Z"
   },
   {
    "duration": 8,
    "start_time": "2023-02-16T15:45:11.267Z"
   },
   {
    "duration": 13,
    "start_time": "2023-02-16T15:45:11.276Z"
   },
   {
    "duration": 123,
    "start_time": "2023-02-16T15:45:11.290Z"
   },
   {
    "duration": 1582,
    "start_time": "2023-02-16T15:46:44.575Z"
   },
   {
    "duration": 4,
    "start_time": "2023-02-16T15:46:46.158Z"
   },
   {
    "duration": 196,
    "start_time": "2023-02-16T15:46:46.164Z"
   },
   {
    "duration": 19,
    "start_time": "2023-02-16T15:46:46.362Z"
   },
   {
    "duration": 28,
    "start_time": "2023-02-16T15:46:46.383Z"
   },
   {
    "duration": 10,
    "start_time": "2023-02-16T15:46:46.413Z"
   },
   {
    "duration": 46,
    "start_time": "2023-02-16T15:46:46.424Z"
   },
   {
    "duration": 22,
    "start_time": "2023-02-16T15:46:46.472Z"
   },
   {
    "duration": 46,
    "start_time": "2023-02-16T15:46:46.496Z"
   },
   {
    "duration": 33,
    "start_time": "2023-02-16T15:46:46.545Z"
   },
   {
    "duration": 22,
    "start_time": "2023-02-16T15:46:46.580Z"
   },
   {
    "duration": 19,
    "start_time": "2023-02-16T15:46:46.604Z"
   },
   {
    "duration": 7,
    "start_time": "2023-02-16T15:46:46.625Z"
   },
   {
    "duration": 157,
    "start_time": "2023-02-16T15:46:46.633Z"
   },
   {
    "duration": 135,
    "start_time": "2023-02-16T15:46:46.791Z"
   },
   {
    "duration": 158,
    "start_time": "2023-02-16T15:46:46.928Z"
   },
   {
    "duration": 222,
    "start_time": "2023-02-16T15:46:47.088Z"
   },
   {
    "duration": 172,
    "start_time": "2023-02-16T15:46:47.312Z"
   },
   {
    "duration": 157,
    "start_time": "2023-02-16T15:46:47.486Z"
   },
   {
    "duration": 152,
    "start_time": "2023-02-16T15:46:47.649Z"
   },
   {
    "duration": 170,
    "start_time": "2023-02-16T15:46:47.803Z"
   },
   {
    "duration": 39,
    "start_time": "2023-02-16T15:46:47.976Z"
   },
   {
    "duration": 39,
    "start_time": "2023-02-16T15:46:48.017Z"
   },
   {
    "duration": 5,
    "start_time": "2023-02-16T15:46:48.058Z"
   },
   {
    "duration": 9,
    "start_time": "2023-02-16T15:46:48.064Z"
   },
   {
    "duration": 165,
    "start_time": "2023-02-16T15:46:48.074Z"
   },
   {
    "duration": 9,
    "start_time": "2023-02-16T15:46:48.241Z"
   },
   {
    "duration": 1491,
    "start_time": "2023-02-16T15:46:48.254Z"
   },
   {
    "duration": 16,
    "start_time": "2023-02-16T15:46:49.747Z"
   },
   {
    "duration": 420,
    "start_time": "2023-02-16T15:46:49.765Z"
   },
   {
    "duration": 5,
    "start_time": "2023-02-16T15:46:50.189Z"
   },
   {
    "duration": 7,
    "start_time": "2023-02-16T15:46:50.196Z"
   },
   {
    "duration": 46,
    "start_time": "2023-02-16T15:46:50.205Z"
   },
   {
    "duration": 155,
    "start_time": "2023-02-16T15:46:50.253Z"
   },
   {
    "duration": 4,
    "start_time": "2023-02-16T15:46:50.409Z"
   },
   {
    "duration": 8,
    "start_time": "2023-02-16T15:46:50.415Z"
   },
   {
    "duration": 173,
    "start_time": "2023-02-16T15:46:50.425Z"
   },
   {
    "duration": 13,
    "start_time": "2023-02-16T15:46:50.600Z"
   },
   {
    "duration": 202,
    "start_time": "2023-02-16T15:46:50.614Z"
   },
   {
    "duration": 9,
    "start_time": "2023-02-16T15:46:50.818Z"
   },
   {
    "duration": 366,
    "start_time": "2023-02-16T15:46:50.828Z"
   },
   {
    "duration": 5,
    "start_time": "2023-02-16T15:46:51.196Z"
   },
   {
    "duration": 24,
    "start_time": "2023-02-16T15:46:51.202Z"
   },
   {
    "duration": 3,
    "start_time": "2023-02-16T15:46:51.228Z"
   },
   {
    "duration": 30,
    "start_time": "2023-02-16T15:46:51.233Z"
   },
   {
    "duration": 23,
    "start_time": "2023-02-16T15:46:51.266Z"
   },
   {
    "duration": 35,
    "start_time": "2023-02-16T15:46:51.291Z"
   },
   {
    "duration": 21,
    "start_time": "2023-02-16T15:46:51.328Z"
   },
   {
    "duration": 36,
    "start_time": "2023-02-16T15:46:51.352Z"
   },
   {
    "duration": 26,
    "start_time": "2023-02-16T15:46:51.390Z"
   },
   {
    "duration": 29,
    "start_time": "2023-02-16T15:46:51.418Z"
   },
   {
    "duration": 224,
    "start_time": "2023-02-16T15:46:51.451Z"
   },
   {
    "duration": 104,
    "start_time": "2023-02-16T15:46:51.677Z"
   },
   {
    "duration": 101,
    "start_time": "2023-02-16T15:46:51.782Z"
   },
   {
    "duration": 10976,
    "start_time": "2023-02-16T15:46:51.885Z"
   },
   {
    "duration": 9,
    "start_time": "2023-02-16T15:47:02.864Z"
   },
   {
    "duration": 7,
    "start_time": "2023-02-16T15:47:02.875Z"
   },
   {
    "duration": 10,
    "start_time": "2023-02-16T15:47:02.883Z"
   },
   {
    "duration": 189,
    "start_time": "2023-02-16T15:47:02.894Z"
   },
   {
    "duration": 6,
    "start_time": "2023-02-16T15:47:03.084Z"
   },
   {
    "duration": 90,
    "start_time": "2023-02-16T15:47:03.092Z"
   },
   {
    "duration": 7,
    "start_time": "2023-02-16T15:47:03.184Z"
   },
   {
    "duration": 12,
    "start_time": "2023-02-16T15:47:03.248Z"
   },
   {
    "duration": 15,
    "start_time": "2023-02-16T15:47:03.262Z"
   },
   {
    "duration": 12,
    "start_time": "2023-02-16T15:47:03.279Z"
   },
   {
    "duration": 143,
    "start_time": "2023-02-16T15:47:03.293Z"
   },
   {
    "duration": 24,
    "start_time": "2023-02-16T15:47:03.438Z"
   },
   {
    "duration": 25,
    "start_time": "2023-02-16T15:47:03.466Z"
   },
   {
    "duration": 12,
    "start_time": "2023-02-16T15:47:03.493Z"
   },
   {
    "duration": 11,
    "start_time": "2023-02-16T15:47:03.506Z"
   },
   {
    "duration": 10,
    "start_time": "2023-02-16T15:47:03.520Z"
   },
   {
    "duration": 32,
    "start_time": "2023-02-16T15:47:03.531Z"
   },
   {
    "duration": 235,
    "start_time": "2023-02-16T15:47:03.565Z"
   },
   {
    "duration": 11,
    "start_time": "2023-02-16T15:47:03.801Z"
   },
   {
    "duration": 111,
    "start_time": "2023-02-16T15:47:03.814Z"
   },
   {
    "duration": 9,
    "start_time": "2023-02-16T15:47:03.927Z"
   },
   {
    "duration": 8,
    "start_time": "2023-02-16T15:47:03.949Z"
   },
   {
    "duration": 14,
    "start_time": "2023-02-16T15:47:03.960Z"
   },
   {
    "duration": 15,
    "start_time": "2023-02-16T15:47:03.975Z"
   },
   {
    "duration": 15,
    "start_time": "2023-02-16T15:47:03.992Z"
   },
   {
    "duration": 50,
    "start_time": "2023-02-16T15:47:04.008Z"
   },
   {
    "duration": 12,
    "start_time": "2023-02-16T15:47:04.066Z"
   },
   {
    "duration": 17,
    "start_time": "2023-02-16T15:47:04.080Z"
   },
   {
    "duration": 8,
    "start_time": "2023-02-16T15:47:04.099Z"
   },
   {
    "duration": 8,
    "start_time": "2023-02-16T15:47:04.109Z"
   },
   {
    "duration": 163,
    "start_time": "2023-02-16T15:47:04.119Z"
   },
   {
    "duration": 4,
    "start_time": "2023-02-16T15:47:04.284Z"
   },
   {
    "duration": 9,
    "start_time": "2023-02-16T15:47:04.290Z"
   },
   {
    "duration": 9,
    "start_time": "2023-02-16T15:47:04.301Z"
   },
   {
    "duration": 4,
    "start_time": "2023-02-16T15:47:04.312Z"
   },
   {
    "duration": 40,
    "start_time": "2023-02-16T15:47:04.318Z"
   },
   {
    "duration": 8,
    "start_time": "2023-02-16T15:47:04.360Z"
   },
   {
    "duration": 202,
    "start_time": "2023-02-16T15:47:04.369Z"
   },
   {
    "duration": 11,
    "start_time": "2023-02-16T15:47:04.573Z"
   },
   {
    "duration": 227,
    "start_time": "2023-02-16T15:47:04.585Z"
   },
   {
    "duration": 7,
    "start_time": "2023-02-16T15:47:04.814Z"
   },
   {
    "duration": 13,
    "start_time": "2023-02-16T15:47:04.823Z"
   },
   {
    "duration": 262,
    "start_time": "2023-02-16T15:47:04.849Z"
   },
   {
    "duration": 255,
    "start_time": "2023-02-16T15:47:05.112Z"
   },
   {
    "duration": 5,
    "start_time": "2023-02-16T15:47:05.369Z"
   },
   {
    "duration": 10,
    "start_time": "2023-02-16T15:47:05.376Z"
   },
   {
    "duration": 9,
    "start_time": "2023-02-16T15:47:05.387Z"
   },
   {
    "duration": 261,
    "start_time": "2023-02-16T15:47:05.398Z"
   },
   {
    "duration": 1917,
    "start_time": "2023-02-16T15:47:05.661Z"
   },
   {
    "duration": 8,
    "start_time": "2023-02-16T15:47:07.580Z"
   },
   {
    "duration": 293,
    "start_time": "2023-02-16T15:47:07.589Z"
   },
   {
    "duration": 2028,
    "start_time": "2023-02-16T15:47:07.883Z"
   },
   {
    "duration": 44,
    "start_time": "2023-02-16T15:47:09.913Z"
   },
   {
    "duration": 16,
    "start_time": "2023-02-16T15:47:09.960Z"
   },
   {
    "duration": 10,
    "start_time": "2023-02-16T15:47:09.978Z"
   },
   {
    "duration": 8,
    "start_time": "2023-02-16T15:47:09.989Z"
   },
   {
    "duration": 8,
    "start_time": "2023-02-16T15:47:09.999Z"
   },
   {
    "duration": 23,
    "start_time": "2023-02-16T15:47:10.049Z"
   },
   {
    "duration": 14,
    "start_time": "2023-02-16T15:47:10.073Z"
   },
   {
    "duration": 228,
    "start_time": "2023-02-16T15:47:10.089Z"
   },
   {
    "duration": 4,
    "start_time": "2023-02-16T15:47:10.319Z"
   },
   {
    "duration": 13,
    "start_time": "2023-02-16T15:47:10.325Z"
   },
   {
    "duration": 17,
    "start_time": "2023-02-16T15:47:10.339Z"
   },
   {
    "duration": 243,
    "start_time": "2023-02-16T15:47:10.358Z"
   },
   {
    "duration": 6,
    "start_time": "2023-02-16T15:47:10.603Z"
   },
   {
    "duration": 230,
    "start_time": "2023-02-16T15:47:10.610Z"
   },
   {
    "duration": 12,
    "start_time": "2023-02-16T15:47:10.842Z"
   },
   {
    "duration": 24,
    "start_time": "2023-02-16T15:47:10.856Z"
   },
   {
    "duration": 22,
    "start_time": "2023-02-16T15:47:10.882Z"
   },
   {
    "duration": 105,
    "start_time": "2023-02-16T15:47:10.905Z"
   },
   {
    "duration": 1585,
    "start_time": "2023-02-16T17:12:01.078Z"
   },
   {
    "duration": 4,
    "start_time": "2023-02-16T17:12:02.666Z"
   },
   {
    "duration": 157,
    "start_time": "2023-02-16T17:12:02.671Z"
   },
   {
    "duration": 37,
    "start_time": "2023-02-16T17:12:02.830Z"
   },
   {
    "duration": 22,
    "start_time": "2023-02-16T17:12:02.868Z"
   },
   {
    "duration": 8,
    "start_time": "2023-02-16T17:12:02.891Z"
   },
   {
    "duration": 22,
    "start_time": "2023-02-16T17:12:02.901Z"
   },
   {
    "duration": 36,
    "start_time": "2023-02-16T17:12:02.924Z"
   },
   {
    "duration": 25,
    "start_time": "2023-02-16T17:12:02.963Z"
   },
   {
    "duration": 23,
    "start_time": "2023-02-16T17:12:02.992Z"
   },
   {
    "duration": 8,
    "start_time": "2023-02-16T17:12:03.017Z"
   },
   {
    "duration": 29,
    "start_time": "2023-02-16T17:12:03.027Z"
   },
   {
    "duration": 8,
    "start_time": "2023-02-16T17:12:03.059Z"
   },
   {
    "duration": 151,
    "start_time": "2023-02-16T17:12:03.069Z"
   },
   {
    "duration": 140,
    "start_time": "2023-02-16T17:12:03.222Z"
   },
   {
    "duration": 172,
    "start_time": "2023-02-16T17:12:03.364Z"
   },
   {
    "duration": 233,
    "start_time": "2023-02-16T17:12:03.537Z"
   },
   {
    "duration": 189,
    "start_time": "2023-02-16T17:12:03.771Z"
   },
   {
    "duration": 128,
    "start_time": "2023-02-16T17:12:03.962Z"
   },
   {
    "duration": 145,
    "start_time": "2023-02-16T17:12:04.093Z"
   },
   {
    "duration": 141,
    "start_time": "2023-02-16T17:12:04.240Z"
   },
   {
    "duration": 27,
    "start_time": "2023-02-16T17:12:04.383Z"
   },
   {
    "duration": 49,
    "start_time": "2023-02-16T17:12:04.411Z"
   },
   {
    "duration": 8,
    "start_time": "2023-02-16T17:12:04.462Z"
   },
   {
    "duration": 16,
    "start_time": "2023-02-16T17:12:04.471Z"
   },
   {
    "duration": 162,
    "start_time": "2023-02-16T17:12:04.489Z"
   },
   {
    "duration": 5,
    "start_time": "2023-02-16T17:12:04.665Z"
   },
   {
    "duration": 1495,
    "start_time": "2023-02-16T17:12:04.674Z"
   },
   {
    "duration": 11,
    "start_time": "2023-02-16T17:12:06.171Z"
   },
   {
    "duration": 451,
    "start_time": "2023-02-16T17:12:06.184Z"
   },
   {
    "duration": 4,
    "start_time": "2023-02-16T17:12:06.638Z"
   },
   {
    "duration": 26,
    "start_time": "2023-02-16T17:12:06.648Z"
   },
   {
    "duration": 30,
    "start_time": "2023-02-16T17:12:06.677Z"
   },
   {
    "duration": 138,
    "start_time": "2023-02-16T17:12:06.751Z"
   },
   {
    "duration": 5,
    "start_time": "2023-02-16T17:12:06.891Z"
   },
   {
    "duration": 8,
    "start_time": "2023-02-16T17:12:06.898Z"
   },
   {
    "duration": 135,
    "start_time": "2023-02-16T17:12:06.908Z"
   },
   {
    "duration": 29,
    "start_time": "2023-02-16T17:12:07.044Z"
   },
   {
    "duration": 189,
    "start_time": "2023-02-16T17:12:07.074Z"
   },
   {
    "duration": 10,
    "start_time": "2023-02-16T17:12:07.264Z"
   },
   {
    "duration": 350,
    "start_time": "2023-02-16T17:12:07.275Z"
   },
   {
    "duration": 5,
    "start_time": "2023-02-16T17:12:07.627Z"
   },
   {
    "duration": 39,
    "start_time": "2023-02-16T17:12:07.634Z"
   },
   {
    "duration": 4,
    "start_time": "2023-02-16T17:12:07.674Z"
   },
   {
    "duration": 9,
    "start_time": "2023-02-16T17:12:07.679Z"
   },
   {
    "duration": 20,
    "start_time": "2023-02-16T17:12:07.690Z"
   },
   {
    "duration": 23,
    "start_time": "2023-02-16T17:12:07.711Z"
   },
   {
    "duration": 10,
    "start_time": "2023-02-16T17:12:07.749Z"
   },
   {
    "duration": 28,
    "start_time": "2023-02-16T17:12:07.760Z"
   },
   {
    "duration": 22,
    "start_time": "2023-02-16T17:12:07.789Z"
   },
   {
    "duration": 9,
    "start_time": "2023-02-16T17:12:07.813Z"
   },
   {
    "duration": 176,
    "start_time": "2023-02-16T17:12:07.852Z"
   },
   {
    "duration": 95,
    "start_time": "2023-02-16T17:12:08.029Z"
   },
   {
    "duration": 98,
    "start_time": "2023-02-16T17:12:08.126Z"
   },
   {
    "duration": 10742,
    "start_time": "2023-02-16T17:12:08.226Z"
   },
   {
    "duration": 12,
    "start_time": "2023-02-16T17:12:18.971Z"
   },
   {
    "duration": 8,
    "start_time": "2023-02-16T17:12:18.984Z"
   },
   {
    "duration": 56,
    "start_time": "2023-02-16T17:12:18.994Z"
   },
   {
    "duration": 138,
    "start_time": "2023-02-16T17:12:19.052Z"
   },
   {
    "duration": 66,
    "start_time": "2023-02-16T17:12:19.192Z"
   },
   {
    "duration": 37,
    "start_time": "2023-02-16T17:12:19.261Z"
   },
   {
    "duration": 8,
    "start_time": "2023-02-16T17:12:19.359Z"
   },
   {
    "duration": 12,
    "start_time": "2023-02-16T17:12:19.369Z"
   },
   {
    "duration": 8,
    "start_time": "2023-02-16T17:12:19.383Z"
   },
   {
    "duration": 13,
    "start_time": "2023-02-16T17:12:19.393Z"
   },
   {
    "duration": 111,
    "start_time": "2023-02-16T17:12:19.408Z"
   },
   {
    "duration": 28,
    "start_time": "2023-02-16T17:12:19.521Z"
   },
   {
    "duration": 26,
    "start_time": "2023-02-16T17:12:19.550Z"
   },
   {
    "duration": 9,
    "start_time": "2023-02-16T17:12:19.577Z"
   },
   {
    "duration": 5,
    "start_time": "2023-02-16T17:12:19.588Z"
   },
   {
    "duration": 8,
    "start_time": "2023-02-16T17:12:19.595Z"
   },
   {
    "duration": 9,
    "start_time": "2023-02-16T17:12:19.605Z"
   },
   {
    "duration": 249,
    "start_time": "2023-02-16T17:12:19.615Z"
   },
   {
    "duration": 9,
    "start_time": "2023-02-16T17:12:19.865Z"
   },
   {
    "duration": 106,
    "start_time": "2023-02-16T17:12:19.876Z"
   },
   {
    "duration": 10,
    "start_time": "2023-02-16T17:12:19.984Z"
   },
   {
    "duration": 3,
    "start_time": "2023-02-16T17:12:19.997Z"
   },
   {
    "duration": 8,
    "start_time": "2023-02-16T17:12:20.002Z"
   },
   {
    "duration": 53,
    "start_time": "2023-02-16T17:12:20.011Z"
   },
   {
    "duration": 13,
    "start_time": "2023-02-16T17:12:20.065Z"
   },
   {
    "duration": 28,
    "start_time": "2023-02-16T17:12:20.080Z"
   },
   {
    "duration": 11,
    "start_time": "2023-02-16T17:12:20.114Z"
   },
   {
    "duration": 38,
    "start_time": "2023-02-16T17:12:20.126Z"
   },
   {
    "duration": 15,
    "start_time": "2023-02-16T17:12:20.166Z"
   },
   {
    "duration": 8,
    "start_time": "2023-02-16T17:12:20.182Z"
   },
   {
    "duration": 129,
    "start_time": "2023-02-16T17:12:20.192Z"
   },
   {
    "duration": 5,
    "start_time": "2023-02-16T17:12:20.323Z"
   },
   {
    "duration": 30,
    "start_time": "2023-02-16T17:12:20.330Z"
   },
   {
    "duration": 12,
    "start_time": "2023-02-16T17:12:20.362Z"
   },
   {
    "duration": 5,
    "start_time": "2023-02-16T17:12:20.376Z"
   },
   {
    "duration": 12,
    "start_time": "2023-02-16T17:12:20.382Z"
   },
   {
    "duration": 8,
    "start_time": "2023-02-16T17:12:20.395Z"
   },
   {
    "duration": 223,
    "start_time": "2023-02-16T17:12:20.405Z"
   },
   {
    "duration": 25,
    "start_time": "2023-02-16T17:12:20.630Z"
   },
   {
    "duration": 180,
    "start_time": "2023-02-16T17:12:20.657Z"
   },
   {
    "duration": 24,
    "start_time": "2023-02-16T17:12:20.839Z"
   },
   {
    "duration": 24,
    "start_time": "2023-02-16T17:12:20.865Z"
   },
   {
    "duration": 224,
    "start_time": "2023-02-16T17:12:20.891Z"
   },
   {
    "duration": 256,
    "start_time": "2023-02-16T17:12:21.117Z"
   },
   {
    "duration": 7,
    "start_time": "2023-02-16T17:12:21.375Z"
   },
   {
    "duration": 9,
    "start_time": "2023-02-16T17:12:21.384Z"
   },
   {
    "duration": 9,
    "start_time": "2023-02-16T17:12:21.395Z"
   },
   {
    "duration": 235,
    "start_time": "2023-02-16T17:12:21.406Z"
   },
   {
    "duration": 1715,
    "start_time": "2023-02-16T17:12:21.643Z"
   },
   {
    "duration": 8,
    "start_time": "2023-02-16T17:12:23.361Z"
   },
   {
    "duration": 273,
    "start_time": "2023-02-16T17:12:23.371Z"
   },
   {
    "duration": 1944,
    "start_time": "2023-02-16T17:12:23.648Z"
   },
   {
    "duration": 17,
    "start_time": "2023-02-16T17:12:25.594Z"
   },
   {
    "duration": 54,
    "start_time": "2023-02-16T17:12:25.613Z"
   },
   {
    "duration": 10,
    "start_time": "2023-02-16T17:12:25.669Z"
   },
   {
    "duration": 12,
    "start_time": "2023-02-16T17:12:25.680Z"
   },
   {
    "duration": 5,
    "start_time": "2023-02-16T17:12:25.693Z"
   },
   {
    "duration": 8,
    "start_time": "2023-02-16T17:12:25.700Z"
   },
   {
    "duration": 31,
    "start_time": "2023-02-16T17:12:25.709Z"
   },
   {
    "duration": 241,
    "start_time": "2023-02-16T17:12:25.742Z"
   },
   {
    "duration": 5,
    "start_time": "2023-02-16T17:12:25.985Z"
   },
   {
    "duration": 11,
    "start_time": "2023-02-16T17:12:25.991Z"
   },
   {
    "duration": 18,
    "start_time": "2023-02-16T17:12:26.003Z"
   },
   {
    "duration": 221,
    "start_time": "2023-02-16T17:12:26.022Z"
   },
   {
    "duration": 11,
    "start_time": "2023-02-16T17:12:26.244Z"
   },
   {
    "duration": 250,
    "start_time": "2023-02-16T17:12:26.256Z"
   },
   {
    "duration": 5,
    "start_time": "2023-02-16T17:12:26.508Z"
   },
   {
    "duration": 11,
    "start_time": "2023-02-16T17:12:26.516Z"
   },
   {
    "duration": 31,
    "start_time": "2023-02-16T17:12:26.528Z"
   },
   {
    "duration": 123,
    "start_time": "2023-02-16T17:12:26.565Z"
   },
   {
    "duration": 5,
    "start_time": "2023-02-16T17:29:59.369Z"
   },
   {
    "duration": 9,
    "start_time": "2023-02-16T17:29:59.376Z"
   },
   {
    "duration": 145,
    "start_time": "2023-02-16T17:29:59.388Z"
   },
   {
    "duration": 37,
    "start_time": "2023-02-16T17:29:59.535Z"
   },
   {
    "duration": 16,
    "start_time": "2023-02-16T17:29:59.574Z"
   },
   {
    "duration": 8,
    "start_time": "2023-02-16T17:29:59.592Z"
   },
   {
    "duration": 18,
    "start_time": "2023-02-16T17:29:59.601Z"
   },
   {
    "duration": 31,
    "start_time": "2023-02-16T17:29:59.621Z"
   },
   {
    "duration": 26,
    "start_time": "2023-02-16T17:29:59.663Z"
   },
   {
    "duration": 25,
    "start_time": "2023-02-16T17:29:59.692Z"
   },
   {
    "duration": 11,
    "start_time": "2023-02-16T17:29:59.719Z"
   },
   {
    "duration": 18,
    "start_time": "2023-02-16T17:29:59.732Z"
   },
   {
    "duration": 16,
    "start_time": "2023-02-16T17:29:59.753Z"
   },
   {
    "duration": 141,
    "start_time": "2023-02-16T17:29:59.771Z"
   },
   {
    "duration": 161,
    "start_time": "2023-02-16T17:29:59.913Z"
   },
   {
    "duration": 159,
    "start_time": "2023-02-16T17:30:00.075Z"
   },
   {
    "duration": 154,
    "start_time": "2023-02-16T17:30:00.236Z"
   },
   {
    "duration": 181,
    "start_time": "2023-02-16T17:30:00.392Z"
   },
   {
    "duration": 167,
    "start_time": "2023-02-16T17:30:00.575Z"
   },
   {
    "duration": 173,
    "start_time": "2023-02-16T17:30:00.743Z"
   },
   {
    "duration": 158,
    "start_time": "2023-02-16T17:30:00.918Z"
   },
   {
    "duration": 39,
    "start_time": "2023-02-16T17:30:01.079Z"
   },
   {
    "duration": 49,
    "start_time": "2023-02-16T17:30:01.120Z"
   },
   {
    "duration": 14,
    "start_time": "2023-02-16T17:30:01.171Z"
   },
   {
    "duration": 51,
    "start_time": "2023-02-16T17:30:01.186Z"
   },
   {
    "duration": 191,
    "start_time": "2023-02-16T17:30:01.238Z"
   },
   {
    "duration": 5,
    "start_time": "2023-02-16T17:30:01.431Z"
   },
   {
    "duration": 1500,
    "start_time": "2023-02-16T17:30:01.438Z"
   },
   {
    "duration": 21,
    "start_time": "2023-02-16T17:30:02.949Z"
   },
   {
    "duration": 55,
    "start_time": "2023-02-16T17:30:02.972Z"
   },
   {
    "duration": 4,
    "start_time": "2023-02-16T17:30:03.029Z"
   },
   {
    "duration": 15,
    "start_time": "2023-02-16T17:30:03.035Z"
   },
   {
    "duration": 37,
    "start_time": "2023-02-16T17:30:03.054Z"
   },
   {
    "duration": 97,
    "start_time": "2023-02-16T17:30:03.093Z"
   },
   {
    "duration": 6,
    "start_time": "2023-02-16T17:30:03.192Z"
   },
   {
    "duration": 10,
    "start_time": "2023-02-16T17:30:03.199Z"
   },
   {
    "duration": 179,
    "start_time": "2023-02-16T17:30:03.211Z"
   },
   {
    "duration": 15,
    "start_time": "2023-02-16T17:30:03.392Z"
   },
   {
    "duration": 210,
    "start_time": "2023-02-16T17:30:03.410Z"
   },
   {
    "duration": 10,
    "start_time": "2023-02-16T17:30:03.622Z"
   },
   {
    "duration": 284,
    "start_time": "2023-02-16T17:30:03.634Z"
   },
   {
    "duration": 5,
    "start_time": "2023-02-16T17:30:03.920Z"
   },
   {
    "duration": 39,
    "start_time": "2023-02-16T17:30:03.926Z"
   },
   {
    "duration": 4,
    "start_time": "2023-02-16T17:30:03.968Z"
   },
   {
    "duration": 13,
    "start_time": "2023-02-16T17:30:03.974Z"
   },
   {
    "duration": 25,
    "start_time": "2023-02-16T17:30:03.989Z"
   },
   {
    "duration": 52,
    "start_time": "2023-02-16T17:30:04.016Z"
   },
   {
    "duration": 13,
    "start_time": "2023-02-16T17:30:04.070Z"
   },
   {
    "duration": 31,
    "start_time": "2023-02-16T17:30:04.085Z"
   },
   {
    "duration": 51,
    "start_time": "2023-02-16T17:30:04.118Z"
   },
   {
    "duration": 15,
    "start_time": "2023-02-16T17:30:04.170Z"
   },
   {
    "duration": 194,
    "start_time": "2023-02-16T17:30:04.186Z"
   },
   {
    "duration": 98,
    "start_time": "2023-02-16T17:30:04.382Z"
   },
   {
    "duration": 109,
    "start_time": "2023-02-16T17:30:04.482Z"
   },
   {
    "duration": 10676,
    "start_time": "2023-02-16T17:30:04.593Z"
   },
   {
    "duration": 11,
    "start_time": "2023-02-16T17:30:15.273Z"
   },
   {
    "duration": 11,
    "start_time": "2023-02-16T17:30:15.285Z"
   },
   {
    "duration": 58,
    "start_time": "2023-02-16T17:30:15.297Z"
   },
   {
    "duration": 206,
    "start_time": "2023-02-16T17:30:15.356Z"
   },
   {
    "duration": 11,
    "start_time": "2023-02-16T17:30:15.563Z"
   },
   {
    "duration": 87,
    "start_time": "2023-02-16T17:30:15.576Z"
   },
   {
    "duration": 10,
    "start_time": "2023-02-16T17:30:15.665Z"
   },
   {
    "duration": 11,
    "start_time": "2023-02-16T17:30:15.677Z"
   },
   {
    "duration": 8,
    "start_time": "2023-02-16T17:30:15.690Z"
   },
   {
    "duration": 11,
    "start_time": "2023-02-16T17:30:15.700Z"
   },
   {
    "duration": 133,
    "start_time": "2023-02-16T17:30:15.713Z"
   },
   {
    "duration": 19,
    "start_time": "2023-02-16T17:30:15.848Z"
   },
   {
    "duration": 15,
    "start_time": "2023-02-16T17:30:15.869Z"
   },
   {
    "duration": 15,
    "start_time": "2023-02-16T17:30:15.885Z"
   },
   {
    "duration": 7,
    "start_time": "2023-02-16T17:30:15.902Z"
   },
   {
    "duration": 45,
    "start_time": "2023-02-16T17:30:15.911Z"
   },
   {
    "duration": 19,
    "start_time": "2023-02-16T17:30:15.957Z"
   },
   {
    "duration": 235,
    "start_time": "2023-02-16T17:30:15.978Z"
   },
   {
    "duration": 9,
    "start_time": "2023-02-16T17:30:16.215Z"
   },
   {
    "duration": 131,
    "start_time": "2023-02-16T17:30:16.225Z"
   },
   {
    "duration": 22,
    "start_time": "2023-02-16T17:30:16.358Z"
   },
   {
    "duration": 9,
    "start_time": "2023-02-16T17:30:16.383Z"
   },
   {
    "duration": 19,
    "start_time": "2023-02-16T17:30:16.394Z"
   },
   {
    "duration": 14,
    "start_time": "2023-02-16T17:30:16.415Z"
   },
   {
    "duration": 25,
    "start_time": "2023-02-16T17:30:16.431Z"
   },
   {
    "duration": 40,
    "start_time": "2023-02-16T17:30:16.458Z"
   },
   {
    "duration": 23,
    "start_time": "2023-02-16T17:30:16.500Z"
   },
   {
    "duration": 42,
    "start_time": "2023-02-16T17:30:16.526Z"
   },
   {
    "duration": 27,
    "start_time": "2023-02-16T17:30:16.570Z"
   },
   {
    "duration": 12,
    "start_time": "2023-02-16T17:30:16.599Z"
   },
   {
    "duration": 168,
    "start_time": "2023-02-16T17:30:16.613Z"
   },
   {
    "duration": 5,
    "start_time": "2023-02-16T17:30:16.783Z"
   },
   {
    "duration": 9,
    "start_time": "2023-02-16T17:30:16.790Z"
   },
   {
    "duration": 14,
    "start_time": "2023-02-16T17:30:16.801Z"
   },
   {
    "duration": 5,
    "start_time": "2023-02-16T17:30:16.817Z"
   },
   {
    "duration": 41,
    "start_time": "2023-02-16T17:30:16.825Z"
   },
   {
    "duration": 7,
    "start_time": "2023-02-16T17:30:16.869Z"
   },
   {
    "duration": 189,
    "start_time": "2023-02-16T17:30:16.878Z"
   },
   {
    "duration": 13,
    "start_time": "2023-02-16T17:30:17.069Z"
   },
   {
    "duration": 200,
    "start_time": "2023-02-16T17:30:17.085Z"
   },
   {
    "duration": 10,
    "start_time": "2023-02-16T17:30:17.287Z"
   },
   {
    "duration": 11,
    "start_time": "2023-02-16T17:30:17.299Z"
   },
   {
    "duration": 256,
    "start_time": "2023-02-16T17:30:17.312Z"
   },
   {
    "duration": 235,
    "start_time": "2023-02-16T17:30:17.570Z"
   },
   {
    "duration": 7,
    "start_time": "2023-02-16T17:30:17.808Z"
   },
   {
    "duration": 14,
    "start_time": "2023-02-16T17:30:17.817Z"
   },
   {
    "duration": 20,
    "start_time": "2023-02-16T17:30:17.833Z"
   },
   {
    "duration": 248,
    "start_time": "2023-02-16T17:30:17.854Z"
   },
   {
    "duration": 2185,
    "start_time": "2023-02-16T17:30:18.105Z"
   },
   {
    "duration": 7,
    "start_time": "2023-02-16T17:30:20.292Z"
   },
   {
    "duration": 290,
    "start_time": "2023-02-16T17:30:20.301Z"
   },
   {
    "duration": 1784,
    "start_time": "2023-02-16T17:30:20.593Z"
   },
   {
    "duration": 29,
    "start_time": "2023-02-16T17:30:22.379Z"
   },
   {
    "duration": 66,
    "start_time": "2023-02-16T17:30:22.410Z"
   },
   {
    "duration": 8,
    "start_time": "2023-02-16T17:30:22.478Z"
   },
   {
    "duration": 36,
    "start_time": "2023-02-16T17:30:22.488Z"
   },
   {
    "duration": 43,
    "start_time": "2023-02-16T17:30:22.526Z"
   },
   {
    "duration": 19,
    "start_time": "2023-02-16T17:30:22.572Z"
   },
   {
    "duration": 21,
    "start_time": "2023-02-16T17:30:22.593Z"
   },
   {
    "duration": 250,
    "start_time": "2023-02-16T17:30:22.616Z"
   },
   {
    "duration": 5,
    "start_time": "2023-02-16T17:30:22.870Z"
   },
   {
    "duration": 19,
    "start_time": "2023-02-16T17:30:22.878Z"
   },
   {
    "duration": 17,
    "start_time": "2023-02-16T17:30:22.899Z"
   },
   {
    "duration": 243,
    "start_time": "2023-02-16T17:30:22.928Z"
   },
   {
    "duration": 10,
    "start_time": "2023-02-16T17:30:23.174Z"
   },
   {
    "duration": 248,
    "start_time": "2023-02-16T17:30:23.186Z"
   },
   {
    "duration": 7,
    "start_time": "2023-02-16T17:30:23.436Z"
   },
   {
    "duration": 31,
    "start_time": "2023-02-16T17:30:23.444Z"
   },
   {
    "duration": 17,
    "start_time": "2023-02-16T17:30:23.477Z"
   },
   {
    "duration": 110,
    "start_time": "2023-02-16T17:30:23.496Z"
   },
   {
    "duration": 1717,
    "start_time": "2023-02-16T17:31:29.451Z"
   },
   {
    "duration": 4,
    "start_time": "2023-02-16T17:31:31.170Z"
   },
   {
    "duration": 202,
    "start_time": "2023-02-16T17:31:31.175Z"
   },
   {
    "duration": 17,
    "start_time": "2023-02-16T17:31:31.380Z"
   },
   {
    "duration": 28,
    "start_time": "2023-02-16T17:31:31.398Z"
   },
   {
    "duration": 32,
    "start_time": "2023-02-16T17:31:31.428Z"
   },
   {
    "duration": 27,
    "start_time": "2023-02-16T17:31:31.461Z"
   },
   {
    "duration": 21,
    "start_time": "2023-02-16T17:31:31.490Z"
   },
   {
    "duration": 29,
    "start_time": "2023-02-16T17:31:31.513Z"
   },
   {
    "duration": 34,
    "start_time": "2023-02-16T17:31:31.545Z"
   },
   {
    "duration": 15,
    "start_time": "2023-02-16T17:31:31.581Z"
   },
   {
    "duration": 22,
    "start_time": "2023-02-16T17:31:31.598Z"
   },
   {
    "duration": 7,
    "start_time": "2023-02-16T17:31:31.621Z"
   },
   {
    "duration": 159,
    "start_time": "2023-02-16T17:31:31.630Z"
   },
   {
    "duration": 135,
    "start_time": "2023-02-16T17:31:31.790Z"
   },
   {
    "duration": 170,
    "start_time": "2023-02-16T17:31:31.927Z"
   },
   {
    "duration": 236,
    "start_time": "2023-02-16T17:31:32.099Z"
   },
   {
    "duration": 196,
    "start_time": "2023-02-16T17:31:32.337Z"
   },
   {
    "duration": 150,
    "start_time": "2023-02-16T17:31:32.534Z"
   },
   {
    "duration": 157,
    "start_time": "2023-02-16T17:31:32.686Z"
   },
   {
    "duration": 156,
    "start_time": "2023-02-16T17:31:32.845Z"
   },
   {
    "duration": 56,
    "start_time": "2023-02-16T17:31:33.003Z"
   },
   {
    "duration": 32,
    "start_time": "2023-02-16T17:31:33.061Z"
   },
   {
    "duration": 5,
    "start_time": "2023-02-16T17:31:33.095Z"
   },
   {
    "duration": 14,
    "start_time": "2023-02-16T17:31:33.101Z"
   },
   {
    "duration": 182,
    "start_time": "2023-02-16T17:31:33.116Z"
   },
   {
    "duration": 4,
    "start_time": "2023-02-16T17:31:33.301Z"
   },
   {
    "duration": 1604,
    "start_time": "2023-02-16T17:31:33.310Z"
   },
   {
    "duration": 11,
    "start_time": "2023-02-16T17:31:34.916Z"
   },
   {
    "duration": 440,
    "start_time": "2023-02-16T17:31:34.929Z"
   },
   {
    "duration": 5,
    "start_time": "2023-02-16T17:31:35.371Z"
   },
   {
    "duration": 17,
    "start_time": "2023-02-16T17:31:35.379Z"
   },
   {
    "duration": 67,
    "start_time": "2023-02-16T17:31:35.398Z"
   },
   {
    "duration": 143,
    "start_time": "2023-02-16T17:31:35.468Z"
   },
   {
    "duration": 6,
    "start_time": "2023-02-16T17:31:35.613Z"
   },
   {
    "duration": 32,
    "start_time": "2023-02-16T17:31:35.620Z"
   },
   {
    "duration": 152,
    "start_time": "2023-02-16T17:31:35.653Z"
   },
   {
    "duration": 14,
    "start_time": "2023-02-16T17:31:35.806Z"
   },
   {
    "duration": 222,
    "start_time": "2023-02-16T17:31:35.822Z"
   },
   {
    "duration": 19,
    "start_time": "2023-02-16T17:31:36.045Z"
   },
   {
    "duration": 400,
    "start_time": "2023-02-16T17:31:36.065Z"
   },
   {
    "duration": 7,
    "start_time": "2023-02-16T17:31:36.469Z"
   },
   {
    "duration": 51,
    "start_time": "2023-02-16T17:31:36.478Z"
   },
   {
    "duration": 27,
    "start_time": "2023-02-16T17:31:36.531Z"
   },
   {
    "duration": 20,
    "start_time": "2023-02-16T17:31:36.560Z"
   },
   {
    "duration": 26,
    "start_time": "2023-02-16T17:31:36.582Z"
   },
   {
    "duration": 28,
    "start_time": "2023-02-16T17:31:36.610Z"
   },
   {
    "duration": 8,
    "start_time": "2023-02-16T17:31:36.650Z"
   },
   {
    "duration": 52,
    "start_time": "2023-02-16T17:31:36.663Z"
   },
   {
    "duration": 25,
    "start_time": "2023-02-16T17:31:36.718Z"
   },
   {
    "duration": 32,
    "start_time": "2023-02-16T17:31:36.745Z"
   },
   {
    "duration": 177,
    "start_time": "2023-02-16T17:31:36.778Z"
   },
   {
    "duration": 99,
    "start_time": "2023-02-16T17:31:36.957Z"
   },
   {
    "duration": 99,
    "start_time": "2023-02-16T17:31:37.059Z"
   },
   {
    "duration": 10766,
    "start_time": "2023-02-16T17:31:37.160Z"
   },
   {
    "duration": 47,
    "start_time": "2023-02-16T17:31:47.928Z"
   },
   {
    "duration": 17,
    "start_time": "2023-02-16T17:31:47.977Z"
   },
   {
    "duration": 15,
    "start_time": "2023-02-16T17:31:47.996Z"
   },
   {
    "duration": 131,
    "start_time": "2023-02-16T17:31:48.052Z"
   },
   {
    "duration": 7,
    "start_time": "2023-02-16T17:31:48.185Z"
   },
   {
    "duration": 34,
    "start_time": "2023-02-16T17:31:48.253Z"
   },
   {
    "duration": 8,
    "start_time": "2023-02-16T17:31:48.289Z"
   },
   {
    "duration": 17,
    "start_time": "2023-02-16T17:31:48.349Z"
   },
   {
    "duration": 10,
    "start_time": "2023-02-16T17:31:48.367Z"
   },
   {
    "duration": 16,
    "start_time": "2023-02-16T17:31:48.378Z"
   },
   {
    "duration": 112,
    "start_time": "2023-02-16T17:31:48.395Z"
   },
   {
    "duration": 14,
    "start_time": "2023-02-16T17:31:48.509Z"
   },
   {
    "duration": 18,
    "start_time": "2023-02-16T17:31:48.549Z"
   },
   {
    "duration": 6,
    "start_time": "2023-02-16T17:31:48.569Z"
   },
   {
    "duration": 11,
    "start_time": "2023-02-16T17:31:48.577Z"
   },
   {
    "duration": 10,
    "start_time": "2023-02-16T17:31:48.589Z"
   },
   {
    "duration": 9,
    "start_time": "2023-02-16T17:31:48.601Z"
   },
   {
    "duration": 243,
    "start_time": "2023-02-16T17:31:48.611Z"
   },
   {
    "duration": 11,
    "start_time": "2023-02-16T17:31:48.860Z"
   },
   {
    "duration": 122,
    "start_time": "2023-02-16T17:31:48.873Z"
   },
   {
    "duration": 14,
    "start_time": "2023-02-16T17:31:48.996Z"
   },
   {
    "duration": 5,
    "start_time": "2023-02-16T17:31:49.012Z"
   },
   {
    "duration": 16,
    "start_time": "2023-02-16T17:31:49.048Z"
   },
   {
    "duration": 14,
    "start_time": "2023-02-16T17:31:49.066Z"
   },
   {
    "duration": 19,
    "start_time": "2023-02-16T17:31:49.082Z"
   },
   {
    "duration": 60,
    "start_time": "2023-02-16T17:31:49.103Z"
   },
   {
    "duration": 13,
    "start_time": "2023-02-16T17:31:49.173Z"
   },
   {
    "duration": 27,
    "start_time": "2023-02-16T17:31:49.187Z"
   },
   {
    "duration": 8,
    "start_time": "2023-02-16T17:31:49.216Z"
   },
   {
    "duration": 35,
    "start_time": "2023-02-16T17:31:49.226Z"
   },
   {
    "duration": 128,
    "start_time": "2023-02-16T17:31:49.263Z"
   },
   {
    "duration": 5,
    "start_time": "2023-02-16T17:31:49.394Z"
   },
   {
    "duration": 11,
    "start_time": "2023-02-16T17:31:49.400Z"
   },
   {
    "duration": 14,
    "start_time": "2023-02-16T17:31:49.413Z"
   },
   {
    "duration": 25,
    "start_time": "2023-02-16T17:31:49.428Z"
   },
   {
    "duration": 25,
    "start_time": "2023-02-16T17:31:49.454Z"
   },
   {
    "duration": 8,
    "start_time": "2023-02-16T17:31:49.481Z"
   },
   {
    "duration": 196,
    "start_time": "2023-02-16T17:31:49.490Z"
   },
   {
    "duration": 12,
    "start_time": "2023-02-16T17:31:49.688Z"
   },
   {
    "duration": 198,
    "start_time": "2023-02-16T17:31:49.702Z"
   },
   {
    "duration": 8,
    "start_time": "2023-02-16T17:31:49.902Z"
   },
   {
    "duration": 19,
    "start_time": "2023-02-16T17:31:49.912Z"
   },
   {
    "duration": 258,
    "start_time": "2023-02-16T17:31:49.933Z"
   },
   {
    "duration": 239,
    "start_time": "2023-02-16T17:31:50.194Z"
   },
   {
    "duration": 28,
    "start_time": "2023-02-16T17:31:50.435Z"
   },
   {
    "duration": 14,
    "start_time": "2023-02-16T17:31:50.465Z"
   },
   {
    "duration": 9,
    "start_time": "2023-02-16T17:31:50.481Z"
   },
   {
    "duration": 239,
    "start_time": "2023-02-16T17:31:50.492Z"
   },
   {
    "duration": 1793,
    "start_time": "2023-02-16T17:31:50.733Z"
   },
   {
    "duration": 8,
    "start_time": "2023-02-16T17:31:52.528Z"
   },
   {
    "duration": 280,
    "start_time": "2023-02-16T17:31:52.548Z"
   },
   {
    "duration": 1976,
    "start_time": "2023-02-16T17:31:52.830Z"
   },
   {
    "duration": 54,
    "start_time": "2023-02-16T17:31:54.808Z"
   },
   {
    "duration": 17,
    "start_time": "2023-02-16T17:31:54.864Z"
   },
   {
    "duration": 10,
    "start_time": "2023-02-16T17:31:54.883Z"
   },
   {
    "duration": 11,
    "start_time": "2023-02-16T17:31:54.894Z"
   },
   {
    "duration": 48,
    "start_time": "2023-02-16T17:31:54.906Z"
   },
   {
    "duration": 20,
    "start_time": "2023-02-16T17:31:54.956Z"
   },
   {
    "duration": 12,
    "start_time": "2023-02-16T17:31:54.977Z"
   },
   {
    "duration": 243,
    "start_time": "2023-02-16T17:31:54.991Z"
   },
   {
    "duration": 19,
    "start_time": "2023-02-16T17:31:55.236Z"
   },
   {
    "duration": 20,
    "start_time": "2023-02-16T17:31:55.257Z"
   },
   {
    "duration": 14,
    "start_time": "2023-02-16T17:31:55.278Z"
   },
   {
    "duration": 230,
    "start_time": "2023-02-16T17:31:55.294Z"
   },
   {
    "duration": 7,
    "start_time": "2023-02-16T17:31:55.526Z"
   },
   {
    "duration": 227,
    "start_time": "2023-02-16T17:31:55.535Z"
   },
   {
    "duration": 6,
    "start_time": "2023-02-16T17:31:55.764Z"
   },
   {
    "duration": 8,
    "start_time": "2023-02-16T17:31:55.773Z"
   },
   {
    "duration": 14,
    "start_time": "2023-02-16T17:31:55.782Z"
   },
   {
    "duration": 1614,
    "start_time": "2023-02-16T17:55:41.144Z"
   },
   {
    "duration": 4,
    "start_time": "2023-02-16T17:55:42.760Z"
   },
   {
    "duration": 150,
    "start_time": "2023-02-16T17:55:42.765Z"
   },
   {
    "duration": 16,
    "start_time": "2023-02-16T17:55:42.916Z"
   },
   {
    "duration": 17,
    "start_time": "2023-02-16T17:55:42.954Z"
   },
   {
    "duration": 16,
    "start_time": "2023-02-16T17:55:42.972Z"
   },
   {
    "duration": 30,
    "start_time": "2023-02-16T17:55:42.989Z"
   },
   {
    "duration": 18,
    "start_time": "2023-02-16T17:55:43.020Z"
   },
   {
    "duration": 26,
    "start_time": "2023-02-16T17:55:43.039Z"
   },
   {
    "duration": 44,
    "start_time": "2023-02-16T17:55:43.066Z"
   },
   {
    "duration": 11,
    "start_time": "2023-02-16T17:55:43.112Z"
   },
   {
    "duration": 25,
    "start_time": "2023-02-16T17:55:43.125Z"
   },
   {
    "duration": 11,
    "start_time": "2023-02-16T17:55:43.151Z"
   },
   {
    "duration": 152,
    "start_time": "2023-02-16T17:55:43.165Z"
   },
   {
    "duration": 125,
    "start_time": "2023-02-16T17:55:43.319Z"
   },
   {
    "duration": 182,
    "start_time": "2023-02-16T17:55:43.445Z"
   },
   {
    "duration": 225,
    "start_time": "2023-02-16T17:55:43.628Z"
   },
   {
    "duration": 162,
    "start_time": "2023-02-16T17:55:43.855Z"
   },
   {
    "duration": 137,
    "start_time": "2023-02-16T17:55:44.018Z"
   },
   {
    "duration": 143,
    "start_time": "2023-02-16T17:55:44.157Z"
   },
   {
    "duration": 145,
    "start_time": "2023-02-16T17:55:44.302Z"
   },
   {
    "duration": 32,
    "start_time": "2023-02-16T17:55:44.448Z"
   },
   {
    "duration": 23,
    "start_time": "2023-02-16T17:55:44.482Z"
   },
   {
    "duration": 6,
    "start_time": "2023-02-16T17:55:44.506Z"
   },
   {
    "duration": 10,
    "start_time": "2023-02-16T17:55:44.514Z"
   },
   {
    "duration": 164,
    "start_time": "2023-02-16T17:55:44.555Z"
   },
   {
    "duration": 5,
    "start_time": "2023-02-16T17:55:44.721Z"
   },
   {
    "duration": 1661,
    "start_time": "2023-02-16T17:55:44.727Z"
   },
   {
    "duration": 65,
    "start_time": "2023-02-16T17:55:46.390Z"
   },
   {
    "duration": 896,
    "start_time": "2023-02-16T17:55:46.457Z"
   },
   {
    "duration": 5,
    "start_time": "2023-02-16T17:55:47.356Z"
   },
   {
    "duration": 21,
    "start_time": "2023-02-16T17:55:47.364Z"
   },
   {
    "duration": 79,
    "start_time": "2023-02-16T17:55:47.387Z"
   },
   {
    "duration": 226,
    "start_time": "2023-02-16T17:55:47.469Z"
   },
   {
    "duration": 5,
    "start_time": "2023-02-16T17:55:47.696Z"
   },
   {
    "duration": 19,
    "start_time": "2023-02-16T17:55:47.753Z"
   },
   {
    "duration": 292,
    "start_time": "2023-02-16T17:55:47.774Z"
   },
   {
    "duration": 15,
    "start_time": "2023-02-16T17:55:48.068Z"
   },
   {
    "duration": 289,
    "start_time": "2023-02-16T17:55:48.085Z"
   },
   {
    "duration": 9,
    "start_time": "2023-02-16T17:55:48.375Z"
   },
   {
    "duration": 254,
    "start_time": "2023-02-16T17:55:48.503Z"
   },
   {
    "duration": 5,
    "start_time": "2023-02-16T17:55:48.759Z"
   },
   {
    "duration": 17,
    "start_time": "2023-02-16T17:55:48.765Z"
   },
   {
    "duration": 3,
    "start_time": "2023-02-16T17:55:48.784Z"
   },
   {
    "duration": 11,
    "start_time": "2023-02-16T17:55:48.788Z"
   },
   {
    "duration": 21,
    "start_time": "2023-02-16T17:55:48.801Z"
   },
   {
    "duration": 26,
    "start_time": "2023-02-16T17:55:48.853Z"
   },
   {
    "duration": 4,
    "start_time": "2023-02-16T17:55:48.880Z"
   },
   {
    "duration": 32,
    "start_time": "2023-02-16T17:55:48.886Z"
   },
   {
    "duration": 40,
    "start_time": "2023-02-16T17:55:48.920Z"
   },
   {
    "duration": 16,
    "start_time": "2023-02-16T17:55:48.961Z"
   },
   {
    "duration": 179,
    "start_time": "2023-02-16T17:55:48.979Z"
   },
   {
    "duration": 85,
    "start_time": "2023-02-16T17:55:49.160Z"
   },
   {
    "duration": 88,
    "start_time": "2023-02-16T17:55:49.247Z"
   },
   {
    "duration": 10303,
    "start_time": "2023-02-16T17:55:49.336Z"
   },
   {
    "duration": 13,
    "start_time": "2023-02-16T17:55:59.642Z"
   },
   {
    "duration": 12,
    "start_time": "2023-02-16T17:55:59.657Z"
   },
   {
    "duration": 7,
    "start_time": "2023-02-16T17:55:59.671Z"
   },
   {
    "duration": 185,
    "start_time": "2023-02-16T17:55:59.680Z"
   },
   {
    "duration": 8,
    "start_time": "2023-02-16T17:55:59.867Z"
   },
   {
    "duration": 94,
    "start_time": "2023-02-16T17:55:59.877Z"
   },
   {
    "duration": 7,
    "start_time": "2023-02-16T17:55:59.973Z"
   },
   {
    "duration": 10,
    "start_time": "2023-02-16T17:55:59.981Z"
   },
   {
    "duration": 7,
    "start_time": "2023-02-16T17:55:59.993Z"
   },
   {
    "duration": 61,
    "start_time": "2023-02-16T17:56:00.002Z"
   },
   {
    "duration": 103,
    "start_time": "2023-02-16T17:56:00.066Z"
   },
   {
    "duration": 14,
    "start_time": "2023-02-16T17:56:00.171Z"
   },
   {
    "duration": 19,
    "start_time": "2023-02-16T17:56:00.187Z"
   },
   {
    "duration": 6,
    "start_time": "2023-02-16T17:56:00.208Z"
   },
   {
    "duration": 38,
    "start_time": "2023-02-16T17:56:00.215Z"
   },
   {
    "duration": 7,
    "start_time": "2023-02-16T17:56:00.255Z"
   },
   {
    "duration": 20,
    "start_time": "2023-02-16T17:56:00.263Z"
   },
   {
    "duration": 247,
    "start_time": "2023-02-16T17:56:00.285Z"
   },
   {
    "duration": 21,
    "start_time": "2023-02-16T17:56:00.533Z"
   },
   {
    "duration": 105,
    "start_time": "2023-02-16T17:56:00.556Z"
   },
   {
    "duration": 11,
    "start_time": "2023-02-16T17:56:00.663Z"
   },
   {
    "duration": 7,
    "start_time": "2023-02-16T17:56:00.676Z"
   },
   {
    "duration": 34,
    "start_time": "2023-02-16T17:56:00.685Z"
   },
   {
    "duration": 37,
    "start_time": "2023-02-16T17:56:00.721Z"
   },
   {
    "duration": 27,
    "start_time": "2023-02-16T17:56:00.760Z"
   },
   {
    "duration": 36,
    "start_time": "2023-02-16T17:56:00.789Z"
   },
   {
    "duration": 33,
    "start_time": "2023-02-16T17:56:00.827Z"
   },
   {
    "duration": 18,
    "start_time": "2023-02-16T17:56:00.861Z"
   },
   {
    "duration": 43,
    "start_time": "2023-02-16T17:56:00.880Z"
   },
   {
    "duration": 31,
    "start_time": "2023-02-16T17:56:00.925Z"
   },
   {
    "duration": 132,
    "start_time": "2023-02-16T17:56:00.958Z"
   },
   {
    "duration": 6,
    "start_time": "2023-02-16T17:56:01.092Z"
   },
   {
    "duration": 25,
    "start_time": "2023-02-16T17:56:01.100Z"
   },
   {
    "duration": 36,
    "start_time": "2023-02-16T17:56:01.127Z"
   },
   {
    "duration": 15,
    "start_time": "2023-02-16T17:56:01.164Z"
   },
   {
    "duration": 20,
    "start_time": "2023-02-16T17:56:01.181Z"
   },
   {
    "duration": 17,
    "start_time": "2023-02-16T17:56:01.203Z"
   },
   {
    "duration": 212,
    "start_time": "2023-02-16T17:56:01.222Z"
   },
   {
    "duration": 10,
    "start_time": "2023-02-16T17:56:01.436Z"
   },
   {
    "duration": 196,
    "start_time": "2023-02-16T17:56:01.453Z"
   },
   {
    "duration": 8,
    "start_time": "2023-02-16T17:56:01.651Z"
   },
   {
    "duration": 26,
    "start_time": "2023-02-16T17:56:01.660Z"
   },
   {
    "duration": 255,
    "start_time": "2023-02-16T17:56:01.688Z"
   },
   {
    "duration": 250,
    "start_time": "2023-02-16T17:56:01.953Z"
   },
   {
    "duration": 5,
    "start_time": "2023-02-16T17:56:02.205Z"
   },
   {
    "duration": 17,
    "start_time": "2023-02-16T17:56:02.211Z"
   },
   {
    "duration": 20,
    "start_time": "2023-02-16T17:56:02.230Z"
   },
   {
    "duration": 232,
    "start_time": "2023-02-16T17:56:02.252Z"
   },
   {
    "duration": 1720,
    "start_time": "2023-02-16T17:56:02.486Z"
   },
   {
    "duration": 9,
    "start_time": "2023-02-16T17:56:04.207Z"
   },
   {
    "duration": 292,
    "start_time": "2023-02-16T17:56:04.217Z"
   },
   {
    "duration": 1918,
    "start_time": "2023-02-16T17:56:04.510Z"
   },
   {
    "duration": 32,
    "start_time": "2023-02-16T17:56:06.431Z"
   },
   {
    "duration": 16,
    "start_time": "2023-02-16T17:56:06.464Z"
   },
   {
    "duration": 29,
    "start_time": "2023-02-16T17:56:06.482Z"
   },
   {
    "duration": 45,
    "start_time": "2023-02-16T17:56:06.513Z"
   },
   {
    "duration": 21,
    "start_time": "2023-02-16T17:56:06.560Z"
   },
   {
    "duration": 24,
    "start_time": "2023-02-16T17:56:06.584Z"
   },
   {
    "duration": 20,
    "start_time": "2023-02-16T17:56:06.610Z"
   },
   {
    "duration": 262,
    "start_time": "2023-02-16T17:56:06.632Z"
   },
   {
    "duration": 5,
    "start_time": "2023-02-16T17:56:06.896Z"
   },
   {
    "duration": 12,
    "start_time": "2023-02-16T17:56:06.903Z"
   },
   {
    "duration": 25,
    "start_time": "2023-02-16T17:56:06.917Z"
   },
   {
    "duration": 265,
    "start_time": "2023-02-16T17:56:06.945Z"
   },
   {
    "duration": 8,
    "start_time": "2023-02-16T17:56:07.213Z"
   },
   {
    "duration": 234,
    "start_time": "2023-02-16T17:56:07.222Z"
   },
   {
    "duration": 5,
    "start_time": "2023-02-16T17:56:07.463Z"
   },
   {
    "duration": 8,
    "start_time": "2023-02-16T17:56:07.470Z"
   },
   {
    "duration": 17,
    "start_time": "2023-02-16T17:56:07.480Z"
   },
   {
    "duration": 125,
    "start_time": "2023-02-16T17:56:07.498Z"
   },
   {
    "duration": 171,
    "start_time": "2023-02-16T17:56:07.624Z"
   },
   {
    "duration": 171,
    "start_time": "2023-02-16T18:14:19.381Z"
   },
   {
    "duration": 161,
    "start_time": "2023-02-16T18:14:43.749Z"
   },
   {
    "duration": 121,
    "start_time": "2023-02-16T18:15:13.504Z"
   },
   {
    "duration": 188,
    "start_time": "2023-02-16T18:15:43.010Z"
   },
   {
    "duration": 184,
    "start_time": "2023-02-16T18:15:56.412Z"
   },
   {
    "duration": 134,
    "start_time": "2023-02-16T18:16:13.080Z"
   },
   {
    "duration": 163,
    "start_time": "2023-02-16T18:16:35.204Z"
   },
   {
    "duration": 148,
    "start_time": "2023-02-16T18:16:49.089Z"
   },
   {
    "duration": 129,
    "start_time": "2023-02-16T18:18:38.001Z"
   }
  ],
  "kernelspec": {
   "display_name": "Python 3 (ipykernel)",
   "language": "python",
   "name": "python3"
  },
  "language_info": {
   "codemirror_mode": {
    "name": "ipython",
    "version": 3
   },
   "file_extension": ".py",
   "mimetype": "text/x-python",
   "name": "python",
   "nbconvert_exporter": "python",
   "pygments_lexer": "ipython3",
   "version": "3.9.12"
  },
  "toc": {
   "base_numbering": 1,
   "nav_menu": {
    "height": "43px",
    "width": "483px"
   },
   "number_sections": true,
   "sideBar": true,
   "skip_h1_title": true,
   "title_cell": "Table of Contents",
   "title_sidebar": "Contents",
   "toc_cell": false,
   "toc_position": {},
   "toc_section_display": true,
   "toc_window_display": true
  }
 },
 "nbformat": 4,
 "nbformat_minor": 2
}
